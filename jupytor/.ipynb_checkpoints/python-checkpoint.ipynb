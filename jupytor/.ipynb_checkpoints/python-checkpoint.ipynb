{
 "cells": [
  {
   "cell_type": "code",
   "execution_count": 1,
   "metadata": {},
   "outputs": [
    {
     "name": "stdout",
     "output_type": "stream",
     "text": [
      "Hello World!\n"
     ]
    }
   ],
   "source": [
    "print('Hello World!')"
   ]
  },
  {
   "cell_type": "code",
   "execution_count": 2,
   "metadata": {},
   "outputs": [
    {
     "name": "stdout",
     "output_type": "stream",
     "text": [
      "What is your name? Tharinda\n"
     ]
    }
   ],
   "source": [
    "name = input('What is your name? ')"
   ]
  },
  {
   "cell_type": "code",
   "execution_count": 3,
   "metadata": {},
   "outputs": [
    {
     "name": "stdout",
     "output_type": "stream",
     "text": [
      "Hello Tharinda\n"
     ]
    }
   ],
   "source": [
    "print('Hello ' + name)"
   ]
  },
  {
   "cell_type": "code",
   "execution_count": 4,
   "metadata": {},
   "outputs": [],
   "source": [
    "# fundamental data types:\n",
    "# int\n",
    "# float\n",
    "# complex\n",
    "# bool\n",
    "# str\n",
    "# tuple\n",
    "# list\n",
    "# set\n",
    "# dict\n",
    "#\n",
    "# classes (custom types)\n",
    "#\n",
    "# specialized data types (packages and modules from libraries)\n",
    "#\n",
    "# None"
   ]
  },
  {
   "cell_type": "code",
   "execution_count": 5,
   "metadata": {},
   "outputs": [
    {
     "name": "stdout",
     "output_type": "stream",
     "text": [
      "6\n",
      "-2\n",
      "8\n",
      "0.5\n"
     ]
    }
   ],
   "source": [
    "print(2 + 4)\n",
    "print(2 - 4)\n",
    "print(2 * 4)\n",
    "print(2 / 4)"
   ]
  },
  {
   "cell_type": "code",
   "execution_count": 6,
   "metadata": {},
   "outputs": [
    {
     "name": "stdout",
     "output_type": "stream",
     "text": [
      "<class 'int'>\n",
      "<class 'int'>\n",
      "<class 'int'>\n",
      "<class 'float'>\n"
     ]
    }
   ],
   "source": [
    "print(type(2 + 4))\n",
    "print(type(2 - 4))\n",
    "print(type(2 * 4))\n",
    "print(type(2 / 4))"
   ]
  },
  {
   "cell_type": "code",
   "execution_count": 7,
   "metadata": {},
   "outputs": [
    {
     "name": "stdout",
     "output_type": "stream",
     "text": [
      "9.8\n",
      "<class 'float'>\n",
      "11.0\n",
      "<class 'float'>\n"
     ]
    }
   ],
   "source": [
    "print(10 - 0.2)\n",
    "print(type(10 - 0.2))\n",
    "print(9.9 + 1.1)\n",
    "print(type(9.9 + 1.1))"
   ]
  },
  {
   "cell_type": "code",
   "execution_count": 8,
   "metadata": {},
   "outputs": [
    {
     "name": "stdout",
     "output_type": "stream",
     "text": [
      "8\n"
     ]
    }
   ],
   "source": [
    "print(2 ** 3)"
   ]
  },
  {
   "cell_type": "code",
   "execution_count": 9,
   "metadata": {},
   "outputs": [
    {
     "name": "stdout",
     "output_type": "stream",
     "text": [
      "0\n",
      "1\n",
      "1\n"
     ]
    }
   ],
   "source": [
    "print(2 // 4)\n",
    "print(5 // 4)\n",
    "print(7 // 4)"
   ]
  },
  {
   "cell_type": "code",
   "execution_count": 10,
   "metadata": {},
   "outputs": [
    {
     "name": "stdout",
     "output_type": "stream",
     "text": [
      "1\n"
     ]
    }
   ],
   "source": [
    "print(5 % 4)"
   ]
  },
  {
   "cell_type": "code",
   "execution_count": 11,
   "metadata": {},
   "outputs": [
    {
     "name": "stdout",
     "output_type": "stream",
     "text": [
      "3\n",
      "4\n"
     ]
    }
   ],
   "source": [
    "print(round(3.1))\n",
    "print(round(3.5))"
   ]
  },
  {
   "cell_type": "code",
   "execution_count": 12,
   "metadata": {},
   "outputs": [
    {
     "name": "stdout",
     "output_type": "stream",
     "text": [
      "20.21\n"
     ]
    }
   ],
   "source": [
    "print(abs(-20.21))"
   ]
  },
  {
   "cell_type": "code",
   "execution_count": 13,
   "metadata": {},
   "outputs": [
    {
     "name": "stdout",
     "output_type": "stream",
     "text": [
      "8\n"
     ]
    }
   ],
   "source": [
    "print(20 - 3 * 4)"
   ]
  },
  {
   "cell_type": "code",
   "execution_count": 14,
   "metadata": {},
   "outputs": [],
   "source": [
    "# ()\n",
    "# **\n",
    "# * /\n",
    "# + -"
   ]
  },
  {
   "cell_type": "code",
   "execution_count": 15,
   "metadata": {},
   "outputs": [
    {
     "name": "stdout",
     "output_type": "stream",
     "text": [
      "31\n"
     ]
    }
   ],
   "source": [
    "print(20 * 2 - 3 ** (4 - 2))"
   ]
  },
  {
   "cell_type": "code",
   "execution_count": 16,
   "metadata": {},
   "outputs": [
    {
     "name": "stdout",
     "output_type": "stream",
     "text": [
      "0b101\n"
     ]
    }
   ],
   "source": [
    "print(bin(5))"
   ]
  },
  {
   "cell_type": "code",
   "execution_count": 17,
   "metadata": {},
   "outputs": [
    {
     "name": "stdout",
     "output_type": "stream",
     "text": [
      "5\n"
     ]
    }
   ],
   "source": [
    "print(int('0b101', 2))"
   ]
  },
  {
   "cell_type": "code",
   "execution_count": 18,
   "metadata": {},
   "outputs": [],
   "source": [
    "# variables\n",
    "#\n",
    "# snake_case\n",
    "# start with lowercase or _\n",
    "# do not overwrite keywords\n",
    "# letters, numbers or _\n",
    "# case sensitive"
   ]
  },
  {
   "cell_type": "code",
   "execution_count": 19,
   "metadata": {},
   "outputs": [
    {
     "name": "stdout",
     "output_type": "stream",
     "text": [
      "190\n",
      "47.5\n"
     ]
    }
   ],
   "source": [
    "user_iq = 190\n",
    "print(user_iq)\n",
    "\n",
    "user_age = user_iq / 4\n",
    "test = user_age\n",
    "print(test)"
   ]
  },
  {
   "cell_type": "code",
   "execution_count": 20,
   "metadata": {},
   "outputs": [
    {
     "name": "stdout",
     "output_type": "stream",
     "text": [
      "3.14\n"
     ]
    }
   ],
   "source": [
    "# constants\n",
    "PI = 3.14\n",
    "print(PI)"
   ]
  },
  {
   "cell_type": "code",
   "execution_count": 21,
   "metadata": {},
   "outputs": [],
   "source": [
    "# do not use __ before variable\n",
    "# __test = 10"
   ]
  },
  {
   "cell_type": "code",
   "execution_count": 22,
   "metadata": {},
   "outputs": [
    {
     "name": "stdout",
     "output_type": "stream",
     "text": [
      "1\n",
      "2\n",
      "3\n"
     ]
    }
   ],
   "source": [
    "a, b, c = 1, 2, 3\n",
    "print(a)\n",
    "print(b)\n",
    "print(c)"
   ]
  },
  {
   "cell_type": "code",
   "execution_count": 23,
   "metadata": {},
   "outputs": [
    {
     "name": "stdout",
     "output_type": "stream",
     "text": [
      "20.0\n"
     ]
    }
   ],
   "source": [
    "iq = 100\n",
    "age = iq / 5\n",
    "print(age)\n",
    "\n",
    "# iq / 5        ->  expression\n",
    "# age = iq / 5  ->  statement"
   ]
  },
  {
   "cell_type": "code",
   "execution_count": 24,
   "metadata": {},
   "outputs": [
    {
     "name": "stdout",
     "output_type": "stream",
     "text": [
      "6\n",
      "7\n",
      "6\n",
      "12\n",
      "6.0\n"
     ]
    }
   ],
   "source": [
    "# augmented assignment operator\n",
    "\n",
    "value = 5\n",
    "value = value + 1\n",
    "print(value)\n",
    "\n",
    "value += 1\n",
    "print(value)\n",
    "\n",
    "value -= 1\n",
    "print(value)\n",
    "\n",
    "value *= 2\n",
    "print(value)\n",
    "\n",
    "value /= 2\n",
    "print(value)\n",
    "\n",
    "# not working\n",
    "# value++\n",
    "# ++value\n",
    "# value--\n",
    "# --value"
   ]
  },
  {
   "cell_type": "code",
   "execution_count": 25,
   "metadata": {},
   "outputs": [
    {
     "name": "stdout",
     "output_type": "stream",
     "text": [
      "<class 'str'>\n",
      "<class 'str'>\n"
     ]
    }
   ],
   "source": [
    "print(type(\"string\"))\n",
    "print(type('string'))"
   ]
  },
  {
   "cell_type": "code",
   "execution_count": 26,
   "metadata": {},
   "outputs": [
    {
     "name": "stdout",
     "output_type": "stream",
     "text": [
      "\n",
      "this\n",
      " is\n",
      "  a\n",
      "very long\n",
      "       string\n",
      "\n"
     ]
    }
   ],
   "source": [
    "long_string = '''\n",
    "this\n",
    " is\n",
    "  a\n",
    "very long\n",
    "       string\n",
    "'''\n",
    "\n",
    "print(long_string)"
   ]
  },
  {
   "cell_type": "code",
   "execution_count": 27,
   "metadata": {},
   "outputs": [
    {
     "name": "stdout",
     "output_type": "stream",
     "text": [
      "Tharinda Rajapaksha\n"
     ]
    }
   ],
   "source": [
    "first_name = 'Tharinda'\n",
    "last_name = 'Rajapaksha'\n",
    "\n",
    "# string concatenation\n",
    "full_name = first_name + ' ' + last_name\n",
    "print(full_name)\n",
    "\n",
    "# not working\n",
    "# print('hello' + 5)"
   ]
  },
  {
   "cell_type": "code",
   "execution_count": 28,
   "metadata": {},
   "outputs": [
    {
     "name": "stdout",
     "output_type": "stream",
     "text": [
      "100\n",
      "<class 'str'>\n",
      "100\n",
      "<class 'int'>\n"
     ]
    }
   ],
   "source": [
    "# type conversions\n",
    "\n",
    "print(str(100))\n",
    "print(type(str(100)))\n",
    "\n",
    "print(int(str(100)))\n",
    "print(type(int(str(100))))"
   ]
  },
  {
   "cell_type": "code",
   "execution_count": 29,
   "metadata": {},
   "outputs": [
    {
     "name": "stdout",
     "output_type": "stream",
     "text": [
      "It's sunny!\n",
      "It's sunny!\n",
      "It's \"kind of\" sunny!\n",
      "\t It\\'s \\\"kind of\" sunny! \n",
      "Hope you have a good day!\n"
     ]
    }
   ],
   "source": [
    "# escape sequence\n",
    "\n",
    "# not working\n",
    "# weather = 'It's sunny!'\n",
    "\n",
    "weather = \"It's sunny!\"\n",
    "print(weather)\n",
    "\n",
    "# not working\n",
    "# weather = \"It's \"kind of\" sunny!\"\n",
    "\n",
    "weather = 'It\\'s sunny!'\n",
    "print(weather)\n",
    "\n",
    "weather = \"It's \\\"kind of\\\" sunny!\"\n",
    "print(weather)\n",
    "\n",
    "weather = \"\\t It\\\\'s \\\\\\\"kind of\\\" sunny! \\nHope you have a good day!\"\n",
    "print(weather)"
   ]
  },
  {
   "cell_type": "code",
   "execution_count": 30,
   "metadata": {},
   "outputs": [
    {
     "name": "stdout",
     "output_type": "stream",
     "text": [
      "Hi Tharinda, you are 22 years old.\n",
      "Hi Tharinda, you are 22 years old.\n",
      "Hi Tharinda, you are 22 years old.\n",
      "Hi Tharinda, you are 22 years old.\n",
      "Hi Tharinda, you are 22 years old.\n",
      "Hi Tharinda, you are 22 years old.\n",
      "Hi 22, you are Tharinda years old.\n"
     ]
    }
   ],
   "source": [
    "name = 'Tharinda'\n",
    "age = 22\n",
    "\n",
    "print('Hi ' + name + ', you are ' + str(age) + ' years old.')\n",
    "\n",
    "# formatted strings\n",
    "\n",
    "print(f'Hi {name}, you are {age} years old.')\n",
    "print('Hi {name}, you are {age} years old.'.format(name='Tharinda', age=22))\n",
    "print('Hi {}, you are {} years old.'.format('Tharinda', 22))\n",
    "print('Hi {}, you are {} years old.'.format(name, age))\n",
    "print('Hi {0}, you are {1} years old.'.format(name, age))\n",
    "print('Hi {1}, you are {0} years old.'.format(name, age))"
   ]
  },
  {
   "cell_type": "code",
   "execution_count": null,
   "metadata": {},
   "outputs": [],
   "source": []
  }
 ],
 "metadata": {
  "kernelspec": {
   "display_name": "Python 3",
   "language": "python",
   "name": "python3"
  },
  "language_info": {
   "codemirror_mode": {
    "name": "ipython",
    "version": 3
   },
   "file_extension": ".py",
   "mimetype": "text/x-python",
   "name": "python",
   "nbconvert_exporter": "python",
   "pygments_lexer": "ipython3",
   "version": "3.7.1"
  }
 },
 "nbformat": 4,
 "nbformat_minor": 4
}
