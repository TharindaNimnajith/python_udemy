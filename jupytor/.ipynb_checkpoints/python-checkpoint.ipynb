{
 "cells": [
  {
   "cell_type": "code",
   "execution_count": 1,
   "metadata": {},
   "outputs": [
    {
     "name": "stdout",
     "output_type": "stream",
     "text": [
      "Hello World!\n"
     ]
    }
   ],
   "source": [
    "print('Hello World!')"
   ]
  },
  {
   "cell_type": "code",
   "execution_count": 2,
   "metadata": {},
   "outputs": [
    {
     "name": "stdout",
     "output_type": "stream",
     "text": [
      "What is your name? Tharinda\n"
     ]
    }
   ],
   "source": [
    "name = input('What is your name? ')"
   ]
  },
  {
   "cell_type": "code",
   "execution_count": 3,
   "metadata": {},
   "outputs": [
    {
     "name": "stdout",
     "output_type": "stream",
     "text": [
      "Hello Tharinda\n"
     ]
    }
   ],
   "source": [
    "print('Hello ' + name)"
   ]
  },
  {
   "cell_type": "code",
   "execution_count": 4,
   "metadata": {},
   "outputs": [],
   "source": [
    "# fundamental data types:\n",
    "# int\n",
    "# float\n",
    "# complex\n",
    "# bool\n",
    "# str\n",
    "# tuple\n",
    "# list\n",
    "# set\n",
    "# dict\n",
    "#\n",
    "# classes (custom types)\n",
    "#\n",
    "# specialized data types (packages and modules from libraries)\n",
    "#\n",
    "# None"
   ]
  },
  {
   "cell_type": "code",
   "execution_count": 5,
   "metadata": {},
   "outputs": [
    {
     "name": "stdout",
     "output_type": "stream",
     "text": [
      "6\n",
      "-2\n",
      "8\n",
      "0.5\n"
     ]
    }
   ],
   "source": [
    "print(2 + 4)\n",
    "print(2 - 4)\n",
    "print(2 * 4)\n",
    "print(2 / 4)"
   ]
  },
  {
   "cell_type": "code",
   "execution_count": 6,
   "metadata": {},
   "outputs": [
    {
     "name": "stdout",
     "output_type": "stream",
     "text": [
      "<class 'int'>\n",
      "<class 'int'>\n",
      "<class 'int'>\n",
      "<class 'float'>\n"
     ]
    }
   ],
   "source": [
    "print(type(2 + 4))\n",
    "print(type(2 - 4))\n",
    "print(type(2 * 4))\n",
    "print(type(2 / 4))"
   ]
  },
  {
   "cell_type": "code",
   "execution_count": 7,
   "metadata": {},
   "outputs": [
    {
     "name": "stdout",
     "output_type": "stream",
     "text": [
      "9.8\n",
      "<class 'float'>\n",
      "11.0\n",
      "<class 'float'>\n"
     ]
    }
   ],
   "source": [
    "print(10 - 0.2)\n",
    "print(type(10 - 0.2))\n",
    "print(9.9 + 1.1)\n",
    "print(type(9.9 + 1.1))"
   ]
  },
  {
   "cell_type": "code",
   "execution_count": 8,
   "metadata": {},
   "outputs": [
    {
     "name": "stdout",
     "output_type": "stream",
     "text": [
      "8\n"
     ]
    }
   ],
   "source": [
    "print(2 ** 3)"
   ]
  },
  {
   "cell_type": "code",
   "execution_count": 9,
   "metadata": {},
   "outputs": [
    {
     "name": "stdout",
     "output_type": "stream",
     "text": [
      "0\n",
      "1\n",
      "1\n"
     ]
    }
   ],
   "source": [
    "print(2 // 4)\n",
    "print(5 // 4)\n",
    "print(7 // 4)"
   ]
  },
  {
   "cell_type": "code",
   "execution_count": 10,
   "metadata": {},
   "outputs": [
    {
     "name": "stdout",
     "output_type": "stream",
     "text": [
      "1\n"
     ]
    }
   ],
   "source": [
    "print(5 % 4)"
   ]
  },
  {
   "cell_type": "code",
   "execution_count": 11,
   "metadata": {},
   "outputs": [
    {
     "name": "stdout",
     "output_type": "stream",
     "text": [
      "3\n",
      "4\n"
     ]
    }
   ],
   "source": [
    "print(round(3.1))\n",
    "print(round(3.5))"
   ]
  },
  {
   "cell_type": "code",
   "execution_count": 12,
   "metadata": {},
   "outputs": [
    {
     "name": "stdout",
     "output_type": "stream",
     "text": [
      "20.21\n"
     ]
    }
   ],
   "source": [
    "print(abs(-20.21))"
   ]
  },
  {
   "cell_type": "code",
   "execution_count": 13,
   "metadata": {},
   "outputs": [
    {
     "name": "stdout",
     "output_type": "stream",
     "text": [
      "8\n"
     ]
    }
   ],
   "source": [
    "print(20 - 3 * 4)"
   ]
  },
  {
   "cell_type": "code",
   "execution_count": 14,
   "metadata": {},
   "outputs": [],
   "source": [
    "# ()\n",
    "# **\n",
    "# * /\n",
    "# + -"
   ]
  },
  {
   "cell_type": "code",
   "execution_count": 15,
   "metadata": {},
   "outputs": [
    {
     "name": "stdout",
     "output_type": "stream",
     "text": [
      "31\n"
     ]
    }
   ],
   "source": [
    "print(20 * 2 - 3 ** (4 - 2))"
   ]
  },
  {
   "cell_type": "code",
   "execution_count": 16,
   "metadata": {},
   "outputs": [
    {
     "name": "stdout",
     "output_type": "stream",
     "text": [
      "0b101\n"
     ]
    }
   ],
   "source": [
    "print(bin(5))"
   ]
  },
  {
   "cell_type": "code",
   "execution_count": 17,
   "metadata": {},
   "outputs": [
    {
     "name": "stdout",
     "output_type": "stream",
     "text": [
      "5\n"
     ]
    }
   ],
   "source": [
    "print(int('0b101', 2))"
   ]
  },
  {
   "cell_type": "code",
   "execution_count": 18,
   "metadata": {},
   "outputs": [],
   "source": [
    "# variables\n",
    "#\n",
    "# snake_case\n",
    "# start with lowercase or _\n",
    "# do not overwrite keywords\n",
    "# letters, numbers or _\n",
    "# case sensitive"
   ]
  },
  {
   "cell_type": "code",
   "execution_count": 19,
   "metadata": {},
   "outputs": [
    {
     "name": "stdout",
     "output_type": "stream",
     "text": [
      "190\n",
      "47.5\n"
     ]
    }
   ],
   "source": [
    "user_iq = 190\n",
    "print(user_iq)\n",
    "\n",
    "user_age = user_iq / 4\n",
    "test = user_age\n",
    "print(test)"
   ]
  },
  {
   "cell_type": "code",
   "execution_count": 20,
   "metadata": {},
   "outputs": [
    {
     "name": "stdout",
     "output_type": "stream",
     "text": [
      "3.14\n"
     ]
    }
   ],
   "source": [
    "# constants\n",
    "PI = 3.14\n",
    "print(PI)"
   ]
  },
  {
   "cell_type": "code",
   "execution_count": 21,
   "metadata": {},
   "outputs": [],
   "source": [
    "# do not use __ before variable\n",
    "__test = 10"
   ]
  },
  {
   "cell_type": "code",
   "execution_count": 22,
   "metadata": {},
   "outputs": [
    {
     "name": "stdout",
     "output_type": "stream",
     "text": [
      "1\n",
      "2\n",
      "3\n"
     ]
    }
   ],
   "source": [
    "a, b, c = 1, 2, 3\n",
    "print(a)\n",
    "print(b)\n",
    "print(c)"
   ]
  },
  {
   "cell_type": "code",
   "execution_count": 23,
   "metadata": {},
   "outputs": [
    {
     "name": "stdout",
     "output_type": "stream",
     "text": [
      "20.0\n"
     ]
    }
   ],
   "source": [
    "iq = 100\n",
    "age = iq / 5\n",
    "print(age)\n",
    "\n",
    "# iq / 5        ->  expression\n",
    "# age = iq / 5  ->  statement"
   ]
  },
  {
   "cell_type": "code",
   "execution_count": 24,
   "metadata": {},
   "outputs": [
    {
     "name": "stdout",
     "output_type": "stream",
     "text": [
      "6\n",
      "7\n",
      "6\n",
      "12\n",
      "6.0\n"
     ]
    }
   ],
   "source": [
    "# augmented assignment operator\n",
    "\n",
    "value = 5\n",
    "value = value + 1\n",
    "print(value)\n",
    "\n",
    "value += 1\n",
    "print(value)\n",
    "\n",
    "value -= 1\n",
    "print(value)\n",
    "\n",
    "value *= 2\n",
    "print(value)\n",
    "\n",
    "value /= 2\n",
    "print(value)"
   ]
  },
  {
   "cell_type": "code",
   "execution_count": 25,
   "metadata": {},
   "outputs": [
    {
     "ename": "SyntaxError",
     "evalue": "invalid syntax (<ipython-input-25-f5f49a28f96b>, line 2)",
     "output_type": "error",
     "traceback": [
      "\u001b[1;36m  File \u001b[1;32m\"<ipython-input-25-f5f49a28f96b>\"\u001b[1;36m, line \u001b[1;32m2\u001b[0m\n\u001b[1;33m    value++\u001b[0m\n\u001b[1;37m           ^\u001b[0m\n\u001b[1;31mSyntaxError\u001b[0m\u001b[1;31m:\u001b[0m invalid syntax\n"
     ]
    }
   ],
   "source": [
    "# not working\n",
    "value++\n",
    "++value\n",
    "value--\n",
    "--value"
   ]
  },
  {
   "cell_type": "code",
   "execution_count": 26,
   "metadata": {},
   "outputs": [
    {
     "name": "stdout",
     "output_type": "stream",
     "text": [
      "<class 'str'>\n",
      "<class 'str'>\n"
     ]
    }
   ],
   "source": [
    "print(type(\"string\"))\n",
    "print(type('string'))"
   ]
  },
  {
   "cell_type": "code",
   "execution_count": 27,
   "metadata": {},
   "outputs": [
    {
     "name": "stdout",
     "output_type": "stream",
     "text": [
      "\n",
      "this\n",
      " is\n",
      "  a\n",
      "very long\n",
      "       string\n",
      "\n"
     ]
    }
   ],
   "source": [
    "long_string = '''\n",
    "this\n",
    " is\n",
    "  a\n",
    "very long\n",
    "       string\n",
    "'''\n",
    "\n",
    "print(long_string)"
   ]
  },
  {
   "cell_type": "code",
   "execution_count": 28,
   "metadata": {},
   "outputs": [
    {
     "name": "stdout",
     "output_type": "stream",
     "text": [
      "Tharinda Rajapaksha\n"
     ]
    }
   ],
   "source": [
    "first_name = 'Tharinda'\n",
    "last_name = 'Rajapaksha'\n",
    "\n",
    "# string concatenation\n",
    "full_name = first_name + ' ' + last_name\n",
    "print(full_name)"
   ]
  },
  {
   "cell_type": "code",
   "execution_count": 29,
   "metadata": {},
   "outputs": [
    {
     "ename": "TypeError",
     "evalue": "can only concatenate str (not \"int\") to str",
     "output_type": "error",
     "traceback": [
      "\u001b[1;31m---------------------------------------------------------------------------\u001b[0m",
      "\u001b[1;31mTypeError\u001b[0m                                 Traceback (most recent call last)",
      "\u001b[1;32m<ipython-input-29-0488bf699d2c>\u001b[0m in \u001b[0;36m<module>\u001b[1;34m\u001b[0m\n\u001b[0;32m      1\u001b[0m \u001b[1;31m# not working\u001b[0m\u001b[1;33m\u001b[0m\u001b[1;33m\u001b[0m\u001b[1;33m\u001b[0m\u001b[0m\n\u001b[1;32m----> 2\u001b[1;33m \u001b[0mprint\u001b[0m\u001b[1;33m(\u001b[0m\u001b[1;34m'hello'\u001b[0m \u001b[1;33m+\u001b[0m \u001b[1;36m5\u001b[0m\u001b[1;33m)\u001b[0m\u001b[1;33m\u001b[0m\u001b[1;33m\u001b[0m\u001b[0m\n\u001b[0m",
      "\u001b[1;31mTypeError\u001b[0m: can only concatenate str (not \"int\") to str"
     ]
    }
   ],
   "source": [
    "# not working\n",
    "print('hello' + 5)"
   ]
  },
  {
   "cell_type": "code",
   "execution_count": 30,
   "metadata": {},
   "outputs": [
    {
     "name": "stdout",
     "output_type": "stream",
     "text": [
      "100\n",
      "<class 'str'>\n",
      "100\n",
      "<class 'int'>\n"
     ]
    }
   ],
   "source": [
    "# type conversions\n",
    "\n",
    "print(str(100))\n",
    "print(type(str(100)))\n",
    "\n",
    "print(int(str(100)))\n",
    "print(type(int(str(100))))"
   ]
  },
  {
   "cell_type": "code",
   "execution_count": 31,
   "metadata": {},
   "outputs": [
    {
     "ename": "SyntaxError",
     "evalue": "invalid syntax (<ipython-input-31-36d36b38ed9f>, line 4)",
     "output_type": "error",
     "traceback": [
      "\u001b[1;36m  File \u001b[1;32m\"<ipython-input-31-36d36b38ed9f>\"\u001b[1;36m, line \u001b[1;32m4\u001b[0m\n\u001b[1;33m    weather = 'It's sunny!'\u001b[0m\n\u001b[1;37m                  ^\u001b[0m\n\u001b[1;31mSyntaxError\u001b[0m\u001b[1;31m:\u001b[0m invalid syntax\n"
     ]
    }
   ],
   "source": [
    "# escape sequence\n",
    "\n",
    "# not working\n",
    "weather = 'It's sunny!'"
   ]
  },
  {
   "cell_type": "code",
   "execution_count": 32,
   "metadata": {},
   "outputs": [
    {
     "name": "stdout",
     "output_type": "stream",
     "text": [
      "It's sunny!\n"
     ]
    }
   ],
   "source": [
    "weather = \"It's sunny!\"\n",
    "print(weather)"
   ]
  },
  {
   "cell_type": "code",
   "execution_count": 33,
   "metadata": {},
   "outputs": [
    {
     "ename": "SyntaxError",
     "evalue": "invalid syntax (<ipython-input-33-824684dc2b41>, line 2)",
     "output_type": "error",
     "traceback": [
      "\u001b[1;36m  File \u001b[1;32m\"<ipython-input-33-824684dc2b41>\"\u001b[1;36m, line \u001b[1;32m2\u001b[0m\n\u001b[1;33m    weather = \"It's \"kind of\" sunny!\"\u001b[0m\n\u001b[1;37m                        ^\u001b[0m\n\u001b[1;31mSyntaxError\u001b[0m\u001b[1;31m:\u001b[0m invalid syntax\n"
     ]
    }
   ],
   "source": [
    "# not working\n",
    "weather = \"It's \"kind of\" sunny!\""
   ]
  },
  {
   "cell_type": "code",
   "execution_count": 34,
   "metadata": {},
   "outputs": [
    {
     "name": "stdout",
     "output_type": "stream",
     "text": [
      "It's sunny!\n",
      "It's \"kind of\" sunny!\n",
      "\t It\\'s \\\"kind of\" sunny! \n",
      "Hope you have a good day!\n"
     ]
    }
   ],
   "source": [
    "weather = 'It\\'s sunny!'\n",
    "print(weather)\n",
    "\n",
    "weather = \"It's \\\"kind of\\\" sunny!\"\n",
    "print(weather)\n",
    "\n",
    "weather = \"\\t It\\\\'s \\\\\\\"kind of\\\" sunny! \\nHope you have a good day!\"\n",
    "print(weather)"
   ]
  },
  {
   "cell_type": "code",
   "execution_count": 35,
   "metadata": {},
   "outputs": [
    {
     "name": "stdout",
     "output_type": "stream",
     "text": [
      "Hi Tharinda, you are 22 years old.\n",
      "Hi Tharinda, you are 22 years old.\n",
      "Hi Tharinda, you are 22 years old.\n",
      "Hi Tharinda, you are 22 years old.\n",
      "Hi Tharinda, you are 22 years old.\n",
      "Hi Tharinda, you are 22 years old.\n",
      "Hi 22, you are Tharinda years old.\n"
     ]
    }
   ],
   "source": [
    "name = 'Tharinda'\n",
    "age = 22\n",
    "\n",
    "print('Hi ' + name + ', you are ' + str(age) + ' years old.')\n",
    "\n",
    "# formatted strings\n",
    "\n",
    "print(f'Hi {name}, you are {age} years old.')\n",
    "print('Hi {name}, you are {age} years old.'.format(name='Tharinda', age=22))\n",
    "print('Hi {}, you are {} years old.'.format('Tharinda', 22))\n",
    "print('Hi {}, you are {} years old.'.format(name, age))\n",
    "print('Hi {0}, you are {1} years old.'.format(name, age))\n",
    "print('Hi {1}, you are {0} years old.'.format(name, age))"
   ]
  },
  {
   "cell_type": "code",
   "execution_count": 36,
   "metadata": {},
   "outputs": [
    {
     "name": "stdout",
     "output_type": "stream",
     "text": [
      "m\n"
     ]
    }
   ],
   "source": [
    "selfish = 'me me me'\n",
    "print(selfish[0])"
   ]
  },
  {
   "cell_type": "code",
   "execution_count": 45,
   "metadata": {},
   "outputs": [
    {
     "name": "stdout",
     "output_type": "stream",
     "text": [
      "0123456\n",
      "23456789\n",
      "23456789\n",
      "012345\n",
      "24\n",
      "0123456789\n",
      "0123456789\n",
      "0123456789\n",
      "02468\n",
      "9\n",
      "9876543210\n",
      "97531\n",
      "\n",
      "8642\n",
      "6\n",
      "0123456\n",
      "789\n"
     ]
    }
   ],
   "source": [
    "number = '0123456789'\n",
    "\n",
    "# [start:stop:stepover]\n",
    "# minus index = start from the right side\n",
    "\n",
    "print(number[0:7])\n",
    "print(number[2:100])\n",
    "print(number[2:])\n",
    "print(number[:6])\n",
    "print(number[2:6:2])\n",
    "print(number[::1])\n",
    "print(number[:])\n",
    "print(number[::])\n",
    "print(number[::2])\n",
    "print(number[-1])\n",
    "print(number[::-1])\n",
    "print(number[::-2])\n",
    "print(number[1:8:-2])\n",
    "print(number[8:1:-2])\n",
    "print(number[-4])\n",
    "print(number[:-3])\n",
    "print(number[-3:])"
   ]
  },
  {
   "cell_type": "code",
   "execution_count": 38,
   "metadata": {},
   "outputs": [
    {
     "ename": "TypeError",
     "evalue": "'str' object does not support item assignment",
     "output_type": "error",
     "traceback": [
      "\u001b[1;31m---------------------------------------------------------------------------\u001b[0m",
      "\u001b[1;31mTypeError\u001b[0m                                 Traceback (most recent call last)",
      "\u001b[1;32m<ipython-input-38-dbe0f643f9af>\u001b[0m in \u001b[0;36m<module>\u001b[1;34m\u001b[0m\n\u001b[0;32m      1\u001b[0m \u001b[1;31m# python strings are immutable (can not be changed)\u001b[0m\u001b[1;33m\u001b[0m\u001b[1;33m\u001b[0m\u001b[1;33m\u001b[0m\u001b[0m\n\u001b[0;32m      2\u001b[0m \u001b[0mexample_str\u001b[0m \u001b[1;33m=\u001b[0m \u001b[1;34m'abcdefg'\u001b[0m\u001b[1;33m\u001b[0m\u001b[1;33m\u001b[0m\u001b[0m\n\u001b[1;32m----> 3\u001b[1;33m \u001b[0mexample_str\u001b[0m\u001b[1;33m[\u001b[0m\u001b[1;36m0\u001b[0m\u001b[1;33m]\u001b[0m \u001b[1;33m=\u001b[0m \u001b[1;34m'x'\u001b[0m\u001b[1;33m\u001b[0m\u001b[1;33m\u001b[0m\u001b[0m\n\u001b[0m",
      "\u001b[1;31mTypeError\u001b[0m: 'str' object does not support item assignment"
     ]
    }
   ],
   "source": [
    "# python strings are immutable (can not be changed)\n",
    "example_str = 'abcdefg'\n",
    "example_str[0] = 'x'"
   ]
  },
  {
   "cell_type": "code",
   "execution_count": 39,
   "metadata": {},
   "outputs": [
    {
     "name": "stdout",
     "output_type": "stream",
     "text": [
      "x\n"
     ]
    }
   ],
   "source": [
    "# can completely reassign the value to the str variable\n",
    "example_str = 'x'\n",
    "print(example_str)"
   ]
  },
  {
   "cell_type": "code",
   "execution_count": 40,
   "metadata": {},
   "outputs": [
    {
     "name": "stdout",
     "output_type": "stream",
     "text": [
      "xabcdefg\n"
     ]
    }
   ],
   "source": [
    "example_str = 'abcdefg'\n",
    "example_str = 'x' + example_str\n",
    "print(example_str)"
   ]
  },
  {
   "cell_type": "code",
   "execution_count": 58,
   "metadata": {},
   "outputs": [
    {
     "name": "stdout",
     "output_type": "stream",
     "text": [
      "a\n",
      "A\n"
     ]
    }
   ],
   "source": [
    "print(chr(97))\n",
    "print(chr(65))"
   ]
  },
  {
   "cell_type": "code",
   "execution_count": 47,
   "metadata": {},
   "outputs": [
    {
     "name": "stdout",
     "output_type": "stream",
     "text": [
      "4\n"
     ]
    }
   ],
   "source": [
    "x = 2\n",
    "print(eval('x + 2'))"
   ]
  },
  {
   "cell_type": "code",
   "execution_count": 50,
   "metadata": {},
   "outputs": [
    {
     "name": "stdout",
     "output_type": "stream",
     "text": [
      "2.0\n"
     ]
    }
   ],
   "source": [
    "print(float(2))"
   ]
  },
  {
   "cell_type": "code",
   "execution_count": 51,
   "metadata": {},
   "outputs": [
    {
     "name": "stdout",
     "output_type": "stream",
     "text": [
      "\n",
      "Welcome to Python 3.7's help utility!\n",
      "\n",
      "If this is your first time using Python, you should definitely check out\n",
      "the tutorial on the Internet at https://docs.python.org/3.7/tutorial/.\n",
      "\n",
      "Enter the name of any module, keyword, or topic to get help on writing\n",
      "Python programs and using Python modules.  To quit this help utility and\n",
      "return to the interpreter, just type \"quit\".\n",
      "\n",
      "To get a list of available modules, keywords, symbols, or topics, type\n",
      "\"modules\", \"keywords\", \"symbols\", or \"topics\".  Each module also comes\n",
      "with a one-line summary of what it does; to list the modules whose name\n",
      "or summary contain a given string such as \"spam\", type \"modules spam\".\n",
      "\n",
      "help> modules\n",
      "\n",
      "Please wait a moment while I gather a list of all available modules...\n",
      "\n"
     ]
    },
    {
     "name": "stderr",
     "output_type": "stream",
     "text": [
      "C:\\Users\\ASUS\\Anaconda3\\lib\\site-packages\\IPython\\kernel\\__init__.py:13: ShimWarning: The `IPython.kernel` package has been deprecated since IPython 4.0.You should import from ipykernel or jupyter_client instead.\n",
      "  \"You should import from ipykernel or jupyter_client instead.\", ShimWarning)\n",
      "Expected Tk Togl installation in C:\\Users\\ASUS\\Anaconda3\\lib\\site-packages\\OpenGL\\Tk\\togl-win32-64\n",
      "Failure loading Togl package: can't find package Togl, on debian systems this is provided by `libtogl2`\n",
      "WARNING: AstropyDeprecationWarning: The private astropy._erfa module has been made into its own package, pyerfa, which is a dependency of astropy and can be imported directly using \"import erfa\" [astropy._erfa]\n",
      "C:\\Users\\ASUS\\Anaconda3\\lib\\site-packages\\glue\\external\\echo\\__init__.py:3: UserWarning: glue.external.echo is deprecated, import from echo directly instead\n",
      "  warnings.warn('glue.external.echo is deprecated, import from echo directly instead')\n",
      "C:\\Users\\ASUS\\Anaconda3\\lib\\pkgutil.py:92: MatplotlibDeprecationWarning: \n",
      "The matplotlib.compat module was deprecated in Matplotlib 3.3 and will be removed two minor releases later.\n",
      "  __import__(info.name)\n",
      "C:\\Users\\ASUS\\Anaconda3\\lib\\site-packages\\skimage\\viewer\\utils\\__init__.py:1: UserWarning: Recommended matplotlib backend is `Agg` for full skimage.viewer functionality.\n",
      "  from .core import *\n",
      "C:\\Users\\ASUS\\Anaconda3\\lib\\pkgutil.py:107: VisibleDeprecationWarning: zmq.eventloop.minitornado is deprecated in pyzmq 14.0 and will be removed.\n",
      "    Install tornado itself to use zmq with the tornado IOLoop.\n",
      "    \n",
      "  yield from walk_packages(path, info.name+'.', onerror)\n"
     ]
    },
    {
     "name": "stdout",
     "output_type": "stream",
     "text": [
      "AnyQt               brain_pkg_resources keyword             sklearn\n",
      "IPython             brain_pytest        kiwisolver          smtpd\n",
      "OpenGL              brain_qt            lazy_object_proxy   smtplib\n",
      "OpenSSL             brain_random        lib2to3             sndhdr\n",
      "Orange              brain_re            libarchive          sniffio\n",
      "PIL                 brain_responses     libfuturize         snowballstemmer\n",
      "PyQt5               brain_scipy_signal  libpasteurize       socket\n",
      "__future__          brain_six           linecache           socketserver\n",
      "_abc                brain_ssl           locale              socks\n",
      "_ast                brain_subprocess    locket              sockshandler\n",
      "_asyncio            brain_threading     lockfile            sortedcontainers\n",
      "_bisect             brain_typing        logging             soupsieve\n",
      "_black_version      brain_uuid          lzma                sphinx\n",
      "_blake2             brotli              macpath             spyder\n",
      "_bootlocale         bs4                 mailbox             spyder_kernels\n",
      "_bz2                builtins            mailcap             sqlite3\n",
      "_cffi_backend       bz2                 markupsafe          sre_compile\n",
      "_codecs             cProfile            marshal             sre_constants\n",
      "_codecs_cn          cachecontrol        math                sre_parse\n",
      "_codecs_hk          cached_property     matplotlib          ssl\n",
      "_codecs_iso2022     calendar            mccabe              sspi\n",
      "_codecs_jp          certifi             menuinst            sspicon\n",
      "_codecs_kr          cffi                mimetypes           stat\n",
      "_codecs_tw          cgi                 mistune             statistics\n",
      "_collections        cgitb               mmap                storemagic\n",
      "_collections_abc    chardet             mmapfile            string\n",
      "_compat_pickle      chunk               mmsystem            stringprep\n",
      "_compression        click               modulefinder        struct\n",
      "_contextvars        cloudpickle         mpl_scatter_density subprocess\n",
      "_csv                clyent              msgpack             sunau\n",
      "_ctypes             cmath               msilib              symbol\n",
      "_ctypes_test        cmd                 msvcrt              sympyprinting\n",
      "_datetime           code                multiprocessing     symtable\n",
      "_decimal            codecs              mypy_extensions     sys\n",
      "_distutils_findvs   codeop              nacl                sysconfig\n",
      "_distutils_hack     collections         navigator_updater   tabnanny\n",
      "_dummy_thread       colorama            nbclassic           tarfile\n",
      "_elementtree        colorsys            nbclient            tblib\n",
      "_functools          commctrl            nbconvert           telnetlib\n",
      "_hashlib            commonmark          nbformat            tempfile\n",
      "_heapq              community           nest_asyncio        terminado\n",
      "_imp                compileall          netbios             test\n",
      "_io                 concurrent          netrc               test_data\n",
      "_json               conda               networkx            test_pycosat\n",
      "_locale             conda_build         nntplib             testpath\n",
      "_lsprof             conda_env           notebook            tests\n",
      "_lzma               conda_package_handling nt                  textwrap\n",
      "_markupbase         conda_verify        ntpath              this\n",
      "_md5                configparser        ntsecuritycon       threading\n",
      "_msi                contextlib          nturl2path          threadpoolctl\n",
      "_multibytecodec     contextvars         numbers             three_merge\n",
      "_multiprocessing    copy                numpy               tifffile\n",
      "_nsis               copyreg             numpydoc            time\n",
      "_opcode             crypt               odbc                timeit\n",
      "_operator           cryptography        olefile             timer\n",
      "_osx_support        csv                 opcode              tkinter\n",
      "_overlapped         ctypes              openTSNE            tlz\n",
      "_pickle             curses              openpyxl            token\n",
      "_py_abc             cwp                 operator            tokenize\n",
      "_pydecimal          cycler              optparse            toml\n",
      "_pyio               cythonmagic         orangecanvas        toolz\n",
      "_pyrsistent_version cytoolz             orangewidget        tornado\n",
      "_queue              dask                os                  tqdm\n",
      "_random             dataclasses         packaging           trace\n",
      "_sha1               datetime            pandas              traceback\n",
      "_sha256             dateutil            pandocfilters       tracemalloc\n",
      "_sha3               dbi                 paramiko            traitlets\n",
      "_sha512             dbm                 parser              tty\n",
      "_signal             dde                 parso               turtle\n",
      "_sitebuiltins       decimal             partd               turtledemo\n",
      "_socket             decorator           past                typed_ast\n",
      "_sqlite3            defusedxml          pathlib             types\n",
      "_sre                dictdiffer          pathspec            typing\n",
      "_ssl                diff_match_patch    pdb                 typing_extensions\n",
      "_stat               difflib             perfmon             ujson\n",
      "_string             dill                pexpect             unicodedata\n",
      "_strptime           dis                 pickle              unittest\n",
      "_struct             distributed         pickleshare         urllib\n",
      "_symtable           distutils           pickletools         urllib3\n",
      "_system_path        doctest             pip                 uu\n",
      "_testbuffer         docutils            pipes               uuid\n",
      "_testcapi           dummy_threading     pkg_resources       venv\n",
      "_testconsole        easy_install        pkginfo             vispy\n",
      "_testimportmultiple echo                pkgutil             warnings\n",
      "_testmultiphase     email               platform            watchdog\n",
      "_thread             encodings           plistlib            wave\n",
      "_threading_local    ensurepip           pluggy              wcwidth\n",
      "_tkinter            entrypoints         pooch               weakref\n",
      "_tracemalloc        enum                poplib              webbrowser\n",
      "_warnings           erfa                posixpath           webencodings\n",
      "_weakref            errno               pprint              wheel\n",
      "_weakrefset         et_xmlfile          profile             widgetsnbextension\n",
      "_win32sysloader     fast_histogram      prometheus_client   win2kras\n",
      "_winapi             faulthandler        prompt_toolkit      win32api\n",
      "_winxptheme         filecmp             pstats              win32clipboard\n",
      "_yaml               fileinput           psutil              win32com\n",
      "abc                 filelock            pty                 win32con\n",
      "adodbapi            flake8              ptyprocess          win32console\n",
      "afxres              fnmatch             pvectorc            win32cred\n",
      "aifc                formatter           py_compile          win32crypt\n",
      "alabaster           fractions           pyclbr              win32cryptcon\n",
      "anaconda_navigator  freetype            pycodestyle         win32ctypes\n",
      "antigravity         fsspec              pycosat             win32event\n",
      "anyio               ftplib              pycparser           win32evtlog\n",
      "appdirs             functools           pydoc               win32evtlogutil\n",
      "argh                future              pydoc_data          win32file\n",
      "argon2              gc                  pydocstyle          win32gui\n",
      "argparse            genericpath         pyexpat             win32gui_struct\n",
      "array               getopt              pyflakes            win32help\n",
      "ast                 getpass             pygments            win32inet\n",
      "astroid             gettext             pylab               win32inetcon\n",
      "astropy             glob                pylint              win32job\n",
      "async_generator     glob2               pyls                win32lz\n",
      "asynchat            glue                pyls_black          win32net\n",
      "asyncio             glue_vispy_viewers  pyls_jsonrpc        win32netcon\n",
      "asyncore            gzip                pyls_spyder         win32pdh\n",
      "atexit              h11                 pyparsing           win32pdhquery\n",
      "atomicwrites        h2                  pyqtgraph           win32pdhutil\n",
      "attr                h5py                pyreadline          win32pipe\n",
      "audioop             hashlib             pyrsistent          win32print\n",
      "autopep8            heapdict            pythoncom           win32process\n",
      "autoreload          heapq               pytz                win32profile\n",
      "babel               helpdev             pywin               win32ras\n",
      "backcall            hmac                pywin32_bootstrap   win32rcparser\n",
      "backports           hpack               pywin32_testutil    win32security\n",
      "base64              html                pywintypes          win32service\n",
      "baycomp             http                pywt                win32serviceutil\n",
      "bcrypt              httpcore            qdarkstyle          win32timezone\n",
      "bdb                 httpx               qtawesome           win32trace\n",
      "benchmark           hyperframe          qtconsole           win32traceutil\n",
      "binascii            idlelib             qtpy                win32transaction\n",
      "binhex              idna                queue               win32ts\n",
      "binstar_client      imagecodecs         quopri              win32ui\n",
      "bisect              imageio             random              win32uiole\n",
      "black               imagesize           rasutil             win32verstamp\n",
      "blackd              imaplib             re                  win32wnet\n",
      "bleach              imghdr              readline            win_inet_pton\n",
      "blib2to3            imp                 regcheck            wincertstore\n",
      "bokeh               importlib           regex               winerror\n",
      "bottleneck          importlib_metadata  regutil             winioctlcon\n",
      "brain_argparse      inspect             reprlib             winnt\n",
      "brain_attrs         intervaltree        requests            winperf\n",
      "brain_boto3         io                  rfc3986             winpty\n",
      "brain_builtin_inference ipaddress           rlcompleter         winreg\n",
      "brain_collections   ipykernel           rmagic              winsound\n",
      "brain_crypt         ipykernel_launcher  rope                winxpgui\n",
      "brain_curses        ipython_genutils    rtree               winxptheme\n",
      "brain_dataclasses   ipywidgets          ruamel_yaml         wrapt\n",
      "brain_dateutil      isapi               runpy               wsgiref\n",
      "brain_fstrings      isort               sched               xdrlib\n",
      "brain_functools     itertools           scipy               xlrd\n",
      "brain_gi            jdcal               scripts             xlsxwriter\n",
      "brain_hashlib       jedi                secrets             xml\n",
      "brain_http          jinja2              select              xmlrpc\n",
      "brain_io            joblib              selectors           xmltodict\n",
      "brain_mechanize     json                send2trash          xxsubtype\n",
      "brain_multiprocessing json5               serverfiles         yaml\n",
      "brain_namedtuple_enum jsonschema          servicemanager      yapf\n",
      "brain_nose          jupyter             setuptools          yapftests\n",
      "brain_numpy_core_fromnumeric jupyter_client      shelve              zict\n",
      "brain_numpy_core_function_base jupyter_core        shlex               zipapp\n",
      "brain_numpy_core_multiarray jupyter_server      shutil              zipfile\n",
      "brain_numpy_core_numeric jupyterlab          signal              zipimport\n",
      "brain_numpy_core_numerictypes jupyterlab_pygments sipconfig           zipp\n",
      "brain_numpy_core_umath jupyterlab_server   sipdistutils        zlib\n",
      "brain_numpy_ndarray jupyterlab_widgets  site                zmq\n",
      "brain_numpy_random_mtrand keyring             six                 \n",
      "brain_numpy_utils   keyrings            skimage             \n",
      "\n",
      "Enter any module name to get more help.  Or, type \"modules spam\" to search\n",
      "for modules whose name or summary contain the string \"spam\".\n",
      "\n",
      "help> html\n",
      "Help on package html:\n",
      "\n",
      "NAME\n",
      "    html - General functions for HTML manipulation.\n",
      "\n",
      "PACKAGE CONTENTS\n",
      "    entities\n",
      "    parser\n",
      "\n",
      "FUNCTIONS\n",
      "    escape(s, quote=True)\n",
      "        Replace special characters \"&\", \"<\" and \">\" to HTML-safe sequences.\n",
      "        If the optional flag quote is true (the default), the quotation mark\n",
      "        characters, both double quote (\") and single quote (') characters are also\n",
      "        translated.\n",
      "    \n",
      "    unescape(s)\n",
      "        Convert all named and numeric character references (e.g. &gt;, &#62;,\n",
      "        &x3e;) in the string s to the corresponding unicode characters.\n",
      "        This function uses the rules defined by the HTML 5 standard\n",
      "        for both valid and invalid character references, and the list of\n",
      "        HTML 5 named character references defined in html.entities.html5.\n",
      "\n",
      "DATA\n",
      "    __all__ = ['escape', 'unescape']\n",
      "\n",
      "FILE\n",
      "    c:\\users\\asus\\anaconda3\\lib\\html\\__init__.py\n",
      "\n",
      "\n",
      "help> exit()\n",
      "No Python documentation found for 'exit()'.\n",
      "Use help() to get the interactive help utility.\n",
      "Use help(str) for help on the str class.\n",
      "\n",
      "\n",
      "You are now leaving help and returning to the Python interpreter.\n",
      "If you want to ask for help on a particular object directly from the\n",
      "interpreter, you can type \"help(object)\".  Executing \"help('string')\"\n",
      "has the same effect as typing a particular string at the help> prompt.\n"
     ]
    }
   ],
   "source": [
    "help()"
   ]
  },
  {
   "cell_type": "code",
   "execution_count": 53,
   "metadata": {},
   "outputs": [
    {
     "name": "stdout",
     "output_type": "stream",
     "text": [
      "0xa\n",
      "0xb\n",
      "0xc\n",
      "0xd\n",
      "0xe\n",
      "0xf\n",
      "0x10\n",
      "0xff\n"
     ]
    }
   ],
   "source": [
    "print(hex(10))\n",
    "print(hex(11))\n",
    "print(hex(12))\n",
    "print(hex(13))\n",
    "print(hex(14))\n",
    "print(hex(15))\n",
    "print(hex(16))\n",
    "print(hex(255))"
   ]
  },
  {
   "cell_type": "code",
   "execution_count": 55,
   "metadata": {},
   "outputs": [
    {
     "name": "stdout",
     "output_type": "stream",
     "text": [
      "6\n",
      "6\n"
     ]
    }
   ],
   "source": [
    "print(int(input()))"
   ]
  },
  {
   "cell_type": "code",
   "execution_count": 56,
   "metadata": {},
   "outputs": [
    {
     "name": "stdout",
     "output_type": "stream",
     "text": [
      "10\n",
      "5\n"
     ]
    }
   ],
   "source": [
    "print(max(5, 10))\n",
    "print(min(5, 10))"
   ]
  },
  {
   "cell_type": "code",
   "execution_count": 57,
   "metadata": {},
   "outputs": [
    {
     "name": "stdout",
     "output_type": "stream",
     "text": [
      "0o7\n",
      "0o10\n",
      "0o11\n"
     ]
    }
   ],
   "source": [
    "print(oct(7))\n",
    "print(oct(8))\n",
    "print(oct(9))"
   ]
  },
  {
   "cell_type": "code",
   "execution_count": 59,
   "metadata": {},
   "outputs": [
    {
     "name": "stdout",
     "output_type": "stream",
     "text": [
      "97\n",
      "65\n"
     ]
    }
   ],
   "source": [
    "print(ord('a'))\n",
    "print(ord('A'))"
   ]
  },
  {
   "cell_type": "code",
   "execution_count": 64,
   "metadata": {},
   "outputs": [
    {
     "name": "stdout",
     "output_type": "stream",
     "text": [
      "8\n",
      "0\n",
      "2\n"
     ]
    }
   ],
   "source": [
    "print(pow(2, 3))\n",
    "print(pow(2, 3, 4)) #third argument is mod\n",
    "print(pow(2, 3, 3))"
   ]
  },
  {
   "cell_type": "code",
   "execution_count": 70,
   "metadata": {},
   "outputs": [
    {
     "name": "stdout",
     "output_type": "stream",
     "text": [
      "3\n",
      "2.6\n",
      "3.0\n"
     ]
    }
   ],
   "source": [
    "print(round(2.65))\n",
    "print(round(2.65, 1))\n",
    "print(round(2.65, 0))"
   ]
  },
  {
   "cell_type": "code",
   "execution_count": 76,
   "metadata": {},
   "outputs": [
    {
     "name": "stdout",
     "output_type": "stream",
     "text": [
      "10\n",
      "16\n",
      "10 6\n"
     ]
    }
   ],
   "source": [
    "print(sum([2, 1, 3, 4]))\n",
    "print(sum([2, 1, 3, 4], 6))\n",
    "print(sum([2, 1, 3, 4]), 6)"
   ]
  },
  {
   "cell_type": "code",
   "execution_count": 79,
   "metadata": {},
   "outputs": [
    {
     "name": "stdout",
     "output_type": "stream",
     "text": [
      "6\n",
      "['p', 'y', 't', 'h', 'o', 'n']\n",
      "['n', 'o', 'h', 't', 'y', 'p']\n"
     ]
    }
   ],
   "source": [
    "print(len('python'))\n",
    "print(list('python'))\n",
    "print(list(reversed('python')))"
   ]
  },
  {
   "cell_type": "code",
   "execution_count": 86,
   "metadata": {},
   "outputs": [
    {
     "name": "stdout",
     "output_type": "stream",
     "text": [
      "['3']\n",
      "['1', '2', '3', '4', '5']\n",
      "['0', '2', '4', '6']\n",
      "['0', '2', '4', '6']\n"
     ]
    }
   ],
   "source": [
    "# slice(start, end, step)\n",
    "\n",
    "a = list('0123456789')\n",
    "\n",
    "b = slice(3, 4)\n",
    "print(a[b])\n",
    "\n",
    "c = slice(1, 6)\n",
    "print(a[c])\n",
    "\n",
    "d = slice(0, 8, 2)\n",
    "print(a[d])\n",
    "\n",
    "print(a[slice(0, 8, 2)])"
   ]
  },
  {
   "cell_type": "code",
   "execution_count": 88,
   "metadata": {},
   "outputs": [
    {
     "name": "stdout",
     "output_type": "stream",
     "text": [
      "['h', 'n', 'o', 'p', 't', 'y']\n",
      "['h', 'n', 'o', 'p', 't', 'y']\n",
      "['y', 't', 'p', 'o', 'n', 'h']\n",
      "[0, 1, 4, 5, 5, 6, 7, 9]\n",
      "[0, 1, 4, 5, 5, 6, 7, 9]\n",
      "[9, 7, 6, 5, 5, 4, 1, 0]\n"
     ]
    }
   ],
   "source": [
    "a = list('python')\n",
    "print(sorted(a))\n",
    "print(sorted(a, reverse = False))\n",
    "print(sorted(a, reverse = True))\n",
    "\n",
    "a = (4, 9, 6, 0, 7, 5, 5, 1)\n",
    "print(sorted(a))\n",
    "print(sorted(a, reverse = False))\n",
    "print(sorted(a, reverse = True))"
   ]
  },
  {
   "cell_type": "code",
   "execution_count": 89,
   "metadata": {},
   "outputs": [],
   "source": [
    "# built-in functions\n",
    "\n",
    "# abs()\n",
    "# bin()\n",
    "# chr()\n",
    "# eval()\n",
    "# float()\n",
    "# help()\n",
    "# hex()\n",
    "# input()\n",
    "# int()\n",
    "# len()\n",
    "# list()\n",
    "# max()\n",
    "# min()\n",
    "# oct()\n",
    "# ord()\n",
    "# pow()\n",
    "# print()\n",
    "# range()\n",
    "# reversed()\n",
    "# round()\n",
    "# slice()\n",
    "# sorted()\n",
    "# str()\n",
    "# sum()\n",
    "# type()"
   ]
  },
  {
   "cell_type": "code",
   "execution_count": 90,
   "metadata": {},
   "outputs": [],
   "source": [
    "# keywords\n",
    "\n",
    "# and\n",
    "# as\n",
    "# assert\n",
    "# break\n",
    "# class\n",
    "# continue\n",
    "# def\n",
    "# del\n",
    "# elif\n",
    "# else\n",
    "# except\n",
    "# False\n",
    "# finally\n",
    "# for\n",
    "# from\n",
    "# global\n",
    "# if\n",
    "# import\n",
    "# in\n",
    "# is\n",
    "# lambda\n",
    "# None\n",
    "# nonlocal\n",
    "# not\n",
    "# or\n",
    "# pass\n",
    "# raise\n",
    "# return\n",
    "# True\n",
    "# try\n",
    "# while\n",
    "# with\n",
    "# yield"
   ]
  },
  {
   "cell_type": "code",
   "execution_count": 1,
   "metadata": {},
   "outputs": [
    {
     "name": "stdout",
     "output_type": "stream",
     "text": [
      "This will run.\n"
     ]
    }
   ],
   "source": [
    "# This is a comment\n",
    "print('This will run.')  # This won't run"
   ]
  },
  {
   "cell_type": "code",
   "execution_count": 2,
   "metadata": {},
   "outputs": [
    {
     "ename": "SyntaxError",
     "evalue": "invalid syntax (<ipython-input-2-4e2301fb637f>, line 2)",
     "output_type": "error",
     "traceback": [
      "\u001b[1;36m  File \u001b[1;32m\"<ipython-input-2-4e2301fb637f>\"\u001b[1;36m, line \u001b[1;32m2\u001b[0m\n\u001b[1;33m    just do this\u001b[0m\n\u001b[1;37m          ^\u001b[0m\n\u001b[1;31mSyntaxError\u001b[0m\u001b[1;31m:\u001b[0m invalid syntax\n"
     ]
    }
   ],
   "source": [
    "# So you can't\n",
    "just do this\n",
    "in python"
   ]
  },
  {
   "cell_type": "code",
   "execution_count": 5,
   "metadata": {},
   "outputs": [],
   "source": [
    "def multiline_example():\n",
    "    # This is a pretty good example\n",
    "    # of how you can spread comments\n",
    "    # over multiple lines in Python\n",
    "    pass"
   ]
  },
  {
   "cell_type": "code",
   "execution_count": 8,
   "metadata": {},
   "outputs": [
    {
     "data": {
      "text/plain": [
       "'\\nIf I really hate pressing `enter` and\\ntyping all those hash marks, I could\\njust do this instead.\\n'"
      ]
     },
     "execution_count": 8,
     "metadata": {},
     "output_type": "execute_result"
    }
   ],
   "source": [
    "\"\"\"\n",
    "If I really hate pressing `enter` and\n",
    "typing all those hash marks, I could\n",
    "just do this instead.\n",
    "\"\"\""
   ]
  },
  {
   "cell_type": "code",
   "execution_count": null,
   "metadata": {},
   "outputs": [],
   "source": []
  }
 ],
 "metadata": {
  "kernelspec": {
   "display_name": "Python 3",
   "language": "python",
   "name": "python3"
  },
  "language_info": {
   "codemirror_mode": {
    "name": "ipython",
    "version": 3
   },
   "file_extension": ".py",
   "mimetype": "text/x-python",
   "name": "python",
   "nbconvert_exporter": "python",
   "pygments_lexer": "ipython3",
   "version": "3.7.1"
  }
 },
 "nbformat": 4,
 "nbformat_minor": 4
}
