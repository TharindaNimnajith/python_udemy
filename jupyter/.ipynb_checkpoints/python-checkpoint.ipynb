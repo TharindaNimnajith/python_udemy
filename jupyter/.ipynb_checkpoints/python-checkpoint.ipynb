{
 "cells": [
  {
   "cell_type": "code",
   "execution_count": 1,
   "metadata": {},
   "outputs": [
    {
     "name": "stdout",
     "output_type": "stream",
     "text": [
      "Hello World!\n"
     ]
    }
   ],
   "source": [
    "print('Hello World!')"
   ]
  },
  {
   "cell_type": "code",
   "execution_count": 2,
   "metadata": {},
   "outputs": [
    {
     "name": "stdout",
     "output_type": "stream",
     "text": [
      "What is your name? Tharinda\n"
     ]
    }
   ],
   "source": [
    "name = input('What is your name? ')"
   ]
  },
  {
   "cell_type": "code",
   "execution_count": 3,
   "metadata": {},
   "outputs": [
    {
     "name": "stdout",
     "output_type": "stream",
     "text": [
      "Hello Tharinda\n"
     ]
    }
   ],
   "source": [
    "print('Hello ' + name)"
   ]
  },
  {
   "cell_type": "code",
   "execution_count": 4,
   "metadata": {},
   "outputs": [],
   "source": [
    "# fundamental data types:\n",
    "# int\n",
    "# float\n",
    "# complex\n",
    "# bool\n",
    "# str\n",
    "# tuple\n",
    "# list\n",
    "# set\n",
    "# dict\n",
    "#\n",
    "# classes (custom types)\n",
    "#\n",
    "# specialized data types (packages and modules from libraries)\n",
    "#\n",
    "# None"
   ]
  },
  {
   "cell_type": "code",
   "execution_count": 5,
   "metadata": {},
   "outputs": [
    {
     "name": "stdout",
     "output_type": "stream",
     "text": [
      "6\n",
      "-2\n",
      "8\n",
      "0.5\n"
     ]
    }
   ],
   "source": [
    "print(2 + 4)\n",
    "print(2 - 4)\n",
    "print(2 * 4)\n",
    "print(2 / 4)"
   ]
  },
  {
   "cell_type": "code",
   "execution_count": 6,
   "metadata": {},
   "outputs": [
    {
     "name": "stdout",
     "output_type": "stream",
     "text": [
      "<class 'int'>\n",
      "<class 'int'>\n",
      "<class 'int'>\n",
      "<class 'float'>\n"
     ]
    }
   ],
   "source": [
    "print(type(2 + 4))\n",
    "print(type(2 - 4))\n",
    "print(type(2 * 4))\n",
    "print(type(2 / 4))"
   ]
  },
  {
   "cell_type": "code",
   "execution_count": 7,
   "metadata": {},
   "outputs": [
    {
     "name": "stdout",
     "output_type": "stream",
     "text": [
      "9.8\n",
      "<class 'float'>\n",
      "11.0\n",
      "<class 'float'>\n"
     ]
    }
   ],
   "source": [
    "print(10 - 0.2)\n",
    "print(type(10 - 0.2))\n",
    "print(9.9 + 1.1)\n",
    "print(type(9.9 + 1.1))"
   ]
  },
  {
   "cell_type": "code",
   "execution_count": 8,
   "metadata": {},
   "outputs": [
    {
     "name": "stdout",
     "output_type": "stream",
     "text": [
      "8\n"
     ]
    }
   ],
   "source": [
    "print(2 ** 3)"
   ]
  },
  {
   "cell_type": "code",
   "execution_count": 9,
   "metadata": {},
   "outputs": [
    {
     "name": "stdout",
     "output_type": "stream",
     "text": [
      "0\n",
      "1\n",
      "1\n"
     ]
    }
   ],
   "source": [
    "print(2 // 4)\n",
    "print(5 // 4)\n",
    "print(7 // 4)"
   ]
  },
  {
   "cell_type": "code",
   "execution_count": 10,
   "metadata": {},
   "outputs": [
    {
     "name": "stdout",
     "output_type": "stream",
     "text": [
      "1\n"
     ]
    }
   ],
   "source": [
    "print(5 % 4)"
   ]
  },
  {
   "cell_type": "code",
   "execution_count": 11,
   "metadata": {},
   "outputs": [
    {
     "name": "stdout",
     "output_type": "stream",
     "text": [
      "3\n",
      "4\n"
     ]
    }
   ],
   "source": [
    "print(round(3.1))\n",
    "print(round(3.5))"
   ]
  },
  {
   "cell_type": "code",
   "execution_count": 12,
   "metadata": {},
   "outputs": [
    {
     "name": "stdout",
     "output_type": "stream",
     "text": [
      "20.21\n"
     ]
    }
   ],
   "source": [
    "print(abs(-20.21))"
   ]
  },
  {
   "cell_type": "code",
   "execution_count": 13,
   "metadata": {},
   "outputs": [
    {
     "name": "stdout",
     "output_type": "stream",
     "text": [
      "8\n"
     ]
    }
   ],
   "source": [
    "print(20 - 3 * 4)"
   ]
  },
  {
   "cell_type": "code",
   "execution_count": 14,
   "metadata": {},
   "outputs": [],
   "source": [
    "# ()\n",
    "# **\n",
    "# * /\n",
    "# + -"
   ]
  },
  {
   "cell_type": "code",
   "execution_count": 15,
   "metadata": {},
   "outputs": [
    {
     "name": "stdout",
     "output_type": "stream",
     "text": [
      "31\n"
     ]
    }
   ],
   "source": [
    "print(20 * 2 - 3 ** (4 - 2))"
   ]
  },
  {
   "cell_type": "code",
   "execution_count": 16,
   "metadata": {},
   "outputs": [
    {
     "name": "stdout",
     "output_type": "stream",
     "text": [
      "0b101\n"
     ]
    }
   ],
   "source": [
    "print(bin(5))"
   ]
  },
  {
   "cell_type": "code",
   "execution_count": 17,
   "metadata": {},
   "outputs": [
    {
     "name": "stdout",
     "output_type": "stream",
     "text": [
      "5\n"
     ]
    }
   ],
   "source": [
    "print(int('0b101', 2))"
   ]
  },
  {
   "cell_type": "code",
   "execution_count": 18,
   "metadata": {},
   "outputs": [],
   "source": [
    "# variables\n",
    "#\n",
    "# snake_case\n",
    "# start with lowercase or _\n",
    "# do not overwrite keywords\n",
    "# letters, numbers or _\n",
    "# case sensitive"
   ]
  },
  {
   "cell_type": "code",
   "execution_count": 19,
   "metadata": {},
   "outputs": [
    {
     "name": "stdout",
     "output_type": "stream",
     "text": [
      "190\n",
      "47.5\n"
     ]
    }
   ],
   "source": [
    "user_iq = 190\n",
    "print(user_iq)\n",
    "\n",
    "user_age = user_iq / 4\n",
    "test = user_age\n",
    "print(test)"
   ]
  },
  {
   "cell_type": "code",
   "execution_count": 20,
   "metadata": {},
   "outputs": [
    {
     "name": "stdout",
     "output_type": "stream",
     "text": [
      "3.14\n"
     ]
    }
   ],
   "source": [
    "# constants\n",
    "PI = 3.14\n",
    "print(PI)"
   ]
  },
  {
   "cell_type": "code",
   "execution_count": 21,
   "metadata": {},
   "outputs": [],
   "source": [
    "# do not use __ before variable\n",
    "__test = 10"
   ]
  },
  {
   "cell_type": "code",
   "execution_count": 22,
   "metadata": {},
   "outputs": [
    {
     "name": "stdout",
     "output_type": "stream",
     "text": [
      "1\n",
      "2\n",
      "3\n"
     ]
    }
   ],
   "source": [
    "a, b, c = 1, 2, 3\n",
    "print(a)\n",
    "print(b)\n",
    "print(c)"
   ]
  },
  {
   "cell_type": "code",
   "execution_count": 23,
   "metadata": {},
   "outputs": [
    {
     "name": "stdout",
     "output_type": "stream",
     "text": [
      "20.0\n"
     ]
    }
   ],
   "source": [
    "iq = 100\n",
    "age = iq / 5\n",
    "print(age)\n",
    "\n",
    "# iq / 5        ->  expression\n",
    "# age = iq / 5  ->  statement"
   ]
  },
  {
   "cell_type": "code",
   "execution_count": 24,
   "metadata": {},
   "outputs": [
    {
     "name": "stdout",
     "output_type": "stream",
     "text": [
      "6\n",
      "7\n",
      "6\n",
      "12\n",
      "6.0\n"
     ]
    }
   ],
   "source": [
    "# augmented assignment operator\n",
    "\n",
    "value = 5\n",
    "value = value + 1\n",
    "print(value)\n",
    "\n",
    "value += 1\n",
    "print(value)\n",
    "\n",
    "value -= 1\n",
    "print(value)\n",
    "\n",
    "value *= 2\n",
    "print(value)\n",
    "\n",
    "value /= 2\n",
    "print(value)"
   ]
  },
  {
   "cell_type": "code",
   "execution_count": 25,
   "metadata": {},
   "outputs": [
    {
     "ename": "SyntaxError",
     "evalue": "invalid syntax (<ipython-input-25-f5f49a28f96b>, line 2)",
     "output_type": "error",
     "traceback": [
      "\u001b[1;36m  File \u001b[1;32m\"<ipython-input-25-f5f49a28f96b>\"\u001b[1;36m, line \u001b[1;32m2\u001b[0m\n\u001b[1;33m    value++\u001b[0m\n\u001b[1;37m           ^\u001b[0m\n\u001b[1;31mSyntaxError\u001b[0m\u001b[1;31m:\u001b[0m invalid syntax\n"
     ]
    }
   ],
   "source": [
    "# not working\n",
    "value++\n",
    "++value\n",
    "value--\n",
    "--value"
   ]
  },
  {
   "cell_type": "code",
   "execution_count": 26,
   "metadata": {},
   "outputs": [
    {
     "name": "stdout",
     "output_type": "stream",
     "text": [
      "<class 'str'>\n",
      "<class 'str'>\n"
     ]
    }
   ],
   "source": [
    "print(type(\"string\"))\n",
    "print(type('string'))"
   ]
  },
  {
   "cell_type": "code",
   "execution_count": 27,
   "metadata": {},
   "outputs": [
    {
     "name": "stdout",
     "output_type": "stream",
     "text": [
      "\n",
      "this\n",
      " is\n",
      "  a\n",
      "very long\n",
      "       string\n",
      "\n"
     ]
    }
   ],
   "source": [
    "long_string = '''\n",
    "this\n",
    " is\n",
    "  a\n",
    "very long\n",
    "       string\n",
    "'''\n",
    "\n",
    "print(long_string)"
   ]
  },
  {
   "cell_type": "code",
   "execution_count": 28,
   "metadata": {},
   "outputs": [
    {
     "name": "stdout",
     "output_type": "stream",
     "text": [
      "Tharinda Rajapaksha\n"
     ]
    }
   ],
   "source": [
    "first_name = 'Tharinda'\n",
    "last_name = 'Rajapaksha'\n",
    "\n",
    "# string concatenation\n",
    "full_name = first_name + ' ' + last_name\n",
    "print(full_name)"
   ]
  },
  {
   "cell_type": "code",
   "execution_count": 29,
   "metadata": {},
   "outputs": [
    {
     "ename": "TypeError",
     "evalue": "can only concatenate str (not \"int\") to str",
     "output_type": "error",
     "traceback": [
      "\u001b[1;31m---------------------------------------------------------------------------\u001b[0m",
      "\u001b[1;31mTypeError\u001b[0m                                 Traceback (most recent call last)",
      "\u001b[1;32m<ipython-input-29-0488bf699d2c>\u001b[0m in \u001b[0;36m<module>\u001b[1;34m\u001b[0m\n\u001b[0;32m      1\u001b[0m \u001b[1;31m# not working\u001b[0m\u001b[1;33m\u001b[0m\u001b[1;33m\u001b[0m\u001b[1;33m\u001b[0m\u001b[0m\n\u001b[1;32m----> 2\u001b[1;33m \u001b[0mprint\u001b[0m\u001b[1;33m(\u001b[0m\u001b[1;34m'hello'\u001b[0m \u001b[1;33m+\u001b[0m \u001b[1;36m5\u001b[0m\u001b[1;33m)\u001b[0m\u001b[1;33m\u001b[0m\u001b[1;33m\u001b[0m\u001b[0m\n\u001b[0m",
      "\u001b[1;31mTypeError\u001b[0m: can only concatenate str (not \"int\") to str"
     ]
    }
   ],
   "source": [
    "# not working\n",
    "print('hello' + 5)"
   ]
  },
  {
   "cell_type": "code",
   "execution_count": 30,
   "metadata": {},
   "outputs": [
    {
     "name": "stdout",
     "output_type": "stream",
     "text": [
      "100\n",
      "<class 'str'>\n",
      "100\n",
      "<class 'int'>\n"
     ]
    }
   ],
   "source": [
    "# type conversions\n",
    "\n",
    "print(str(100))\n",
    "print(type(str(100)))\n",
    "\n",
    "print(int(str(100)))\n",
    "print(type(int(str(100))))"
   ]
  },
  {
   "cell_type": "code",
   "execution_count": 31,
   "metadata": {},
   "outputs": [
    {
     "ename": "SyntaxError",
     "evalue": "invalid syntax (<ipython-input-31-36d36b38ed9f>, line 4)",
     "output_type": "error",
     "traceback": [
      "\u001b[1;36m  File \u001b[1;32m\"<ipython-input-31-36d36b38ed9f>\"\u001b[1;36m, line \u001b[1;32m4\u001b[0m\n\u001b[1;33m    weather = 'It's sunny!'\u001b[0m\n\u001b[1;37m                  ^\u001b[0m\n\u001b[1;31mSyntaxError\u001b[0m\u001b[1;31m:\u001b[0m invalid syntax\n"
     ]
    }
   ],
   "source": [
    "# escape sequence\n",
    "\n",
    "# not working\n",
    "weather = 'It's sunny!'"
   ]
  },
  {
   "cell_type": "code",
   "execution_count": 32,
   "metadata": {},
   "outputs": [
    {
     "name": "stdout",
     "output_type": "stream",
     "text": [
      "It's sunny!\n"
     ]
    }
   ],
   "source": [
    "weather = \"It's sunny!\"\n",
    "print(weather)"
   ]
  },
  {
   "cell_type": "code",
   "execution_count": 33,
   "metadata": {},
   "outputs": [
    {
     "ename": "SyntaxError",
     "evalue": "invalid syntax (<ipython-input-33-824684dc2b41>, line 2)",
     "output_type": "error",
     "traceback": [
      "\u001b[1;36m  File \u001b[1;32m\"<ipython-input-33-824684dc2b41>\"\u001b[1;36m, line \u001b[1;32m2\u001b[0m\n\u001b[1;33m    weather = \"It's \"kind of\" sunny!\"\u001b[0m\n\u001b[1;37m                        ^\u001b[0m\n\u001b[1;31mSyntaxError\u001b[0m\u001b[1;31m:\u001b[0m invalid syntax\n"
     ]
    }
   ],
   "source": [
    "# not working\n",
    "weather = \"It's \"kind of\" sunny!\""
   ]
  },
  {
   "cell_type": "code",
   "execution_count": 34,
   "metadata": {},
   "outputs": [
    {
     "name": "stdout",
     "output_type": "stream",
     "text": [
      "It's sunny!\n",
      "It's \"kind of\" sunny!\n",
      "\t It\\'s \\\"kind of\" sunny! \n",
      "Hope you have a good day!\n"
     ]
    }
   ],
   "source": [
    "weather = 'It\\'s sunny!'\n",
    "print(weather)\n",
    "\n",
    "weather = \"It's \\\"kind of\\\" sunny!\"\n",
    "print(weather)\n",
    "\n",
    "weather = \"\\t It\\\\'s \\\\\\\"kind of\\\" sunny! \\nHope you have a good day!\"\n",
    "print(weather)"
   ]
  },
  {
   "cell_type": "code",
   "execution_count": 35,
   "metadata": {},
   "outputs": [
    {
     "name": "stdout",
     "output_type": "stream",
     "text": [
      "Hi Tharinda, you are 22 years old.\n",
      "Hi Tharinda, you are 22 years old.\n",
      "Hi Tharinda, you are 22 years old.\n",
      "Hi Tharinda, you are 22 years old.\n",
      "Hi Tharinda, you are 22 years old.\n",
      "Hi Tharinda, you are 22 years old.\n",
      "Hi 22, you are Tharinda years old.\n"
     ]
    }
   ],
   "source": [
    "name = 'Tharinda'\n",
    "age = 22\n",
    "\n",
    "print('Hi ' + name + ', you are ' + str(age) + ' years old.')\n",
    "\n",
    "# formatted strings\n",
    "\n",
    "print(f'Hi {name}, you are {age} years old.')\n",
    "print('Hi {name}, you are {age} years old.'.format(name='Tharinda', age=22))\n",
    "print('Hi {}, you are {} years old.'.format('Tharinda', 22))\n",
    "print('Hi {}, you are {} years old.'.format(name, age))\n",
    "print('Hi {0}, you are {1} years old.'.format(name, age))\n",
    "print('Hi {1}, you are {0} years old.'.format(name, age))"
   ]
  },
  {
   "cell_type": "code",
   "execution_count": 36,
   "metadata": {},
   "outputs": [
    {
     "name": "stdout",
     "output_type": "stream",
     "text": [
      "m\n"
     ]
    }
   ],
   "source": [
    "selfish = 'me me me'\n",
    "print(selfish[0])"
   ]
  },
  {
   "cell_type": "code",
   "execution_count": 45,
   "metadata": {},
   "outputs": [
    {
     "name": "stdout",
     "output_type": "stream",
     "text": [
      "0123456\n",
      "23456789\n",
      "23456789\n",
      "012345\n",
      "24\n",
      "0123456789\n",
      "0123456789\n",
      "0123456789\n",
      "02468\n",
      "9\n",
      "9876543210\n",
      "97531\n",
      "\n",
      "8642\n",
      "6\n",
      "0123456\n",
      "789\n"
     ]
    }
   ],
   "source": [
    "number = '0123456789'\n",
    "\n",
    "# [start:stop:stepover]\n",
    "# minus index = start from the right side\n",
    "\n",
    "print(number[0:7])\n",
    "print(number[2:100])\n",
    "print(number[2:])\n",
    "print(number[:6])\n",
    "print(number[2:6:2])\n",
    "print(number[::1])\n",
    "print(number[:])\n",
    "print(number[::])\n",
    "print(number[::2])\n",
    "print(number[-1])\n",
    "print(number[::-1])\n",
    "print(number[::-2])\n",
    "print(number[1:8:-2])\n",
    "print(number[8:1:-2])\n",
    "print(number[-4])\n",
    "print(number[:-3])\n",
    "print(number[-3:])"
   ]
  },
  {
   "cell_type": "code",
   "execution_count": 38,
   "metadata": {},
   "outputs": [
    {
     "ename": "TypeError",
     "evalue": "'str' object does not support item assignment",
     "output_type": "error",
     "traceback": [
      "\u001b[1;31m---------------------------------------------------------------------------\u001b[0m",
      "\u001b[1;31mTypeError\u001b[0m                                 Traceback (most recent call last)",
      "\u001b[1;32m<ipython-input-38-dbe0f643f9af>\u001b[0m in \u001b[0;36m<module>\u001b[1;34m\u001b[0m\n\u001b[0;32m      1\u001b[0m \u001b[1;31m# python strings are immutable (can not be changed)\u001b[0m\u001b[1;33m\u001b[0m\u001b[1;33m\u001b[0m\u001b[1;33m\u001b[0m\u001b[0m\n\u001b[0;32m      2\u001b[0m \u001b[0mexample_str\u001b[0m \u001b[1;33m=\u001b[0m \u001b[1;34m'abcdefg'\u001b[0m\u001b[1;33m\u001b[0m\u001b[1;33m\u001b[0m\u001b[0m\n\u001b[1;32m----> 3\u001b[1;33m \u001b[0mexample_str\u001b[0m\u001b[1;33m[\u001b[0m\u001b[1;36m0\u001b[0m\u001b[1;33m]\u001b[0m \u001b[1;33m=\u001b[0m \u001b[1;34m'x'\u001b[0m\u001b[1;33m\u001b[0m\u001b[1;33m\u001b[0m\u001b[0m\n\u001b[0m",
      "\u001b[1;31mTypeError\u001b[0m: 'str' object does not support item assignment"
     ]
    }
   ],
   "source": [
    "# python strings are immutable (can not be changed)\n",
    "example_str = 'abcdefg'\n",
    "example_str[0] = 'x'"
   ]
  },
  {
   "cell_type": "code",
   "execution_count": 39,
   "metadata": {},
   "outputs": [
    {
     "name": "stdout",
     "output_type": "stream",
     "text": [
      "x\n"
     ]
    }
   ],
   "source": [
    "# can completely reassign the value to the str variable\n",
    "example_str = 'x'\n",
    "print(example_str)"
   ]
  },
  {
   "cell_type": "code",
   "execution_count": 40,
   "metadata": {},
   "outputs": [
    {
     "name": "stdout",
     "output_type": "stream",
     "text": [
      "xabcdefg\n"
     ]
    }
   ],
   "source": [
    "example_str = 'abcdefg'\n",
    "example_str = 'x' + example_str\n",
    "print(example_str)"
   ]
  },
  {
   "cell_type": "code",
   "execution_count": 58,
   "metadata": {},
   "outputs": [
    {
     "name": "stdout",
     "output_type": "stream",
     "text": [
      "a\n",
      "A\n"
     ]
    }
   ],
   "source": [
    "print(chr(97))\n",
    "print(chr(65))"
   ]
  },
  {
   "cell_type": "code",
   "execution_count": 47,
   "metadata": {},
   "outputs": [
    {
     "name": "stdout",
     "output_type": "stream",
     "text": [
      "4\n"
     ]
    }
   ],
   "source": [
    "x = 2\n",
    "print(eval('x + 2'))"
   ]
  },
  {
   "cell_type": "code",
   "execution_count": 50,
   "metadata": {},
   "outputs": [
    {
     "name": "stdout",
     "output_type": "stream",
     "text": [
      "2.0\n"
     ]
    }
   ],
   "source": [
    "print(float(2))"
   ]
  },
  {
   "cell_type": "code",
   "execution_count": 51,
   "metadata": {},
   "outputs": [
    {
     "name": "stdout",
     "output_type": "stream",
     "text": [
      "\n",
      "Welcome to Python 3.7's help utility!\n",
      "\n",
      "If this is your first time using Python, you should definitely check out\n",
      "the tutorial on the Internet at https://docs.python.org/3.7/tutorial/.\n",
      "\n",
      "Enter the name of any module, keyword, or topic to get help on writing\n",
      "Python programs and using Python modules.  To quit this help utility and\n",
      "return to the interpreter, just type \"quit\".\n",
      "\n",
      "To get a list of available modules, keywords, symbols, or topics, type\n",
      "\"modules\", \"keywords\", \"symbols\", or \"topics\".  Each module also comes\n",
      "with a one-line summary of what it does; to list the modules whose name\n",
      "or summary contain a given string such as \"spam\", type \"modules spam\".\n",
      "\n",
      "help> modules\n",
      "\n",
      "Please wait a moment while I gather a list of all available modules...\n",
      "\n"
     ]
    },
    {
     "name": "stderr",
     "output_type": "stream",
     "text": [
      "C:\\Users\\ASUS\\Anaconda3\\lib\\site-packages\\IPython\\kernel\\__init__.py:13: ShimWarning: The `IPython.kernel` package has been deprecated since IPython 4.0.You should import from ipykernel or jupyter_client instead.\n",
      "  \"You should import from ipykernel or jupyter_client instead.\", ShimWarning)\n",
      "Expected Tk Togl installation in C:\\Users\\ASUS\\Anaconda3\\lib\\site-packages\\OpenGL\\Tk\\togl-win32-64\n",
      "Failure loading Togl package: can't find package Togl, on debian systems this is provided by `libtogl2`\n",
      "WARNING: AstropyDeprecationWarning: The private astropy._erfa module has been made into its own package, pyerfa, which is a dependency of astropy and can be imported directly using \"import erfa\" [astropy._erfa]\n",
      "C:\\Users\\ASUS\\Anaconda3\\lib\\site-packages\\glue\\external\\echo\\__init__.py:3: UserWarning: glue.external.echo is deprecated, import from echo directly instead\n",
      "  warnings.warn('glue.external.echo is deprecated, import from echo directly instead')\n",
      "C:\\Users\\ASUS\\Anaconda3\\lib\\pkgutil.py:92: MatplotlibDeprecationWarning: \n",
      "The matplotlib.compat module was deprecated in Matplotlib 3.3 and will be removed two minor releases later.\n",
      "  __import__(info.name)\n",
      "C:\\Users\\ASUS\\Anaconda3\\lib\\site-packages\\skimage\\viewer\\utils\\__init__.py:1: UserWarning: Recommended matplotlib backend is `Agg` for full skimage.viewer functionality.\n",
      "  from .core import *\n",
      "C:\\Users\\ASUS\\Anaconda3\\lib\\pkgutil.py:107: VisibleDeprecationWarning: zmq.eventloop.minitornado is deprecated in pyzmq 14.0 and will be removed.\n",
      "    Install tornado itself to use zmq with the tornado IOLoop.\n",
      "    \n",
      "  yield from walk_packages(path, info.name+'.', onerror)\n"
     ]
    },
    {
     "name": "stdout",
     "output_type": "stream",
     "text": [
      "AnyQt               brain_pkg_resources keyword             sklearn\n",
      "IPython             brain_pytest        kiwisolver          smtpd\n",
      "OpenGL              brain_qt            lazy_object_proxy   smtplib\n",
      "OpenSSL             brain_random        lib2to3             sndhdr\n",
      "Orange              brain_re            libarchive          sniffio\n",
      "PIL                 brain_responses     libfuturize         snowballstemmer\n",
      "PyQt5               brain_scipy_signal  libpasteurize       socket\n",
      "__future__          brain_six           linecache           socketserver\n",
      "_abc                brain_ssl           locale              socks\n",
      "_ast                brain_subprocess    locket              sockshandler\n",
      "_asyncio            brain_threading     lockfile            sortedcontainers\n",
      "_bisect             brain_typing        logging             soupsieve\n",
      "_black_version      brain_uuid          lzma                sphinx\n",
      "_blake2             brotli              macpath             spyder\n",
      "_bootlocale         bs4                 mailbox             spyder_kernels\n",
      "_bz2                builtins            mailcap             sqlite3\n",
      "_cffi_backend       bz2                 markupsafe          sre_compile\n",
      "_codecs             cProfile            marshal             sre_constants\n",
      "_codecs_cn          cachecontrol        math                sre_parse\n",
      "_codecs_hk          cached_property     matplotlib          ssl\n",
      "_codecs_iso2022     calendar            mccabe              sspi\n",
      "_codecs_jp          certifi             menuinst            sspicon\n",
      "_codecs_kr          cffi                mimetypes           stat\n",
      "_codecs_tw          cgi                 mistune             statistics\n",
      "_collections        cgitb               mmap                storemagic\n",
      "_collections_abc    chardet             mmapfile            string\n",
      "_compat_pickle      chunk               mmsystem            stringprep\n",
      "_compression        click               modulefinder        struct\n",
      "_contextvars        cloudpickle         mpl_scatter_density subprocess\n",
      "_csv                clyent              msgpack             sunau\n",
      "_ctypes             cmath               msilib              symbol\n",
      "_ctypes_test        cmd                 msvcrt              sympyprinting\n",
      "_datetime           code                multiprocessing     symtable\n",
      "_decimal            codecs              mypy_extensions     sys\n",
      "_distutils_findvs   codeop              nacl                sysconfig\n",
      "_distutils_hack     collections         navigator_updater   tabnanny\n",
      "_dummy_thread       colorama            nbclassic           tarfile\n",
      "_elementtree        colorsys            nbclient            tblib\n",
      "_functools          commctrl            nbconvert           telnetlib\n",
      "_hashlib            commonmark          nbformat            tempfile\n",
      "_heapq              community           nest_asyncio        terminado\n",
      "_imp                compileall          netbios             test\n",
      "_io                 concurrent          netrc               test_data\n",
      "_json               conda               networkx            test_pycosat\n",
      "_locale             conda_build         nntplib             testpath\n",
      "_lsprof             conda_env           notebook            tests\n",
      "_lzma               conda_package_handling nt                  textwrap\n",
      "_markupbase         conda_verify        ntpath              this\n",
      "_md5                configparser        ntsecuritycon       threading\n",
      "_msi                contextlib          nturl2path          threadpoolctl\n",
      "_multibytecodec     contextvars         numbers             three_merge\n",
      "_multiprocessing    copy                numpy               tifffile\n",
      "_nsis               copyreg             numpydoc            time\n",
      "_opcode             crypt               odbc                timeit\n",
      "_operator           cryptography        olefile             timer\n",
      "_osx_support        csv                 opcode              tkinter\n",
      "_overlapped         ctypes              openTSNE            tlz\n",
      "_pickle             curses              openpyxl            token\n",
      "_py_abc             cwp                 operator            tokenize\n",
      "_pydecimal          cycler              optparse            toml\n",
      "_pyio               cythonmagic         orangecanvas        toolz\n",
      "_pyrsistent_version cytoolz             orangewidget        tornado\n",
      "_queue              dask                os                  tqdm\n",
      "_random             dataclasses         packaging           trace\n",
      "_sha1               datetime            pandas              traceback\n",
      "_sha256             dateutil            pandocfilters       tracemalloc\n",
      "_sha3               dbi                 paramiko            traitlets\n",
      "_sha512             dbm                 parser              tty\n",
      "_signal             dde                 parso               turtle\n",
      "_sitebuiltins       decimal             partd               turtledemo\n",
      "_socket             decorator           past                typed_ast\n",
      "_sqlite3            defusedxml          pathlib             types\n",
      "_sre                dictdiffer          pathspec            typing\n",
      "_ssl                diff_match_patch    pdb                 typing_extensions\n",
      "_stat               difflib             perfmon             ujson\n",
      "_string             dill                pexpect             unicodedata\n",
      "_strptime           dis                 pickle              unittest\n",
      "_struct             distributed         pickleshare         urllib\n",
      "_symtable           distutils           pickletools         urllib3\n",
      "_system_path        doctest             pip                 uu\n",
      "_testbuffer         docutils            pipes               uuid\n",
      "_testcapi           dummy_threading     pkg_resources       venv\n",
      "_testconsole        easy_install        pkginfo             vispy\n",
      "_testimportmultiple echo                pkgutil             warnings\n",
      "_testmultiphase     email               platform            watchdog\n",
      "_thread             encodings           plistlib            wave\n",
      "_threading_local    ensurepip           pluggy              wcwidth\n",
      "_tkinter            entrypoints         pooch               weakref\n",
      "_tracemalloc        enum                poplib              webbrowser\n",
      "_warnings           erfa                posixpath           webencodings\n",
      "_weakref            errno               pprint              wheel\n",
      "_weakrefset         et_xmlfile          profile             widgetsnbextension\n",
      "_win32sysloader     fast_histogram      prometheus_client   win2kras\n",
      "_winapi             faulthandler        prompt_toolkit      win32api\n",
      "_winxptheme         filecmp             pstats              win32clipboard\n",
      "_yaml               fileinput           psutil              win32com\n",
      "abc                 filelock            pty                 win32con\n",
      "adodbapi            flake8              ptyprocess          win32console\n",
      "afxres              fnmatch             pvectorc            win32cred\n",
      "aifc                formatter           py_compile          win32crypt\n",
      "alabaster           fractions           pyclbr              win32cryptcon\n",
      "anaconda_navigator  freetype            pycodestyle         win32ctypes\n",
      "antigravity         fsspec              pycosat             win32event\n",
      "anyio               ftplib              pycparser           win32evtlog\n",
      "appdirs             functools           pydoc               win32evtlogutil\n",
      "argh                future              pydoc_data          win32file\n",
      "argon2              gc                  pydocstyle          win32gui\n",
      "argparse            genericpath         pyexpat             win32gui_struct\n",
      "array               getopt              pyflakes            win32help\n",
      "ast                 getpass             pygments            win32inet\n",
      "astroid             gettext             pylab               win32inetcon\n",
      "astropy             glob                pylint              win32job\n",
      "async_generator     glob2               pyls                win32lz\n",
      "asynchat            glue                pyls_black          win32net\n",
      "asyncio             glue_vispy_viewers  pyls_jsonrpc        win32netcon\n",
      "asyncore            gzip                pyls_spyder         win32pdh\n",
      "atexit              h11                 pyparsing           win32pdhquery\n",
      "atomicwrites        h2                  pyqtgraph           win32pdhutil\n",
      "attr                h5py                pyreadline          win32pipe\n",
      "audioop             hashlib             pyrsistent          win32print\n",
      "autopep8            heapdict            pythoncom           win32process\n",
      "autoreload          heapq               pytz                win32profile\n",
      "babel               helpdev             pywin               win32ras\n",
      "backcall            hmac                pywin32_bootstrap   win32rcparser\n",
      "backports           hpack               pywin32_testutil    win32security\n",
      "base64              html                pywintypes          win32service\n",
      "baycomp             http                pywt                win32serviceutil\n",
      "bcrypt              httpcore            qdarkstyle          win32timezone\n",
      "bdb                 httpx               qtawesome           win32trace\n",
      "benchmark           hyperframe          qtconsole           win32traceutil\n",
      "binascii            idlelib             qtpy                win32transaction\n",
      "binhex              idna                queue               win32ts\n",
      "binstar_client      imagecodecs         quopri              win32ui\n",
      "bisect              imageio             random              win32uiole\n",
      "black               imagesize           rasutil             win32verstamp\n",
      "blackd              imaplib             re                  win32wnet\n",
      "bleach              imghdr              readline            win_inet_pton\n",
      "blib2to3            imp                 regcheck            wincertstore\n",
      "bokeh               importlib           regex               winerror\n",
      "bottleneck          importlib_metadata  regutil             winioctlcon\n",
      "brain_argparse      inspect             reprlib             winnt\n",
      "brain_attrs         intervaltree        requests            winperf\n",
      "brain_boto3         io                  rfc3986             winpty\n",
      "brain_builtin_inference ipaddress           rlcompleter         winreg\n",
      "brain_collections   ipykernel           rmagic              winsound\n",
      "brain_crypt         ipykernel_launcher  rope                winxpgui\n",
      "brain_curses        ipython_genutils    rtree               winxptheme\n",
      "brain_dataclasses   ipywidgets          ruamel_yaml         wrapt\n",
      "brain_dateutil      isapi               runpy               wsgiref\n",
      "brain_fstrings      isort               sched               xdrlib\n",
      "brain_functools     itertools           scipy               xlrd\n",
      "brain_gi            jdcal               scripts             xlsxwriter\n",
      "brain_hashlib       jedi                secrets             xml\n",
      "brain_http          jinja2              select              xmlrpc\n",
      "brain_io            joblib              selectors           xmltodict\n",
      "brain_mechanize     json                send2trash          xxsubtype\n",
      "brain_multiprocessing json5               serverfiles         yaml\n",
      "brain_namedtuple_enum jsonschema          servicemanager      yapf\n",
      "brain_nose          jupyter             setuptools          yapftests\n",
      "brain_numpy_core_fromnumeric jupyter_client      shelve              zict\n",
      "brain_numpy_core_function_base jupyter_core        shlex               zipapp\n",
      "brain_numpy_core_multiarray jupyter_server      shutil              zipfile\n",
      "brain_numpy_core_numeric jupyterlab          signal              zipimport\n",
      "brain_numpy_core_numerictypes jupyterlab_pygments sipconfig           zipp\n",
      "brain_numpy_core_umath jupyterlab_server   sipdistutils        zlib\n",
      "brain_numpy_ndarray jupyterlab_widgets  site                zmq\n",
      "brain_numpy_random_mtrand keyring             six                 \n",
      "brain_numpy_utils   keyrings            skimage             \n",
      "\n",
      "Enter any module name to get more help.  Or, type \"modules spam\" to search\n",
      "for modules whose name or summary contain the string \"spam\".\n",
      "\n",
      "help> html\n",
      "Help on package html:\n",
      "\n",
      "NAME\n",
      "    html - General functions for HTML manipulation.\n",
      "\n",
      "PACKAGE CONTENTS\n",
      "    entities\n",
      "    parser\n",
      "\n",
      "FUNCTIONS\n",
      "    escape(s, quote=True)\n",
      "        Replace special characters \"&\", \"<\" and \">\" to HTML-safe sequences.\n",
      "        If the optional flag quote is true (the default), the quotation mark\n",
      "        characters, both double quote (\") and single quote (') characters are also\n",
      "        translated.\n",
      "    \n",
      "    unescape(s)\n",
      "        Convert all named and numeric character references (e.g. &gt;, &#62;,\n",
      "        &x3e;) in the string s to the corresponding unicode characters.\n",
      "        This function uses the rules defined by the HTML 5 standard\n",
      "        for both valid and invalid character references, and the list of\n",
      "        HTML 5 named character references defined in html.entities.html5.\n",
      "\n",
      "DATA\n",
      "    __all__ = ['escape', 'unescape']\n",
      "\n",
      "FILE\n",
      "    c:\\users\\asus\\anaconda3\\lib\\html\\__init__.py\n",
      "\n",
      "\n",
      "help> exit()\n",
      "No Python documentation found for 'exit()'.\n",
      "Use help() to get the interactive help utility.\n",
      "Use help(str) for help on the str class.\n",
      "\n",
      "\n",
      "You are now leaving help and returning to the Python interpreter.\n",
      "If you want to ask for help on a particular object directly from the\n",
      "interpreter, you can type \"help(object)\".  Executing \"help('string')\"\n",
      "has the same effect as typing a particular string at the help> prompt.\n"
     ]
    }
   ],
   "source": [
    "help()"
   ]
  },
  {
   "cell_type": "code",
   "execution_count": 53,
   "metadata": {},
   "outputs": [
    {
     "name": "stdout",
     "output_type": "stream",
     "text": [
      "0xa\n",
      "0xb\n",
      "0xc\n",
      "0xd\n",
      "0xe\n",
      "0xf\n",
      "0x10\n",
      "0xff\n"
     ]
    }
   ],
   "source": [
    "print(hex(10))\n",
    "print(hex(11))\n",
    "print(hex(12))\n",
    "print(hex(13))\n",
    "print(hex(14))\n",
    "print(hex(15))\n",
    "print(hex(16))\n",
    "print(hex(255))"
   ]
  },
  {
   "cell_type": "code",
   "execution_count": 55,
   "metadata": {},
   "outputs": [
    {
     "name": "stdout",
     "output_type": "stream",
     "text": [
      "6\n",
      "6\n"
     ]
    }
   ],
   "source": [
    "print(int(input()))"
   ]
  },
  {
   "cell_type": "code",
   "execution_count": 56,
   "metadata": {},
   "outputs": [
    {
     "name": "stdout",
     "output_type": "stream",
     "text": [
      "10\n",
      "5\n"
     ]
    }
   ],
   "source": [
    "print(max(5, 10))\n",
    "print(min(5, 10))"
   ]
  },
  {
   "cell_type": "code",
   "execution_count": 57,
   "metadata": {},
   "outputs": [
    {
     "name": "stdout",
     "output_type": "stream",
     "text": [
      "0o7\n",
      "0o10\n",
      "0o11\n"
     ]
    }
   ],
   "source": [
    "print(oct(7))\n",
    "print(oct(8))\n",
    "print(oct(9))"
   ]
  },
  {
   "cell_type": "code",
   "execution_count": 59,
   "metadata": {},
   "outputs": [
    {
     "name": "stdout",
     "output_type": "stream",
     "text": [
      "97\n",
      "65\n"
     ]
    }
   ],
   "source": [
    "print(ord('a'))\n",
    "print(ord('A'))"
   ]
  },
  {
   "cell_type": "code",
   "execution_count": 64,
   "metadata": {},
   "outputs": [
    {
     "name": "stdout",
     "output_type": "stream",
     "text": [
      "8\n",
      "0\n",
      "2\n"
     ]
    }
   ],
   "source": [
    "print(pow(2, 3))\n",
    "print(pow(2, 3, 4)) #third argument is mod\n",
    "print(pow(2, 3, 3))"
   ]
  },
  {
   "cell_type": "code",
   "execution_count": 70,
   "metadata": {},
   "outputs": [
    {
     "name": "stdout",
     "output_type": "stream",
     "text": [
      "3\n",
      "2.6\n",
      "3.0\n"
     ]
    }
   ],
   "source": [
    "print(round(2.65))\n",
    "print(round(2.65, 1))\n",
    "print(round(2.65, 0))"
   ]
  },
  {
   "cell_type": "code",
   "execution_count": 76,
   "metadata": {},
   "outputs": [
    {
     "name": "stdout",
     "output_type": "stream",
     "text": [
      "10\n",
      "16\n",
      "10 6\n"
     ]
    }
   ],
   "source": [
    "print(sum([2, 1, 3, 4]))\n",
    "print(sum([2, 1, 3, 4], 6))\n",
    "print(sum([2, 1, 3, 4]), 6)"
   ]
  },
  {
   "cell_type": "code",
   "execution_count": 79,
   "metadata": {},
   "outputs": [
    {
     "name": "stdout",
     "output_type": "stream",
     "text": [
      "6\n",
      "['p', 'y', 't', 'h', 'o', 'n']\n",
      "['n', 'o', 'h', 't', 'y', 'p']\n"
     ]
    }
   ],
   "source": [
    "print(len('python'))\n",
    "print(list('python'))\n",
    "print(list(reversed('python')))"
   ]
  },
  {
   "cell_type": "code",
   "execution_count": 86,
   "metadata": {},
   "outputs": [
    {
     "name": "stdout",
     "output_type": "stream",
     "text": [
      "['3']\n",
      "['1', '2', '3', '4', '5']\n",
      "['0', '2', '4', '6']\n",
      "['0', '2', '4', '6']\n"
     ]
    }
   ],
   "source": [
    "# slice(start, end, step)\n",
    "\n",
    "a = list('0123456789')\n",
    "\n",
    "b = slice(3, 4)\n",
    "print(a[b])\n",
    "\n",
    "c = slice(1, 6)\n",
    "print(a[c])\n",
    "\n",
    "d = slice(0, 8, 2)\n",
    "print(a[d])\n",
    "\n",
    "print(a[slice(0, 8, 2)])"
   ]
  },
  {
   "cell_type": "code",
   "execution_count": 88,
   "metadata": {},
   "outputs": [
    {
     "name": "stdout",
     "output_type": "stream",
     "text": [
      "['h', 'n', 'o', 'p', 't', 'y']\n",
      "['h', 'n', 'o', 'p', 't', 'y']\n",
      "['y', 't', 'p', 'o', 'n', 'h']\n",
      "[0, 1, 4, 5, 5, 6, 7, 9]\n",
      "[0, 1, 4, 5, 5, 6, 7, 9]\n",
      "[9, 7, 6, 5, 5, 4, 1, 0]\n"
     ]
    }
   ],
   "source": [
    "a = list('python')\n",
    "print(sorted(a))\n",
    "print(sorted(a, reverse = False))\n",
    "print(sorted(a, reverse = True))\n",
    "\n",
    "a = (4, 9, 6, 0, 7, 5, 5, 1)\n",
    "print(sorted(a))\n",
    "print(sorted(a, reverse = False))\n",
    "print(sorted(a, reverse = True))"
   ]
  },
  {
   "cell_type": "code",
   "execution_count": 89,
   "metadata": {},
   "outputs": [],
   "source": [
    "# built-in functions\n",
    "\n",
    "# abs()\n",
    "# bin()\n",
    "# bool()\n",
    "# chr()\n",
    "# complex()\n",
    "# dict()\n",
    "# eval()\n",
    "# float()\n",
    "# help()\n",
    "# hex()\n",
    "# input()\n",
    "# int()\n",
    "# len()\n",
    "# list()\n",
    "# max()\n",
    "# min()\n",
    "# oct()\n",
    "# ord()\n",
    "# pow()\n",
    "# print()\n",
    "# range()\n",
    "# reversed()\n",
    "# round()\n",
    "# set()\n",
    "# slice()\n",
    "# sorted()\n",
    "# str()\n",
    "# sum()\n",
    "# tuple()\n",
    "# type()"
   ]
  },
  {
   "cell_type": "code",
   "execution_count": 90,
   "metadata": {},
   "outputs": [],
   "source": [
    "# keywords\n",
    "\n",
    "# and\n",
    "# as\n",
    "# assert\n",
    "# break\n",
    "# class\n",
    "# continue\n",
    "# def\n",
    "# del\n",
    "# elif\n",
    "# else\n",
    "# except\n",
    "# False\n",
    "# finally\n",
    "# for\n",
    "# from\n",
    "# global\n",
    "# if\n",
    "# import\n",
    "# in\n",
    "# is\n",
    "# lambda\n",
    "# None\n",
    "# nonlocal\n",
    "# not\n",
    "# or\n",
    "# pass\n",
    "# raise\n",
    "# return\n",
    "# True\n",
    "# try\n",
    "# while\n",
    "# with\n",
    "# yield"
   ]
  },
  {
   "cell_type": "code",
   "execution_count": 1,
   "metadata": {},
   "outputs": [
    {
     "name": "stdout",
     "output_type": "stream",
     "text": [
      "This will run.\n"
     ]
    }
   ],
   "source": [
    "# This is a comment\n",
    "print('This will run.')  # This won't run"
   ]
  },
  {
   "cell_type": "code",
   "execution_count": 2,
   "metadata": {},
   "outputs": [
    {
     "ename": "SyntaxError",
     "evalue": "invalid syntax (<ipython-input-2-4e2301fb637f>, line 2)",
     "output_type": "error",
     "traceback": [
      "\u001b[1;36m  File \u001b[1;32m\"<ipython-input-2-4e2301fb637f>\"\u001b[1;36m, line \u001b[1;32m2\u001b[0m\n\u001b[1;33m    just do this\u001b[0m\n\u001b[1;37m          ^\u001b[0m\n\u001b[1;31mSyntaxError\u001b[0m\u001b[1;31m:\u001b[0m invalid syntax\n"
     ]
    }
   ],
   "source": [
    "# So you can't\n",
    "just do this\n",
    "in python"
   ]
  },
  {
   "cell_type": "code",
   "execution_count": 5,
   "metadata": {},
   "outputs": [],
   "source": [
    "def multiline_example():\n",
    "    # This is a pretty good example\n",
    "    # of how you can spread comments\n",
    "    # over multiple lines in Python\n",
    "    pass"
   ]
  },
  {
   "cell_type": "code",
   "execution_count": 8,
   "metadata": {},
   "outputs": [
    {
     "data": {
      "text/plain": [
       "'\\nIf I really hate pressing `enter` and\\ntyping all those hash marks, I could\\njust do this instead.\\n'"
      ]
     },
     "execution_count": 8,
     "metadata": {},
     "output_type": "execute_result"
    }
   ],
   "source": [
    "\"\"\"\n",
    "If I really hate pressing `enter` and\n",
    "typing all those hash marks, I could\n",
    "just do this instead.\n",
    "\"\"\""
   ]
  },
  {
   "cell_type": "code",
   "execution_count": 42,
   "metadata": {},
   "outputs": [
    {
     "name": "stdout",
     "output_type": "stream",
     "text": [
      "TO BE, OR NOT TO BE.\n",
      "To be, or not to be.\n",
      "to be, or not to be.\n",
      "to be, or not to be.\n",
      "To Be, Or Not To Be.\n",
      "TO BE, OR nOT TO BE.\n",
      "3\n",
      "17\n",
      "to me, or Not to me.\n",
      "False\n",
      "False\n",
      "False\n",
      "False\n",
      "False\n",
      "False\n",
      "False\n",
      "True\n",
      "False\n",
      "False\n",
      "False\n",
      "True\n",
      "False\n",
      "2\n",
      "b'to be, or Not to be.'\n",
      "to be, or Not to be.\n",
      "               to be, or Not to be.               \n",
      "to be, or Not to be.                              \n",
      "                              to be, or Not to be.\n",
      "to be, or Not to be.\n",
      "to be, or Not to be.\n",
      "3\n",
      "17\n",
      "('', 'to', ' be, or Not to be.')\n",
      "('to be, or Not ', 'to', ' be.')\n",
      "['to', 'be,', 'or', 'Not', 'to', 'be.']\n",
      "['to', 'be,', 'or', 'Not', 'to', 'be.']\n",
      "['to be', ' or Not to be.']\n",
      "['to', 'be,', 'or', 'Not', 'to', 'be.']\n",
      "['to', 'be,', 'or', 'Not', 'to', 'be.']\n",
      "['to be', ' or Not to be.']\n",
      "['to be, or Not to be.']\n",
      "t#o# #b#e#,# #o#r# #N#o#t# #t#o# #b#e#.\n",
      "to#be,#or#Not#to#be.\n",
      "#\n",
      "000to be, or Not to be.\n"
     ]
    }
   ],
   "source": [
    "# string methods\n",
    "\n",
    "quote = 'to be, or Not to be.'\n",
    "\n",
    "print(quote.upper())\n",
    "print(quote.capitalize())\n",
    "print(quote.lower())\n",
    "print(quote.casefold())\n",
    "print(quote.title())\n",
    "print(quote.swapcase())\n",
    "print(quote.find('be'))\n",
    "print(quote.rfind('be'))\n",
    "print(quote.replace('be', 'me'))\n",
    "print(quote.isalnum())\n",
    "print(quote.isalpha())\n",
    "print(quote.isdecimal())\n",
    "print(quote.isdigit())\n",
    "print(quote.isidentifier())\n",
    "print(quote.islower())\n",
    "print(quote.isnumeric())\n",
    "print(quote.isprintable())\n",
    "print(quote.isspace())\n",
    "print(quote.istitle())\n",
    "print(quote.isupper())\n",
    "print(quote.startswith('t'))\n",
    "print(quote.endswith('t'))\n",
    "print(quote.count('be'))\n",
    "print(quote.encode())\n",
    "print(quote.strip())\n",
    "print(quote.center(50))\n",
    "print(quote.ljust(50))\n",
    "print(quote.rjust(50))\n",
    "print(quote.lstrip())\n",
    "print(quote.rstrip())\n",
    "print(quote.index('b'))\n",
    "print(quote.rindex('b'))\n",
    "print(quote.partition('to'))\n",
    "print(quote.rpartition('to'))\n",
    "print(quote.split())\n",
    "print(quote.split(' '))\n",
    "print(quote.split(','))\n",
    "print(quote.rsplit())\n",
    "print(quote.rsplit(' '))\n",
    "print(quote.rsplit(','))\n",
    "print(quote.splitlines())\n",
    "print('#'.join(quote))\n",
    "print('#'.join(quote.split()))\n",
    "print(quote.join('#'))\n",
    "print(quote.zfill(23))"
   ]
  },
  {
   "cell_type": "code",
   "execution_count": 86,
   "metadata": {},
   "outputs": [],
   "source": [
    "# string methods\n",
    "\n",
    "# format()\n",
    "# upper()\n",
    "# capitalize()\n",
    "# lower()\n",
    "# casefold()\n",
    "# title()\n",
    "# swapcase()\n",
    "# find()\n",
    "# rfind()\n",
    "# replace()\n",
    "# isalnum()\n",
    "# isalpha()\n",
    "# isdecimal()\n",
    "# isdigit()\n",
    "# isidentifier()\n",
    "# islower()\n",
    "# isnumeric()\n",
    "# isprintable()\n",
    "# isspace()\n",
    "# istitle()\n",
    "# isupper()\n",
    "# startswith()\n",
    "# endswith()\n",
    "# count()\n",
    "# encode()\n",
    "# strip()\n",
    "# center()\n",
    "# ljust()\n",
    "# rjust()\n",
    "# lstrip()\n",
    "# rstrip()\n",
    "# index()\n",
    "# rindex()\n",
    "# partition()\n",
    "# rpartition()\n",
    "# split()\n",
    "# rsplit()\n",
    "# splitlines()\n",
    "# join()\n",
    "# zfill()"
   ]
  },
  {
   "cell_type": "code",
   "execution_count": 2,
   "metadata": {},
   "outputs": [
    {
     "name": "stdout",
     "output_type": "stream",
     "text": [
      "False\n",
      "True\n",
      "True\n",
      "False\n",
      "True\n",
      "True\n",
      "1\n",
      "True\n"
     ]
    }
   ],
   "source": [
    "# booleans\n",
    "\n",
    "is_cool = False\n",
    "print(is_cool)\n",
    "\n",
    "is_cool = True\n",
    "print(is_cool)\n",
    "\n",
    "print(True)\n",
    "print(False)\n",
    "\n",
    "print(bool('True'))\n",
    "print(bool(1))\n",
    "\n",
    "print(int(True))\n",
    "print(str(True))"
   ]
  },
  {
   "cell_type": "code",
   "execution_count": 14,
   "metadata": {},
   "outputs": [
    {
     "name": "stdout",
     "output_type": "stream",
     "text": [
      "It's complicated\n"
     ]
    }
   ],
   "source": [
    "name = 'Tharinda'\n",
    "age = 22\n",
    "relationship_status = 'Single'\n",
    "\n",
    "relationship_status = 'It\\'s complicated'\n",
    "\n",
    "print(relationship_status)"
   ]
  },
  {
   "cell_type": "code",
   "execution_count": 11,
   "metadata": {},
   "outputs": [
    {
     "name": "stdout",
     "output_type": "stream",
     "text": [
      "What year were you born? 1998\n",
      "You are 23 years old.\n"
     ]
    }
   ],
   "source": [
    "birth_year = int(input('What year were you born? '))\n",
    "age = 2021 - birth_year\n",
    "print(f'You are {age} years old.')"
   ]
  },
  {
   "cell_type": "code",
   "execution_count": 12,
   "metadata": {},
   "outputs": [
    {
     "name": "stdout",
     "output_type": "stream",
     "text": [
      "What year were you born? 1998\n",
      "You are 23.0 years old.\n"
     ]
    }
   ],
   "source": [
    "birth_year = float(input('What year were you born? '))\n",
    "age = 2021 - birth_year\n",
    "print(f'You are {age} years old.')"
   ]
  },
  {
   "cell_type": "code",
   "execution_count": 13,
   "metadata": {},
   "outputs": [
    {
     "name": "stdout",
     "output_type": "stream",
     "text": [
      "What year were you born? 1998\n",
      "You are 2020 years old.\n"
     ]
    }
   ],
   "source": [
    "birth_year = bool(input('What year were you born? '))\n",
    "age = 2021 - birth_year\n",
    "print(f'You are {age} years old.')"
   ]
  },
  {
   "cell_type": "code",
   "execution_count": 17,
   "metadata": {},
   "outputs": [
    {
     "name": "stdout",
     "output_type": "stream",
     "text": [
      "Username: Tharinda\n",
      "Password: abcd\n",
      "Hello Tharinda, your password abcd is 4 letters long.\n"
     ]
    }
   ],
   "source": [
    "username = input('Username: ')\n",
    "password = input('Password: ')\n",
    "\n",
    "print(f'Hello {username}, your password {password} is {len(password)} letters long.')"
   ]
  },
  {
   "cell_type": "code",
   "execution_count": 20,
   "metadata": {},
   "outputs": [
    {
     "name": "stdout",
     "output_type": "stream",
     "text": [
      "Username: Tharinda\n",
      "Password: abcd\n",
      "Hello Tharinda, your password **** is 4 letters long.\n"
     ]
    }
   ],
   "source": [
    "username = input('Username: ')\n",
    "password = input('Password: ')\n",
    "\n",
    "print(f'Hello {username}, your password {\"*\" * len(password)} is {len(password)} letters long.')"
   ]
  },
  {
   "cell_type": "code",
   "execution_count": 21,
   "metadata": {},
   "outputs": [
    {
     "name": "stdout",
     "output_type": "stream",
     "text": [
      "**********\n"
     ]
    }
   ],
   "source": [
    "print('*' * 10)"
   ]
  },
  {
   "cell_type": "code",
   "execution_count": 4,
   "metadata": {},
   "outputs": [
    {
     "name": "stdout",
     "output_type": "stream",
     "text": [
      "[1, 3, 7, 2, 3, 7]\n",
      "2\n"
     ]
    }
   ],
   "source": [
    "# list\n",
    "\n",
    "# Python does not have built-in support for Arrays.\n",
    "# But Python Lists can be used instead.\n",
    "# To work with arrays in Python, import a library, like NumPy.\n",
    "# List is a data structure with ordered sequence of objects of any type.\n",
    "\n",
    "numbers_list = [1, 3, 7, 2, 3, 7]\n",
    "letters_list = ['a', 'c', 'b', 'h']\n",
    "mixed_list = [1, 3, 'a', True]\n",
    "\n",
    "print(numbers_list)\n",
    "print(numbers_list[3])"
   ]
  },
  {
   "cell_type": "code",
   "execution_count": 9,
   "metadata": {},
   "outputs": [
    {
     "name": "stdout",
     "output_type": "stream",
     "text": [
      "[5, 3, 7]\n",
      "[5, 7, 3]\n",
      "['a', 'c', 'b']\n",
      "['a', 'c', 'b', 'h']\n"
     ]
    }
   ],
   "source": [
    "# list slicing\n",
    "# similar to strings\n",
    "# when slicing lists, a new list is created seperately\n",
    "\n",
    "print(numbers_list[0:3])\n",
    "print(numbers_list[0::2])\n",
    "\n",
    "new_list = letters_list[0:3]\n",
    "print(new_list)\n",
    "print(letters_list)"
   ]
  },
  {
   "cell_type": "code",
   "execution_count": 16,
   "metadata": {},
   "outputs": [
    {
     "name": "stdout",
     "output_type": "stream",
     "text": [
      "[1, 3, 'a', True]\n",
      "[1, 3, 'a', True]\n",
      "[1, 3, 'a', True]\n",
      "['abc', 3, 'a', True]\n"
     ]
    }
   ],
   "source": [
    "mixed_list = [1, 3, 'a', True]\n",
    "\n",
    "# copy list\n",
    "list_1 = mixed_list[:]\n",
    "print(mixed_list)\n",
    "print(list_1)\n",
    "list_1[0] = 'abc'\n",
    "print(mixed_list)\n",
    "print(list_1)"
   ]
  },
  {
   "cell_type": "code",
   "execution_count": 14,
   "metadata": {},
   "outputs": [
    {
     "name": "stdout",
     "output_type": "stream",
     "text": [
      "[1, 3, 'a', True]\n",
      "[1, 3, 'a', True]\n",
      "['xyz', 3, 'a', True]\n",
      "['xyz', 3, 'a', True]\n"
     ]
    }
   ],
   "source": [
    "mixed_list = [1, 3, 'a', True]\n",
    "\n",
    "# pointing to the existing list in the memory\n",
    "list_2 = mixed_list\n",
    "print(mixed_list)\n",
    "print(list_2)\n",
    "list_2[0] = 'xyz'\n",
    "print(mixed_list)\n",
    "print(list_2)"
   ]
  },
  {
   "cell_type": "code",
   "execution_count": 7,
   "metadata": {},
   "outputs": [
    {
     "name": "stdout",
     "output_type": "stream",
     "text": [
      "[5, 3, 7, 2, 3, 7]\n"
     ]
    }
   ],
   "source": [
    "# lists are mutable (can change items in the list)\n",
    "# different from lists\n",
    "\n",
    "numbers_list[0] = 5\n",
    "print(numbers_list)"
   ]
  },
  {
   "cell_type": "code",
   "execution_count": 15,
   "metadata": {},
   "outputs": [
    {
     "name": "stdout",
     "output_type": "stream",
     "text": [
      "3\n"
     ]
    }
   ],
   "source": [
    "# matrix - arrays inside arrays (multidimentional arrays)\n",
    "\n",
    "matrix = [\n",
    "    [1, 2, 3],\n",
    "    [2, 4, 6],\n",
    "    [7, 8, 9]\n",
    "]\n",
    "\n",
    "another_matrix = [\n",
    "    [1, 0, 1],\n",
    "    [0, 1, 0],\n",
    "    [1, 0, 1]\n",
    "]\n",
    "\n",
    "print(matrix[0][2])"
   ]
  },
  {
   "cell_type": "code",
   "execution_count": 24,
   "metadata": {},
   "outputs": [
    {
     "name": "stdout",
     "output_type": "stream",
     "text": [
      "6\n",
      "[1, 3, 7, 2, 3, 7, 100]\n"
     ]
    }
   ],
   "source": [
    "# built-in functions on lists\n",
    "numbers_list = [1, 3, 7, 2, 3, 7]\n",
    "print(len(numbers_list))\n",
    "\n",
    "# methods\n",
    "numbers_list = [1, 3, 7, 2, 3, 7]\n",
    "numbers_list.append(100)\n",
    "print(numbers_list)"
   ]
  },
  {
   "cell_type": "code",
   "execution_count": 48,
   "metadata": {},
   "outputs": [
    {
     "name": "stdout",
     "output_type": "stream",
     "text": [
      "None\n",
      "[1, 3, 7, 2, 3, 7, 100]\n"
     ]
    }
   ],
   "source": [
    "# differences\n",
    "# does not return a result (returns None)\n",
    "# some methods like pop() returns a result\n",
    "# some methods returns None\n",
    "# only modifies the list\n",
    "# does not make a copy of the list before modifying\n",
    "\n",
    "numbers_list = [1, 3, 7, 2, 3, 7]\n",
    "new_list = numbers_list.append(100)\n",
    "print(new_list)\n",
    "print(numbers_list)"
   ]
  },
  {
   "cell_type": "code",
   "execution_count": 31,
   "metadata": {},
   "outputs": [
    {
     "name": "stdout",
     "output_type": "stream",
     "text": [
      "[1, 3, 7, 2, 3, 7, 100]\n",
      "[1, 3, 7, 2, 3, 7, 100]\n"
     ]
    }
   ],
   "source": [
    "numbers_list = [1, 3, 7, 2, 3, 7]\n",
    "numbers_list.append(100)\n",
    "new_list = numbers_list\n",
    "print(new_list)\n",
    "print(numbers_list)"
   ]
  },
  {
   "cell_type": "code",
   "execution_count": 32,
   "metadata": {},
   "outputs": [
    {
     "name": "stdout",
     "output_type": "stream",
     "text": [
      "None\n",
      "[1, 3, 7, 2, 3, 7, 100]\n"
     ]
    }
   ],
   "source": [
    "numbers_list = [1, 3, 7, 2, 3, 7]\n",
    "print(numbers_list.append(100))\n",
    "print(numbers_list)"
   ]
  },
  {
   "cell_type": "code",
   "execution_count": 33,
   "metadata": {},
   "outputs": [
    {
     "name": "stdout",
     "output_type": "stream",
     "text": [
      "[1, 3, 7, 2, 100, 3, 7]\n"
     ]
    }
   ],
   "source": [
    "numbers_list = [1, 3, 7, 2, 3, 7]\n",
    "numbers_list.insert(4, 100)\n",
    "print(numbers_list)"
   ]
  },
  {
   "cell_type": "code",
   "execution_count": 35,
   "metadata": {},
   "outputs": [
    {
     "name": "stdout",
     "output_type": "stream",
     "text": [
      "[1, 3, 7, 2, 3, 7, 100]\n",
      "[1, 3, 7, 2, 3, 7, 100, 101, 102]\n"
     ]
    }
   ],
   "source": [
    "numbers_list = [1, 3, 7, 2, 3, 7]\n",
    "numbers_list.extend([100])\n",
    "print(numbers_list)\n",
    "\n",
    "numbers_list = [1, 3, 7, 2, 3, 7]\n",
    "numbers_list.extend([100, 101, 102])\n",
    "print(numbers_list)"
   ]
  },
  {
   "cell_type": "code",
   "execution_count": 51,
   "metadata": {},
   "outputs": [
    {
     "name": "stdout",
     "output_type": "stream",
     "text": [
      "8\n",
      "[1, 3, 8, 7, 7, 2, 3, 7, 0]\n",
      "0\n",
      "[1, 3, 8, 7, 7, 2, 3, 7]\n",
      "3\n",
      "[1, 8, 7, 7, 2, 3, 7]\n",
      "[1, 8, 7, 2, 3, 7]\n",
      "[]\n",
      "[[]]\n"
     ]
    }
   ],
   "source": [
    "numbers_list = [1, 3, 8, 7, 7, 2, 3, 7, 0, 8]\n",
    "\n",
    "print(numbers_list.pop())\n",
    "print(numbers_list)\n",
    "\n",
    "print(numbers_list.pop())\n",
    "print(numbers_list)\n",
    "\n",
    "print(numbers_list.pop(1))\n",
    "print(numbers_list)\n",
    "\n",
    "numbers_list.remove(7)\n",
    "print(numbers_list)\n",
    "\n",
    "numbers_list.clear()\n",
    "print(numbers_list)\n",
    "print([numbers_list])"
   ]
  },
  {
   "cell_type": "code",
   "execution_count": 61,
   "metadata": {},
   "outputs": [
    {
     "name": "stdout",
     "output_type": "stream",
     "text": [
      "3\n"
     ]
    }
   ],
   "source": [
    "numbers_list = [1, 3, 8, 7, 7, 2, 3, 7, 0, 8]\n",
    "print(numbers_list.index(7))"
   ]
  },
  {
   "cell_type": "code",
   "execution_count": 62,
   "metadata": {},
   "outputs": [
    {
     "ename": "SyntaxError",
     "evalue": "unexpected EOF while parsing (<ipython-input-62-b5d3eaa91512>, line 3)",
     "output_type": "error",
     "traceback": [
      "\u001b[1;36m  File \u001b[1;32m\"<ipython-input-62-b5d3eaa91512>\"\u001b[1;36m, line \u001b[1;32m3\u001b[0m\n\u001b[1;33m    print(numbers_list.index(7, 0, 3)\u001b[0m\n\u001b[1;37m                                     ^\u001b[0m\n\u001b[1;31mSyntaxError\u001b[0m\u001b[1;31m:\u001b[0m unexpected EOF while parsing\n"
     ]
    }
   ],
   "source": [
    "# index(value, start, stop)\n",
    "numbers_list = [1, 3, 8, 7, 7, 2, 3, 7, 0, 8]\n",
    "print(numbers_list.index(7, 0, 3)"
   ]
  },
  {
   "cell_type": "code",
   "execution_count": 63,
   "metadata": {},
   "outputs": [
    {
     "name": "stdout",
     "output_type": "stream",
     "text": [
      "7\n"
     ]
    }
   ],
   "source": [
    "numbers_list = [1, 3, 8, 7, 7, 2, 3, 7, 0, 8]\n",
    "print(numbers_list.index(7, 5))"
   ]
  },
  {
   "cell_type": "code",
   "execution_count": 64,
   "metadata": {},
   "outputs": [
    {
     "name": "stdout",
     "output_type": "stream",
     "text": [
      "7\n"
     ]
    }
   ],
   "source": [
    "numbers_list = [1, 3, 8, 7, 7, 2, 3, 7, 0, 8]\n",
    "print(numbers_list.index(7, 5, 10))"
   ]
  },
  {
   "cell_type": "code",
   "execution_count": 65,
   "metadata": {},
   "outputs": [
    {
     "name": "stdout",
     "output_type": "stream",
     "text": [
      "False\n",
      "False\n",
      "True\n"
     ]
    }
   ],
   "source": [
    "numbers_list = [1, 3, 8, 7, 7, 2, 3, 7, 0, 8]\n",
    "print('x' in numbers_list)\n",
    "print(9 in numbers_list)\n",
    "print(7 in numbers_list)"
   ]
  },
  {
   "cell_type": "code",
   "execution_count": 66,
   "metadata": {},
   "outputs": [
    {
     "name": "stdout",
     "output_type": "stream",
     "text": [
      "True\n",
      "False\n"
     ]
    }
   ],
   "source": [
    "print('i' in 'hello my name is tharinda')\n",
    "print('z' in 'hello my name is tharinda')"
   ]
  },
  {
   "cell_type": "code",
   "execution_count": 67,
   "metadata": {},
   "outputs": [
    {
     "name": "stdout",
     "output_type": "stream",
     "text": [
      "3\n"
     ]
    }
   ],
   "source": [
    "numbers_list = [1, 3, 8, 7, 7, 2, 3, 7, 0, 8]\n",
    "print(numbers_list.count(7))"
   ]
  },
  {
   "cell_type": "code",
   "execution_count": 69,
   "metadata": {},
   "outputs": [
    {
     "name": "stdout",
     "output_type": "stream",
     "text": [
      "[0, 1, 2, 3, 3, 7, 7, 7, 8, 8]\n",
      "['a', 'b', 'c', 'h']\n"
     ]
    }
   ],
   "source": [
    "numbers_list = [1, 3, 8, 7, 7, 2, 3, 7, 0, 8]\n",
    "numbers_list.sort()\n",
    "print(numbers_list)\n",
    "\n",
    "letters_list = ['a', 'c', 'b', 'h']\n",
    "letters_list.sort()\n",
    "print(letters_list)"
   ]
  },
  {
   "cell_type": "code",
   "execution_count": 74,
   "metadata": {},
   "outputs": [
    {
     "name": "stdout",
     "output_type": "stream",
     "text": [
      "[1, 3, 8, 7, 7, 2, 3, 7, 0, 8]\n",
      "[0, 1, 2, 3, 3, 7, 7, 7, 8, 8]\n",
      "[1, 3, 8, 7, 7, 2, 3, 7, 0, 8]\n",
      "[1, 3, 8, 7, 7, 2, 3, 7, 0, 8]\n",
      "[0, 1, 2, 3, 3, 7, 7, 7, 8, 8]\n"
     ]
    }
   ],
   "source": [
    "numbers_list = [1, 3, 8, 7, 7, 2, 3, 7, 0, 8]\n",
    "sorted(numbers_list)\n",
    "print(numbers_list)\n",
    "\n",
    "numbers_list = [1, 3, 8, 7, 7, 2, 3, 7, 0, 8]\n",
    "print(sorted(numbers_list))\n",
    "print(numbers_list)\n",
    "\n",
    "numbers_list = [1, 3, 8, 7, 7, 2, 3, 7, 0, 8]\n",
    "new_list = sorted(numbers_list)\n",
    "print(numbers_list)\n",
    "print(new_list)\n",
    "\n",
    "# sorted() function copy the list and sort the new list\n",
    "# sort() method sort and modifies the original list"
   ]
  },
  {
   "cell_type": "code",
   "execution_count": 75,
   "metadata": {},
   "outputs": [
    {
     "name": "stdout",
     "output_type": "stream",
     "text": [
      "[1, 3, 8, 7, 7, 2, 3, 7, 0, 8]\n",
      "[0, 1, 2, 3, 3, 7, 7, 7, 8, 8]\n"
     ]
    }
   ],
   "source": [
    "numbers_list = [1, 3, 8, 7, 7, 2, 3, 7, 0, 8]\n",
    "new_list = numbers_list[:]\n",
    "new_list.sort()\n",
    "print(numbers_list)\n",
    "print(new_list)"
   ]
  },
  {
   "cell_type": "code",
   "execution_count": 76,
   "metadata": {},
   "outputs": [
    {
     "name": "stdout",
     "output_type": "stream",
     "text": [
      "[1, 3, 8, 7, 7, 2, 3, 7, 0, 8]\n",
      "[0, 1, 2, 3, 3, 7, 7, 7, 8, 8]\n"
     ]
    }
   ],
   "source": [
    "numbers_list = [1, 3, 8, 7, 7, 2, 3, 7, 0, 8]\n",
    "new_list = numbers_list.copy()\n",
    "new_list.sort()\n",
    "print(numbers_list)\n",
    "print(new_list)"
   ]
  },
  {
   "cell_type": "code",
   "execution_count": 80,
   "metadata": {},
   "outputs": [
    {
     "name": "stdout",
     "output_type": "stream",
     "text": [
      "[8, 0, 7, 3, 2, 7, 7, 8, 3, 1]\n",
      "[8, 0, 7, 3, 2, 7, 7, 8, 3, 1]\n",
      "[1, 3, 8, 7, 7, 2, 3, 7, 0, 8]\n"
     ]
    }
   ],
   "source": [
    "# reverse() method modifies the original list\n",
    "numbers_list = [1, 3, 8, 7, 7, 2, 3, 7, 0, 8]\n",
    "numbers_list.reverse()\n",
    "print(numbers_list)\n",
    "\n",
    "# reversing by slicing reverse a copy of the list\n",
    "numbers_list = [1, 3, 8, 7, 7, 2, 3, 7, 0, 8]\n",
    "print(numbers_list[::-1])\n",
    "print(numbers_list)"
   ]
  },
  {
   "cell_type": "code",
   "execution_count": 79,
   "metadata": {},
   "outputs": [],
   "source": [
    "# list methods\n",
    "\n",
    "# append()\n",
    "# insert()\n",
    "# extend()\n",
    "# remove()\n",
    "# pop()\n",
    "# clear()\n",
    "# index()\n",
    "# count()\n",
    "# sort()\n",
    "# copy()\n",
    "# reverse()"
   ]
  },
  {
   "cell_type": "code",
   "execution_count": 82,
   "metadata": {},
   "outputs": [
    {
     "name": "stdout",
     "output_type": "stream",
     "text": [
      "range(1, 100)\n"
     ]
    }
   ],
   "source": [
    "print(range(1, 100))"
   ]
  },
  {
   "cell_type": "code",
   "execution_count": 85,
   "metadata": {},
   "outputs": [
    {
     "name": "stdout",
     "output_type": "stream",
     "text": [
      "[3, 4, 5, 6, 7, 8, 9, 10, 11, 12, 13, 14, 15, 16, 17, 18, 19, 20, 21, 22, 23, 24, 25, 26, 27, 28, 29, 30, 31, 32, 33, 34, 35, 36, 37, 38, 39, 40, 41, 42, 43, 44, 45, 46, 47, 48, 49, 50, 51, 52, 53, 54, 55, 56, 57, 58, 59, 60, 61, 62, 63, 64, 65, 66, 67, 68, 69, 70, 71, 72, 73, 74, 75, 76, 77, 78, 79, 80, 81, 82, 83, 84, 85, 86, 87, 88, 89, 90, 91, 92, 93, 94, 95, 96, 97, 98, 99]\n"
     ]
    }
   ],
   "source": [
    "print(list(range(3, 100)))"
   ]
  },
  {
   "cell_type": "code",
   "execution_count": 84,
   "metadata": {},
   "outputs": [
    {
     "name": "stdout",
     "output_type": "stream",
     "text": [
      "[0, 1, 2, 3, 4, 5, 6, 7, 8, 9, 10, 11, 12, 13, 14, 15, 16, 17, 18, 19, 20, 21, 22, 23, 24, 25, 26, 27, 28, 29, 30, 31, 32, 33, 34, 35, 36, 37, 38, 39, 40, 41, 42, 43, 44, 45, 46, 47, 48, 49, 50, 51, 52, 53, 54, 55, 56, 57, 58, 59, 60, 61, 62, 63, 64, 65, 66, 67, 68, 69, 70, 71, 72, 73, 74, 75, 76, 77, 78, 79, 80, 81, 82, 83, 84, 85, 86, 87, 88, 89, 90, 91, 92, 93, 94, 95, 96, 97, 98, 99]\n"
     ]
    }
   ],
   "source": [
    "print(list(range(100)))"
   ]
  },
  {
   "cell_type": "code",
   "execution_count": 88,
   "metadata": {},
   "outputs": [
    {
     "name": "stdout",
     "output_type": "stream",
     "text": [
      "my name is tharinda\n",
      "my name is nimnajith\n"
     ]
    }
   ],
   "source": [
    "space = ' '\n",
    "words = ['my', 'name', 'is', 'tharinda']\n",
    "print(space.join(words))\n",
    "\n",
    "print(' '.join(['my', 'name', 'is', 'nimnajith']))"
   ]
  },
  {
   "cell_type": "code",
   "execution_count": 95,
   "metadata": {},
   "outputs": [
    {
     "name": "stdout",
     "output_type": "stream",
     "text": [
      "1\n",
      "2\n",
      "3\n",
      "4\n",
      "5\n",
      "6\n"
     ]
    }
   ],
   "source": [
    "# list unpacking\n",
    "\n",
    "a, b, c = 1, 2, 3\n",
    "print(a)\n",
    "print(b)\n",
    "print(c)\n",
    "\n",
    "a, b, c = [4, 5, 6]\n",
    "print(a)\n",
    "print(b)\n",
    "print(c)"
   ]
  },
  {
   "cell_type": "code",
   "execution_count": 96,
   "metadata": {},
   "outputs": [
    {
     "name": "stdout",
     "output_type": "stream",
     "text": [
      "1\n",
      "2\n",
      "3\n",
      "[4, 5, 6, 7, 8]\n"
     ]
    }
   ],
   "source": [
    "a, b, c, *other = [1, 2, 3, 4, 5, 6, 7, 8]\n",
    "print(a)\n",
    "print(b)\n",
    "print(c)\n",
    "print(other)"
   ]
  },
  {
   "cell_type": "code",
   "execution_count": 97,
   "metadata": {},
   "outputs": [
    {
     "name": "stdout",
     "output_type": "stream",
     "text": [
      "1\n",
      "2\n",
      "3\n",
      "[4, 5, 6, 7]\n",
      "8\n"
     ]
    }
   ],
   "source": [
    "a, b, c, *other, d = [1, 2, 3, 4, 5, 6, 7, 8]\n",
    "print(a)\n",
    "print(b)\n",
    "print(c)\n",
    "print(other)\n",
    "print(d)"
   ]
  },
  {
   "cell_type": "code",
   "execution_count": 99,
   "metadata": {},
   "outputs": [
    {
     "name": "stdout",
     "output_type": "stream",
     "text": [
      "None\n",
      "<class 'NoneType'>\n"
     ]
    }
   ],
   "source": [
    "weapons = None\n",
    "print(weapons)\n",
    "print(type(weapons))"
   ]
  },
  {
   "cell_type": "code",
   "execution_count": 104,
   "metadata": {},
   "outputs": [
    {
     "name": "stdout",
     "output_type": "stream",
     "text": [
      "True\n"
     ]
    }
   ],
   "source": [
    "# bad code\n",
    "\n",
    "# function to check if x is an even number\n",
    "def func_1(x):\n",
    "    if (x % 2 == 0):    # if no remainder after divided by 2\n",
    "        return True     # return true\n",
    "    elif (x % 2 != 0):  # if remainder is 1 after divided by 2\n",
    "        return False    # return false\n",
    "\n",
    "print(func_1(20)) # calling function to check 20 is even\n",
    "\n",
    "# bad commenting\n",
    "# WET (writing everything twice / waste everyone's time)\n",
    "# not DRY (don't repeat yourself)\n",
    "# () in if\n",
    "# can refactor the logic\n",
    "# bad naming conventions"
   ]
  },
  {
   "cell_type": "code",
   "execution_count": 105,
   "metadata": {},
   "outputs": [
    {
     "name": "stdout",
     "output_type": "stream",
     "text": [
      "True\n"
     ]
    }
   ],
   "source": [
    "# cleaning up the code step by step\n",
    "\n",
    "# step 1\n",
    "\n",
    "def is_even(num):\n",
    "    if (num % 2 == 0):\n",
    "        return True\n",
    "    else:\n",
    "        return False\n",
    "\n",
    "print(is_even(20))"
   ]
  },
  {
   "cell_type": "code",
   "execution_count": 106,
   "metadata": {},
   "outputs": [
    {
     "name": "stdout",
     "output_type": "stream",
     "text": [
      "True\n"
     ]
    }
   ],
   "source": [
    "# step 2\n",
    "\n",
    "def is_even(num):\n",
    "    if (num % 2 == 0):\n",
    "        return True\n",
    "    return False\n",
    "\n",
    "print(is_even(20))"
   ]
  },
  {
   "cell_type": "code",
   "execution_count": 107,
   "metadata": {},
   "outputs": [
    {
     "name": "stdout",
     "output_type": "stream",
     "text": [
      "True\n"
     ]
    }
   ],
   "source": [
    "# step 3 - clean code\n",
    "\n",
    "def is_even(num):\n",
    "    return num % 2 == 0\n",
    "\n",
    "print(is_even(20))"
   ]
  },
  {
   "cell_type": "code",
   "execution_count": 118,
   "metadata": {},
   "outputs": [
    {
     "name": "stdout",
     "output_type": "stream",
     "text": [
      "tharinda\n",
      "\n",
      "-----------------------------------------\n",
      "\n",
      "Help on function test in module __main__:\n",
      "\n",
      "test(a)\n",
      "    Info: this function tests and \n",
      "    prints param a\n",
      "\n",
      "\n",
      "-----------------------------------------\n",
      "\n",
      "\n",
      "    Info: this function tests and \n",
      "    prints param a\n",
      "    \n"
     ]
    }
   ],
   "source": [
    "# docstrings\n",
    "\n",
    "def test(a):\n",
    "    '''\n",
    "    Info: this function tests and \n",
    "    prints param a\n",
    "    '''\n",
    "    print(a)\n",
    "\n",
    "test('tharinda')\n",
    "\n",
    "print()\n",
    "print('-----------------------------------------')\n",
    "print()\n",
    "\n",
    "help(test)\n",
    "\n",
    "print()\n",
    "print('-----------------------------------------')\n",
    "print()\n",
    "\n",
    "print(test.__doc__)"
   ]
  },
  {
   "cell_type": "code",
   "execution_count": 127,
   "metadata": {},
   "outputs": [
    {
     "name": "stdout",
     "output_type": "stream",
     "text": [
      "Tharinda, learn python! - using udemy..."
     ]
    }
   ],
   "source": [
    "print('Tharinda, learn python!', 'using udemy', sep = ' - ', end = '...')"
   ]
  },
  {
   "cell_type": "code",
   "execution_count": 130,
   "metadata": {},
   "outputs": [
    {
     "name": "stdout",
     "output_type": "stream",
     "text": [
      "   *   \n",
      "  ***  \n",
      " ***** \n",
      "*******\n",
      "   *   \n",
      "   *   \n",
      "\n",
      "-------\n",
      "\n",
      "   *   \n",
      "  ***  \n",
      " ***** \n",
      "*******\n",
      "   *   \n",
      "   *   \n"
     ]
    }
   ],
   "source": [
    "picture = [\n",
    "    [0, 0, 0, 1, 0, 0, 0],\n",
    "    [0, 0, 1, 1, 1, 0, 0],\n",
    "    [0, 1, 1, 1, 1, 1, 0],\n",
    "    [1, 1, 1, 1, 1, 1, 1],\n",
    "    [0, 0, 0, 1, 0, 0, 0],\n",
    "    [0, 0, 0, 1, 0, 0, 0]\n",
    "]\n",
    "\n",
    "fill = '*'\n",
    "blank = ' '\n",
    "\n",
    "# method 1\n",
    "for row in range(len(picture)):\n",
    "    for column in range(len(picture[row])):\n",
    "        if picture[row][column]:\n",
    "            print(fill, end = '')\n",
    "        else:\n",
    "            print(blank, end = '')\n",
    "    print()\n",
    "\n",
    "print()\n",
    "print('-------')\n",
    "print()\n",
    "\n",
    "# method 2\n",
    "for row in picture:\n",
    "    for column in row:\n",
    "        if column:\n",
    "            print(fill, end = '')\n",
    "        else:\n",
    "            print(blank, end = '')\n",
    "    print()"
   ]
  },
  {
   "cell_type": "code",
   "execution_count": 131,
   "metadata": {},
   "outputs": [
    {
     "name": "stdout",
     "output_type": "stream",
     "text": [
      "You are old enough to drive.\n",
      "Inside the if condition\n",
      "Outside the if condition\n",
      "\n",
      "Outside the if condition\n"
     ]
    }
   ],
   "source": [
    "is_old = True\n",
    "is_licenced = False\n",
    "\n",
    "if is_old:\n",
    "    print('You are old enough to drive.')\n",
    "    print('Inside the if condition')\n",
    "print('Outside the if condition\\n')\n",
    "\n",
    "if is_licenced:\n",
    "    print('You have licence.')\n",
    "    print('Inside the if condition')\n",
    "print('Outside the if condition')"
   ]
  },
  {
   "cell_type": "code",
   "execution_count": 136,
   "metadata": {},
   "outputs": [
    {
     "name": "stdout",
     "output_type": "stream",
     "text": [
      "You are old enough to drive.\n",
      "This gets printed anyway.\n",
      "You do not have licence.\n",
      "This gets printed anyway.\n"
     ]
    }
   ],
   "source": [
    "is_old = True\n",
    "is_licenced = False\n",
    "\n",
    "if is_old:\n",
    "    print('You are old enough to drive.')\n",
    "else:\n",
    "    print('You are too young.')\n",
    "print('This gets printed anyway.')\n",
    "if is_licenced:\n",
    "    print('You have licence.')\n",
    "else:\n",
    "    print('You do not have licence.')\n",
    "print('This gets printed anyway.')"
   ]
  },
  {
   "cell_type": "code",
   "execution_count": 137,
   "metadata": {},
   "outputs": [
    {
     "name": "stdout",
     "output_type": "stream",
     "text": [
      "Too young and not licenced.\n"
     ]
    }
   ],
   "source": [
    "is_old = False\n",
    "is_licenced = False\n",
    "\n",
    "if is_old:\n",
    "    print('You are old enough to drive.')\n",
    "elif is_licenced:\n",
    "    print('You have licence.')\n",
    "else:\n",
    "    print('Too young and not licenced.')"
   ]
  },
  {
   "cell_type": "code",
   "execution_count": 140,
   "metadata": {},
   "outputs": [
    {
     "name": "stdout",
     "output_type": "stream",
     "text": [
      "Not allowed to drive.\n"
     ]
    }
   ],
   "source": [
    "is_old = True\n",
    "is_licenced = False\n",
    "\n",
    "if is_old and is_licenced:\n",
    "    print('You can drive.')\n",
    "else:\n",
    "    print('Not allowed to drive.')"
   ]
  },
  {
   "cell_type": "code",
   "execution_count": 69,
   "metadata": {},
   "outputs": [
    {
     "name": "stdout",
     "output_type": "stream",
     "text": [
      "Not allowed to drive.\n",
      "abc\n"
     ]
    }
   ],
   "source": [
    "is_old = True\n",
    "is_licenced = False\n",
    "\n",
    "if is_old and is_licenced:\n",
    "    print('You can drive.')\n",
    "    print('xyz')\n",
    "else:\n",
    "    print('Not allowed to drive.')\n",
    "    print('abc')"
   ]
  },
  {
   "cell_type": "code",
   "execution_count": 70,
   "metadata": {},
   "outputs": [
    {
     "name": "stdout",
     "output_type": "stream",
     "text": [
      "You can drive.\n",
      "xyz\n",
      "abc\n"
     ]
    }
   ],
   "source": [
    "is_old = True\n",
    "is_licenced = True\n",
    "\n",
    "if is_old and is_licenced:\n",
    "    print('You can drive.')\n",
    "    print('xyz')\n",
    "else:\n",
    "    print('Not allowed to drive.')\n",
    "print('abc')"
   ]
  },
  {
   "cell_type": "code",
   "execution_count": 71,
   "metadata": {},
   "outputs": [
    {
     "name": "stdout",
     "output_type": "stream",
     "text": [
      "You can drive.\n",
      "xyz\n"
     ]
    }
   ],
   "source": [
    "is_old = True\n",
    "is_licenced = True\n",
    "\n",
    "if is_old and is_licenced:\n",
    "    print('You can drive.')\n",
    "    print('xyz')\n",
    "else:\n",
    "    print('Not allowed to drive.')\n",
    "\n",
    "    print('abc')"
   ]
  },
  {
   "cell_type": "code",
   "execution_count": 142,
   "metadata": {},
   "outputs": [
    {
     "name": "stdout",
     "output_type": "stream",
     "text": [
      "What is your age?: 45\n",
      "Powering On. Enjoy the ride!\n"
     ]
    }
   ],
   "source": [
    "age = input('What is your age?: ')\n",
    "\n",
    "if int(age) < 18:\n",
    "    print('Sorry, you are too young to drive this car. Powering off.')\n",
    "elif int(age) > 18:\n",
    "    print('Powering On. Enjoy the ride!')\n",
    "elif int(age) == 18:\n",
    "    print('Congratulations on your first year of driving. Enjoy the ride!')\n",
    "\n",
    "# 1. Wrap the above code in a function called checkDriverAge().\n",
    "# Whenever you call this function, you will get prompted for age. \n",
    "# Notice the benefit in having checkDriverAge() instead of copying\n",
    "# and pasting the function everytime?\n",
    "\n",
    "# 2. Instead of using the input(), make the checkDriverAge() function \n",
    "# accept an argument of age, so that if you enter:\n",
    "# checkDriverAge(92);\n",
    "# it returns 'Powering On. Enjoy the ride!'\n",
    "# also make it so that the default age is set to 0 if no argument is given."
   ]
  },
  {
   "cell_type": "code",
   "execution_count": 143,
   "metadata": {},
   "outputs": [
    {
     "name": "stdout",
     "output_type": "stream",
     "text": [
      "Sorry, you are too young to drive this car. Powering off.\n",
      "Congratulations on your first year of driving. Enjoy the ride!\n",
      "Powering On. Enjoy the ride!\n",
      "Sorry, you are too young to drive this car. Powering off.\n"
     ]
    }
   ],
   "source": [
    "def check_driver_age(age = 0):\n",
    "    if age < 18:\n",
    "        print('Sorry, you are too young to drive this car. Powering off.')\n",
    "    elif age > 18:\n",
    "        print('Powering On. Enjoy the ride!')\n",
    "    elif age == 18:\n",
    "        print('Congratulations on your first year of driving. Enjoy the ride!')\n",
    "\n",
    "check_driver_age()\n",
    "check_driver_age(18)\n",
    "check_driver_age(90)\n",
    "check_driver_age(5)"
   ]
  },
  {
   "cell_type": "code",
   "execution_count": 148,
   "metadata": {},
   "outputs": [
    {
     "name": "stdout",
     "output_type": "stream",
     "text": [
      "my_list is falsy because it is empty.\n",
      "my_list is falsy because it is empty.\n",
      "my_list is truthy because it is not empty.\n",
      "my_list is truthy because it is not empty.\n"
     ]
    }
   ],
   "source": [
    "# truthy and falsy\n",
    "\n",
    "my_list = []\n",
    "\n",
    "if len(my_list) != 0:\n",
    "    print('my_list is truthy because it is not empty.')\n",
    "else:\n",
    "    print('my_list is falsy because it is empty.')\n",
    "\n",
    "if my_list:\n",
    "    print('my_list is truthy because it is not empty.')\n",
    "else:\n",
    "    print('my_list is falsy because it is empty.')\n",
    "\n",
    "my_list.insert(0, 'abc')\n",
    "\n",
    "if len(my_list) != 0:\n",
    "    print('my_list is truthy because it is not empty.')\n",
    "else:\n",
    "    print('my_list is falsy because it is empty.')\n",
    "\n",
    "if my_list:\n",
    "    print('my_list is truthy because it is not empty.')\n",
    "else:\n",
    "    print('my_list is falsy because it is empty.')\n",
    "\n",
    "# If bool(value) results in True, then value is truthy.\n",
    "# An empty list ([]) is considered falsy.\n",
    "# Non-empty list (for example, [1]) is considered truthy.\n",
    "# The integer 0, the empty string \"\" are considered falsy.\n",
    "# Non-zero integers, non-empty strings are considered truthy."
   ]
  },
  {
   "cell_type": "code",
   "execution_count": 75,
   "metadata": {},
   "outputs": [
    {
     "name": "stdout",
     "output_type": "stream",
     "text": [
      "True\n",
      "True\n",
      "True\n",
      "True\n",
      "You can drive.\n"
     ]
    }
   ],
   "source": [
    "is_old = 'True'\n",
    "is_licenced = 5\n",
    "\n",
    "print(bool('True'))\n",
    "print(bool(5))\n",
    "\n",
    "print(bool(is_old))\n",
    "print(bool(is_licenced))\n",
    "\n",
    "if is_old and is_licenced:\n",
    "    print('You can drive.')\n",
    "else:\n",
    "    print('Not allowed to drive.')"
   ]
  },
  {
   "cell_type": "code",
   "execution_count": 77,
   "metadata": {},
   "outputs": [
    {
     "name": "stdout",
     "output_type": "stream",
     "text": [
      "False\n",
      "False\n",
      "Not allowed to drive.\n"
     ]
    }
   ],
   "source": [
    "is_old = ''\n",
    "is_licenced = 0\n",
    "\n",
    "print(bool(is_old))\n",
    "print(bool(is_licenced))\n",
    "\n",
    "if is_old and is_licenced:\n",
    "    print('You can drive.')\n",
    "else:\n",
    "    print('Not allowed to drive.')"
   ]
  },
  {
   "cell_type": "code",
   "execution_count": 78,
   "metadata": {},
   "outputs": [],
   "source": [
    "# all are truthy except the following falsy values\n",
    "\n",
    "# None\n",
    "# False\n",
    "# 0\n",
    "# 0.0\n",
    "# 0j\n",
    "# Decimal(0)\n",
    "# Fraction(0, 1)\n",
    "# []\n",
    "# {}\n",
    "# ()\n",
    "# ''\n",
    "# \"\"\n",
    "# b''\n",
    "# set()\n",
    "# range(0)\n",
    "# obj.__bool__()\n",
    "# obj.__len__()"
   ]
  },
  {
   "cell_type": "code",
   "execution_count": 151,
   "metadata": {},
   "outputs": [
    {
     "name": "stdout",
     "output_type": "stream",
     "text": [
      "['Oranges']\n"
     ]
    }
   ],
   "source": [
    "# Using this list access 'Oranges' and print it.\n",
    "basket = ['Banana', ['Apples', ['Oranges'], 'Blueberries']]\n",
    "print(basket[1][1])"
   ]
  },
  {
   "cell_type": "code",
   "execution_count": 152,
   "metadata": {},
   "outputs": [
    {
     "name": "stdout",
     "output_type": "stream",
     "text": [
      "45.0\n",
      "45.0\n",
      "45.0\n",
      "25.0\n",
      "25\n"
     ]
    }
   ],
   "source": [
    "print((5 + 4) * 10 / 2)\n",
    "print(((5 + 4) * 10) / 2)\n",
    "print((5 + 4) * (10 / 2))\n",
    "print(5 + (4 * 10) / 2)\n",
    "print(5 + 4 * 10 // 2)"
   ]
  },
  {
   "cell_type": "code",
   "execution_count": 153,
   "metadata": {},
   "outputs": [
    {
     "name": "stdout",
     "output_type": "stream",
     "text": [
      "6\n"
     ]
    }
   ],
   "source": [
    "counter = 0\n",
    "\n",
    "counter += 1\n",
    "counter += 1\n",
    "counter += 1\n",
    "counter += 1\n",
    "counter -= 1\n",
    "counter *= 2\n",
    "\n",
    "print(counter)"
   ]
  },
  {
   "cell_type": "code",
   "execution_count": 154,
   "metadata": {},
   "outputs": [
    {
     "name": "stdout",
     "output_type": "stream",
     "text": [
      "Hello Cindy, your balance is 50.\n",
      "Hello Cindy, your balance is 50.\n",
      "Hello Cindy, your balance is 50.\n",
      "Hello Cindy, your balance is 50.\n",
      "Hello Cindy, your balance is 50.\n"
     ]
    }
   ],
   "source": [
    "print('Hello {}, your balance is {}.'.format('Cindy', 50))\n",
    "print('Hello {0}, your balance is {1}.'.format('Cindy', 50))\n",
    "print('Hello {name}, your balance is {amount}.'.format(name='Cindy', amount=50))\n",
    "print('Hello {0}, your balance is {amount}.'.format('Cindy', amount=50))\n",
    "\n",
    "name = 'Cindy'\n",
    "amount = 50\n",
    "print(f'Hello {name}, your balance is {amount}.')"
   ]
  },
  {
   "cell_type": "code",
   "execution_count": 155,
   "metadata": {},
   "outputs": [
    {
     "name": "stdout",
     "output_type": "stream",
     "text": [
      " am\n",
      " am learning PYTHON\n",
      "I am learning PYTHON\n",
      " am learning PYTHON\n",
      "N\n",
      "T\n",
      "I am learning PYT\n",
      "HON\n",
      "NOHTYP gninrael ma I\n"
     ]
    }
   ],
   "source": [
    "python = 'I am learning PYTHON'\n",
    "\n",
    "print(python[1:4])\n",
    "print(python[1:])\n",
    "print(python[:])\n",
    "print(python[1:100])\n",
    "print(python[-1])\n",
    "print(python[-4])\n",
    "print(python[:-3])\n",
    "print(python[-3:])\n",
    "print(python[::-1])"
   ]
  },
  {
   "cell_type": "code",
   "execution_count": 156,
   "metadata": {},
   "outputs": [
    {
     "name": "stdout",
     "output_type": "stream",
     "text": [
      "b\n",
      "b\n",
      "['b', 'c']\n",
      "['z', 'b', 'c']\n"
     ]
    }
   ],
   "source": [
    "new_list = ['a', 'b', 'c']\n",
    "print(new_list[1])\n",
    "print(new_list[-2])\n",
    "print(new_list[1:3])\n",
    "new_list[0] = 'z'\n",
    "print(new_list)"
   ]
  },
  {
   "cell_type": "code",
   "execution_count": 157,
   "metadata": {},
   "outputs": [
    {
     "name": "stdout",
     "output_type": "stream",
     "text": [
      "['z', 2, 3]\n",
      "[1, 2, 3, 5]\n"
     ]
    }
   ],
   "source": [
    "my_list = [1, 2, 3]\n",
    "bonus = my_list + [5]\n",
    "my_list[0] = 'z'\n",
    "print(my_list)\n",
    "print(bonus)"
   ]
  },
  {
   "cell_type": "code",
   "execution_count": 158,
   "metadata": {},
   "outputs": [
    {
     "name": "stdout",
     "output_type": "stream",
     "text": [
      "['Banana', 'Apples', 'Oranges', 'Blueberries']\n",
      "['Apples', 'Oranges', 'Blueberries']\n",
      "['Apples', 'Oranges']\n",
      "['Apples', 'Oranges', 'Kiwi']\n",
      "['Apples', 'Apples', 'Oranges', 'Kiwi']\n",
      "2\n",
      "['Apples', 'Apples', 'Oranges', 'Kiwi']\n",
      "[]\n"
     ]
    }
   ],
   "source": [
    "basket = ['Banana', 'Apples', 'Oranges', 'Blueberries']\n",
    "print(basket)\n",
    "\n",
    "# 1. Remove the Banana from the list\n",
    "basket.remove('Banana')\n",
    "print(basket)\n",
    "\n",
    "# 2. Remove 'Blueberries' from the list.\n",
    "basket.pop()\n",
    "print(basket)\n",
    "\n",
    "# 3. Put 'Kiwi' at the end of the list.\n",
    "basket.append('Kiwi')\n",
    "print(basket)\n",
    "\n",
    "# 4. Add 'Apples' at the beginning of the list\n",
    "basket.insert(0, 'Apples')\n",
    "print(basket)\n",
    "\n",
    "# 5. Count how many apples in the basket\n",
    "print(basket.count('Apples'))\n",
    "print(basket)\n",
    "\n",
    "# 6. empty the basket\n",
    "basket.clear()\n",
    "print(basket)"
   ]
  },
  {
   "cell_type": "code",
   "execution_count": 83,
   "metadata": {},
   "outputs": [
    {
     "ename": "TypeError",
     "evalue": "'tuple' object does not support item assignment",
     "output_type": "error",
     "traceback": [
      "\u001b[1;31m---------------------------------------------------------------------------\u001b[0m",
      "\u001b[1;31mTypeError\u001b[0m                                 Traceback (most recent call last)",
      "\u001b[1;32m<ipython-input-83-8359f2568155>\u001b[0m in \u001b[0;36m<module>\u001b[1;34m\u001b[0m\n\u001b[0;32m      7\u001b[0m \u001b[0mmy_tuple\u001b[0m \u001b[1;33m=\u001b[0m \u001b[1;33m(\u001b[0m\u001b[1;36m1\u001b[0m\u001b[1;33m,\u001b[0m \u001b[1;36m2\u001b[0m\u001b[1;33m,\u001b[0m \u001b[1;36m3\u001b[0m\u001b[1;33m,\u001b[0m \u001b[1;36m4\u001b[0m\u001b[1;33m,\u001b[0m \u001b[1;36m5\u001b[0m\u001b[1;33m)\u001b[0m\u001b[1;33m\u001b[0m\u001b[1;33m\u001b[0m\u001b[0m\n\u001b[0;32m      8\u001b[0m \u001b[1;33m\u001b[0m\u001b[0m\n\u001b[1;32m----> 9\u001b[1;33m \u001b[0mmy_tuple\u001b[0m\u001b[1;33m[\u001b[0m\u001b[1;36m1\u001b[0m\u001b[1;33m]\u001b[0m \u001b[1;33m=\u001b[0m \u001b[1;34m'm'\u001b[0m\u001b[1;33m\u001b[0m\u001b[1;33m\u001b[0m\u001b[0m\n\u001b[0m",
      "\u001b[1;31mTypeError\u001b[0m: 'tuple' object does not support item assignment"
     ]
    }
   ],
   "source": [
    "# tuple\n",
    "\n",
    "# immutable - can't modify\n",
    "# faster than lists\n",
    "# if a list does not need to change, use tuple\n",
    "\n",
    "my_tuple = (1, 2, 3, 4, 5)\n",
    "\n",
    "my_tuple[1] = 'm'"
   ]
  },
  {
   "cell_type": "code",
   "execution_count": 80,
   "metadata": {},
   "outputs": [
    {
     "name": "stdout",
     "output_type": "stream",
     "text": [
      "(1, 2, 3, 4, 5)\n",
      "2\n"
     ]
    }
   ],
   "source": [
    "print(my_tuple)\n",
    "print(my_tuple[1])"
   ]
  },
  {
   "cell_type": "code",
   "execution_count": 82,
   "metadata": {},
   "outputs": [
    {
     "name": "stdout",
     "output_type": "stream",
     "text": [
      "True\n",
      "False\n"
     ]
    }
   ],
   "source": [
    "print(2 in my_tuple)\n",
    "print('2' in my_tuple)"
   ]
  },
  {
   "cell_type": "code",
   "execution_count": 90,
   "metadata": {},
   "outputs": [
    {
     "name": "stdout",
     "output_type": "stream",
     "text": [
      "(2, 3, 4)\n"
     ]
    }
   ],
   "source": [
    "my_tuple = (1, 2, 3, 4, 5)\n",
    "new_tuple = my_tuple[1: 4]\n",
    "print(new_tuple)"
   ]
  },
  {
   "cell_type": "code",
   "execution_count": 91,
   "metadata": {},
   "outputs": [
    {
     "name": "stdout",
     "output_type": "stream",
     "text": [
      "(2,)\n"
     ]
    }
   ],
   "source": [
    "my_tuple = (1, 2, 3, 4, 5)\n",
    "new_tuple = my_tuple[1: 2]\n",
    "print(new_tuple)"
   ]
  },
  {
   "cell_type": "code",
   "execution_count": 93,
   "metadata": {},
   "outputs": [
    {
     "name": "stdout",
     "output_type": "stream",
     "text": [
      "1\n",
      "2\n",
      "[3, 4]\n",
      "5\n",
      "-1\n",
      "-2\n",
      "[-3, -4]\n",
      "-5\n"
     ]
    }
   ],
   "source": [
    "my_tuple = (1, 2, 3, 4, 5)\n",
    "x, y, *other, z = my_tuple\n",
    "print(x)\n",
    "print(y)\n",
    "print(other)\n",
    "print(z)\n",
    "\n",
    "x, y, *other, z = (-1, -2, -3, -4, -5)\n",
    "print(x)\n",
    "print(y)\n",
    "print(other)\n",
    "print(z)"
   ]
  },
  {
   "cell_type": "code",
   "execution_count": 95,
   "metadata": {},
   "outputs": [
    {
     "name": "stdout",
     "output_type": "stream",
     "text": [
      "8\n"
     ]
    }
   ],
   "source": [
    "my_tuple = (1, 2, 3, 4, 5, 3, 2, 3)\n",
    "print(len(my_tuple))"
   ]
  },
  {
   "cell_type": "code",
   "execution_count": 94,
   "metadata": {},
   "outputs": [
    {
     "name": "stdout",
     "output_type": "stream",
     "text": [
      "3\n"
     ]
    }
   ],
   "source": [
    "my_tuple = (1, 2, 3, 4, 5, 3, 2, 3)\n",
    "print(my_tuple.count(3))"
   ]
  },
  {
   "cell_type": "code",
   "execution_count": 96,
   "metadata": {},
   "outputs": [
    {
     "name": "stdout",
     "output_type": "stream",
     "text": [
      "2\n"
     ]
    }
   ],
   "source": [
    "my_tuple = (1, 2, 3, 4, 5, 3, 2, 3)\n",
    "print(my_tuple.index(3))"
   ]
  },
  {
   "cell_type": "code",
   "execution_count": 90,
   "metadata": {},
   "outputs": [],
   "source": [
    "# tuple methods\n",
    "\n",
    "# count()\n",
    "# index()"
   ]
  },
  {
   "cell_type": "code",
   "execution_count": 159,
   "metadata": {},
   "outputs": [
    {
     "name": "stdout",
     "output_type": "stream",
     "text": [
      "['Amira', 'Carrie', 'Chu', 'Joy', 'Patty', 'Simon', 'Stanley']\n"
     ]
    }
   ],
   "source": [
    "friends = ['Simon', 'Patty', 'Joy', 'Carrie', 'Amira', 'Chu']\n",
    "new_friend = ['Stanley']\n",
    "friends.extend(new_friend)\n",
    "print(sorted(friends))"
   ]
  },
  {
   "cell_type": "code",
   "execution_count": 1,
   "metadata": {},
   "outputs": [
    {
     "name": "stdout",
     "output_type": "stream",
     "text": [
      "10\n",
      "10\n",
      "10\n"
     ]
    }
   ],
   "source": [
    "x = y = z = 10\n",
    "print(x)\n",
    "print(y)\n",
    "print(z)"
   ]
  },
  {
   "cell_type": "code",
   "execution_count": 2,
   "metadata": {},
   "outputs": [
    {
     "name": "stdout",
     "output_type": "stream",
     "text": [
      "Five is greater than two!\n",
      "Five is greater than two!\n",
      "Yes\n",
      "Yes\n"
     ]
    }
   ],
   "source": [
    "if 5 > 2:\n",
    "    print('Five is greater than two!')\n",
    "\n",
    "if 5 > 2: print('Five is greater than two!')\n",
    "\n",
    "\n",
    "if 5 > 2:\n",
    "    print('Yes')\n",
    "else:\n",
    "    print('No')\n",
    "\n",
    "print('Yes') if 5 > 2 else print('No')"
   ]
  },
  {
   "cell_type": "code",
   "execution_count": 3,
   "metadata": {},
   "outputs": [
    {
     "name": "stdout",
     "output_type": "stream",
     "text": [
      "1\n",
      "2\n",
      "3\n",
      "4\n",
      "5\n",
      "i is no longer less than 6\n"
     ]
    }
   ],
   "source": [
    "i = 1\n",
    "\n",
    "while i < 6:\n",
    "    print(i)\n",
    "    i += 1\n",
    "else:\n",
    "    print('i is no longer less than 6')"
   ]
  },
  {
   "cell_type": "code",
   "execution_count": 103,
   "metadata": {},
   "outputs": [
    {
     "name": "stdout",
     "output_type": "stream",
     "text": [
      "<class 'list'>\n",
      "[]\n",
      "<class 'set'>\n",
      "set()\n",
      "<class 'dict'>\n",
      "{}\n",
      "<class 'dict'>\n",
      "{}\n",
      "<class 'tuple'>\n",
      "()\n"
     ]
    }
   ],
   "source": [
    "# empty data structures\n",
    "\n",
    "my_list = []\n",
    "my_set = set()\n",
    "my_dict_1 = {}\n",
    "my_dict_2 = dict()\n",
    "my_tuple = ()\n",
    "\n",
    "print(type(my_list))\n",
    "print(my_list)\n",
    "\n",
    "print(type(my_set))\n",
    "print(my_set)\n",
    "\n",
    "print(type(my_dict_1))\n",
    "print(my_dict_1)\n",
    "\n",
    "print(type(my_dict_2))\n",
    "print(my_dict_2)\n",
    "\n",
    "print(type(my_tuple))\n",
    "print(my_tuple)"
   ]
  },
  {
   "cell_type": "code",
   "execution_count": 106,
   "metadata": {},
   "outputs": [
    {
     "name": "stdout",
     "output_type": "stream",
     "text": [
      "{1, 2, 3, 4, 5}\n"
     ]
    }
   ],
   "source": [
    "# set\n",
    "\n",
    "# unordered collection of unique objects\n",
    "\n",
    "my_set = {1, 2, 3, 4, 5}\n",
    "print(my_set)"
   ]
  },
  {
   "cell_type": "code",
   "execution_count": 107,
   "metadata": {},
   "outputs": [
    {
     "ename": "TypeError",
     "evalue": "'set' object does not support indexing",
     "output_type": "error",
     "traceback": [
      "\u001b[1;31m---------------------------------------------------------------------------\u001b[0m",
      "\u001b[1;31mTypeError\u001b[0m                                 Traceback (most recent call last)",
      "\u001b[1;32m<ipython-input-107-2017ac1fb309>\u001b[0m in \u001b[0;36m<module>\u001b[1;34m\u001b[0m\n\u001b[0;32m      1\u001b[0m \u001b[0mmy_set\u001b[0m \u001b[1;33m=\u001b[0m \u001b[1;33m{\u001b[0m\u001b[1;36m1\u001b[0m\u001b[1;33m,\u001b[0m \u001b[1;36m2\u001b[0m\u001b[1;33m,\u001b[0m \u001b[1;36m3\u001b[0m\u001b[1;33m,\u001b[0m \u001b[1;36m4\u001b[0m\u001b[1;33m,\u001b[0m \u001b[1;36m5\u001b[0m\u001b[1;33m}\u001b[0m\u001b[1;33m\u001b[0m\u001b[1;33m\u001b[0m\u001b[0m\n\u001b[1;32m----> 2\u001b[1;33m \u001b[0mprint\u001b[0m\u001b[1;33m(\u001b[0m\u001b[0mmy_set\u001b[0m\u001b[1;33m[\u001b[0m\u001b[1;36m3\u001b[0m\u001b[1;33m]\u001b[0m\u001b[1;33m)\u001b[0m\u001b[1;33m\u001b[0m\u001b[1;33m\u001b[0m\u001b[0m\n\u001b[0m",
      "\u001b[1;31mTypeError\u001b[0m: 'set' object does not support indexing"
     ]
    }
   ],
   "source": [
    "my_set = {1, 2, 3, 4, 5}\n",
    "print(my_set[3])"
   ]
  },
  {
   "cell_type": "code",
   "execution_count": 108,
   "metadata": {},
   "outputs": [
    {
     "name": "stdout",
     "output_type": "stream",
     "text": [
      "{1, 2, 3, 4, 5, 6}\n"
     ]
    }
   ],
   "source": [
    "my_set = {1, 2, 3, 4, 5, 5, 3, 4, 6}\n",
    "print(my_set)"
   ]
  },
  {
   "cell_type": "code",
   "execution_count": 109,
   "metadata": {},
   "outputs": [
    {
     "name": "stdout",
     "output_type": "stream",
     "text": [
      "{1, 2, 3, 4, 5, 100}\n"
     ]
    }
   ],
   "source": [
    "my_set = {1, 2, 3, 4, 5}\n",
    "my_set.add(100)\n",
    "my_set.add(3)\n",
    "print(my_set)"
   ]
  },
  {
   "cell_type": "code",
   "execution_count": 110,
   "metadata": {},
   "outputs": [
    {
     "name": "stdout",
     "output_type": "stream",
     "text": [
      "{1, 2, 3, 4, 5}\n"
     ]
    }
   ],
   "source": [
    "my_list = [1, 2, 3, 3, 4, 5]\n",
    "print(set(my_list))"
   ]
  },
  {
   "cell_type": "code",
   "execution_count": 115,
   "metadata": {},
   "outputs": [
    {
     "name": "stdout",
     "output_type": "stream",
     "text": [
      "5\n",
      "5\n"
     ]
    }
   ],
   "source": [
    "my_set = {1, 2, 3, 3, 4, 5}\n",
    "print(len(my_set))\n",
    "\n",
    "my_set = {1, 2, 3, 4, 5}\n",
    "print(len(my_set))"
   ]
  },
  {
   "cell_type": "code",
   "execution_count": 116,
   "metadata": {},
   "outputs": [
    {
     "name": "stdout",
     "output_type": "stream",
     "text": [
      "True\n",
      "False\n"
     ]
    }
   ],
   "source": [
    "my_set = {1, 2, 3, 4, 5}\n",
    "print(3 in my_set)\n",
    "print('3' in my_set)"
   ]
  },
  {
   "cell_type": "code",
   "execution_count": 118,
   "metadata": {},
   "outputs": [
    {
     "name": "stdout",
     "output_type": "stream",
     "text": [
      "[1, 2, 3, 4, 5]\n",
      "[1, 2, 3, 4, 5]\n"
     ]
    }
   ],
   "source": [
    "my_set = {1, 2, 3, 4, 5}\n",
    "print(list(my_set))\n",
    "\n",
    "my_set = {1, 2, 3, 4, 5, 5, 5}\n",
    "print(list(my_set))"
   ]
  },
  {
   "cell_type": "code",
   "execution_count": 119,
   "metadata": {},
   "outputs": [
    {
     "name": "stdout",
     "output_type": "stream",
     "text": [
      "{1, 2, 3, 4, 5}\n",
      "{1, 2, 3, 4, 5}\n"
     ]
    }
   ],
   "source": [
    "my_set = {1, 2, 3, 4, 5}\n",
    "new_set = my_set.copy()\n",
    "\n",
    "print(my_set)\n",
    "print(new_set)"
   ]
  },
  {
   "cell_type": "code",
   "execution_count": 120,
   "metadata": {},
   "outputs": [
    {
     "name": "stdout",
     "output_type": "stream",
     "text": [
      "set()\n",
      "{1, 2, 3, 4, 5}\n"
     ]
    }
   ],
   "source": [
    "my_set = {1, 2, 3, 4, 5}\n",
    "new_set = my_set.copy()\n",
    "\n",
    "my_set.clear()\n",
    "\n",
    "print(my_set)\n",
    "print(new_set)"
   ]
  },
  {
   "cell_type": "code",
   "execution_count": 127,
   "metadata": {},
   "outputs": [
    {
     "name": "stdout",
     "output_type": "stream",
     "text": [
      "{1, 2, 3}\n",
      "{6, 7, 8, 9, 10}\n"
     ]
    }
   ],
   "source": [
    "my_set = {1, 2, 3, 4, 5}\n",
    "your_set = {4, 5, 6, 7, 8, 9, 10}\n",
    "\n",
    "print(my_set.difference(your_set))\n",
    "print(your_set.difference(my_set))"
   ]
  },
  {
   "cell_type": "code",
   "execution_count": 132,
   "metadata": {},
   "outputs": [
    {
     "name": "stdout",
     "output_type": "stream",
     "text": [
      "{1, 2, 4, 5}\n",
      "{1, 2, 4, 5}\n"
     ]
    }
   ],
   "source": [
    "my_set = {1, 2, 3, 4, 5}\n",
    "\n",
    "my_set.discard(3)\n",
    "print(my_set)\n",
    "\n",
    "my_set.discard(6)\n",
    "print(my_set)"
   ]
  },
  {
   "cell_type": "code",
   "execution_count": 136,
   "metadata": {},
   "outputs": [
    {
     "name": "stdout",
     "output_type": "stream",
     "text": [
      "{1, 2, 3}\n",
      "{1, 2, 3, 4, 5}\n",
      "{4, 5, 6, 7, 8, 9, 10}\n"
     ]
    }
   ],
   "source": [
    "my_set = {1, 2, 3, 4, 5}\n",
    "your_set = {4, 5, 6, 7, 8, 9, 10}\n",
    "print(my_set.difference(your_set))\n",
    "print(my_set)\n",
    "print(your_set)"
   ]
  },
  {
   "cell_type": "code",
   "execution_count": 137,
   "metadata": {},
   "outputs": [
    {
     "name": "stdout",
     "output_type": "stream",
     "text": [
      "{1, 2, 3}\n",
      "{4, 5, 6, 7, 8, 9, 10}\n"
     ]
    }
   ],
   "source": [
    "my_set = {1, 2, 3, 4, 5}\n",
    "your_set = {4, 5, 6, 7, 8, 9, 10}\n",
    "my_set.difference_update(your_set)\n",
    "print(my_set)\n",
    "print(your_set)"
   ]
  },
  {
   "cell_type": "code",
   "execution_count": 138,
   "metadata": {},
   "outputs": [
    {
     "name": "stdout",
     "output_type": "stream",
     "text": [
      "{1, 2, 3, 4, 5}\n",
      "{6, 7, 8, 9, 10}\n"
     ]
    }
   ],
   "source": [
    "my_set = {1, 2, 3, 4, 5}\n",
    "your_set = {4, 5, 6, 7, 8, 9, 10}\n",
    "your_set.difference_update(my_set)\n",
    "print(my_set)\n",
    "print(your_set)"
   ]
  },
  {
   "cell_type": "code",
   "execution_count": 181,
   "metadata": {},
   "outputs": [
    {
     "name": "stdout",
     "output_type": "stream",
     "text": [
      "{4, 5}\n",
      "{1, 2, 3, 4, 5}\n",
      "{4, 5, 6, 7, 8, 9, 10}\n"
     ]
    }
   ],
   "source": [
    "my_set = {1, 2, 3, 4, 5}\n",
    "your_set = {4, 5, 6, 7, 8, 9, 10}\n",
    "print(my_set.intersection(your_set))\n",
    "print(my_set)\n",
    "print(your_set)"
   ]
  },
  {
   "cell_type": "code",
   "execution_count": 182,
   "metadata": {},
   "outputs": [
    {
     "name": "stdout",
     "output_type": "stream",
     "text": [
      "{4, 5}\n",
      "{1, 2, 3, 4, 5}\n",
      "{4, 5, 6, 7, 8, 9, 10}\n"
     ]
    }
   ],
   "source": [
    "my_set = {1, 2, 3, 4, 5}\n",
    "your_set = {4, 5, 6, 7, 8, 9, 10}\n",
    "print(your_set.intersection(my_set))\n",
    "print(my_set)\n",
    "print(your_set)"
   ]
  },
  {
   "cell_type": "code",
   "execution_count": 183,
   "metadata": {},
   "outputs": [
    {
     "name": "stdout",
     "output_type": "stream",
     "text": [
      "{4, 5}\n",
      "{1, 2, 3, 4, 5}\n",
      "{4, 5, 6, 7, 8, 9, 10}\n"
     ]
    }
   ],
   "source": [
    "my_set = {1, 2, 3, 4, 5}\n",
    "your_set = {4, 5, 6, 7, 8, 9, 10}\n",
    "print(my_set & your_set)\n",
    "print(my_set)\n",
    "print(your_set)"
   ]
  },
  {
   "cell_type": "code",
   "execution_count": 184,
   "metadata": {},
   "outputs": [
    {
     "name": "stdout",
     "output_type": "stream",
     "text": [
      "{4, 5}\n",
      "{1, 2, 3, 4, 5}\n",
      "{4, 5, 6, 7, 8, 9, 10}\n"
     ]
    }
   ],
   "source": [
    "my_set = {1, 2, 3, 4, 5}\n",
    "your_set = {4, 5, 6, 7, 8, 9, 10}\n",
    "print(your_set & my_set)\n",
    "print(my_set)\n",
    "print(your_set)"
   ]
  },
  {
   "cell_type": "code",
   "execution_count": 143,
   "metadata": {},
   "outputs": [
    {
     "name": "stdout",
     "output_type": "stream",
     "text": [
      "{4, 5}\n",
      "{4, 5, 6, 7, 8, 9, 10}\n"
     ]
    }
   ],
   "source": [
    "my_set = {1, 2, 3, 4, 5}\n",
    "your_set = {4, 5, 6, 7, 8, 9, 10}\n",
    "my_set.intersection_update(your_set)\n",
    "print(my_set)\n",
    "print(your_set)"
   ]
  },
  {
   "cell_type": "code",
   "execution_count": 144,
   "metadata": {},
   "outputs": [
    {
     "name": "stdout",
     "output_type": "stream",
     "text": [
      "{1, 2, 3, 4, 5}\n",
      "{4, 5}\n"
     ]
    }
   ],
   "source": [
    "my_set = {1, 2, 3, 4, 5}\n",
    "your_set = {4, 5, 6, 7, 8, 9, 10}\n",
    "your_set.intersection_update(my_set)\n",
    "print(my_set)\n",
    "print(your_set)"
   ]
  },
  {
   "cell_type": "code",
   "execution_count": 148,
   "metadata": {},
   "outputs": [
    {
     "name": "stdout",
     "output_type": "stream",
     "text": [
      "1\n",
      "{2, 3, 4, 5}\n",
      "2\n",
      "{3, 4, 5}\n",
      "3\n",
      "{4, 5}\n",
      "4\n",
      "{5}\n",
      "5\n",
      "set()\n"
     ]
    },
    {
     "ename": "KeyError",
     "evalue": "'pop from an empty set'",
     "output_type": "error",
     "traceback": [
      "\u001b[1;31m---------------------------------------------------------------------------\u001b[0m",
      "\u001b[1;31mKeyError\u001b[0m                                  Traceback (most recent call last)",
      "\u001b[1;32m<ipython-input-148-7f6491c1c329>\u001b[0m in \u001b[0;36m<module>\u001b[1;34m\u001b[0m\n\u001b[0;32m     16\u001b[0m \u001b[0mprint\u001b[0m\u001b[1;33m(\u001b[0m\u001b[0mmy_set\u001b[0m\u001b[1;33m)\u001b[0m\u001b[1;33m\u001b[0m\u001b[1;33m\u001b[0m\u001b[0m\n\u001b[0;32m     17\u001b[0m \u001b[1;33m\u001b[0m\u001b[0m\n\u001b[1;32m---> 18\u001b[1;33m \u001b[0mprint\u001b[0m\u001b[1;33m(\u001b[0m\u001b[0mmy_set\u001b[0m\u001b[1;33m.\u001b[0m\u001b[0mpop\u001b[0m\u001b[1;33m(\u001b[0m\u001b[1;33m)\u001b[0m\u001b[1;33m)\u001b[0m\u001b[1;33m\u001b[0m\u001b[1;33m\u001b[0m\u001b[0m\n\u001b[0m\u001b[0;32m     19\u001b[0m \u001b[0mprint\u001b[0m\u001b[1;33m(\u001b[0m\u001b[0mmy_set\u001b[0m\u001b[1;33m)\u001b[0m\u001b[1;33m\u001b[0m\u001b[1;33m\u001b[0m\u001b[0m\n",
      "\u001b[1;31mKeyError\u001b[0m: 'pop from an empty set'"
     ]
    }
   ],
   "source": [
    "my_set = {1, 2, 3, 4, 5}\n",
    "\n",
    "print(my_set.pop())\n",
    "print(my_set)\n",
    "\n",
    "print(my_set.pop())\n",
    "print(my_set)\n",
    "\n",
    "print(my_set.pop())\n",
    "print(my_set)\n",
    "\n",
    "print(my_set.pop())\n",
    "print(my_set)\n",
    "\n",
    "print(my_set.pop())\n",
    "print(my_set)\n",
    "\n",
    "print(my_set.pop())\n",
    "print(my_set)"
   ]
  },
  {
   "cell_type": "code",
   "execution_count": 152,
   "metadata": {},
   "outputs": [
    {
     "name": "stdout",
     "output_type": "stream",
     "text": [
      "{1, 2, 4, 5}\n"
     ]
    }
   ],
   "source": [
    "my_set = {1, 2, 3, 4, 5}\n",
    "my_set.remove(3)\n",
    "print(my_set)"
   ]
  },
  {
   "cell_type": "code",
   "execution_count": 154,
   "metadata": {},
   "outputs": [
    {
     "name": "stdout",
     "output_type": "stream",
     "text": [
      "{1, 2, 3, 4, 5}\n",
      "{1, 2, 3, 4, 5}\n"
     ]
    }
   ],
   "source": [
    "my_set = {1, 2, 3, 4, 5}\n",
    "new_set = my_set.copy()\n",
    "print(my_set)\n",
    "print(new_set)"
   ]
  },
  {
   "cell_type": "code",
   "execution_count": 155,
   "metadata": {},
   "outputs": [
    {
     "name": "stdout",
     "output_type": "stream",
     "text": [
      "set()\n",
      "{1, 2, 3, 4, 5}\n"
     ]
    }
   ],
   "source": [
    "my_set = {1, 2, 3, 4, 5}\n",
    "new_set = my_set.copy()\n",
    "my_set.clear()\n",
    "print(my_set)\n",
    "print(new_set)"
   ]
  },
  {
   "cell_type": "code",
   "execution_count": 163,
   "metadata": {},
   "outputs": [
    {
     "name": "stdout",
     "output_type": "stream",
     "text": [
      "{1, 2, 3, 4, 5, 100, 6, 7}\n"
     ]
    }
   ],
   "source": [
    "my_set = {1, 2, 3, 4, 5}\n",
    "my_set.update([4, 100, 6, 7])\n",
    "print(my_set)"
   ]
  },
  {
   "cell_type": "code",
   "execution_count": 164,
   "metadata": {},
   "outputs": [
    {
     "name": "stdout",
     "output_type": "stream",
     "text": [
      "{1, 2, 3, 6, 7, 8, 9, 10}\n",
      "{1, 2, 3, 4, 5}\n",
      "{4, 5, 6, 7, 8, 9, 10}\n"
     ]
    }
   ],
   "source": [
    "my_set = {1, 2, 3, 4, 5}\n",
    "your_set = {4, 5, 6, 7, 8, 9, 10}\n",
    "print(my_set.symmetric_difference(your_set))\n",
    "print(my_set)\n",
    "print(your_set)"
   ]
  },
  {
   "cell_type": "code",
   "execution_count": 165,
   "metadata": {},
   "outputs": [
    {
     "name": "stdout",
     "output_type": "stream",
     "text": [
      "{1, 2, 3, 6, 7, 8, 9, 10}\n",
      "{1, 2, 3, 4, 5}\n",
      "{4, 5, 6, 7, 8, 9, 10}\n"
     ]
    }
   ],
   "source": [
    "my_set = {1, 2, 3, 4, 5}\n",
    "your_set = {4, 5, 6, 7, 8, 9, 10}\n",
    "print(your_set.symmetric_difference(my_set))\n",
    "print(my_set)\n",
    "print(your_set)"
   ]
  },
  {
   "cell_type": "code",
   "execution_count": 166,
   "metadata": {},
   "outputs": [
    {
     "name": "stdout",
     "output_type": "stream",
     "text": [
      "{1, 2, 3, 6, 7, 8, 9, 10}\n",
      "{4, 5, 6, 7, 8, 9, 10}\n"
     ]
    }
   ],
   "source": [
    "my_set = {1, 2, 3, 4, 5}\n",
    "your_set = {4, 5, 6, 7, 8, 9, 10}\n",
    "my_set.symmetric_difference_update(your_set)\n",
    "print(my_set)\n",
    "print(your_set)"
   ]
  },
  {
   "cell_type": "code",
   "execution_count": 167,
   "metadata": {},
   "outputs": [
    {
     "name": "stdout",
     "output_type": "stream",
     "text": [
      "{1, 2, 3, 4, 5}\n",
      "{1, 2, 3, 6, 7, 8, 9, 10}\n"
     ]
    }
   ],
   "source": [
    "my_set = {1, 2, 3, 4, 5}\n",
    "your_set = {4, 5, 6, 7, 8, 9, 10}\n",
    "your_set.symmetric_difference_update(my_set)\n",
    "print(my_set)\n",
    "print(your_set)"
   ]
  },
  {
   "cell_type": "code",
   "execution_count": 173,
   "metadata": {},
   "outputs": [
    {
     "name": "stdout",
     "output_type": "stream",
     "text": [
      "False\n"
     ]
    }
   ],
   "source": [
    "my_set = {1, 2, 3, 4, 5}\n",
    "your_set = {4, 5, 6, 7, 8, 9, 10}\n",
    "print(my_set.isdisjoint(your_set))"
   ]
  },
  {
   "cell_type": "code",
   "execution_count": 174,
   "metadata": {},
   "outputs": [
    {
     "name": "stdout",
     "output_type": "stream",
     "text": [
      "False\n"
     ]
    }
   ],
   "source": [
    "my_set = {1, 2, 3, 4, 5}\n",
    "your_set = {4, 5, 6, 7, 8, 9, 10}\n",
    "print(your_set.isdisjoint(my_set))"
   ]
  },
  {
   "cell_type": "code",
   "execution_count": 175,
   "metadata": {},
   "outputs": [
    {
     "name": "stdout",
     "output_type": "stream",
     "text": [
      "True\n"
     ]
    }
   ],
   "source": [
    "my_set = {1, 2, 3}\n",
    "your_set = {4, 5, 6, 7, 8, 9, 10}\n",
    "print(my_set.isdisjoint(your_set))"
   ]
  },
  {
   "cell_type": "code",
   "execution_count": 176,
   "metadata": {},
   "outputs": [
    {
     "name": "stdout",
     "output_type": "stream",
     "text": [
      "True\n"
     ]
    }
   ],
   "source": [
    "my_set = {1, 2, 3}\n",
    "your_set = {4, 5, 6, 7, 8, 9, 10}\n",
    "print(your_set.isdisjoint(my_set))"
   ]
  },
  {
   "cell_type": "code",
   "execution_count": 177,
   "metadata": {},
   "outputs": [
    {
     "name": "stdout",
     "output_type": "stream",
     "text": [
      "{1, 2, 3, 4, 5, 6, 7, 8, 9, 10}\n",
      "{1, 2, 3, 4, 5}\n",
      "{4, 5, 6, 7, 8, 9, 10}\n"
     ]
    }
   ],
   "source": [
    "my_set = {1, 2, 3, 4, 5}\n",
    "your_set = {4, 5, 6, 7, 8, 9, 10}\n",
    "print(my_set.union(your_set))\n",
    "print(my_set)\n",
    "print(your_set)"
   ]
  },
  {
   "cell_type": "code",
   "execution_count": 178,
   "metadata": {},
   "outputs": [
    {
     "name": "stdout",
     "output_type": "stream",
     "text": [
      "{1, 2, 3, 4, 5, 6, 7, 8, 9, 10}\n",
      "{1, 2, 3, 4, 5}\n",
      "{4, 5, 6, 7, 8, 9, 10}\n"
     ]
    }
   ],
   "source": [
    "my_set = {1, 2, 3, 4, 5}\n",
    "your_set = {4, 5, 6, 7, 8, 9, 10}\n",
    "print(your_set.union(my_set))\n",
    "print(my_set)\n",
    "print(your_set)"
   ]
  },
  {
   "cell_type": "code",
   "execution_count": 179,
   "metadata": {},
   "outputs": [
    {
     "name": "stdout",
     "output_type": "stream",
     "text": [
      "{1, 2, 3, 4, 5, 6, 7, 8, 9, 10}\n",
      "{1, 2, 3, 4, 5}\n",
      "{4, 5, 6, 7, 8, 9, 10}\n"
     ]
    }
   ],
   "source": [
    "my_set = {1, 2, 3, 4, 5}\n",
    "your_set = {4, 5, 6, 7, 8, 9, 10}\n",
    "print(my_set | your_set)\n",
    "print(my_set)\n",
    "print(your_set)"
   ]
  },
  {
   "cell_type": "code",
   "execution_count": 180,
   "metadata": {},
   "outputs": [
    {
     "name": "stdout",
     "output_type": "stream",
     "text": [
      "{1, 2, 3, 4, 5, 6, 7, 8, 9, 10}\n",
      "{1, 2, 3, 4, 5}\n",
      "{4, 5, 6, 7, 8, 9, 10}\n"
     ]
    }
   ],
   "source": [
    "my_set = {1, 2, 3, 4, 5}\n",
    "your_set = {4, 5, 6, 7, 8, 9, 10}\n",
    "print(your_set | my_set)\n",
    "print(my_set)\n",
    "print(your_set)"
   ]
  },
  {
   "cell_type": "code",
   "execution_count": 185,
   "metadata": {},
   "outputs": [
    {
     "name": "stdout",
     "output_type": "stream",
     "text": [
      "False\n"
     ]
    }
   ],
   "source": [
    "my_set = {1, 2, 3, 4, 5}\n",
    "your_set = {4, 5, 6, 7, 8, 9, 10}\n",
    "print(my_set.issubset(your_set))"
   ]
  },
  {
   "cell_type": "code",
   "execution_count": 186,
   "metadata": {},
   "outputs": [
    {
     "name": "stdout",
     "output_type": "stream",
     "text": [
      "True\n"
     ]
    }
   ],
   "source": [
    "my_set = {4, 5}\n",
    "your_set = {4, 5, 6, 7, 8, 9, 10}\n",
    "print(my_set.issubset(your_set))"
   ]
  },
  {
   "cell_type": "code",
   "execution_count": 187,
   "metadata": {},
   "outputs": [
    {
     "name": "stdout",
     "output_type": "stream",
     "text": [
      "False\n"
     ]
    }
   ],
   "source": [
    "my_set = {4, 5}\n",
    "your_set = {4, 5, 6, 7, 8, 9, 10}\n",
    "print(your_set.issubset(my_set))"
   ]
  },
  {
   "cell_type": "code",
   "execution_count": 188,
   "metadata": {},
   "outputs": [
    {
     "name": "stdout",
     "output_type": "stream",
     "text": [
      "False\n"
     ]
    }
   ],
   "source": [
    "my_set = {4, 5}\n",
    "your_set = {4, 5, 6, 7, 8, 9, 10}\n",
    "print(my_set.issuperset(your_set))"
   ]
  },
  {
   "cell_type": "code",
   "execution_count": 189,
   "metadata": {},
   "outputs": [
    {
     "name": "stdout",
     "output_type": "stream",
     "text": [
      "True\n"
     ]
    }
   ],
   "source": [
    "my_set = {4, 5}\n",
    "your_set = {4, 5, 6, 7, 8, 9, 10}\n",
    "print(your_set.issuperset(my_set))"
   ]
  },
  {
   "cell_type": "code",
   "execution_count": 190,
   "metadata": {},
   "outputs": [],
   "source": [
    "# set methods\n",
    "\n",
    "# add()\n",
    "# clear()\n",
    "# discard()\n",
    "# pop()\n",
    "# remove()\n",
    "# copy()\n",
    "# difference()\n",
    "# difference_update()\n",
    "# intersection()\n",
    "# intersection_update()\n",
    "# isdisjoint()\n",
    "# issubset()\n",
    "# issuperset()\n",
    "# union()\n",
    "# update()\n",
    "# symmetric_difference()\n",
    "# symmetric_difference_update()"
   ]
  },
  {
   "cell_type": "code",
   "execution_count": 123,
   "metadata": {},
   "outputs": [],
   "source": [
    "# You are working for the school Principal.\n",
    "# We have a database of school students:\n",
    "school = {'Bobby', 'Tammy', 'Jammy', 'Sally', 'Danny'}"
   ]
  },
  {
   "cell_type": "code",
   "execution_count": 124,
   "metadata": {},
   "outputs": [],
   "source": [
    "# During class, the teachers take attendance and compile it into a list.\n",
    "attendance_list = ['Jammy', 'Bobby', 'Danny', 'Sally']"
   ]
  },
  {
   "cell_type": "code",
   "execution_count": 125,
   "metadata": {},
   "outputs": [
    {
     "name": "stdout",
     "output_type": "stream",
     "text": [
      "{'Tammy'}\n"
     ]
    }
   ],
   "source": [
    "# using what you learned about sets, create a piece of code that the school principal can use to immediately find out\n",
    "# who missed class so they can call the parents. (Imagine if the list had 1000s of students. The principal can use\n",
    "# the lists generated by the teachers + the school database to use python and make his/her job easier): Find the\n",
    "# students that miss class!\n",
    "\n",
    "# Solution: Notice how we don't have to convert the attendance_list to a set...it does it for you.\n",
    "print(school.difference(attendance_list))"
   ]
  },
  {
   "cell_type": "code",
   "execution_count": 128,
   "metadata": {},
   "outputs": [
    {
     "ename": "AttributeError",
     "evalue": "'list' object has no attribute 'difference'",
     "output_type": "error",
     "traceback": [
      "\u001b[1;31m---------------------------------------------------------------------------\u001b[0m",
      "\u001b[1;31mAttributeError\u001b[0m                            Traceback (most recent call last)",
      "\u001b[1;32m<ipython-input-128-d53706d2997f>\u001b[0m in \u001b[0;36m<module>\u001b[1;34m\u001b[0m\n\u001b[1;32m----> 1\u001b[1;33m \u001b[0mprint\u001b[0m\u001b[1;33m(\u001b[0m\u001b[0mattendance_list\u001b[0m\u001b[1;33m.\u001b[0m\u001b[0mdifference\u001b[0m\u001b[1;33m(\u001b[0m\u001b[0mschool\u001b[0m\u001b[1;33m)\u001b[0m\u001b[1;33m)\u001b[0m\u001b[1;33m\u001b[0m\u001b[1;33m\u001b[0m\u001b[0m\n\u001b[0m",
      "\u001b[1;31mAttributeError\u001b[0m: 'list' object has no attribute 'difference'"
     ]
    }
   ],
   "source": [
    "print(attendance_list.difference(school))"
   ]
  },
  {
   "cell_type": "code",
   "execution_count": 129,
   "metadata": {},
   "outputs": [
    {
     "name": "stdout",
     "output_type": "stream",
     "text": [
      "set()\n"
     ]
    }
   ],
   "source": [
    "print(set(attendance_list).difference(school))"
   ]
  },
  {
   "cell_type": "code",
   "execution_count": 84,
   "metadata": {},
   "outputs": [
    {
     "name": "stdout",
     "output_type": "stream",
     "text": [
      "{'key_1': 'value_1', 'key_2': 'value_2', 'key_3': True, 'key_4': 5, 'key_5': -2.4, 'key_6': [1, 2, 3]}\n",
      "value_1\n",
      "2\n"
     ]
    }
   ],
   "source": [
    "# dictionary\n",
    "\n",
    "# dictionary is an unordered key value pair\n",
    "\n",
    "dictionary = {\n",
    "    'key_1': 'value_1',\n",
    "    'key_2': 'value_2',\n",
    "    'key_3': True,\n",
    "    'key_4': 5,\n",
    "    'key_5': -2.4,\n",
    "    'key_6': [1, 2, 3]\n",
    "}\n",
    "\n",
    "print(dictionary)\n",
    "print(dictionary['key_1'])\n",
    "print(dictionary['key_6'][1])"
   ]
  },
  {
   "cell_type": "code",
   "execution_count": 19,
   "metadata": {},
   "outputs": [
    {
     "name": "stdout",
     "output_type": "stream",
     "text": [
      "{'key_1': True}\n",
      "True\n"
     ]
    }
   ],
   "source": [
    "# key should be unique\n",
    "# if duplicate the value will be overwritten\n",
    "\n",
    "dictionary = {\n",
    "    'key_1': 'value_1',\n",
    "    'key_1': 'value_2',\n",
    "    'key_1': True,\n",
    "}\n",
    "\n",
    "print(dictionary)\n",
    "print(dictionary['key_1'])"
   ]
  },
  {
   "cell_type": "code",
   "execution_count": 112,
   "metadata": {},
   "outputs": [
    {
     "ename": "KeyError",
     "evalue": "0",
     "output_type": "error",
     "traceback": [
      "\u001b[1;31m---------------------------------------------------------------------------\u001b[0m",
      "\u001b[1;31mKeyError\u001b[0m                                  Traceback (most recent call last)",
      "\u001b[1;32m<ipython-input-112-1f66f02f2ff9>\u001b[0m in \u001b[0;36m<module>\u001b[1;34m\u001b[0m\n\u001b[0;32m      5\u001b[0m }\n\u001b[0;32m      6\u001b[0m \u001b[1;33m\u001b[0m\u001b[0m\n\u001b[1;32m----> 7\u001b[1;33m \u001b[0mprint\u001b[0m\u001b[1;33m(\u001b[0m\u001b[0mdictionary\u001b[0m\u001b[1;33m[\u001b[0m\u001b[1;36m0\u001b[0m\u001b[1;33m]\u001b[0m\u001b[1;33m)\u001b[0m\u001b[1;33m\u001b[0m\u001b[1;33m\u001b[0m\u001b[0m\n\u001b[0m",
      "\u001b[1;31mKeyError\u001b[0m: 0"
     ]
    }
   ],
   "source": [
    "dictionary = {\n",
    "    'key_1': 'value_1',\n",
    "    'key_1': 'value_2',\n",
    "    'key_1': True,\n",
    "}\n",
    "\n",
    "print(dictionary[0])"
   ]
  },
  {
   "cell_type": "code",
   "execution_count": 10,
   "metadata": {},
   "outputs": [
    {
     "name": "stdout",
     "output_type": "stream",
     "text": [
      "[{'key_2': 'value_2', 'key_3': True, 'key_4': 5}, {'key_2': [4, 5, 6], 'key_3': False, 'key_5': 5.1}]\n",
      "6\n"
     ]
    }
   ],
   "source": [
    "my_list = [\n",
    "    {\n",
    "        'key_2': 'value_2',\n",
    "        'key_3': True,\n",
    "        'key_4': 5\n",
    "    },\n",
    "    {\n",
    "        'key_2': [4, 5, 6],\n",
    "        'key_3': False,\n",
    "        'key_5': 5.1\n",
    "    }\n",
    "]\n",
    "\n",
    "print(my_list)\n",
    "print(my_list[1]['key_2'][2])"
   ]
  },
  {
   "cell_type": "code",
   "execution_count": 86,
   "metadata": {},
   "outputs": [
    {
     "name": "stdout",
     "output_type": "stream",
     "text": [
      "{'key': 'value_1', 12345: 'value_2', 123.4: True, False: True, (1, 2): 'hello'}\n",
      "value_1\n",
      "value_2\n",
      "True\n",
      "True\n",
      "hello\n"
     ]
    }
   ],
   "source": [
    "# a key can be any immutable data type value\n",
    "# but mutable data type values such as lists can be keys\n",
    "\n",
    "dictionary = {\n",
    "    'key': 'value_1',\n",
    "    12345: 'value_2',\n",
    "    123.4: True,\n",
    "    False: True,\n",
    "    (1, 2): 'hello'\n",
    "}\n",
    "\n",
    "print(dictionary)\n",
    "print(dictionary['key'])\n",
    "print(dictionary[12345])\n",
    "print(dictionary[123.4])\n",
    "print(dictionary[False])\n",
    "print(dictionary[(1, 2)])"
   ]
  },
  {
   "cell_type": "code",
   "execution_count": 87,
   "metadata": {},
   "outputs": [
    {
     "ename": "TypeError",
     "evalue": "unhashable type: 'list'",
     "output_type": "error",
     "traceback": [
      "\u001b[1;31m---------------------------------------------------------------------------\u001b[0m",
      "\u001b[1;31mTypeError\u001b[0m                                 Traceback (most recent call last)",
      "\u001b[1;32m<ipython-input-87-5e855cbb8852>\u001b[0m in \u001b[0;36m<module>\u001b[1;34m\u001b[0m\n\u001b[0;32m      5\u001b[0m     \u001b[1;32mFalse\u001b[0m\u001b[1;33m:\u001b[0m \u001b[1;32mTrue\u001b[0m\u001b[1;33m,\u001b[0m\u001b[1;33m\u001b[0m\u001b[1;33m\u001b[0m\u001b[0m\n\u001b[0;32m      6\u001b[0m     \u001b[1;33m(\u001b[0m\u001b[1;36m1\u001b[0m\u001b[1;33m,\u001b[0m \u001b[1;36m2\u001b[0m\u001b[1;33m)\u001b[0m\u001b[1;33m:\u001b[0m \u001b[1;34m'hello'\u001b[0m\u001b[1;33m,\u001b[0m\u001b[1;33m\u001b[0m\u001b[1;33m\u001b[0m\u001b[0m\n\u001b[1;32m----> 7\u001b[1;33m     \u001b[1;33m[\u001b[0m\u001b[1;36m100\u001b[0m\u001b[1;33m]\u001b[0m\u001b[1;33m:\u001b[0m \u001b[1;36m11\u001b[0m\u001b[1;33m\u001b[0m\u001b[1;33m\u001b[0m\u001b[0m\n\u001b[0m\u001b[0;32m      8\u001b[0m }\n\u001b[0;32m      9\u001b[0m \u001b[1;33m\u001b[0m\u001b[0m\n",
      "\u001b[1;31mTypeError\u001b[0m: unhashable type: 'list'"
     ]
    }
   ],
   "source": [
    "dictionary = {\n",
    "    'key': 'value_1',\n",
    "    12345: 'value_2',\n",
    "    123.4: True,\n",
    "    False: True,\n",
    "    (1, 2): 'hello',\n",
    "    [100]: 11\n",
    "}\n",
    "\n",
    "print(dictionary)\n",
    "print(dictionary[[100]])"
   ]
  },
  {
   "cell_type": "code",
   "execution_count": 20,
   "metadata": {},
   "outputs": [
    {
     "ename": "KeyError",
     "evalue": "'age'",
     "output_type": "error",
     "traceback": [
      "\u001b[1;31m---------------------------------------------------------------------------\u001b[0m",
      "\u001b[1;31mKeyError\u001b[0m                                  Traceback (most recent call last)",
      "\u001b[1;32m<ipython-input-20-ee027450aeef>\u001b[0m in \u001b[0;36m<module>\u001b[1;34m\u001b[0m\n\u001b[0;32m      4\u001b[0m }\n\u001b[0;32m      5\u001b[0m \u001b[1;33m\u001b[0m\u001b[0m\n\u001b[1;32m----> 6\u001b[1;33m \u001b[0mprint\u001b[0m\u001b[1;33m(\u001b[0m\u001b[0muser\u001b[0m\u001b[1;33m[\u001b[0m\u001b[1;34m'age'\u001b[0m\u001b[1;33m]\u001b[0m\u001b[1;33m)\u001b[0m\u001b[1;33m\u001b[0m\u001b[1;33m\u001b[0m\u001b[0m\n\u001b[0m",
      "\u001b[1;31mKeyError\u001b[0m: 'age'"
     ]
    }
   ],
   "source": [
    "user = {\n",
    "    'basket': [1, 2, 3],\n",
    "    'greet': 'hello'\n",
    "}\n",
    "\n",
    "print(user['age'])"
   ]
  },
  {
   "cell_type": "code",
   "execution_count": 21,
   "metadata": {},
   "outputs": [
    {
     "name": "stdout",
     "output_type": "stream",
     "text": [
      "None\n"
     ]
    }
   ],
   "source": [
    "user = {\n",
    "    'basket': [1, 2, 3],\n",
    "    'greet': 'hello'\n",
    "}\n",
    "\n",
    "print(user.get('age'))"
   ]
  },
  {
   "cell_type": "code",
   "execution_count": 24,
   "metadata": {},
   "outputs": [
    {
     "name": "stdout",
     "output_type": "stream",
     "text": [
      "55\n",
      "{'basket': [1, 2, 3], 'greet': 'hello'}\n"
     ]
    }
   ],
   "source": [
    "user = {\n",
    "    'basket': [1, 2, 3],\n",
    "    'greet': 'hello'\n",
    "}\n",
    "\n",
    "print(user.get('age', 55))\n",
    "print(user)\n",
    "\n",
    "# get value of key 'age' from user dict.\n",
    "# if no 'age' key in user, return the default value of 55 instead of None.\n",
    "# 'age': 55 does not get added to the user dict."
   ]
  },
  {
   "cell_type": "code",
   "execution_count": 26,
   "metadata": {},
   "outputs": [
    {
     "name": "stdout",
     "output_type": "stream",
     "text": [
      "20\n"
     ]
    }
   ],
   "source": [
    "user = {\n",
    "    'basket': [1, 2, 3],\n",
    "    'greet': 'hello',\n",
    "    'age': 20\n",
    "}\n",
    "\n",
    "print(user.get('age', 55))\n",
    "\n",
    "# return 55 only if user does not have 'age' key.\n",
    "# if 'age' key exist in user dict return its value."
   ]
  },
  {
   "cell_type": "code",
   "execution_count": 31,
   "metadata": {},
   "outputs": [
    {
     "name": "stdout",
     "output_type": "stream",
     "text": [
      "{'name': 'John'}\n",
      "John\n"
     ]
    }
   ],
   "source": [
    "# another way to create a dictionary\n",
    "\n",
    "new_user = dict(name = 'John')\n",
    "print(new_user)\n",
    "print(new_user['name'])"
   ]
  },
  {
   "cell_type": "code",
   "execution_count": 32,
   "metadata": {},
   "outputs": [
    {
     "name": "stdout",
     "output_type": "stream",
     "text": [
      "True\n",
      "False\n"
     ]
    }
   ],
   "source": [
    "user = {\n",
    "    'basket': [1, 2, 3],\n",
    "    'greet': 'hello',\n",
    "    'age': 20\n",
    "}\n",
    "\n",
    "print('basket' in user)\n",
    "print('size' in user)"
   ]
  },
  {
   "cell_type": "code",
   "execution_count": 33,
   "metadata": {},
   "outputs": [
    {
     "name": "stdout",
     "output_type": "stream",
     "text": [
      "True\n",
      "False\n"
     ]
    }
   ],
   "source": [
    "user = {\n",
    "    'basket': [1, 2, 3],\n",
    "    'greet': 'hello',\n",
    "    'age': 20\n",
    "}\n",
    "\n",
    "print('basket' in user.keys())\n",
    "print('size' in user.keys())"
   ]
  },
  {
   "cell_type": "code",
   "execution_count": 34,
   "metadata": {},
   "outputs": [
    {
     "name": "stdout",
     "output_type": "stream",
     "text": [
      "True\n",
      "False\n"
     ]
    }
   ],
   "source": [
    "user = {\n",
    "    'basket': [1, 2, 3],\n",
    "    'greet': 'hello',\n",
    "    'age': 20\n",
    "}\n",
    "\n",
    "print('hello' in user.values())\n",
    "print(21 in user.values())"
   ]
  },
  {
   "cell_type": "code",
   "execution_count": 35,
   "metadata": {},
   "outputs": [
    {
     "name": "stdout",
     "output_type": "stream",
     "text": [
      "dict_keys(['basket', 'greet', 'age'])\n"
     ]
    }
   ],
   "source": [
    "print(user.keys())"
   ]
  },
  {
   "cell_type": "code",
   "execution_count": 38,
   "metadata": {},
   "outputs": [
    {
     "name": "stdout",
     "output_type": "stream",
     "text": [
      "<class 'dict_keys'>\n"
     ]
    }
   ],
   "source": [
    "print(type(user.keys()))"
   ]
  },
  {
   "cell_type": "code",
   "execution_count": 36,
   "metadata": {},
   "outputs": [
    {
     "name": "stdout",
     "output_type": "stream",
     "text": [
      "dict_values([[1, 2, 3], 'hello', 20])\n"
     ]
    }
   ],
   "source": [
    "print(user.values())"
   ]
  },
  {
   "cell_type": "code",
   "execution_count": 39,
   "metadata": {},
   "outputs": [
    {
     "name": "stdout",
     "output_type": "stream",
     "text": [
      "<class 'dict_values'>\n"
     ]
    }
   ],
   "source": [
    "print(type(user.values()))"
   ]
  },
  {
   "cell_type": "code",
   "execution_count": 37,
   "metadata": {},
   "outputs": [
    {
     "name": "stdout",
     "output_type": "stream",
     "text": [
      "dict_items([('basket', [1, 2, 3]), ('greet', 'hello'), ('age', 20)])\n"
     ]
    }
   ],
   "source": [
    "print(user.items())"
   ]
  },
  {
   "cell_type": "code",
   "execution_count": 40,
   "metadata": {},
   "outputs": [
    {
     "name": "stdout",
     "output_type": "stream",
     "text": [
      "<class 'dict_items'>\n"
     ]
    }
   ],
   "source": [
    "print(type(user.items()))"
   ]
  },
  {
   "cell_type": "code",
   "execution_count": 41,
   "metadata": {},
   "outputs": [
    {
     "name": "stdout",
     "output_type": "stream",
     "text": [
      "{}\n"
     ]
    }
   ],
   "source": [
    "user = {\n",
    "    'basket': [1, 2, 3],\n",
    "    'greet': 'hello',\n",
    "    'age': 20\n",
    "}\n",
    "\n",
    "user.clear()\n",
    "print(user)"
   ]
  },
  {
   "cell_type": "code",
   "execution_count": 42,
   "metadata": {},
   "outputs": [
    {
     "name": "stdout",
     "output_type": "stream",
     "text": [
      "{'basket': [1, 2, 3], 'greet': 'hello', 'age': 20}\n",
      "{'basket': [1, 2, 3], 'greet': 'hello', 'age': 20}\n"
     ]
    }
   ],
   "source": [
    "user = {\n",
    "    'basket': [1, 2, 3],\n",
    "    'greet': 'hello',\n",
    "    'age': 20\n",
    "}\n",
    "\n",
    "user2 = user.copy()\n",
    "print(user)\n",
    "print(user2)"
   ]
  },
  {
   "cell_type": "code",
   "execution_count": 43,
   "metadata": {},
   "outputs": [
    {
     "name": "stdout",
     "output_type": "stream",
     "text": [
      "{}\n",
      "{'basket': [1, 2, 3], 'greet': 'hello', 'age': 20}\n"
     ]
    }
   ],
   "source": [
    "user = {\n",
    "    'basket': [1, 2, 3],\n",
    "    'greet': 'hello',\n",
    "    'age': 20\n",
    "}\n",
    "\n",
    "user2 = user.copy()\n",
    "user.clear()\n",
    "\n",
    "print(user)\n",
    "print(user2)"
   ]
  },
  {
   "cell_type": "code",
   "execution_count": 46,
   "metadata": {},
   "outputs": [
    {
     "name": "stdout",
     "output_type": "stream",
     "text": [
      "20\n",
      "{'basket': [1, 2, 3], 'greet': 'hello'}\n"
     ]
    }
   ],
   "source": [
    "user = {\n",
    "    'basket': [1, 2, 3],\n",
    "    'greet': 'hello',\n",
    "    'age': 20\n",
    "}\n",
    "\n",
    "print(user.pop('age'))\n",
    "print(user)"
   ]
  },
  {
   "cell_type": "code",
   "execution_count": 49,
   "metadata": {},
   "outputs": [
    {
     "name": "stdout",
     "output_type": "stream",
     "text": [
      "('age', 20)\n",
      "{'basket': [1, 2, 3], 'greet': 'hello'}\n"
     ]
    }
   ],
   "source": [
    "user = {\n",
    "    'basket': [1, 2, 3],\n",
    "    'greet': 'hello',\n",
    "    'age': 20\n",
    "}\n",
    "\n",
    "print(user.popitem())\n",
    "print(user)\n",
    "\n",
    "# useful to destructively iterate over a loop"
   ]
  },
  {
   "cell_type": "code",
   "execution_count": 54,
   "metadata": {},
   "outputs": [
    {
     "name": "stdout",
     "output_type": "stream",
     "text": [
      "{'basket': [1, 2, 3], 'greet': 'hello', 'age': '30', 'size': 'large'}\n",
      "{'basket': [1, 2, 3], 'greet': 'hello', 'age': '30', 'size': 'x-large'}\n"
     ]
    }
   ],
   "source": [
    "user = {\n",
    "    'basket': [1, 2, 3],\n",
    "    'greet': 'hello',\n",
    "    'age': 20\n",
    "}\n",
    "\n",
    "user.update({\n",
    "    'age': '30',\n",
    "    'size': 'large'\n",
    "})\n",
    "print(user)\n",
    "\n",
    "user.update({'size': 'x-large'})\n",
    "print(user)"
   ]
  },
  {
   "cell_type": "code",
   "execution_count": 121,
   "metadata": {},
   "outputs": [],
   "source": [
    "# dictionary methods\n",
    "\n",
    "# get()\n",
    "# keys()\n",
    "# values()\n",
    "# items()\n",
    "# clear()\n",
    "# copy()\n",
    "# pop()\n",
    "# popitem()\n",
    "# update()\n",
    "# fromkeys()\n",
    "# setdefault()"
   ]
  },
  {
   "cell_type": "code",
   "execution_count": 191,
   "metadata": {},
   "outputs": [],
   "source": [
    "# 1. Create a user profile for your new game.\n",
    "# This user profile will be stored in a dictionary with keys:\n",
    "# 'age', 'username', 'weapons', 'is_active' and 'clan'.\n",
    "\n",
    "user = {\n",
    "    'age': 22,\n",
    "    'username': 'Shogun',\n",
    "    'weapons': ['Katana', 'Shrike'],\n",
    "    'is_active': True,\n",
    "    'clan': 'Japan'\n",
    "}"
   ]
  },
  {
   "cell_type": "code",
   "execution_count": 192,
   "metadata": {},
   "outputs": [
    {
     "name": "stdout",
     "output_type": "stream",
     "text": [
      "dict_keys(['age', 'username', 'weapons', 'is_active', 'clan'])\n"
     ]
    }
   ],
   "source": [
    "# 2. iterate and print all the keys in the above user.\n",
    "\n",
    "print(user.keys())"
   ]
  },
  {
   "cell_type": "code",
   "execution_count": 193,
   "metadata": {},
   "outputs": [
    {
     "name": "stdout",
     "output_type": "stream",
     "text": [
      "{'age': 22, 'username': 'Shogun', 'weapons': ['Katana', 'Shrike', 'shield'], 'is_active': True, 'clan': 'Japan'}\n"
     ]
    }
   ],
   "source": [
    "# 3. Add a new weapon to your user.\n",
    "\n",
    "user['weapons'].append('shield')\n",
    "print(user)"
   ]
  },
  {
   "cell_type": "code",
   "execution_count": 194,
   "metadata": {},
   "outputs": [
    {
     "name": "stdout",
     "output_type": "stream",
     "text": [
      "{'age': 22, 'username': 'Shogun', 'weapons': ['Katana', 'Shrike', 'shield'], 'is_active': True, 'clan': 'Japan', 'is_banned': False}\n"
     ]
    }
   ],
   "source": [
    "# 4. Add a new key to include 'is_banned'.\n",
    "# Set it to false.\n",
    "\n",
    "user.update({'is_banned': False})\n",
    "print(user)"
   ]
  },
  {
   "cell_type": "code",
   "execution_count": 195,
   "metadata": {},
   "outputs": [
    {
     "name": "stdout",
     "output_type": "stream",
     "text": [
      "{'age': 22, 'username': 'Shogun', 'weapons': ['Katana', 'Shrike', 'shield'], 'is_active': True, 'clan': 'Japan', 'is_banned': True}\n",
      "{'age': 22, 'username': 'Shogun', 'weapons': ['Katana', 'Shrike', 'shield'], 'is_active': True, 'clan': 'Japan', 'is_banned': False}\n",
      "{'age': 22, 'username': 'Shogun', 'weapons': ['Katana', 'Shrike', 'shield'], 'is_active': True, 'clan': 'Japan', 'is_banned': True}\n"
     ]
    }
   ],
   "source": [
    "# 5. Ban the user by setting the previous key to True.\n",
    "\n",
    "user['is_banned'] = True\n",
    "print(user)\n",
    "\n",
    "user.update({'is_banned': False})\n",
    "print(user)\n",
    "\n",
    "user.update({'is_banned': True})\n",
    "print(user)"
   ]
  },
  {
   "cell_type": "code",
   "execution_count": 196,
   "metadata": {},
   "outputs": [
    {
     "name": "stdout",
     "output_type": "stream",
     "text": [
      "{'age': 22, 'username': 'Shogun', 'weapons': ['Katana', 'Shrike', 'shield'], 'is_active': True, 'clan': 'Japan', 'is_banned': True}\n",
      "{'age': 100, 'username': 'Timo', 'weapons': ['Katana', 'Shrike', 'shield'], 'is_active': True, 'clan': 'Japan', 'is_banned': True}\n"
     ]
    }
   ],
   "source": [
    "# 6. create a new user2 my copying the previous user and update the age value and username value.\n",
    "\n",
    "user2 = user.copy()\n",
    "user2.update({'age': 100, 'username': 'Timo'})\n",
    "\n",
    "print(user)\n",
    "print(user2)"
   ]
  },
  {
   "cell_type": "code",
   "execution_count": 6,
   "metadata": {},
   "outputs": [],
   "source": [
    "# debugging\n",
    "\n",
    "# linting\n",
    "# ide / editor\n",
    "# print statements\n",
    "# pdb - python debugger in standard python library\n",
    "\n",
    "import pdb"
   ]
  },
  {
   "cell_type": "code",
   "execution_count": 7,
   "metadata": {},
   "outputs": [
    {
     "name": "stdout",
     "output_type": "stream",
     "text": [
      "> \u001b[1;32m<ipython-input-7-d5652e144737>\u001b[0m(3)\u001b[0;36madd\u001b[1;34m()\u001b[0m\n",
      "\u001b[1;32m      1 \u001b[1;33m\u001b[1;32mdef\u001b[0m \u001b[0madd\u001b[0m\u001b[1;33m(\u001b[0m\u001b[0mnum1\u001b[0m\u001b[1;33m,\u001b[0m \u001b[0mnum2\u001b[0m\u001b[1;33m)\u001b[0m\u001b[1;33m:\u001b[0m\u001b[1;33m\u001b[0m\u001b[1;33m\u001b[0m\u001b[0m\n",
      "\u001b[0m\u001b[1;32m      2 \u001b[1;33m    \u001b[0mpdb\u001b[0m\u001b[1;33m.\u001b[0m\u001b[0mset_trace\u001b[0m\u001b[1;33m(\u001b[0m\u001b[1;33m)\u001b[0m\u001b[1;33m\u001b[0m\u001b[1;33m\u001b[0m\u001b[0m\n",
      "\u001b[0m\u001b[1;32m----> 3 \u001b[1;33m    \u001b[0mt\u001b[0m \u001b[1;33m=\u001b[0m \u001b[1;36m2\u001b[0m \u001b[1;33m*\u001b[0m \u001b[1;36m3\u001b[0m\u001b[1;33m\u001b[0m\u001b[1;33m\u001b[0m\u001b[0m\n",
      "\u001b[0m\u001b[1;32m      4 \u001b[1;33m    \u001b[1;32mreturn\u001b[0m \u001b[0mnum1\u001b[0m \u001b[1;33m+\u001b[0m \u001b[0mnum2\u001b[0m\u001b[1;33m\u001b[0m\u001b[1;33m\u001b[0m\u001b[0m\n",
      "\u001b[0m\u001b[1;32m      5 \u001b[1;33m\u001b[1;33m\u001b[0m\u001b[0m\n",
      "\u001b[0m\n",
      "ipdb> help\n",
      "\n",
      "Documented commands (type help <topic>):\n",
      "========================================\n",
      "EOF    cl         disable  interact  next    psource  rv           undisplay\n",
      "a      clear      display  j         p       q        s            unt      \n",
      "alias  commands   down     jump      pdef    quit     skip_hidden  until    \n",
      "args   condition  enable   l         pdoc    r        source       up       \n",
      "b      cont       exit     list      pfile   restart  step         w        \n",
      "break  continue   h        ll        pinfo   return   tbreak       whatis   \n",
      "bt     d          help     longlist  pinfo2  retval   u            where    \n",
      "c      debug      ignore   n         pp      run      unalias    \n",
      "\n",
      "Miscellaneous help topics:\n",
      "==========================\n",
      "exec  pdb\n",
      "\n",
      "ipdb> help list\n",
      "Print lines of code from the current stack frame\n",
      "ipdb> exit\n"
     ]
    },
    {
     "ename": "BdbQuit",
     "evalue": "",
     "output_type": "error",
     "traceback": [
      "\u001b[1;31m---------------------------------------------------------------------------\u001b[0m",
      "\u001b[1;31mBdbQuit\u001b[0m                                   Traceback (most recent call last)",
      "\u001b[1;32m<ipython-input-7-d5652e144737>\u001b[0m in \u001b[0;36m<module>\u001b[1;34m\u001b[0m\n\u001b[0;32m      4\u001b[0m     \u001b[1;32mreturn\u001b[0m \u001b[0mnum1\u001b[0m \u001b[1;33m+\u001b[0m \u001b[0mnum2\u001b[0m\u001b[1;33m\u001b[0m\u001b[1;33m\u001b[0m\u001b[0m\n\u001b[0;32m      5\u001b[0m \u001b[1;33m\u001b[0m\u001b[0m\n\u001b[1;32m----> 6\u001b[1;33m \u001b[0mprint\u001b[0m\u001b[1;33m(\u001b[0m\u001b[0madd\u001b[0m\u001b[1;33m(\u001b[0m\u001b[1;36m4\u001b[0m\u001b[1;33m,\u001b[0m \u001b[1;34m'5'\u001b[0m\u001b[1;33m)\u001b[0m\u001b[1;33m)\u001b[0m\u001b[1;33m\u001b[0m\u001b[1;33m\u001b[0m\u001b[0m\n\u001b[0m",
      "\u001b[1;32m<ipython-input-7-d5652e144737>\u001b[0m in \u001b[0;36madd\u001b[1;34m(num1, num2)\u001b[0m\n\u001b[0;32m      1\u001b[0m \u001b[1;32mdef\u001b[0m \u001b[0madd\u001b[0m\u001b[1;33m(\u001b[0m\u001b[0mnum1\u001b[0m\u001b[1;33m,\u001b[0m \u001b[0mnum2\u001b[0m\u001b[1;33m)\u001b[0m\u001b[1;33m:\u001b[0m\u001b[1;33m\u001b[0m\u001b[1;33m\u001b[0m\u001b[0m\n\u001b[0;32m      2\u001b[0m     \u001b[0mpdb\u001b[0m\u001b[1;33m.\u001b[0m\u001b[0mset_trace\u001b[0m\u001b[1;33m(\u001b[0m\u001b[1;33m)\u001b[0m\u001b[1;33m\u001b[0m\u001b[1;33m\u001b[0m\u001b[0m\n\u001b[1;32m----> 3\u001b[1;33m     \u001b[0mt\u001b[0m \u001b[1;33m=\u001b[0m \u001b[1;36m2\u001b[0m \u001b[1;33m*\u001b[0m \u001b[1;36m3\u001b[0m\u001b[1;33m\u001b[0m\u001b[1;33m\u001b[0m\u001b[0m\n\u001b[0m\u001b[0;32m      4\u001b[0m     \u001b[1;32mreturn\u001b[0m \u001b[0mnum1\u001b[0m \u001b[1;33m+\u001b[0m \u001b[0mnum2\u001b[0m\u001b[1;33m\u001b[0m\u001b[1;33m\u001b[0m\u001b[0m\n\u001b[0;32m      5\u001b[0m \u001b[1;33m\u001b[0m\u001b[0m\n",
      "\u001b[1;32m<ipython-input-7-d5652e144737>\u001b[0m in \u001b[0;36madd\u001b[1;34m(num1, num2)\u001b[0m\n\u001b[0;32m      1\u001b[0m \u001b[1;32mdef\u001b[0m \u001b[0madd\u001b[0m\u001b[1;33m(\u001b[0m\u001b[0mnum1\u001b[0m\u001b[1;33m,\u001b[0m \u001b[0mnum2\u001b[0m\u001b[1;33m)\u001b[0m\u001b[1;33m:\u001b[0m\u001b[1;33m\u001b[0m\u001b[1;33m\u001b[0m\u001b[0m\n\u001b[0;32m      2\u001b[0m     \u001b[0mpdb\u001b[0m\u001b[1;33m.\u001b[0m\u001b[0mset_trace\u001b[0m\u001b[1;33m(\u001b[0m\u001b[1;33m)\u001b[0m\u001b[1;33m\u001b[0m\u001b[1;33m\u001b[0m\u001b[0m\n\u001b[1;32m----> 3\u001b[1;33m     \u001b[0mt\u001b[0m \u001b[1;33m=\u001b[0m \u001b[1;36m2\u001b[0m \u001b[1;33m*\u001b[0m \u001b[1;36m3\u001b[0m\u001b[1;33m\u001b[0m\u001b[1;33m\u001b[0m\u001b[0m\n\u001b[0m\u001b[0;32m      4\u001b[0m     \u001b[1;32mreturn\u001b[0m \u001b[0mnum1\u001b[0m \u001b[1;33m+\u001b[0m \u001b[0mnum2\u001b[0m\u001b[1;33m\u001b[0m\u001b[1;33m\u001b[0m\u001b[0m\n\u001b[0;32m      5\u001b[0m \u001b[1;33m\u001b[0m\u001b[0m\n",
      "\u001b[1;32m~\\Anaconda3\\lib\\bdb.py\u001b[0m in \u001b[0;36mtrace_dispatch\u001b[1;34m(self, frame, event, arg)\u001b[0m\n\u001b[0;32m     86\u001b[0m             \u001b[1;32mreturn\u001b[0m \u001b[1;31m# None\u001b[0m\u001b[1;33m\u001b[0m\u001b[1;33m\u001b[0m\u001b[0m\n\u001b[0;32m     87\u001b[0m         \u001b[1;32mif\u001b[0m \u001b[0mevent\u001b[0m \u001b[1;33m==\u001b[0m \u001b[1;34m'line'\u001b[0m\u001b[1;33m:\u001b[0m\u001b[1;33m\u001b[0m\u001b[1;33m\u001b[0m\u001b[0m\n\u001b[1;32m---> 88\u001b[1;33m             \u001b[1;32mreturn\u001b[0m \u001b[0mself\u001b[0m\u001b[1;33m.\u001b[0m\u001b[0mdispatch_line\u001b[0m\u001b[1;33m(\u001b[0m\u001b[0mframe\u001b[0m\u001b[1;33m)\u001b[0m\u001b[1;33m\u001b[0m\u001b[1;33m\u001b[0m\u001b[0m\n\u001b[0m\u001b[0;32m     89\u001b[0m         \u001b[1;32mif\u001b[0m \u001b[0mevent\u001b[0m \u001b[1;33m==\u001b[0m \u001b[1;34m'call'\u001b[0m\u001b[1;33m:\u001b[0m\u001b[1;33m\u001b[0m\u001b[1;33m\u001b[0m\u001b[0m\n\u001b[0;32m     90\u001b[0m             \u001b[1;32mreturn\u001b[0m \u001b[0mself\u001b[0m\u001b[1;33m.\u001b[0m\u001b[0mdispatch_call\u001b[0m\u001b[1;33m(\u001b[0m\u001b[0mframe\u001b[0m\u001b[1;33m,\u001b[0m \u001b[0marg\u001b[0m\u001b[1;33m)\u001b[0m\u001b[1;33m\u001b[0m\u001b[1;33m\u001b[0m\u001b[0m\n",
      "\u001b[1;32m~\\Anaconda3\\lib\\bdb.py\u001b[0m in \u001b[0;36mdispatch_line\u001b[1;34m(self, frame)\u001b[0m\n\u001b[0;32m    111\u001b[0m         \u001b[1;32mif\u001b[0m \u001b[0mself\u001b[0m\u001b[1;33m.\u001b[0m\u001b[0mstop_here\u001b[0m\u001b[1;33m(\u001b[0m\u001b[0mframe\u001b[0m\u001b[1;33m)\u001b[0m \u001b[1;32mor\u001b[0m \u001b[0mself\u001b[0m\u001b[1;33m.\u001b[0m\u001b[0mbreak_here\u001b[0m\u001b[1;33m(\u001b[0m\u001b[0mframe\u001b[0m\u001b[1;33m)\u001b[0m\u001b[1;33m:\u001b[0m\u001b[1;33m\u001b[0m\u001b[1;33m\u001b[0m\u001b[0m\n\u001b[0;32m    112\u001b[0m             \u001b[0mself\u001b[0m\u001b[1;33m.\u001b[0m\u001b[0muser_line\u001b[0m\u001b[1;33m(\u001b[0m\u001b[0mframe\u001b[0m\u001b[1;33m)\u001b[0m\u001b[1;33m\u001b[0m\u001b[1;33m\u001b[0m\u001b[0m\n\u001b[1;32m--> 113\u001b[1;33m             \u001b[1;32mif\u001b[0m \u001b[0mself\u001b[0m\u001b[1;33m.\u001b[0m\u001b[0mquitting\u001b[0m\u001b[1;33m:\u001b[0m \u001b[1;32mraise\u001b[0m \u001b[0mBdbQuit\u001b[0m\u001b[1;33m\u001b[0m\u001b[1;33m\u001b[0m\u001b[0m\n\u001b[0m\u001b[0;32m    114\u001b[0m         \u001b[1;32mreturn\u001b[0m \u001b[0mself\u001b[0m\u001b[1;33m.\u001b[0m\u001b[0mtrace_dispatch\u001b[0m\u001b[1;33m\u001b[0m\u001b[1;33m\u001b[0m\u001b[0m\n\u001b[0;32m    115\u001b[0m \u001b[1;33m\u001b[0m\u001b[0m\n",
      "\u001b[1;31mBdbQuit\u001b[0m: "
     ]
    }
   ],
   "source": [
    "def add(num1, num2):\n",
    "    pdb.set_trace()\n",
    "    t = 2 * 3\n",
    "    return num1 + num2\n",
    "\n",
    "print(add(4, '5'))"
   ]
  },
  {
   "cell_type": "code",
   "execution_count": 8,
   "metadata": {},
   "outputs": [
    {
     "name": "stdout",
     "output_type": "stream",
     "text": [
      "> \u001b[1;32m<ipython-input-8-d5652e144737>\u001b[0m(3)\u001b[0;36madd\u001b[1;34m()\u001b[0m\n",
      "\u001b[1;32m      1 \u001b[1;33m\u001b[1;32mdef\u001b[0m \u001b[0madd\u001b[0m\u001b[1;33m(\u001b[0m\u001b[0mnum1\u001b[0m\u001b[1;33m,\u001b[0m \u001b[0mnum2\u001b[0m\u001b[1;33m)\u001b[0m\u001b[1;33m:\u001b[0m\u001b[1;33m\u001b[0m\u001b[1;33m\u001b[0m\u001b[0m\n",
      "\u001b[0m\u001b[1;32m      2 \u001b[1;33m    \u001b[0mpdb\u001b[0m\u001b[1;33m.\u001b[0m\u001b[0mset_trace\u001b[0m\u001b[1;33m(\u001b[0m\u001b[1;33m)\u001b[0m\u001b[1;33m\u001b[0m\u001b[1;33m\u001b[0m\u001b[0m\n",
      "\u001b[0m\u001b[1;32m----> 3 \u001b[1;33m    \u001b[0mt\u001b[0m \u001b[1;33m=\u001b[0m \u001b[1;36m2\u001b[0m \u001b[1;33m*\u001b[0m \u001b[1;36m3\u001b[0m\u001b[1;33m\u001b[0m\u001b[1;33m\u001b[0m\u001b[0m\n",
      "\u001b[0m\u001b[1;32m      4 \u001b[1;33m    \u001b[1;32mreturn\u001b[0m \u001b[0mnum1\u001b[0m \u001b[1;33m+\u001b[0m \u001b[0mnum2\u001b[0m\u001b[1;33m\u001b[0m\u001b[1;33m\u001b[0m\u001b[0m\n",
      "\u001b[0m\u001b[1;32m      5 \u001b[1;33m\u001b[1;33m\u001b[0m\u001b[0m\n",
      "\u001b[0m\n",
      "ipdb> list\n",
      "\u001b[0;32m      1 \u001b[0m\u001b[1;32mdef\u001b[0m \u001b[0madd\u001b[0m\u001b[1;33m(\u001b[0m\u001b[0mnum1\u001b[0m\u001b[1;33m,\u001b[0m \u001b[0mnum2\u001b[0m\u001b[1;33m)\u001b[0m\u001b[1;33m:\u001b[0m\u001b[1;33m\u001b[0m\u001b[1;33m\u001b[0m\u001b[0m\n",
      "\u001b[0;32m      2 \u001b[0m    \u001b[0mpdb\u001b[0m\u001b[1;33m.\u001b[0m\u001b[0mset_trace\u001b[0m\u001b[1;33m(\u001b[0m\u001b[1;33m)\u001b[0m\u001b[1;33m\u001b[0m\u001b[1;33m\u001b[0m\u001b[0m\n",
      "\u001b[1;32m----> 3 \u001b[1;33m    \u001b[0mt\u001b[0m \u001b[1;33m=\u001b[0m \u001b[1;36m2\u001b[0m \u001b[1;33m*\u001b[0m \u001b[1;36m3\u001b[0m\u001b[1;33m\u001b[0m\u001b[1;33m\u001b[0m\u001b[0m\n",
      "\u001b[0m\u001b[0;32m      4 \u001b[0m    \u001b[1;32mreturn\u001b[0m \u001b[0mnum1\u001b[0m \u001b[1;33m+\u001b[0m \u001b[0mnum2\u001b[0m\u001b[1;33m\u001b[0m\u001b[1;33m\u001b[0m\u001b[0m\n",
      "\u001b[0;32m      5 \u001b[0m\u001b[1;33m\u001b[0m\u001b[0m\n",
      "\u001b[0;32m      6 \u001b[0m\u001b[0mprint\u001b[0m\u001b[1;33m(\u001b[0m\u001b[0madd\u001b[0m\u001b[1;33m(\u001b[0m\u001b[1;36m4\u001b[0m\u001b[1;33m,\u001b[0m \u001b[1;34m'5'\u001b[0m\u001b[1;33m)\u001b[0m\u001b[1;33m)\u001b[0m\u001b[1;33m\u001b[0m\u001b[1;33m\u001b[0m\u001b[0m\n",
      "\n",
      "ipdb> a\n",
      "num1 = 4\n",
      "num2 = '5'\n",
      "ipdb> num1\n",
      "4\n",
      "ipdb> num2\n",
      "'5'\n",
      "ipdb> t\n",
      "*** NameError: name 't' is not defined\n",
      "ipdb> exit\n"
     ]
    },
    {
     "ename": "BdbQuit",
     "evalue": "",
     "output_type": "error",
     "traceback": [
      "\u001b[1;31m---------------------------------------------------------------------------\u001b[0m",
      "\u001b[1;31mBdbQuit\u001b[0m                                   Traceback (most recent call last)",
      "\u001b[1;32m<ipython-input-8-d5652e144737>\u001b[0m in \u001b[0;36m<module>\u001b[1;34m\u001b[0m\n\u001b[0;32m      4\u001b[0m     \u001b[1;32mreturn\u001b[0m \u001b[0mnum1\u001b[0m \u001b[1;33m+\u001b[0m \u001b[0mnum2\u001b[0m\u001b[1;33m\u001b[0m\u001b[1;33m\u001b[0m\u001b[0m\n\u001b[0;32m      5\u001b[0m \u001b[1;33m\u001b[0m\u001b[0m\n\u001b[1;32m----> 6\u001b[1;33m \u001b[0mprint\u001b[0m\u001b[1;33m(\u001b[0m\u001b[0madd\u001b[0m\u001b[1;33m(\u001b[0m\u001b[1;36m4\u001b[0m\u001b[1;33m,\u001b[0m \u001b[1;34m'5'\u001b[0m\u001b[1;33m)\u001b[0m\u001b[1;33m)\u001b[0m\u001b[1;33m\u001b[0m\u001b[1;33m\u001b[0m\u001b[0m\n\u001b[0m",
      "\u001b[1;32m<ipython-input-8-d5652e144737>\u001b[0m in \u001b[0;36madd\u001b[1;34m(num1, num2)\u001b[0m\n\u001b[0;32m      1\u001b[0m \u001b[1;32mdef\u001b[0m \u001b[0madd\u001b[0m\u001b[1;33m(\u001b[0m\u001b[0mnum1\u001b[0m\u001b[1;33m,\u001b[0m \u001b[0mnum2\u001b[0m\u001b[1;33m)\u001b[0m\u001b[1;33m:\u001b[0m\u001b[1;33m\u001b[0m\u001b[1;33m\u001b[0m\u001b[0m\n\u001b[0;32m      2\u001b[0m     \u001b[0mpdb\u001b[0m\u001b[1;33m.\u001b[0m\u001b[0mset_trace\u001b[0m\u001b[1;33m(\u001b[0m\u001b[1;33m)\u001b[0m\u001b[1;33m\u001b[0m\u001b[1;33m\u001b[0m\u001b[0m\n\u001b[1;32m----> 3\u001b[1;33m     \u001b[0mt\u001b[0m \u001b[1;33m=\u001b[0m \u001b[1;36m2\u001b[0m \u001b[1;33m*\u001b[0m \u001b[1;36m3\u001b[0m\u001b[1;33m\u001b[0m\u001b[1;33m\u001b[0m\u001b[0m\n\u001b[0m\u001b[0;32m      4\u001b[0m     \u001b[1;32mreturn\u001b[0m \u001b[0mnum1\u001b[0m \u001b[1;33m+\u001b[0m \u001b[0mnum2\u001b[0m\u001b[1;33m\u001b[0m\u001b[1;33m\u001b[0m\u001b[0m\n\u001b[0;32m      5\u001b[0m \u001b[1;33m\u001b[0m\u001b[0m\n",
      "\u001b[1;32m<ipython-input-8-d5652e144737>\u001b[0m in \u001b[0;36madd\u001b[1;34m(num1, num2)\u001b[0m\n\u001b[0;32m      1\u001b[0m \u001b[1;32mdef\u001b[0m \u001b[0madd\u001b[0m\u001b[1;33m(\u001b[0m\u001b[0mnum1\u001b[0m\u001b[1;33m,\u001b[0m \u001b[0mnum2\u001b[0m\u001b[1;33m)\u001b[0m\u001b[1;33m:\u001b[0m\u001b[1;33m\u001b[0m\u001b[1;33m\u001b[0m\u001b[0m\n\u001b[0;32m      2\u001b[0m     \u001b[0mpdb\u001b[0m\u001b[1;33m.\u001b[0m\u001b[0mset_trace\u001b[0m\u001b[1;33m(\u001b[0m\u001b[1;33m)\u001b[0m\u001b[1;33m\u001b[0m\u001b[1;33m\u001b[0m\u001b[0m\n\u001b[1;32m----> 3\u001b[1;33m     \u001b[0mt\u001b[0m \u001b[1;33m=\u001b[0m \u001b[1;36m2\u001b[0m \u001b[1;33m*\u001b[0m \u001b[1;36m3\u001b[0m\u001b[1;33m\u001b[0m\u001b[1;33m\u001b[0m\u001b[0m\n\u001b[0m\u001b[0;32m      4\u001b[0m     \u001b[1;32mreturn\u001b[0m \u001b[0mnum1\u001b[0m \u001b[1;33m+\u001b[0m \u001b[0mnum2\u001b[0m\u001b[1;33m\u001b[0m\u001b[1;33m\u001b[0m\u001b[0m\n\u001b[0;32m      5\u001b[0m \u001b[1;33m\u001b[0m\u001b[0m\n",
      "\u001b[1;32m~\\Anaconda3\\lib\\bdb.py\u001b[0m in \u001b[0;36mtrace_dispatch\u001b[1;34m(self, frame, event, arg)\u001b[0m\n\u001b[0;32m     86\u001b[0m             \u001b[1;32mreturn\u001b[0m \u001b[1;31m# None\u001b[0m\u001b[1;33m\u001b[0m\u001b[1;33m\u001b[0m\u001b[0m\n\u001b[0;32m     87\u001b[0m         \u001b[1;32mif\u001b[0m \u001b[0mevent\u001b[0m \u001b[1;33m==\u001b[0m \u001b[1;34m'line'\u001b[0m\u001b[1;33m:\u001b[0m\u001b[1;33m\u001b[0m\u001b[1;33m\u001b[0m\u001b[0m\n\u001b[1;32m---> 88\u001b[1;33m             \u001b[1;32mreturn\u001b[0m \u001b[0mself\u001b[0m\u001b[1;33m.\u001b[0m\u001b[0mdispatch_line\u001b[0m\u001b[1;33m(\u001b[0m\u001b[0mframe\u001b[0m\u001b[1;33m)\u001b[0m\u001b[1;33m\u001b[0m\u001b[1;33m\u001b[0m\u001b[0m\n\u001b[0m\u001b[0;32m     89\u001b[0m         \u001b[1;32mif\u001b[0m \u001b[0mevent\u001b[0m \u001b[1;33m==\u001b[0m \u001b[1;34m'call'\u001b[0m\u001b[1;33m:\u001b[0m\u001b[1;33m\u001b[0m\u001b[1;33m\u001b[0m\u001b[0m\n\u001b[0;32m     90\u001b[0m             \u001b[1;32mreturn\u001b[0m \u001b[0mself\u001b[0m\u001b[1;33m.\u001b[0m\u001b[0mdispatch_call\u001b[0m\u001b[1;33m(\u001b[0m\u001b[0mframe\u001b[0m\u001b[1;33m,\u001b[0m \u001b[0marg\u001b[0m\u001b[1;33m)\u001b[0m\u001b[1;33m\u001b[0m\u001b[1;33m\u001b[0m\u001b[0m\n",
      "\u001b[1;32m~\\Anaconda3\\lib\\bdb.py\u001b[0m in \u001b[0;36mdispatch_line\u001b[1;34m(self, frame)\u001b[0m\n\u001b[0;32m    111\u001b[0m         \u001b[1;32mif\u001b[0m \u001b[0mself\u001b[0m\u001b[1;33m.\u001b[0m\u001b[0mstop_here\u001b[0m\u001b[1;33m(\u001b[0m\u001b[0mframe\u001b[0m\u001b[1;33m)\u001b[0m \u001b[1;32mor\u001b[0m \u001b[0mself\u001b[0m\u001b[1;33m.\u001b[0m\u001b[0mbreak_here\u001b[0m\u001b[1;33m(\u001b[0m\u001b[0mframe\u001b[0m\u001b[1;33m)\u001b[0m\u001b[1;33m:\u001b[0m\u001b[1;33m\u001b[0m\u001b[1;33m\u001b[0m\u001b[0m\n\u001b[0;32m    112\u001b[0m             \u001b[0mself\u001b[0m\u001b[1;33m.\u001b[0m\u001b[0muser_line\u001b[0m\u001b[1;33m(\u001b[0m\u001b[0mframe\u001b[0m\u001b[1;33m)\u001b[0m\u001b[1;33m\u001b[0m\u001b[1;33m\u001b[0m\u001b[0m\n\u001b[1;32m--> 113\u001b[1;33m             \u001b[1;32mif\u001b[0m \u001b[0mself\u001b[0m\u001b[1;33m.\u001b[0m\u001b[0mquitting\u001b[0m\u001b[1;33m:\u001b[0m \u001b[1;32mraise\u001b[0m \u001b[0mBdbQuit\u001b[0m\u001b[1;33m\u001b[0m\u001b[1;33m\u001b[0m\u001b[0m\n\u001b[0m\u001b[0;32m    114\u001b[0m         \u001b[1;32mreturn\u001b[0m \u001b[0mself\u001b[0m\u001b[1;33m.\u001b[0m\u001b[0mtrace_dispatch\u001b[0m\u001b[1;33m\u001b[0m\u001b[1;33m\u001b[0m\u001b[0m\n\u001b[0;32m    115\u001b[0m \u001b[1;33m\u001b[0m\u001b[0m\n",
      "\u001b[1;31mBdbQuit\u001b[0m: "
     ]
    }
   ],
   "source": [
    "def add(num1, num2):\n",
    "    pdb.set_trace()\n",
    "    t = 2 * 3\n",
    "    return num1 + num2\n",
    "\n",
    "print(add(4, '5'))"
   ]
  },
  {
   "cell_type": "code",
   "execution_count": 9,
   "metadata": {},
   "outputs": [
    {
     "name": "stdout",
     "output_type": "stream",
     "text": [
      "> \u001b[1;32m<ipython-input-9-d5652e144737>\u001b[0m(3)\u001b[0;36madd\u001b[1;34m()\u001b[0m\n",
      "\u001b[1;32m      1 \u001b[1;33m\u001b[1;32mdef\u001b[0m \u001b[0madd\u001b[0m\u001b[1;33m(\u001b[0m\u001b[0mnum1\u001b[0m\u001b[1;33m,\u001b[0m \u001b[0mnum2\u001b[0m\u001b[1;33m)\u001b[0m\u001b[1;33m:\u001b[0m\u001b[1;33m\u001b[0m\u001b[1;33m\u001b[0m\u001b[0m\n",
      "\u001b[0m\u001b[1;32m      2 \u001b[1;33m    \u001b[0mpdb\u001b[0m\u001b[1;33m.\u001b[0m\u001b[0mset_trace\u001b[0m\u001b[1;33m(\u001b[0m\u001b[1;33m)\u001b[0m\u001b[1;33m\u001b[0m\u001b[1;33m\u001b[0m\u001b[0m\n",
      "\u001b[0m\u001b[1;32m----> 3 \u001b[1;33m    \u001b[0mt\u001b[0m \u001b[1;33m=\u001b[0m \u001b[1;36m2\u001b[0m \u001b[1;33m*\u001b[0m \u001b[1;36m3\u001b[0m\u001b[1;33m\u001b[0m\u001b[1;33m\u001b[0m\u001b[0m\n",
      "\u001b[0m\u001b[1;32m      4 \u001b[1;33m    \u001b[1;32mreturn\u001b[0m \u001b[0mnum1\u001b[0m \u001b[1;33m+\u001b[0m \u001b[0mnum2\u001b[0m\u001b[1;33m\u001b[0m\u001b[1;33m\u001b[0m\u001b[0m\n",
      "\u001b[0m\u001b[1;32m      5 \u001b[1;33m\u001b[1;33m\u001b[0m\u001b[0m\n",
      "\u001b[0m\n",
      "ipdb> t\n",
      "*** NameError: name 't' is not defined\n",
      "ipdb> step\n",
      "> \u001b[1;32m<ipython-input-9-d5652e144737>\u001b[0m(4)\u001b[0;36madd\u001b[1;34m()\u001b[0m\n",
      "\u001b[1;32m      2 \u001b[1;33m    \u001b[0mpdb\u001b[0m\u001b[1;33m.\u001b[0m\u001b[0mset_trace\u001b[0m\u001b[1;33m(\u001b[0m\u001b[1;33m)\u001b[0m\u001b[1;33m\u001b[0m\u001b[1;33m\u001b[0m\u001b[0m\n",
      "\u001b[0m\u001b[1;32m      3 \u001b[1;33m    \u001b[0mt\u001b[0m \u001b[1;33m=\u001b[0m \u001b[1;36m2\u001b[0m \u001b[1;33m*\u001b[0m \u001b[1;36m3\u001b[0m\u001b[1;33m\u001b[0m\u001b[1;33m\u001b[0m\u001b[0m\n",
      "\u001b[0m\u001b[1;32m----> 4 \u001b[1;33m    \u001b[1;32mreturn\u001b[0m \u001b[0mnum1\u001b[0m \u001b[1;33m+\u001b[0m \u001b[0mnum2\u001b[0m\u001b[1;33m\u001b[0m\u001b[1;33m\u001b[0m\u001b[0m\n",
      "\u001b[0m\u001b[1;32m      5 \u001b[1;33m\u001b[1;33m\u001b[0m\u001b[0m\n",
      "\u001b[0m\u001b[1;32m      6 \u001b[1;33m\u001b[0mprint\u001b[0m\u001b[1;33m(\u001b[0m\u001b[0madd\u001b[0m\u001b[1;33m(\u001b[0m\u001b[1;36m4\u001b[0m\u001b[1;33m,\u001b[0m \u001b[1;34m'5'\u001b[0m\u001b[1;33m)\u001b[0m\u001b[1;33m)\u001b[0m\u001b[1;33m\u001b[0m\u001b[1;33m\u001b[0m\u001b[0m\n",
      "\u001b[0m\n",
      "ipdb> t\n",
      "6\n",
      "ipdb> continue\n"
     ]
    },
    {
     "ename": "TypeError",
     "evalue": "unsupported operand type(s) for +: 'int' and 'str'",
     "output_type": "error",
     "traceback": [
      "\u001b[1;31m---------------------------------------------------------------------------\u001b[0m",
      "\u001b[1;31mTypeError\u001b[0m                                 Traceback (most recent call last)",
      "\u001b[1;32m<ipython-input-9-d5652e144737>\u001b[0m in \u001b[0;36m<module>\u001b[1;34m\u001b[0m\n\u001b[0;32m      4\u001b[0m     \u001b[1;32mreturn\u001b[0m \u001b[0mnum1\u001b[0m \u001b[1;33m+\u001b[0m \u001b[0mnum2\u001b[0m\u001b[1;33m\u001b[0m\u001b[1;33m\u001b[0m\u001b[0m\n\u001b[0;32m      5\u001b[0m \u001b[1;33m\u001b[0m\u001b[0m\n\u001b[1;32m----> 6\u001b[1;33m \u001b[0mprint\u001b[0m\u001b[1;33m(\u001b[0m\u001b[0madd\u001b[0m\u001b[1;33m(\u001b[0m\u001b[1;36m4\u001b[0m\u001b[1;33m,\u001b[0m \u001b[1;34m'5'\u001b[0m\u001b[1;33m)\u001b[0m\u001b[1;33m)\u001b[0m\u001b[1;33m\u001b[0m\u001b[1;33m\u001b[0m\u001b[0m\n\u001b[0m",
      "\u001b[1;32m<ipython-input-9-d5652e144737>\u001b[0m in \u001b[0;36madd\u001b[1;34m(num1, num2)\u001b[0m\n\u001b[0;32m      2\u001b[0m     \u001b[0mpdb\u001b[0m\u001b[1;33m.\u001b[0m\u001b[0mset_trace\u001b[0m\u001b[1;33m(\u001b[0m\u001b[1;33m)\u001b[0m\u001b[1;33m\u001b[0m\u001b[1;33m\u001b[0m\u001b[0m\n\u001b[0;32m      3\u001b[0m     \u001b[0mt\u001b[0m \u001b[1;33m=\u001b[0m \u001b[1;36m2\u001b[0m \u001b[1;33m*\u001b[0m \u001b[1;36m3\u001b[0m\u001b[1;33m\u001b[0m\u001b[1;33m\u001b[0m\u001b[0m\n\u001b[1;32m----> 4\u001b[1;33m     \u001b[1;32mreturn\u001b[0m \u001b[0mnum1\u001b[0m \u001b[1;33m+\u001b[0m \u001b[0mnum2\u001b[0m\u001b[1;33m\u001b[0m\u001b[1;33m\u001b[0m\u001b[0m\n\u001b[0m\u001b[0;32m      5\u001b[0m \u001b[1;33m\u001b[0m\u001b[0m\n\u001b[0;32m      6\u001b[0m \u001b[0mprint\u001b[0m\u001b[1;33m(\u001b[0m\u001b[0madd\u001b[0m\u001b[1;33m(\u001b[0m\u001b[1;36m4\u001b[0m\u001b[1;33m,\u001b[0m \u001b[1;34m'5'\u001b[0m\u001b[1;33m)\u001b[0m\u001b[1;33m)\u001b[0m\u001b[1;33m\u001b[0m\u001b[1;33m\u001b[0m\u001b[0m\n",
      "\u001b[1;31mTypeError\u001b[0m: unsupported operand type(s) for +: 'int' and 'str'"
     ]
    }
   ],
   "source": [
    "def add(num1, num2):\n",
    "    pdb.set_trace()\n",
    "    t = 2 * 3\n",
    "    return num1 + num2\n",
    "\n",
    "print(add(4, '5'))"
   ]
  },
  {
   "cell_type": "code",
   "execution_count": 10,
   "metadata": {},
   "outputs": [
    {
     "name": "stdout",
     "output_type": "stream",
     "text": [
      "> \u001b[1;32m<ipython-input-10-d5652e144737>\u001b[0m(3)\u001b[0;36madd\u001b[1;34m()\u001b[0m\n",
      "\u001b[1;32m      1 \u001b[1;33m\u001b[1;32mdef\u001b[0m \u001b[0madd\u001b[0m\u001b[1;33m(\u001b[0m\u001b[0mnum1\u001b[0m\u001b[1;33m,\u001b[0m \u001b[0mnum2\u001b[0m\u001b[1;33m)\u001b[0m\u001b[1;33m:\u001b[0m\u001b[1;33m\u001b[0m\u001b[1;33m\u001b[0m\u001b[0m\n",
      "\u001b[0m\u001b[1;32m      2 \u001b[1;33m    \u001b[0mpdb\u001b[0m\u001b[1;33m.\u001b[0m\u001b[0mset_trace\u001b[0m\u001b[1;33m(\u001b[0m\u001b[1;33m)\u001b[0m\u001b[1;33m\u001b[0m\u001b[1;33m\u001b[0m\u001b[0m\n",
      "\u001b[0m\u001b[1;32m----> 3 \u001b[1;33m    \u001b[0mt\u001b[0m \u001b[1;33m=\u001b[0m \u001b[1;36m2\u001b[0m \u001b[1;33m*\u001b[0m \u001b[1;36m3\u001b[0m\u001b[1;33m\u001b[0m\u001b[1;33m\u001b[0m\u001b[0m\n",
      "\u001b[0m\u001b[1;32m      4 \u001b[1;33m    \u001b[1;32mreturn\u001b[0m \u001b[0mnum1\u001b[0m \u001b[1;33m+\u001b[0m \u001b[0mnum2\u001b[0m\u001b[1;33m\u001b[0m\u001b[1;33m\u001b[0m\u001b[0m\n",
      "\u001b[0m\u001b[1;32m      5 \u001b[1;33m\u001b[1;33m\u001b[0m\u001b[0m\n",
      "\u001b[0m\n",
      "ipdb> w\n",
      "\u001b[1;31m    [... skipping 27 hidden frame(s)]\u001b[0m\n",
      "\n",
      "  \u001b[1;32m<ipython-input-10-d5652e144737>\u001b[0m(6)\u001b[0;36m<module>\u001b[1;34m()\u001b[0m\n",
      "\u001b[0;32m      2 \u001b[0m    \u001b[0mpdb\u001b[0m\u001b[1;33m.\u001b[0m\u001b[0mset_trace\u001b[0m\u001b[1;33m(\u001b[0m\u001b[1;33m)\u001b[0m\u001b[1;33m\u001b[0m\u001b[1;33m\u001b[0m\u001b[0m\n",
      "\u001b[0;32m      3 \u001b[0m    \u001b[0mt\u001b[0m \u001b[1;33m=\u001b[0m \u001b[1;36m2\u001b[0m \u001b[1;33m*\u001b[0m \u001b[1;36m3\u001b[0m\u001b[1;33m\u001b[0m\u001b[1;33m\u001b[0m\u001b[0m\n",
      "\u001b[0;32m      4 \u001b[0m    \u001b[1;32mreturn\u001b[0m \u001b[0mnum1\u001b[0m \u001b[1;33m+\u001b[0m \u001b[0mnum2\u001b[0m\u001b[1;33m\u001b[0m\u001b[1;33m\u001b[0m\u001b[0m\n",
      "\u001b[0;32m      5 \u001b[0m\u001b[1;33m\u001b[0m\u001b[0m\n",
      "\u001b[1;32m----> 6 \u001b[1;33m\u001b[0mprint\u001b[0m\u001b[1;33m(\u001b[0m\u001b[0madd\u001b[0m\u001b[1;33m(\u001b[0m\u001b[1;36m4\u001b[0m\u001b[1;33m,\u001b[0m \u001b[1;34m'5'\u001b[0m\u001b[1;33m)\u001b[0m\u001b[1;33m)\u001b[0m\u001b[1;33m\u001b[0m\u001b[1;33m\u001b[0m\u001b[0m\n",
      "\u001b[0m\n",
      "> \u001b[1;32m<ipython-input-10-d5652e144737>\u001b[0m(3)\u001b[0;36madd\u001b[1;34m()\u001b[0m\n",
      "\u001b[1;32m      1 \u001b[1;33m\u001b[1;32mdef\u001b[0m \u001b[0madd\u001b[0m\u001b[1;33m(\u001b[0m\u001b[0mnum1\u001b[0m\u001b[1;33m,\u001b[0m \u001b[0mnum2\u001b[0m\u001b[1;33m)\u001b[0m\u001b[1;33m:\u001b[0m\u001b[1;33m\u001b[0m\u001b[1;33m\u001b[0m\u001b[0m\n",
      "\u001b[0m\u001b[1;32m      2 \u001b[1;33m    \u001b[0mpdb\u001b[0m\u001b[1;33m.\u001b[0m\u001b[0mset_trace\u001b[0m\u001b[1;33m(\u001b[0m\u001b[1;33m)\u001b[0m\u001b[1;33m\u001b[0m\u001b[1;33m\u001b[0m\u001b[0m\n",
      "\u001b[0m\u001b[1;32m----> 3 \u001b[1;33m    \u001b[0mt\u001b[0m \u001b[1;33m=\u001b[0m \u001b[1;36m2\u001b[0m \u001b[1;33m*\u001b[0m \u001b[1;36m3\u001b[0m\u001b[1;33m\u001b[0m\u001b[1;33m\u001b[0m\u001b[0m\n",
      "\u001b[0m\u001b[1;32m      4 \u001b[1;33m    \u001b[1;32mreturn\u001b[0m \u001b[0mnum1\u001b[0m \u001b[1;33m+\u001b[0m \u001b[0mnum2\u001b[0m\u001b[1;33m\u001b[0m\u001b[1;33m\u001b[0m\u001b[0m\n",
      "\u001b[0m\u001b[1;32m      5 \u001b[1;33m\u001b[1;33m\u001b[0m\u001b[0m\n",
      "\u001b[0m\n",
      "ipdb> help help\n",
      "h(elp)\n",
      "        Without argument, print the list of available commands.\n",
      "        With a command name as argument, print help about that command.\n",
      "        \"help pdb\" shows the full pdb documentation.\n",
      "        \"help exec\" gives help on the ! command.\n",
      "ipdb> exit\n"
     ]
    },
    {
     "ename": "BdbQuit",
     "evalue": "",
     "output_type": "error",
     "traceback": [
      "\u001b[1;31m---------------------------------------------------------------------------\u001b[0m",
      "\u001b[1;31mBdbQuit\u001b[0m                                   Traceback (most recent call last)",
      "\u001b[1;32m<ipython-input-10-d5652e144737>\u001b[0m in \u001b[0;36m<module>\u001b[1;34m\u001b[0m\n\u001b[0;32m      4\u001b[0m     \u001b[1;32mreturn\u001b[0m \u001b[0mnum1\u001b[0m \u001b[1;33m+\u001b[0m \u001b[0mnum2\u001b[0m\u001b[1;33m\u001b[0m\u001b[1;33m\u001b[0m\u001b[0m\n\u001b[0;32m      5\u001b[0m \u001b[1;33m\u001b[0m\u001b[0m\n\u001b[1;32m----> 6\u001b[1;33m \u001b[0mprint\u001b[0m\u001b[1;33m(\u001b[0m\u001b[0madd\u001b[0m\u001b[1;33m(\u001b[0m\u001b[1;36m4\u001b[0m\u001b[1;33m,\u001b[0m \u001b[1;34m'5'\u001b[0m\u001b[1;33m)\u001b[0m\u001b[1;33m)\u001b[0m\u001b[1;33m\u001b[0m\u001b[1;33m\u001b[0m\u001b[0m\n\u001b[0m",
      "\u001b[1;32m<ipython-input-10-d5652e144737>\u001b[0m in \u001b[0;36madd\u001b[1;34m(num1, num2)\u001b[0m\n\u001b[0;32m      1\u001b[0m \u001b[1;32mdef\u001b[0m \u001b[0madd\u001b[0m\u001b[1;33m(\u001b[0m\u001b[0mnum1\u001b[0m\u001b[1;33m,\u001b[0m \u001b[0mnum2\u001b[0m\u001b[1;33m)\u001b[0m\u001b[1;33m:\u001b[0m\u001b[1;33m\u001b[0m\u001b[1;33m\u001b[0m\u001b[0m\n\u001b[0;32m      2\u001b[0m     \u001b[0mpdb\u001b[0m\u001b[1;33m.\u001b[0m\u001b[0mset_trace\u001b[0m\u001b[1;33m(\u001b[0m\u001b[1;33m)\u001b[0m\u001b[1;33m\u001b[0m\u001b[1;33m\u001b[0m\u001b[0m\n\u001b[1;32m----> 3\u001b[1;33m     \u001b[0mt\u001b[0m \u001b[1;33m=\u001b[0m \u001b[1;36m2\u001b[0m \u001b[1;33m*\u001b[0m \u001b[1;36m3\u001b[0m\u001b[1;33m\u001b[0m\u001b[1;33m\u001b[0m\u001b[0m\n\u001b[0m\u001b[0;32m      4\u001b[0m     \u001b[1;32mreturn\u001b[0m \u001b[0mnum1\u001b[0m \u001b[1;33m+\u001b[0m \u001b[0mnum2\u001b[0m\u001b[1;33m\u001b[0m\u001b[1;33m\u001b[0m\u001b[0m\n\u001b[0;32m      5\u001b[0m \u001b[1;33m\u001b[0m\u001b[0m\n",
      "\u001b[1;32m<ipython-input-10-d5652e144737>\u001b[0m in \u001b[0;36madd\u001b[1;34m(num1, num2)\u001b[0m\n\u001b[0;32m      1\u001b[0m \u001b[1;32mdef\u001b[0m \u001b[0madd\u001b[0m\u001b[1;33m(\u001b[0m\u001b[0mnum1\u001b[0m\u001b[1;33m,\u001b[0m \u001b[0mnum2\u001b[0m\u001b[1;33m)\u001b[0m\u001b[1;33m:\u001b[0m\u001b[1;33m\u001b[0m\u001b[1;33m\u001b[0m\u001b[0m\n\u001b[0;32m      2\u001b[0m     \u001b[0mpdb\u001b[0m\u001b[1;33m.\u001b[0m\u001b[0mset_trace\u001b[0m\u001b[1;33m(\u001b[0m\u001b[1;33m)\u001b[0m\u001b[1;33m\u001b[0m\u001b[1;33m\u001b[0m\u001b[0m\n\u001b[1;32m----> 3\u001b[1;33m     \u001b[0mt\u001b[0m \u001b[1;33m=\u001b[0m \u001b[1;36m2\u001b[0m \u001b[1;33m*\u001b[0m \u001b[1;36m3\u001b[0m\u001b[1;33m\u001b[0m\u001b[1;33m\u001b[0m\u001b[0m\n\u001b[0m\u001b[0;32m      4\u001b[0m     \u001b[1;32mreturn\u001b[0m \u001b[0mnum1\u001b[0m \u001b[1;33m+\u001b[0m \u001b[0mnum2\u001b[0m\u001b[1;33m\u001b[0m\u001b[1;33m\u001b[0m\u001b[0m\n\u001b[0;32m      5\u001b[0m \u001b[1;33m\u001b[0m\u001b[0m\n",
      "\u001b[1;32m~\\Anaconda3\\lib\\bdb.py\u001b[0m in \u001b[0;36mtrace_dispatch\u001b[1;34m(self, frame, event, arg)\u001b[0m\n\u001b[0;32m     86\u001b[0m             \u001b[1;32mreturn\u001b[0m \u001b[1;31m# None\u001b[0m\u001b[1;33m\u001b[0m\u001b[1;33m\u001b[0m\u001b[0m\n\u001b[0;32m     87\u001b[0m         \u001b[1;32mif\u001b[0m \u001b[0mevent\u001b[0m \u001b[1;33m==\u001b[0m \u001b[1;34m'line'\u001b[0m\u001b[1;33m:\u001b[0m\u001b[1;33m\u001b[0m\u001b[1;33m\u001b[0m\u001b[0m\n\u001b[1;32m---> 88\u001b[1;33m             \u001b[1;32mreturn\u001b[0m \u001b[0mself\u001b[0m\u001b[1;33m.\u001b[0m\u001b[0mdispatch_line\u001b[0m\u001b[1;33m(\u001b[0m\u001b[0mframe\u001b[0m\u001b[1;33m)\u001b[0m\u001b[1;33m\u001b[0m\u001b[1;33m\u001b[0m\u001b[0m\n\u001b[0m\u001b[0;32m     89\u001b[0m         \u001b[1;32mif\u001b[0m \u001b[0mevent\u001b[0m \u001b[1;33m==\u001b[0m \u001b[1;34m'call'\u001b[0m\u001b[1;33m:\u001b[0m\u001b[1;33m\u001b[0m\u001b[1;33m\u001b[0m\u001b[0m\n\u001b[0;32m     90\u001b[0m             \u001b[1;32mreturn\u001b[0m \u001b[0mself\u001b[0m\u001b[1;33m.\u001b[0m\u001b[0mdispatch_call\u001b[0m\u001b[1;33m(\u001b[0m\u001b[0mframe\u001b[0m\u001b[1;33m,\u001b[0m \u001b[0marg\u001b[0m\u001b[1;33m)\u001b[0m\u001b[1;33m\u001b[0m\u001b[1;33m\u001b[0m\u001b[0m\n",
      "\u001b[1;32m~\\Anaconda3\\lib\\bdb.py\u001b[0m in \u001b[0;36mdispatch_line\u001b[1;34m(self, frame)\u001b[0m\n\u001b[0;32m    111\u001b[0m         \u001b[1;32mif\u001b[0m \u001b[0mself\u001b[0m\u001b[1;33m.\u001b[0m\u001b[0mstop_here\u001b[0m\u001b[1;33m(\u001b[0m\u001b[0mframe\u001b[0m\u001b[1;33m)\u001b[0m \u001b[1;32mor\u001b[0m \u001b[0mself\u001b[0m\u001b[1;33m.\u001b[0m\u001b[0mbreak_here\u001b[0m\u001b[1;33m(\u001b[0m\u001b[0mframe\u001b[0m\u001b[1;33m)\u001b[0m\u001b[1;33m:\u001b[0m\u001b[1;33m\u001b[0m\u001b[1;33m\u001b[0m\u001b[0m\n\u001b[0;32m    112\u001b[0m             \u001b[0mself\u001b[0m\u001b[1;33m.\u001b[0m\u001b[0muser_line\u001b[0m\u001b[1;33m(\u001b[0m\u001b[0mframe\u001b[0m\u001b[1;33m)\u001b[0m\u001b[1;33m\u001b[0m\u001b[1;33m\u001b[0m\u001b[0m\n\u001b[1;32m--> 113\u001b[1;33m             \u001b[1;32mif\u001b[0m \u001b[0mself\u001b[0m\u001b[1;33m.\u001b[0m\u001b[0mquitting\u001b[0m\u001b[1;33m:\u001b[0m \u001b[1;32mraise\u001b[0m \u001b[0mBdbQuit\u001b[0m\u001b[1;33m\u001b[0m\u001b[1;33m\u001b[0m\u001b[0m\n\u001b[0m\u001b[0;32m    114\u001b[0m         \u001b[1;32mreturn\u001b[0m \u001b[0mself\u001b[0m\u001b[1;33m.\u001b[0m\u001b[0mtrace_dispatch\u001b[0m\u001b[1;33m\u001b[0m\u001b[1;33m\u001b[0m\u001b[0m\n\u001b[0;32m    115\u001b[0m \u001b[1;33m\u001b[0m\u001b[0m\n",
      "\u001b[1;31mBdbQuit\u001b[0m: "
     ]
    }
   ],
   "source": [
    "def add(num1, num2):\n",
    "    pdb.set_trace()\n",
    "    t = 2 * 3\n",
    "    return num1 + num2\n",
    "\n",
    "print(add(4, '5'))"
   ]
  },
  {
   "cell_type": "code",
   "execution_count": 15,
   "metadata": {},
   "outputs": [
    {
     "name": "stdout",
     "output_type": "stream",
     "text": [
      "> \u001b[1;32m<ipython-input-15-d5652e144737>\u001b[0m(3)\u001b[0;36madd\u001b[1;34m()\u001b[0m\n",
      "\u001b[1;32m      1 \u001b[1;33m\u001b[1;32mdef\u001b[0m \u001b[0madd\u001b[0m\u001b[1;33m(\u001b[0m\u001b[0mnum1\u001b[0m\u001b[1;33m,\u001b[0m \u001b[0mnum2\u001b[0m\u001b[1;33m)\u001b[0m\u001b[1;33m:\u001b[0m\u001b[1;33m\u001b[0m\u001b[1;33m\u001b[0m\u001b[0m\n",
      "\u001b[0m\u001b[1;32m      2 \u001b[1;33m    \u001b[0mpdb\u001b[0m\u001b[1;33m.\u001b[0m\u001b[0mset_trace\u001b[0m\u001b[1;33m(\u001b[0m\u001b[1;33m)\u001b[0m\u001b[1;33m\u001b[0m\u001b[1;33m\u001b[0m\u001b[0m\n",
      "\u001b[0m\u001b[1;32m----> 3 \u001b[1;33m    \u001b[0mt\u001b[0m \u001b[1;33m=\u001b[0m \u001b[1;36m2\u001b[0m \u001b[1;33m*\u001b[0m \u001b[1;36m3\u001b[0m\u001b[1;33m\u001b[0m\u001b[1;33m\u001b[0m\u001b[0m\n",
      "\u001b[0m\u001b[1;32m      4 \u001b[1;33m    \u001b[1;32mreturn\u001b[0m \u001b[0mnum1\u001b[0m \u001b[1;33m+\u001b[0m \u001b[0mnum2\u001b[0m\u001b[1;33m\u001b[0m\u001b[1;33m\u001b[0m\u001b[0m\n",
      "\u001b[0m\u001b[1;32m      5 \u001b[1;33m\u001b[1;33m\u001b[0m\u001b[0m\n",
      "\u001b[0m\n",
      "ipdb> a\n",
      "num1 = 4\n",
      "num2 = '5'\n",
      "ipdb> num2 = 5\n",
      "ipdb> a\n",
      "num1 = 4\n",
      "num2 = 5\n",
      "ipdb> num2\n",
      "5\n",
      "ipdb> next\n",
      "> \u001b[1;32m<ipython-input-15-d5652e144737>\u001b[0m(4)\u001b[0;36madd\u001b[1;34m()\u001b[0m\n",
      "\u001b[1;32m      2 \u001b[1;33m    \u001b[0mpdb\u001b[0m\u001b[1;33m.\u001b[0m\u001b[0mset_trace\u001b[0m\u001b[1;33m(\u001b[0m\u001b[1;33m)\u001b[0m\u001b[1;33m\u001b[0m\u001b[1;33m\u001b[0m\u001b[0m\n",
      "\u001b[0m\u001b[1;32m      3 \u001b[1;33m    \u001b[0mt\u001b[0m \u001b[1;33m=\u001b[0m \u001b[1;36m2\u001b[0m \u001b[1;33m*\u001b[0m \u001b[1;36m3\u001b[0m\u001b[1;33m\u001b[0m\u001b[1;33m\u001b[0m\u001b[0m\n",
      "\u001b[0m\u001b[1;32m----> 4 \u001b[1;33m    \u001b[1;32mreturn\u001b[0m \u001b[0mnum1\u001b[0m \u001b[1;33m+\u001b[0m \u001b[0mnum2\u001b[0m\u001b[1;33m\u001b[0m\u001b[1;33m\u001b[0m\u001b[0m\n",
      "\u001b[0m\u001b[1;32m      5 \u001b[1;33m\u001b[1;33m\u001b[0m\u001b[0m\n",
      "\u001b[0m\u001b[1;32m      6 \u001b[1;33m\u001b[0mprint\u001b[0m\u001b[1;33m(\u001b[0m\u001b[0madd\u001b[0m\u001b[1;33m(\u001b[0m\u001b[1;36m4\u001b[0m\u001b[1;33m,\u001b[0m \u001b[1;34m'5'\u001b[0m\u001b[1;33m)\u001b[0m\u001b[1;33m)\u001b[0m\u001b[1;33m\u001b[0m\u001b[1;33m\u001b[0m\u001b[0m\n",
      "\u001b[0m\n",
      "ipdb> next\n",
      "--Return--\n",
      "9\n",
      "> \u001b[1;32m<ipython-input-15-d5652e144737>\u001b[0m(4)\u001b[0;36madd\u001b[1;34m()\u001b[0m\n",
      "\u001b[1;32m      2 \u001b[1;33m    \u001b[0mpdb\u001b[0m\u001b[1;33m.\u001b[0m\u001b[0mset_trace\u001b[0m\u001b[1;33m(\u001b[0m\u001b[1;33m)\u001b[0m\u001b[1;33m\u001b[0m\u001b[1;33m\u001b[0m\u001b[0m\n",
      "\u001b[0m\u001b[1;32m      3 \u001b[1;33m    \u001b[0mt\u001b[0m \u001b[1;33m=\u001b[0m \u001b[1;36m2\u001b[0m \u001b[1;33m*\u001b[0m \u001b[1;36m3\u001b[0m\u001b[1;33m\u001b[0m\u001b[1;33m\u001b[0m\u001b[0m\n",
      "\u001b[0m\u001b[1;32m----> 4 \u001b[1;33m    \u001b[1;32mreturn\u001b[0m \u001b[0mnum1\u001b[0m \u001b[1;33m+\u001b[0m \u001b[0mnum2\u001b[0m\u001b[1;33m\u001b[0m\u001b[1;33m\u001b[0m\u001b[0m\n",
      "\u001b[0m\u001b[1;32m      5 \u001b[1;33m\u001b[1;33m\u001b[0m\u001b[0m\n",
      "\u001b[0m\u001b[1;32m      6 \u001b[1;33m\u001b[0mprint\u001b[0m\u001b[1;33m(\u001b[0m\u001b[0madd\u001b[0m\u001b[1;33m(\u001b[0m\u001b[1;36m4\u001b[0m\u001b[1;33m,\u001b[0m \u001b[1;34m'5'\u001b[0m\u001b[1;33m)\u001b[0m\u001b[1;33m)\u001b[0m\u001b[1;33m\u001b[0m\u001b[1;33m\u001b[0m\u001b[0m\n",
      "\u001b[0m\n",
      "ipdb> exit\n"
     ]
    },
    {
     "ename": "BdbQuit",
     "evalue": "",
     "output_type": "error",
     "traceback": [
      "\u001b[1;31m---------------------------------------------------------------------------\u001b[0m",
      "\u001b[1;31mBdbQuit\u001b[0m                                   Traceback (most recent call last)",
      "\u001b[1;32m<ipython-input-15-d5652e144737>\u001b[0m in \u001b[0;36m<module>\u001b[1;34m\u001b[0m\n\u001b[0;32m      4\u001b[0m     \u001b[1;32mreturn\u001b[0m \u001b[0mnum1\u001b[0m \u001b[1;33m+\u001b[0m \u001b[0mnum2\u001b[0m\u001b[1;33m\u001b[0m\u001b[1;33m\u001b[0m\u001b[0m\n\u001b[0;32m      5\u001b[0m \u001b[1;33m\u001b[0m\u001b[0m\n\u001b[1;32m----> 6\u001b[1;33m \u001b[0mprint\u001b[0m\u001b[1;33m(\u001b[0m\u001b[0madd\u001b[0m\u001b[1;33m(\u001b[0m\u001b[1;36m4\u001b[0m\u001b[1;33m,\u001b[0m \u001b[1;34m'5'\u001b[0m\u001b[1;33m)\u001b[0m\u001b[1;33m)\u001b[0m\u001b[1;33m\u001b[0m\u001b[1;33m\u001b[0m\u001b[0m\n\u001b[0m",
      "\u001b[1;32m<ipython-input-15-d5652e144737>\u001b[0m in \u001b[0;36madd\u001b[1;34m(num1, num2)\u001b[0m\n\u001b[0;32m      2\u001b[0m     \u001b[0mpdb\u001b[0m\u001b[1;33m.\u001b[0m\u001b[0mset_trace\u001b[0m\u001b[1;33m(\u001b[0m\u001b[1;33m)\u001b[0m\u001b[1;33m\u001b[0m\u001b[1;33m\u001b[0m\u001b[0m\n\u001b[0;32m      3\u001b[0m     \u001b[0mt\u001b[0m \u001b[1;33m=\u001b[0m \u001b[1;36m2\u001b[0m \u001b[1;33m*\u001b[0m \u001b[1;36m3\u001b[0m\u001b[1;33m\u001b[0m\u001b[1;33m\u001b[0m\u001b[0m\n\u001b[1;32m----> 4\u001b[1;33m     \u001b[1;32mreturn\u001b[0m \u001b[0mnum1\u001b[0m \u001b[1;33m+\u001b[0m \u001b[0mnum2\u001b[0m\u001b[1;33m\u001b[0m\u001b[1;33m\u001b[0m\u001b[0m\n\u001b[0m\u001b[0;32m      5\u001b[0m \u001b[1;33m\u001b[0m\u001b[0m\n\u001b[0;32m      6\u001b[0m \u001b[0mprint\u001b[0m\u001b[1;33m(\u001b[0m\u001b[0madd\u001b[0m\u001b[1;33m(\u001b[0m\u001b[1;36m4\u001b[0m\u001b[1;33m,\u001b[0m \u001b[1;34m'5'\u001b[0m\u001b[1;33m)\u001b[0m\u001b[1;33m)\u001b[0m\u001b[1;33m\u001b[0m\u001b[1;33m\u001b[0m\u001b[0m\n",
      "\u001b[1;32m~\\Anaconda3\\lib\\bdb.py\u001b[0m in \u001b[0;36mtrace_dispatch\u001b[1;34m(self, frame, event, arg)\u001b[0m\n\u001b[0;32m     90\u001b[0m             \u001b[1;32mreturn\u001b[0m \u001b[0mself\u001b[0m\u001b[1;33m.\u001b[0m\u001b[0mdispatch_call\u001b[0m\u001b[1;33m(\u001b[0m\u001b[0mframe\u001b[0m\u001b[1;33m,\u001b[0m \u001b[0marg\u001b[0m\u001b[1;33m)\u001b[0m\u001b[1;33m\u001b[0m\u001b[1;33m\u001b[0m\u001b[0m\n\u001b[0;32m     91\u001b[0m         \u001b[1;32mif\u001b[0m \u001b[0mevent\u001b[0m \u001b[1;33m==\u001b[0m \u001b[1;34m'return'\u001b[0m\u001b[1;33m:\u001b[0m\u001b[1;33m\u001b[0m\u001b[1;33m\u001b[0m\u001b[0m\n\u001b[1;32m---> 92\u001b[1;33m             \u001b[1;32mreturn\u001b[0m \u001b[0mself\u001b[0m\u001b[1;33m.\u001b[0m\u001b[0mdispatch_return\u001b[0m\u001b[1;33m(\u001b[0m\u001b[0mframe\u001b[0m\u001b[1;33m,\u001b[0m \u001b[0marg\u001b[0m\u001b[1;33m)\u001b[0m\u001b[1;33m\u001b[0m\u001b[1;33m\u001b[0m\u001b[0m\n\u001b[0m\u001b[0;32m     93\u001b[0m         \u001b[1;32mif\u001b[0m \u001b[0mevent\u001b[0m \u001b[1;33m==\u001b[0m \u001b[1;34m'exception'\u001b[0m\u001b[1;33m:\u001b[0m\u001b[1;33m\u001b[0m\u001b[1;33m\u001b[0m\u001b[0m\n\u001b[0;32m     94\u001b[0m             \u001b[1;32mreturn\u001b[0m \u001b[0mself\u001b[0m\u001b[1;33m.\u001b[0m\u001b[0mdispatch_exception\u001b[0m\u001b[1;33m(\u001b[0m\u001b[0mframe\u001b[0m\u001b[1;33m,\u001b[0m \u001b[0marg\u001b[0m\u001b[1;33m)\u001b[0m\u001b[1;33m\u001b[0m\u001b[1;33m\u001b[0m\u001b[0m\n",
      "\u001b[1;32m~\\Anaconda3\\lib\\bdb.py\u001b[0m in \u001b[0;36mdispatch_return\u001b[1;34m(self, frame, arg)\u001b[0m\n\u001b[0;32m    152\u001b[0m             \u001b[1;32mfinally\u001b[0m\u001b[1;33m:\u001b[0m\u001b[1;33m\u001b[0m\u001b[1;33m\u001b[0m\u001b[0m\n\u001b[0;32m    153\u001b[0m                 \u001b[0mself\u001b[0m\u001b[1;33m.\u001b[0m\u001b[0mframe_returning\u001b[0m \u001b[1;33m=\u001b[0m \u001b[1;32mNone\u001b[0m\u001b[1;33m\u001b[0m\u001b[1;33m\u001b[0m\u001b[0m\n\u001b[1;32m--> 154\u001b[1;33m             \u001b[1;32mif\u001b[0m \u001b[0mself\u001b[0m\u001b[1;33m.\u001b[0m\u001b[0mquitting\u001b[0m\u001b[1;33m:\u001b[0m \u001b[1;32mraise\u001b[0m \u001b[0mBdbQuit\u001b[0m\u001b[1;33m\u001b[0m\u001b[1;33m\u001b[0m\u001b[0m\n\u001b[0m\u001b[0;32m    155\u001b[0m             \u001b[1;31m# The user issued a 'next' or 'until' command.\u001b[0m\u001b[1;33m\u001b[0m\u001b[1;33m\u001b[0m\u001b[1;33m\u001b[0m\u001b[0m\n\u001b[0;32m    156\u001b[0m             \u001b[1;32mif\u001b[0m \u001b[0mself\u001b[0m\u001b[1;33m.\u001b[0m\u001b[0mstopframe\u001b[0m \u001b[1;32mis\u001b[0m \u001b[0mframe\u001b[0m \u001b[1;32mand\u001b[0m \u001b[0mself\u001b[0m\u001b[1;33m.\u001b[0m\u001b[0mstoplineno\u001b[0m \u001b[1;33m!=\u001b[0m \u001b[1;33m-\u001b[0m\u001b[1;36m1\u001b[0m\u001b[1;33m:\u001b[0m\u001b[1;33m\u001b[0m\u001b[1;33m\u001b[0m\u001b[0m\n",
      "\u001b[1;31mBdbQuit\u001b[0m: "
     ]
    }
   ],
   "source": [
    "def add(num1, num2):\n",
    "    pdb.set_trace()\n",
    "    t = 2 * 3\n",
    "    return num1 + num2\n",
    "\n",
    "print(add(4, '5'))"
   ]
  },
  {
   "cell_type": "code",
   "execution_count": 20,
   "metadata": {},
   "outputs": [
    {
     "name": "stdout",
     "output_type": "stream",
     "text": [
      "> \u001b[1;32m<ipython-input-20-d5652e144737>\u001b[0m(3)\u001b[0;36madd\u001b[1;34m()\u001b[0m\n",
      "\u001b[1;32m      1 \u001b[1;33m\u001b[1;32mdef\u001b[0m \u001b[0madd\u001b[0m\u001b[1;33m(\u001b[0m\u001b[0mnum1\u001b[0m\u001b[1;33m,\u001b[0m \u001b[0mnum2\u001b[0m\u001b[1;33m)\u001b[0m\u001b[1;33m:\u001b[0m\u001b[1;33m\u001b[0m\u001b[1;33m\u001b[0m\u001b[0m\n",
      "\u001b[0m\u001b[1;32m      2 \u001b[1;33m    \u001b[0mpdb\u001b[0m\u001b[1;33m.\u001b[0m\u001b[0mset_trace\u001b[0m\u001b[1;33m(\u001b[0m\u001b[1;33m)\u001b[0m\u001b[1;33m\u001b[0m\u001b[1;33m\u001b[0m\u001b[0m\n",
      "\u001b[0m\u001b[1;32m----> 3 \u001b[1;33m    \u001b[0mt\u001b[0m \u001b[1;33m=\u001b[0m \u001b[1;36m2\u001b[0m \u001b[1;33m*\u001b[0m \u001b[1;36m3\u001b[0m\u001b[1;33m\u001b[0m\u001b[1;33m\u001b[0m\u001b[0m\n",
      "\u001b[0m\u001b[1;32m      4 \u001b[1;33m    \u001b[1;32mreturn\u001b[0m \u001b[0mnum1\u001b[0m \u001b[1;33m+\u001b[0m \u001b[0mnum2\u001b[0m\u001b[1;33m\u001b[0m\u001b[1;33m\u001b[0m\u001b[0m\n",
      "\u001b[0m\u001b[1;32m      5 \u001b[1;33m\u001b[1;33m\u001b[0m\u001b[0m\n",
      "\u001b[0m\n",
      "ipdb> help h\n",
      "h(elp)\n",
      "        Without argument, print the list of available commands.\n",
      "        With a command name as argument, print help about that command.\n",
      "        \"help pdb\" shows the full pdb documentation.\n",
      "        \"help exec\" gives help on the ! command.\n",
      "ipdb> h h\n",
      "h(elp)\n",
      "        Without argument, print the list of available commands.\n",
      "        With a command name as argument, print help about that command.\n",
      "        \"help pdb\" shows the full pdb documentation.\n",
      "        \"help exec\" gives help on the ! command.\n",
      "ipdb> h pdb\n",
      "\n",
      "The Python Debugger Pdb\n",
      "=======================\n",
      "\n",
      "To use the debugger in its simplest form:\n",
      "\n",
      "        >>> import pdb\n",
      "        >>> pdb.run('<a statement>')\n",
      "\n",
      "The debugger's prompt is '(Pdb) '.  This will stop in the first\n",
      "function call in <a statement>.\n",
      "\n",
      "Alternatively, if a statement terminated with an unhandled exception,\n",
      "you can use pdb's post-mortem facility to inspect the contents of the\n",
      "traceback:\n",
      "\n",
      "        >>> <a statement>\n",
      "        <exception traceback>\n",
      "        >>> import pdb\n",
      "        >>> pdb.pm()\n",
      "\n",
      "The commands recognized by the debugger are listed in the next\n",
      "section.  Most can be abbreviated as indicated; e.g., h(elp) means\n",
      "that 'help' can be typed as 'h' or 'help' (but not as 'he' or 'hel',\n",
      "nor as 'H' or 'Help' or 'HELP').  Optional arguments are enclosed in\n",
      "square brackets.  Alternatives in the command syntax are separated\n",
      "by a vertical bar (|).\n",
      "\n",
      "A blank line repeats the previous command literally, except for\n",
      "'list', where it lists the next 11 lines.\n",
      "\n",
      "Commands that the debugger doesn't recognize are assumed to be Python\n",
      "statements and are executed in the context of the program being\n",
      "debugged.  Python statements can also be prefixed with an exclamation\n",
      "point ('!').  This is a powerful way to inspect the program being\n",
      "debugged; it is even possible to change variables or call functions.\n",
      "When an exception occurs in such a statement, the exception name is\n",
      "printed but the debugger's state is not changed.\n",
      "\n",
      "The debugger supports aliases, which can save typing.  And aliases can\n",
      "have parameters (see the alias help entry) which allows one a certain\n",
      "level of adaptability to the context under examination.\n",
      "\n",
      "Multiple commands may be entered on a single line, separated by the\n",
      "pair ';;'.  No intelligence is applied to separating the commands; the\n",
      "input is split at the first ';;', even if it is in the middle of a\n",
      "quoted string.\n",
      "\n",
      "If a file \".pdbrc\" exists in your home directory or in the current\n",
      "directory, it is read in and executed as if it had been typed at the\n",
      "debugger prompt.  This is particularly useful for aliases.  If both\n",
      "files exist, the one in the home directory is read first and aliases\n",
      "defined there can be overridden by the local file.  This behavior can be\n",
      "disabled by passing the \"readrc=False\" argument to the Pdb constructor.\n",
      "\n",
      "Aside from aliases, the debugger is not directly programmable; but it\n",
      "is implemented as a class from which you can derive your own debugger\n",
      "class, which you can make as fancy as you like.\n",
      "\n",
      "\n",
      "Debugger commands\n",
      "=================\n",
      "\n",
      "h(elp)\n",
      "        Without argument, print the list of available commands.\n",
      "        With a command name as argument, print help about that command.\n",
      "        \"help pdb\" shows the full pdb documentation.\n",
      "        \"help exec\" gives help on the ! command.\n",
      "\n",
      "w(here)\n",
      "        Print a stack trace, with the most recent frame at the bottom.\n",
      "        An arrow indicates the \"current frame\", which determines the\n",
      "        context of most commands.  'bt' is an alias for this command.\n",
      "\n",
      "d(own) [count]\n",
      "        Move the current frame count (default one) levels down in the\n",
      "        stack trace (to a newer frame).\n",
      "\n",
      "u(p) [count]\n",
      "        Move the current frame count (default one) levels up in the\n",
      "        stack trace (to an older frame).\n",
      "\n",
      "b(reak) [ ([filename:]lineno | function) [, condition] ]\n",
      "        Without argument, list all breaks.\n",
      "\n",
      "        With a line number argument, set a break at this line in the\n",
      "        current file.  With a function name, set a break at the first\n",
      "        executable line of that function.  If a second argument is\n",
      "        present, it is a string specifying an expression which must\n",
      "        evaluate to true before the breakpoint is honored.\n",
      "\n",
      "        The line number may be prefixed with a filename and a colon,\n",
      "        to specify a breakpoint in another file (probably one that\n",
      "        hasn't been loaded yet).  The file is searched for on\n",
      "        sys.path; the .py suffix may be omitted.\n",
      "\n",
      "tbreak [ ([filename:]lineno | function) [, condition] ]\n",
      "        Same arguments as break, but sets a temporary breakpoint: it\n",
      "        is automatically deleted when first hit.\n",
      "\n",
      "cl(ear) filename:lineno\n",
      "cl(ear) [bpnumber [bpnumber...]]\n",
      "        With a space separated list of breakpoint numbers, clear\n",
      "        those breakpoints.  Without argument, clear all breaks (but\n",
      "        first ask confirmation).  With a filename:lineno argument,\n",
      "        clear all breaks at that line in that file.\n",
      "\n",
      "disable bpnumber [bpnumber ...]\n",
      "        Disables the breakpoints given as a space separated list of\n",
      "        breakpoint numbers.  Disabling a breakpoint means it cannot\n",
      "        cause the program to stop execution, but unlike clearing a\n",
      "        breakpoint, it remains in the list of breakpoints and can be\n",
      "        (re-)enabled.\n",
      "\n",
      "enable bpnumber [bpnumber ...]\n",
      "        Enables the breakpoints given as a space separated list of\n",
      "        breakpoint numbers.\n",
      "\n",
      "ignore bpnumber [count]\n",
      "        Set the ignore count for the given breakpoint number.  If\n",
      "        count is omitted, the ignore count is set to 0.  A breakpoint\n",
      "        becomes active when the ignore count is zero.  When non-zero,\n",
      "        the count is decremented each time the breakpoint is reached\n",
      "        and the breakpoint is not disabled and any associated\n",
      "        condition evaluates to true.\n",
      "\n",
      "condition bpnumber [condition]\n",
      "        Set a new condition for the breakpoint, an expression which\n",
      "        must evaluate to true before the breakpoint is honored.  If\n",
      "        condition is absent, any existing condition is removed; i.e.,\n",
      "        the breakpoint is made unconditional.\n",
      "\n",
      "commands [bpnumber]\n",
      "        (com) ...\n",
      "        (com) end\n",
      "        (Pdb)\n",
      "\n",
      "        Specify a list of commands for breakpoint number bpnumber.\n",
      "        The commands themselves are entered on the following lines.\n",
      "        Type a line containing just 'end' to terminate the commands.\n",
      "        The commands are executed when the breakpoint is hit.\n",
      "\n",
      "        To remove all commands from a breakpoint, type commands and\n",
      "        follow it immediately with end; that is, give no commands.\n",
      "\n",
      "        With no bpnumber argument, commands refers to the last\n",
      "        breakpoint set.\n",
      "\n",
      "        You can use breakpoint commands to start your program up\n",
      "        again.  Simply use the continue command, or step, or any other\n",
      "        command that resumes execution.\n",
      "\n",
      "        Specifying any command resuming execution (currently continue,\n",
      "        step, next, return, jump, quit and their abbreviations)\n",
      "        terminates the command list (as if that command was\n",
      "        immediately followed by end).  This is because any time you\n",
      "        resume execution (even with a simple next or step), you may\n",
      "        encounter another breakpoint -- which could have its own\n",
      "        command list, leading to ambiguities about which list to\n",
      "        execute.\n",
      "\n",
      "        If you use the 'silent' command in the command list, the usual\n",
      "        message about stopping at a breakpoint is not printed.  This\n",
      "        may be desirable for breakpoints that are to print a specific\n",
      "        message and then continue.  If none of the other commands\n",
      "        print anything, you will see no sign that the breakpoint was\n",
      "        reached.\n",
      "\n",
      "s(tep)\n",
      "        Execute the current line, stop at the first possible occasion\n",
      "        (either in a function that is called or in the current\n",
      "        function).\n",
      "\n",
      "n(ext)\n",
      "        Continue execution until the next line in the current function\n",
      "        is reached or it returns.\n",
      "\n",
      "unt(il) [lineno]\n",
      "        Without argument, continue execution until the line with a\n",
      "        number greater than the current one is reached.  With a line\n",
      "        number, continue execution until a line with a number greater\n",
      "        or equal to that is reached.  In both cases, also stop when\n",
      "        the current frame returns.\n",
      "\n",
      "j(ump) lineno\n",
      "        Set the next line that will be executed.  Only available in\n",
      "        the bottom-most frame.  This lets you jump back and execute\n",
      "        code again, or jump forward to skip code that you don't want\n",
      "        to run.\n",
      "\n",
      "        It should be noted that not all jumps are allowed -- for\n",
      "        instance it is not possible to jump into the middle of a\n",
      "        for loop or out of a finally clause.\n",
      "\n",
      "r(eturn)\n",
      "        Continue execution until the current function returns.\n",
      "\n",
      "retval\n",
      "        Print the return value for the last return of a function.\n",
      "\n",
      "run [args...]\n",
      "        Restart the debugged python program. If a string is supplied\n",
      "        it is split with \"shlex\", and the result is used as the new\n",
      "        sys.argv.  History, breakpoints, actions and debugger options\n",
      "        are preserved.  \"restart\" is an alias for \"run\".\n",
      "\n",
      "c(ont(inue))\n",
      "        Continue execution, only stop when a breakpoint is encountered.\n",
      "\n",
      "l(ist) [first [,last] | .]\n",
      "\n",
      "        List source code for the current file.  Without arguments,\n",
      "        list 11 lines around the current line or continue the previous\n",
      "        listing.  With . as argument, list 11 lines around the current\n",
      "        line.  With one argument, list 11 lines starting at that line.\n",
      "        With two arguments, list the given range; if the second\n",
      "        argument is less than the first, it is a count.\n",
      "\n",
      "        The current line in the current frame is indicated by \"->\".\n",
      "        If an exception is being debugged, the line where the\n",
      "        exception was originally raised or propagated is indicated by\n",
      "        \">>\", if it differs from the current line.\n",
      "\n",
      "longlist | ll\n",
      "        List the whole source code for the current function or frame.\n",
      "\n",
      "a(rgs)\n",
      "        Print the argument list of the current function.\n",
      "\n",
      "p expression\n",
      "        Print the value of the expression.\n",
      "\n",
      "pp expression\n",
      "        Pretty-print the value of the expression.\n",
      "\n",
      "whatis arg\n",
      "        Print the type of the argument.\n",
      "\n",
      "source expression\n",
      "        Try to get source code for the given object and display it.\n",
      "\n",
      "display [expression]\n",
      "\n",
      "        Display the value of the expression if it changed, each time execution\n",
      "        stops in the current frame.\n",
      "\n",
      "        Without expression, list all display expressions for the current frame.\n",
      "\n",
      "undisplay [expression]\n",
      "\n",
      "        Do not display the expression any more in the current frame.\n",
      "\n",
      "        Without expression, clear all display expressions for the current frame.\n",
      "\n",
      "interact\n",
      "\n",
      "        Start an interactive interpreter whose global namespace\n",
      "        contains all the (global and local) names found in the current scope.\n",
      "\n",
      "alias [name [command [parameter parameter ...] ]]\n",
      "        Create an alias called 'name' that executes 'command'.  The\n",
      "        command must *not* be enclosed in quotes.  Replaceable\n",
      "        parameters can be indicated by %1, %2, and so on, while %* is\n",
      "        replaced by all the parameters.  If no command is given, the\n",
      "        current alias for name is shown. If no name is given, all\n",
      "        aliases are listed.\n",
      "\n",
      "        Aliases may be nested and can contain anything that can be\n",
      "        legally typed at the pdb prompt.  Note!  You *can* override\n",
      "        internal pdb commands with aliases!  Those internal commands\n",
      "        are then hidden until the alias is removed.  Aliasing is\n",
      "        recursively applied to the first word of the command line; all\n",
      "        other words in the line are left alone.\n",
      "\n",
      "        As an example, here are two useful aliases (especially when\n",
      "        placed in the .pdbrc file):\n",
      "\n",
      "        # Print instance variables (usage \"pi classInst\")\n",
      "        alias pi for k in %1.__dict__.keys(): print(\"%1.\",k,\"=\",%1.__dict__[k])\n",
      "        # Print instance variables in self\n",
      "        alias ps pi self\n",
      "\n",
      "unalias name\n",
      "        Delete the specified alias.\n",
      "\n",
      "debug code\n",
      "        Enter a recursive debugger that steps through the code\n",
      "        argument (which is an arbitrary expression or statement to be\n",
      "        executed in the current environment).\n",
      "\n",
      "q(uit)\n",
      "exit\n",
      "        Quit from the debugger. The program being executed is aborted.\n",
      "\n",
      "(!) statement\n",
      "        Execute the (one-line) statement in the context of the current\n",
      "        stack frame.  The exclamation point can be omitted unless the\n",
      "        first word of the statement resembles a debugger command.  To\n",
      "        assign to a global variable you must always prefix the command\n",
      "        with a 'global' command, e.g.:\n",
      "        (Pdb) global list_options; list_options = ['-l']\n",
      "        (Pdb)\n"
     ]
    },
    {
     "name": "stdout",
     "output_type": "stream",
     "text": [
      "        ipdb> exit\n"
     ]
    },
    {
     "ename": "BdbQuit",
     "evalue": "",
     "output_type": "error",
     "traceback": [
      "\u001b[1;31m---------------------------------------------------------------------------\u001b[0m",
      "\u001b[1;31mBdbQuit\u001b[0m                                   Traceback (most recent call last)",
      "\u001b[1;32m<ipython-input-20-d5652e144737>\u001b[0m in \u001b[0;36m<module>\u001b[1;34m\u001b[0m\n\u001b[0;32m      4\u001b[0m     \u001b[1;32mreturn\u001b[0m \u001b[0mnum1\u001b[0m \u001b[1;33m+\u001b[0m \u001b[0mnum2\u001b[0m\u001b[1;33m\u001b[0m\u001b[1;33m\u001b[0m\u001b[0m\n\u001b[0;32m      5\u001b[0m \u001b[1;33m\u001b[0m\u001b[0m\n\u001b[1;32m----> 6\u001b[1;33m \u001b[0mprint\u001b[0m\u001b[1;33m(\u001b[0m\u001b[0madd\u001b[0m\u001b[1;33m(\u001b[0m\u001b[1;36m4\u001b[0m\u001b[1;33m,\u001b[0m \u001b[1;34m'5'\u001b[0m\u001b[1;33m)\u001b[0m\u001b[1;33m)\u001b[0m\u001b[1;33m\u001b[0m\u001b[1;33m\u001b[0m\u001b[0m\n\u001b[0m",
      "\u001b[1;32m<ipython-input-20-d5652e144737>\u001b[0m in \u001b[0;36madd\u001b[1;34m(num1, num2)\u001b[0m\n\u001b[0;32m      1\u001b[0m \u001b[1;32mdef\u001b[0m \u001b[0madd\u001b[0m\u001b[1;33m(\u001b[0m\u001b[0mnum1\u001b[0m\u001b[1;33m,\u001b[0m \u001b[0mnum2\u001b[0m\u001b[1;33m)\u001b[0m\u001b[1;33m:\u001b[0m\u001b[1;33m\u001b[0m\u001b[1;33m\u001b[0m\u001b[0m\n\u001b[0;32m      2\u001b[0m     \u001b[0mpdb\u001b[0m\u001b[1;33m.\u001b[0m\u001b[0mset_trace\u001b[0m\u001b[1;33m(\u001b[0m\u001b[1;33m)\u001b[0m\u001b[1;33m\u001b[0m\u001b[1;33m\u001b[0m\u001b[0m\n\u001b[1;32m----> 3\u001b[1;33m     \u001b[0mt\u001b[0m \u001b[1;33m=\u001b[0m \u001b[1;36m2\u001b[0m \u001b[1;33m*\u001b[0m \u001b[1;36m3\u001b[0m\u001b[1;33m\u001b[0m\u001b[1;33m\u001b[0m\u001b[0m\n\u001b[0m\u001b[0;32m      4\u001b[0m     \u001b[1;32mreturn\u001b[0m \u001b[0mnum1\u001b[0m \u001b[1;33m+\u001b[0m \u001b[0mnum2\u001b[0m\u001b[1;33m\u001b[0m\u001b[1;33m\u001b[0m\u001b[0m\n\u001b[0;32m      5\u001b[0m \u001b[1;33m\u001b[0m\u001b[0m\n",
      "\u001b[1;32m<ipython-input-20-d5652e144737>\u001b[0m in \u001b[0;36madd\u001b[1;34m(num1, num2)\u001b[0m\n\u001b[0;32m      1\u001b[0m \u001b[1;32mdef\u001b[0m \u001b[0madd\u001b[0m\u001b[1;33m(\u001b[0m\u001b[0mnum1\u001b[0m\u001b[1;33m,\u001b[0m \u001b[0mnum2\u001b[0m\u001b[1;33m)\u001b[0m\u001b[1;33m:\u001b[0m\u001b[1;33m\u001b[0m\u001b[1;33m\u001b[0m\u001b[0m\n\u001b[0;32m      2\u001b[0m     \u001b[0mpdb\u001b[0m\u001b[1;33m.\u001b[0m\u001b[0mset_trace\u001b[0m\u001b[1;33m(\u001b[0m\u001b[1;33m)\u001b[0m\u001b[1;33m\u001b[0m\u001b[1;33m\u001b[0m\u001b[0m\n\u001b[1;32m----> 3\u001b[1;33m     \u001b[0mt\u001b[0m \u001b[1;33m=\u001b[0m \u001b[1;36m2\u001b[0m \u001b[1;33m*\u001b[0m \u001b[1;36m3\u001b[0m\u001b[1;33m\u001b[0m\u001b[1;33m\u001b[0m\u001b[0m\n\u001b[0m\u001b[0;32m      4\u001b[0m     \u001b[1;32mreturn\u001b[0m \u001b[0mnum1\u001b[0m \u001b[1;33m+\u001b[0m \u001b[0mnum2\u001b[0m\u001b[1;33m\u001b[0m\u001b[1;33m\u001b[0m\u001b[0m\n\u001b[0;32m      5\u001b[0m \u001b[1;33m\u001b[0m\u001b[0m\n",
      "\u001b[1;32m~\\Anaconda3\\lib\\bdb.py\u001b[0m in \u001b[0;36mtrace_dispatch\u001b[1;34m(self, frame, event, arg)\u001b[0m\n\u001b[0;32m     86\u001b[0m             \u001b[1;32mreturn\u001b[0m \u001b[1;31m# None\u001b[0m\u001b[1;33m\u001b[0m\u001b[1;33m\u001b[0m\u001b[0m\n\u001b[0;32m     87\u001b[0m         \u001b[1;32mif\u001b[0m \u001b[0mevent\u001b[0m \u001b[1;33m==\u001b[0m \u001b[1;34m'line'\u001b[0m\u001b[1;33m:\u001b[0m\u001b[1;33m\u001b[0m\u001b[1;33m\u001b[0m\u001b[0m\n\u001b[1;32m---> 88\u001b[1;33m             \u001b[1;32mreturn\u001b[0m \u001b[0mself\u001b[0m\u001b[1;33m.\u001b[0m\u001b[0mdispatch_line\u001b[0m\u001b[1;33m(\u001b[0m\u001b[0mframe\u001b[0m\u001b[1;33m)\u001b[0m\u001b[1;33m\u001b[0m\u001b[1;33m\u001b[0m\u001b[0m\n\u001b[0m\u001b[0;32m     89\u001b[0m         \u001b[1;32mif\u001b[0m \u001b[0mevent\u001b[0m \u001b[1;33m==\u001b[0m \u001b[1;34m'call'\u001b[0m\u001b[1;33m:\u001b[0m\u001b[1;33m\u001b[0m\u001b[1;33m\u001b[0m\u001b[0m\n\u001b[0;32m     90\u001b[0m             \u001b[1;32mreturn\u001b[0m \u001b[0mself\u001b[0m\u001b[1;33m.\u001b[0m\u001b[0mdispatch_call\u001b[0m\u001b[1;33m(\u001b[0m\u001b[0mframe\u001b[0m\u001b[1;33m,\u001b[0m \u001b[0marg\u001b[0m\u001b[1;33m)\u001b[0m\u001b[1;33m\u001b[0m\u001b[1;33m\u001b[0m\u001b[0m\n",
      "\u001b[1;32m~\\Anaconda3\\lib\\bdb.py\u001b[0m in \u001b[0;36mdispatch_line\u001b[1;34m(self, frame)\u001b[0m\n\u001b[0;32m    111\u001b[0m         \u001b[1;32mif\u001b[0m \u001b[0mself\u001b[0m\u001b[1;33m.\u001b[0m\u001b[0mstop_here\u001b[0m\u001b[1;33m(\u001b[0m\u001b[0mframe\u001b[0m\u001b[1;33m)\u001b[0m \u001b[1;32mor\u001b[0m \u001b[0mself\u001b[0m\u001b[1;33m.\u001b[0m\u001b[0mbreak_here\u001b[0m\u001b[1;33m(\u001b[0m\u001b[0mframe\u001b[0m\u001b[1;33m)\u001b[0m\u001b[1;33m:\u001b[0m\u001b[1;33m\u001b[0m\u001b[1;33m\u001b[0m\u001b[0m\n\u001b[0;32m    112\u001b[0m             \u001b[0mself\u001b[0m\u001b[1;33m.\u001b[0m\u001b[0muser_line\u001b[0m\u001b[1;33m(\u001b[0m\u001b[0mframe\u001b[0m\u001b[1;33m)\u001b[0m\u001b[1;33m\u001b[0m\u001b[1;33m\u001b[0m\u001b[0m\n\u001b[1;32m--> 113\u001b[1;33m             \u001b[1;32mif\u001b[0m \u001b[0mself\u001b[0m\u001b[1;33m.\u001b[0m\u001b[0mquitting\u001b[0m\u001b[1;33m:\u001b[0m \u001b[1;32mraise\u001b[0m \u001b[0mBdbQuit\u001b[0m\u001b[1;33m\u001b[0m\u001b[1;33m\u001b[0m\u001b[0m\n\u001b[0m\u001b[0;32m    114\u001b[0m         \u001b[1;32mreturn\u001b[0m \u001b[0mself\u001b[0m\u001b[1;33m.\u001b[0m\u001b[0mtrace_dispatch\u001b[0m\u001b[1;33m\u001b[0m\u001b[1;33m\u001b[0m\u001b[0m\n\u001b[0;32m    115\u001b[0m \u001b[1;33m\u001b[0m\u001b[0m\n",
      "\u001b[1;31mBdbQuit\u001b[0m: "
     ]
    }
   ],
   "source": [
    "def add(num1, num2):\n",
    "    pdb.set_trace()\n",
    "    t = 2 * 3\n",
    "    return num1 + num2\n",
    "\n",
    "print(add(4, '5'))"
   ]
  },
  {
   "cell_type": "code",
   "execution_count": 21,
   "metadata": {},
   "outputs": [
    {
     "name": "stdout",
     "output_type": "stream",
     "text": [
      "> \u001b[1;32m<ipython-input-21-d5652e144737>\u001b[0m(3)\u001b[0;36madd\u001b[1;34m()\u001b[0m\n",
      "\u001b[1;32m      1 \u001b[1;33m\u001b[1;32mdef\u001b[0m \u001b[0madd\u001b[0m\u001b[1;33m(\u001b[0m\u001b[0mnum1\u001b[0m\u001b[1;33m,\u001b[0m \u001b[0mnum2\u001b[0m\u001b[1;33m)\u001b[0m\u001b[1;33m:\u001b[0m\u001b[1;33m\u001b[0m\u001b[1;33m\u001b[0m\u001b[0m\n",
      "\u001b[0m\u001b[1;32m      2 \u001b[1;33m    \u001b[0mpdb\u001b[0m\u001b[1;33m.\u001b[0m\u001b[0mset_trace\u001b[0m\u001b[1;33m(\u001b[0m\u001b[1;33m)\u001b[0m\u001b[1;33m\u001b[0m\u001b[1;33m\u001b[0m\u001b[0m\n",
      "\u001b[0m\u001b[1;32m----> 3 \u001b[1;33m    \u001b[0mt\u001b[0m \u001b[1;33m=\u001b[0m \u001b[1;36m2\u001b[0m \u001b[1;33m*\u001b[0m \u001b[1;36m3\u001b[0m\u001b[1;33m\u001b[0m\u001b[1;33m\u001b[0m\u001b[0m\n",
      "\u001b[0m\u001b[1;32m      4 \u001b[1;33m    \u001b[1;32mreturn\u001b[0m \u001b[0mnum1\u001b[0m \u001b[1;33m+\u001b[0m \u001b[0mnum2\u001b[0m\u001b[1;33m\u001b[0m\u001b[1;33m\u001b[0m\u001b[0m\n",
      "\u001b[0m\u001b[1;32m      5 \u001b[1;33m\u001b[1;33m\u001b[0m\u001b[0m\n",
      "\u001b[0m\n",
      "ipdb> h h\n",
      "h(elp)\n",
      "        Without argument, print the list of available commands.\n",
      "        With a command name as argument, print help about that command.\n",
      "        \"help pdb\" shows the full pdb documentation.\n",
      "        \"help exec\" gives help on the ! command.\n",
      "ipdb> h exec\n",
      "(!) statement\n",
      "        Execute the (one-line) statement in the context of the current\n",
      "        stack frame.  The exclamation point can be omitted unless the\n",
      "        first word of the statement resembles a debugger command.  To\n",
      "        assign to a global variable you must always prefix the command\n",
      "        with a 'global' command, e.g.:\n",
      "        (Pdb) global list_options; list_options = ['-l']\n",
      "        (Pdb)\n",
      "ipdb> h\n",
      "\n",
      "Documented commands (type help <topic>):\n",
      "========================================\n",
      "EOF    cl         disable  interact  next    psource  rv           undisplay\n",
      "a      clear      display  j         p       q        s            unt      \n",
      "alias  commands   down     jump      pdef    quit     skip_hidden  until    \n",
      "args   condition  enable   l         pdoc    r        source       up       \n",
      "b      cont       exit     list      pfile   restart  step         w        \n",
      "break  continue   h        ll        pinfo   return   tbreak       whatis   \n",
      "bt     d          help     longlist  pinfo2  retval   u            where    \n",
      "c      debug      ignore   n         pp      run      unalias    \n",
      "\n",
      "Miscellaneous help topics:\n",
      "==========================\n",
      "exec  pdb\n",
      "\n",
      "ipdb> h w\n",
      "w(here)\n",
      "        Print a stack trace, with the most recent frame at the bottom.\n",
      "        An arrow indicates the \"current frame\", which determines the\n",
      "        context of most commands. 'bt' is an alias for this command.\n",
      "\n",
      "        Take a number as argument as an (optional) number of context line to\n",
      "        print\n",
      "ipdb> h u\n",
      "u(p) [count]\n",
      "        Move the current frame count (default one) levels up in the\n",
      "        stack trace (to an older frame).\n",
      "\n",
      "        Will skip hidden frames.\n",
      "ipdb> h s\n",
      "s(tep)\n",
      "        Execute the current line, stop at the first possible occasion\n",
      "        (either in a function that is called or in the current\n",
      "        function).\n",
      "ipdb> h r\n",
      "r(eturn)\n",
      "        Continue execution until the current function returns.\n",
      "ipdb> exit\n"
     ]
    },
    {
     "ename": "BdbQuit",
     "evalue": "",
     "output_type": "error",
     "traceback": [
      "\u001b[1;31m---------------------------------------------------------------------------\u001b[0m",
      "\u001b[1;31mBdbQuit\u001b[0m                                   Traceback (most recent call last)",
      "\u001b[1;32m<ipython-input-21-d5652e144737>\u001b[0m in \u001b[0;36m<module>\u001b[1;34m\u001b[0m\n\u001b[0;32m      4\u001b[0m     \u001b[1;32mreturn\u001b[0m \u001b[0mnum1\u001b[0m \u001b[1;33m+\u001b[0m \u001b[0mnum2\u001b[0m\u001b[1;33m\u001b[0m\u001b[1;33m\u001b[0m\u001b[0m\n\u001b[0;32m      5\u001b[0m \u001b[1;33m\u001b[0m\u001b[0m\n\u001b[1;32m----> 6\u001b[1;33m \u001b[0mprint\u001b[0m\u001b[1;33m(\u001b[0m\u001b[0madd\u001b[0m\u001b[1;33m(\u001b[0m\u001b[1;36m4\u001b[0m\u001b[1;33m,\u001b[0m \u001b[1;34m'5'\u001b[0m\u001b[1;33m)\u001b[0m\u001b[1;33m)\u001b[0m\u001b[1;33m\u001b[0m\u001b[1;33m\u001b[0m\u001b[0m\n\u001b[0m",
      "\u001b[1;32m<ipython-input-21-d5652e144737>\u001b[0m in \u001b[0;36madd\u001b[1;34m(num1, num2)\u001b[0m\n\u001b[0;32m      1\u001b[0m \u001b[1;32mdef\u001b[0m \u001b[0madd\u001b[0m\u001b[1;33m(\u001b[0m\u001b[0mnum1\u001b[0m\u001b[1;33m,\u001b[0m \u001b[0mnum2\u001b[0m\u001b[1;33m)\u001b[0m\u001b[1;33m:\u001b[0m\u001b[1;33m\u001b[0m\u001b[1;33m\u001b[0m\u001b[0m\n\u001b[0;32m      2\u001b[0m     \u001b[0mpdb\u001b[0m\u001b[1;33m.\u001b[0m\u001b[0mset_trace\u001b[0m\u001b[1;33m(\u001b[0m\u001b[1;33m)\u001b[0m\u001b[1;33m\u001b[0m\u001b[1;33m\u001b[0m\u001b[0m\n\u001b[1;32m----> 3\u001b[1;33m     \u001b[0mt\u001b[0m \u001b[1;33m=\u001b[0m \u001b[1;36m2\u001b[0m \u001b[1;33m*\u001b[0m \u001b[1;36m3\u001b[0m\u001b[1;33m\u001b[0m\u001b[1;33m\u001b[0m\u001b[0m\n\u001b[0m\u001b[0;32m      4\u001b[0m     \u001b[1;32mreturn\u001b[0m \u001b[0mnum1\u001b[0m \u001b[1;33m+\u001b[0m \u001b[0mnum2\u001b[0m\u001b[1;33m\u001b[0m\u001b[1;33m\u001b[0m\u001b[0m\n\u001b[0;32m      5\u001b[0m \u001b[1;33m\u001b[0m\u001b[0m\n",
      "\u001b[1;32m<ipython-input-21-d5652e144737>\u001b[0m in \u001b[0;36madd\u001b[1;34m(num1, num2)\u001b[0m\n\u001b[0;32m      1\u001b[0m \u001b[1;32mdef\u001b[0m \u001b[0madd\u001b[0m\u001b[1;33m(\u001b[0m\u001b[0mnum1\u001b[0m\u001b[1;33m,\u001b[0m \u001b[0mnum2\u001b[0m\u001b[1;33m)\u001b[0m\u001b[1;33m:\u001b[0m\u001b[1;33m\u001b[0m\u001b[1;33m\u001b[0m\u001b[0m\n\u001b[0;32m      2\u001b[0m     \u001b[0mpdb\u001b[0m\u001b[1;33m.\u001b[0m\u001b[0mset_trace\u001b[0m\u001b[1;33m(\u001b[0m\u001b[1;33m)\u001b[0m\u001b[1;33m\u001b[0m\u001b[1;33m\u001b[0m\u001b[0m\n\u001b[1;32m----> 3\u001b[1;33m     \u001b[0mt\u001b[0m \u001b[1;33m=\u001b[0m \u001b[1;36m2\u001b[0m \u001b[1;33m*\u001b[0m \u001b[1;36m3\u001b[0m\u001b[1;33m\u001b[0m\u001b[1;33m\u001b[0m\u001b[0m\n\u001b[0m\u001b[0;32m      4\u001b[0m     \u001b[1;32mreturn\u001b[0m \u001b[0mnum1\u001b[0m \u001b[1;33m+\u001b[0m \u001b[0mnum2\u001b[0m\u001b[1;33m\u001b[0m\u001b[1;33m\u001b[0m\u001b[0m\n\u001b[0;32m      5\u001b[0m \u001b[1;33m\u001b[0m\u001b[0m\n",
      "\u001b[1;32m~\\Anaconda3\\lib\\bdb.py\u001b[0m in \u001b[0;36mtrace_dispatch\u001b[1;34m(self, frame, event, arg)\u001b[0m\n\u001b[0;32m     86\u001b[0m             \u001b[1;32mreturn\u001b[0m \u001b[1;31m# None\u001b[0m\u001b[1;33m\u001b[0m\u001b[1;33m\u001b[0m\u001b[0m\n\u001b[0;32m     87\u001b[0m         \u001b[1;32mif\u001b[0m \u001b[0mevent\u001b[0m \u001b[1;33m==\u001b[0m \u001b[1;34m'line'\u001b[0m\u001b[1;33m:\u001b[0m\u001b[1;33m\u001b[0m\u001b[1;33m\u001b[0m\u001b[0m\n\u001b[1;32m---> 88\u001b[1;33m             \u001b[1;32mreturn\u001b[0m \u001b[0mself\u001b[0m\u001b[1;33m.\u001b[0m\u001b[0mdispatch_line\u001b[0m\u001b[1;33m(\u001b[0m\u001b[0mframe\u001b[0m\u001b[1;33m)\u001b[0m\u001b[1;33m\u001b[0m\u001b[1;33m\u001b[0m\u001b[0m\n\u001b[0m\u001b[0;32m     89\u001b[0m         \u001b[1;32mif\u001b[0m \u001b[0mevent\u001b[0m \u001b[1;33m==\u001b[0m \u001b[1;34m'call'\u001b[0m\u001b[1;33m:\u001b[0m\u001b[1;33m\u001b[0m\u001b[1;33m\u001b[0m\u001b[0m\n\u001b[0;32m     90\u001b[0m             \u001b[1;32mreturn\u001b[0m \u001b[0mself\u001b[0m\u001b[1;33m.\u001b[0m\u001b[0mdispatch_call\u001b[0m\u001b[1;33m(\u001b[0m\u001b[0mframe\u001b[0m\u001b[1;33m,\u001b[0m \u001b[0marg\u001b[0m\u001b[1;33m)\u001b[0m\u001b[1;33m\u001b[0m\u001b[1;33m\u001b[0m\u001b[0m\n",
      "\u001b[1;32m~\\Anaconda3\\lib\\bdb.py\u001b[0m in \u001b[0;36mdispatch_line\u001b[1;34m(self, frame)\u001b[0m\n\u001b[0;32m    111\u001b[0m         \u001b[1;32mif\u001b[0m \u001b[0mself\u001b[0m\u001b[1;33m.\u001b[0m\u001b[0mstop_here\u001b[0m\u001b[1;33m(\u001b[0m\u001b[0mframe\u001b[0m\u001b[1;33m)\u001b[0m \u001b[1;32mor\u001b[0m \u001b[0mself\u001b[0m\u001b[1;33m.\u001b[0m\u001b[0mbreak_here\u001b[0m\u001b[1;33m(\u001b[0m\u001b[0mframe\u001b[0m\u001b[1;33m)\u001b[0m\u001b[1;33m:\u001b[0m\u001b[1;33m\u001b[0m\u001b[1;33m\u001b[0m\u001b[0m\n\u001b[0;32m    112\u001b[0m             \u001b[0mself\u001b[0m\u001b[1;33m.\u001b[0m\u001b[0muser_line\u001b[0m\u001b[1;33m(\u001b[0m\u001b[0mframe\u001b[0m\u001b[1;33m)\u001b[0m\u001b[1;33m\u001b[0m\u001b[1;33m\u001b[0m\u001b[0m\n\u001b[1;32m--> 113\u001b[1;33m             \u001b[1;32mif\u001b[0m \u001b[0mself\u001b[0m\u001b[1;33m.\u001b[0m\u001b[0mquitting\u001b[0m\u001b[1;33m:\u001b[0m \u001b[1;32mraise\u001b[0m \u001b[0mBdbQuit\u001b[0m\u001b[1;33m\u001b[0m\u001b[1;33m\u001b[0m\u001b[0m\n\u001b[0m\u001b[0;32m    114\u001b[0m         \u001b[1;32mreturn\u001b[0m \u001b[0mself\u001b[0m\u001b[1;33m.\u001b[0m\u001b[0mtrace_dispatch\u001b[0m\u001b[1;33m\u001b[0m\u001b[1;33m\u001b[0m\u001b[0m\n\u001b[0;32m    115\u001b[0m \u001b[1;33m\u001b[0m\u001b[0m\n",
      "\u001b[1;31mBdbQuit\u001b[0m: "
     ]
    }
   ],
   "source": [
    "def add(num1, num2):\n",
    "    pdb.set_trace()\n",
    "    t = 2 * 3\n",
    "    return num1 + num2\n",
    "\n",
    "print(add(4, '5'))"
   ]
  },
  {
   "cell_type": "code",
   "execution_count": 22,
   "metadata": {},
   "outputs": [
    {
     "name": "stdout",
     "output_type": "stream",
     "text": [
      "> \u001b[1;32m<ipython-input-22-d5652e144737>\u001b[0m(3)\u001b[0;36madd\u001b[1;34m()\u001b[0m\n",
      "\u001b[1;32m      1 \u001b[1;33m\u001b[1;32mdef\u001b[0m \u001b[0madd\u001b[0m\u001b[1;33m(\u001b[0m\u001b[0mnum1\u001b[0m\u001b[1;33m,\u001b[0m \u001b[0mnum2\u001b[0m\u001b[1;33m)\u001b[0m\u001b[1;33m:\u001b[0m\u001b[1;33m\u001b[0m\u001b[1;33m\u001b[0m\u001b[0m\n",
      "\u001b[0m\u001b[1;32m      2 \u001b[1;33m    \u001b[0mpdb\u001b[0m\u001b[1;33m.\u001b[0m\u001b[0mset_trace\u001b[0m\u001b[1;33m(\u001b[0m\u001b[1;33m)\u001b[0m\u001b[1;33m\u001b[0m\u001b[1;33m\u001b[0m\u001b[0m\n",
      "\u001b[0m\u001b[1;32m----> 3 \u001b[1;33m    \u001b[0mt\u001b[0m \u001b[1;33m=\u001b[0m \u001b[1;36m2\u001b[0m \u001b[1;33m*\u001b[0m \u001b[1;36m3\u001b[0m\u001b[1;33m\u001b[0m\u001b[1;33m\u001b[0m\u001b[0m\n",
      "\u001b[0m\u001b[1;32m      4 \u001b[1;33m    \u001b[1;32mreturn\u001b[0m \u001b[0mnum1\u001b[0m \u001b[1;33m+\u001b[0m \u001b[0mnum2\u001b[0m\u001b[1;33m\u001b[0m\u001b[1;33m\u001b[0m\u001b[0m\n",
      "\u001b[0m\u001b[1;32m      5 \u001b[1;33m\u001b[1;33m\u001b[0m\u001b[0m\n",
      "\u001b[0m\n",
      "ipdb> h\n",
      "\n",
      "Documented commands (type help <topic>):\n",
      "========================================\n",
      "EOF    cl         disable  interact  next    psource  rv           undisplay\n",
      "a      clear      display  j         p       q        s            unt      \n",
      "alias  commands   down     jump      pdef    quit     skip_hidden  until    \n",
      "args   condition  enable   l         pdoc    r        source       up       \n",
      "b      cont       exit     list      pfile   restart  step         w        \n",
      "break  continue   h        ll        pinfo   return   tbreak       whatis   \n",
      "bt     d          help     longlist  pinfo2  retval   u            where    \n",
      "c      debug      ignore   n         pp      run      unalias    \n",
      "\n",
      "Miscellaneous help topics:\n",
      "==========================\n",
      "exec  pdb\n",
      "\n",
      "ipdb> h q\n",
      "q(uit)\n",
      "exit\n",
      "Quit from the debugger. The program being executed is aborted.\n",
      "ipdb> h rv\n",
      "retval\n",
      "        Print the return value for the last return of a function.\n",
      "ipdb> h step\n",
      "s(tep)\n",
      "        Execute the current line, stop at the first possible occasion\n",
      "        (either in a function that is called or in the current\n",
      "        function).\n",
      "ipdb> h next\n",
      "n(ext)\n",
      "        Continue execution until the next line in the current function\n",
      "        is reached or it returns.\n",
      "ipdb> h p\n",
      "p expression\n",
      "        Print the value of the expression.\n",
      "ipdb> h pp\n",
      "pp expression\n",
      "        Pretty-print the value of the expression.\n",
      "ipdb> exit\n"
     ]
    },
    {
     "ename": "BdbQuit",
     "evalue": "",
     "output_type": "error",
     "traceback": [
      "\u001b[1;31m---------------------------------------------------------------------------\u001b[0m",
      "\u001b[1;31mBdbQuit\u001b[0m                                   Traceback (most recent call last)",
      "\u001b[1;32m<ipython-input-22-d5652e144737>\u001b[0m in \u001b[0;36m<module>\u001b[1;34m\u001b[0m\n\u001b[0;32m      4\u001b[0m     \u001b[1;32mreturn\u001b[0m \u001b[0mnum1\u001b[0m \u001b[1;33m+\u001b[0m \u001b[0mnum2\u001b[0m\u001b[1;33m\u001b[0m\u001b[1;33m\u001b[0m\u001b[0m\n\u001b[0;32m      5\u001b[0m \u001b[1;33m\u001b[0m\u001b[0m\n\u001b[1;32m----> 6\u001b[1;33m \u001b[0mprint\u001b[0m\u001b[1;33m(\u001b[0m\u001b[0madd\u001b[0m\u001b[1;33m(\u001b[0m\u001b[1;36m4\u001b[0m\u001b[1;33m,\u001b[0m \u001b[1;34m'5'\u001b[0m\u001b[1;33m)\u001b[0m\u001b[1;33m)\u001b[0m\u001b[1;33m\u001b[0m\u001b[1;33m\u001b[0m\u001b[0m\n\u001b[0m",
      "\u001b[1;32m<ipython-input-22-d5652e144737>\u001b[0m in \u001b[0;36madd\u001b[1;34m(num1, num2)\u001b[0m\n\u001b[0;32m      1\u001b[0m \u001b[1;32mdef\u001b[0m \u001b[0madd\u001b[0m\u001b[1;33m(\u001b[0m\u001b[0mnum1\u001b[0m\u001b[1;33m,\u001b[0m \u001b[0mnum2\u001b[0m\u001b[1;33m)\u001b[0m\u001b[1;33m:\u001b[0m\u001b[1;33m\u001b[0m\u001b[1;33m\u001b[0m\u001b[0m\n\u001b[0;32m      2\u001b[0m     \u001b[0mpdb\u001b[0m\u001b[1;33m.\u001b[0m\u001b[0mset_trace\u001b[0m\u001b[1;33m(\u001b[0m\u001b[1;33m)\u001b[0m\u001b[1;33m\u001b[0m\u001b[1;33m\u001b[0m\u001b[0m\n\u001b[1;32m----> 3\u001b[1;33m     \u001b[0mt\u001b[0m \u001b[1;33m=\u001b[0m \u001b[1;36m2\u001b[0m \u001b[1;33m*\u001b[0m \u001b[1;36m3\u001b[0m\u001b[1;33m\u001b[0m\u001b[1;33m\u001b[0m\u001b[0m\n\u001b[0m\u001b[0;32m      4\u001b[0m     \u001b[1;32mreturn\u001b[0m \u001b[0mnum1\u001b[0m \u001b[1;33m+\u001b[0m \u001b[0mnum2\u001b[0m\u001b[1;33m\u001b[0m\u001b[1;33m\u001b[0m\u001b[0m\n\u001b[0;32m      5\u001b[0m \u001b[1;33m\u001b[0m\u001b[0m\n",
      "\u001b[1;32m<ipython-input-22-d5652e144737>\u001b[0m in \u001b[0;36madd\u001b[1;34m(num1, num2)\u001b[0m\n\u001b[0;32m      1\u001b[0m \u001b[1;32mdef\u001b[0m \u001b[0madd\u001b[0m\u001b[1;33m(\u001b[0m\u001b[0mnum1\u001b[0m\u001b[1;33m,\u001b[0m \u001b[0mnum2\u001b[0m\u001b[1;33m)\u001b[0m\u001b[1;33m:\u001b[0m\u001b[1;33m\u001b[0m\u001b[1;33m\u001b[0m\u001b[0m\n\u001b[0;32m      2\u001b[0m     \u001b[0mpdb\u001b[0m\u001b[1;33m.\u001b[0m\u001b[0mset_trace\u001b[0m\u001b[1;33m(\u001b[0m\u001b[1;33m)\u001b[0m\u001b[1;33m\u001b[0m\u001b[1;33m\u001b[0m\u001b[0m\n\u001b[1;32m----> 3\u001b[1;33m     \u001b[0mt\u001b[0m \u001b[1;33m=\u001b[0m \u001b[1;36m2\u001b[0m \u001b[1;33m*\u001b[0m \u001b[1;36m3\u001b[0m\u001b[1;33m\u001b[0m\u001b[1;33m\u001b[0m\u001b[0m\n\u001b[0m\u001b[0;32m      4\u001b[0m     \u001b[1;32mreturn\u001b[0m \u001b[0mnum1\u001b[0m \u001b[1;33m+\u001b[0m \u001b[0mnum2\u001b[0m\u001b[1;33m\u001b[0m\u001b[1;33m\u001b[0m\u001b[0m\n\u001b[0;32m      5\u001b[0m \u001b[1;33m\u001b[0m\u001b[0m\n",
      "\u001b[1;32m~\\Anaconda3\\lib\\bdb.py\u001b[0m in \u001b[0;36mtrace_dispatch\u001b[1;34m(self, frame, event, arg)\u001b[0m\n\u001b[0;32m     86\u001b[0m             \u001b[1;32mreturn\u001b[0m \u001b[1;31m# None\u001b[0m\u001b[1;33m\u001b[0m\u001b[1;33m\u001b[0m\u001b[0m\n\u001b[0;32m     87\u001b[0m         \u001b[1;32mif\u001b[0m \u001b[0mevent\u001b[0m \u001b[1;33m==\u001b[0m \u001b[1;34m'line'\u001b[0m\u001b[1;33m:\u001b[0m\u001b[1;33m\u001b[0m\u001b[1;33m\u001b[0m\u001b[0m\n\u001b[1;32m---> 88\u001b[1;33m             \u001b[1;32mreturn\u001b[0m \u001b[0mself\u001b[0m\u001b[1;33m.\u001b[0m\u001b[0mdispatch_line\u001b[0m\u001b[1;33m(\u001b[0m\u001b[0mframe\u001b[0m\u001b[1;33m)\u001b[0m\u001b[1;33m\u001b[0m\u001b[1;33m\u001b[0m\u001b[0m\n\u001b[0m\u001b[0;32m     89\u001b[0m         \u001b[1;32mif\u001b[0m \u001b[0mevent\u001b[0m \u001b[1;33m==\u001b[0m \u001b[1;34m'call'\u001b[0m\u001b[1;33m:\u001b[0m\u001b[1;33m\u001b[0m\u001b[1;33m\u001b[0m\u001b[0m\n\u001b[0;32m     90\u001b[0m             \u001b[1;32mreturn\u001b[0m \u001b[0mself\u001b[0m\u001b[1;33m.\u001b[0m\u001b[0mdispatch_call\u001b[0m\u001b[1;33m(\u001b[0m\u001b[0mframe\u001b[0m\u001b[1;33m,\u001b[0m \u001b[0marg\u001b[0m\u001b[1;33m)\u001b[0m\u001b[1;33m\u001b[0m\u001b[1;33m\u001b[0m\u001b[0m\n",
      "\u001b[1;32m~\\Anaconda3\\lib\\bdb.py\u001b[0m in \u001b[0;36mdispatch_line\u001b[1;34m(self, frame)\u001b[0m\n\u001b[0;32m    111\u001b[0m         \u001b[1;32mif\u001b[0m \u001b[0mself\u001b[0m\u001b[1;33m.\u001b[0m\u001b[0mstop_here\u001b[0m\u001b[1;33m(\u001b[0m\u001b[0mframe\u001b[0m\u001b[1;33m)\u001b[0m \u001b[1;32mor\u001b[0m \u001b[0mself\u001b[0m\u001b[1;33m.\u001b[0m\u001b[0mbreak_here\u001b[0m\u001b[1;33m(\u001b[0m\u001b[0mframe\u001b[0m\u001b[1;33m)\u001b[0m\u001b[1;33m:\u001b[0m\u001b[1;33m\u001b[0m\u001b[1;33m\u001b[0m\u001b[0m\n\u001b[0;32m    112\u001b[0m             \u001b[0mself\u001b[0m\u001b[1;33m.\u001b[0m\u001b[0muser_line\u001b[0m\u001b[1;33m(\u001b[0m\u001b[0mframe\u001b[0m\u001b[1;33m)\u001b[0m\u001b[1;33m\u001b[0m\u001b[1;33m\u001b[0m\u001b[0m\n\u001b[1;32m--> 113\u001b[1;33m             \u001b[1;32mif\u001b[0m \u001b[0mself\u001b[0m\u001b[1;33m.\u001b[0m\u001b[0mquitting\u001b[0m\u001b[1;33m:\u001b[0m \u001b[1;32mraise\u001b[0m \u001b[0mBdbQuit\u001b[0m\u001b[1;33m\u001b[0m\u001b[1;33m\u001b[0m\u001b[0m\n\u001b[0m\u001b[0;32m    114\u001b[0m         \u001b[1;32mreturn\u001b[0m \u001b[0mself\u001b[0m\u001b[1;33m.\u001b[0m\u001b[0mtrace_dispatch\u001b[0m\u001b[1;33m\u001b[0m\u001b[1;33m\u001b[0m\u001b[0m\n\u001b[0;32m    115\u001b[0m \u001b[1;33m\u001b[0m\u001b[0m\n",
      "\u001b[1;31mBdbQuit\u001b[0m: "
     ]
    }
   ],
   "source": [
    "def add(num1, num2):\n",
    "    pdb.set_trace()\n",
    "    t = 2 * 3\n",
    "    return num1 + num2\n",
    "\n",
    "print(add(4, '5'))"
   ]
  },
  {
   "cell_type": "code",
   "execution_count": 23,
   "metadata": {},
   "outputs": [
    {
     "name": "stdout",
     "output_type": "stream",
     "text": [
      "> \u001b[1;32m<ipython-input-23-d5652e144737>\u001b[0m(3)\u001b[0;36madd\u001b[1;34m()\u001b[0m\n",
      "\u001b[1;32m      1 \u001b[1;33m\u001b[1;32mdef\u001b[0m \u001b[0madd\u001b[0m\u001b[1;33m(\u001b[0m\u001b[0mnum1\u001b[0m\u001b[1;33m,\u001b[0m \u001b[0mnum2\u001b[0m\u001b[1;33m)\u001b[0m\u001b[1;33m:\u001b[0m\u001b[1;33m\u001b[0m\u001b[1;33m\u001b[0m\u001b[0m\n",
      "\u001b[0m\u001b[1;32m      2 \u001b[1;33m    \u001b[0mpdb\u001b[0m\u001b[1;33m.\u001b[0m\u001b[0mset_trace\u001b[0m\u001b[1;33m(\u001b[0m\u001b[1;33m)\u001b[0m\u001b[1;33m\u001b[0m\u001b[1;33m\u001b[0m\u001b[0m\n",
      "\u001b[0m\u001b[1;32m----> 3 \u001b[1;33m    \u001b[0mt\u001b[0m \u001b[1;33m=\u001b[0m \u001b[1;36m2\u001b[0m \u001b[1;33m*\u001b[0m \u001b[1;36m3\u001b[0m\u001b[1;33m\u001b[0m\u001b[1;33m\u001b[0m\u001b[0m\n",
      "\u001b[0m\u001b[1;32m      4 \u001b[1;33m    \u001b[1;32mreturn\u001b[0m \u001b[0mnum1\u001b[0m \u001b[1;33m+\u001b[0m \u001b[0mnum2\u001b[0m\u001b[1;33m\u001b[0m\u001b[1;33m\u001b[0m\u001b[0m\n",
      "\u001b[0m\u001b[1;32m      5 \u001b[1;33m\u001b[1;33m\u001b[0m\u001b[0m\n",
      "\u001b[0m\n",
      "ipdb> h\n",
      "\n",
      "Documented commands (type help <topic>):\n",
      "========================================\n",
      "EOF    cl         disable  interact  next    psource  rv           undisplay\n",
      "a      clear      display  j         p       q        s            unt      \n",
      "alias  commands   down     jump      pdef    quit     skip_hidden  until    \n",
      "args   condition  enable   l         pdoc    r        source       up       \n",
      "b      cont       exit     list      pfile   restart  step         w        \n",
      "break  continue   h        ll        pinfo   return   tbreak       whatis   \n",
      "bt     d          help     longlist  pinfo2  retval   u            where    \n",
      "c      debug      ignore   n         pp      run      unalias    \n",
      "\n",
      "Miscellaneous help topics:\n",
      "==========================\n",
      "exec  pdb\n",
      "\n",
      "ipdb> h n\n",
      "n(ext)\n",
      "        Continue execution until the next line in the current function\n",
      "        is reached or it returns.\n",
      "ipdb> h l\n",
      "Print lines of code from the current stack frame\n",
      "ipdb> h ll\n",
      "Print lines of code from the current stack frame.\n",
      "\n",
      "        Shows more lines than 'list' does.\n",
      "ipdb> h n\n",
      "n(ext)\n",
      "        Continue execution until the next line in the current function\n",
      "        is reached or it returns.\n",
      "ipdb> h j\n",
      "j(ump) lineno\n",
      "        Set the next line that will be executed.  Only available in\n",
      "        the bottom-most frame.  This lets you jump back and execute\n",
      "        code again, or jump forward to skip code that you don't want\n",
      "        to run.\n",
      "\n",
      "        It should be noted that not all jumps are allowed -- for\n",
      "        instance it is not possible to jump into the middle of a\n",
      "        for loop or out of a finally clause.\n",
      "ipdb> h cl\n",
      "cl(ear) filename:lineno\n",
      "cl(ear) [bpnumber [bpnumber...]]\n",
      "        With a space separated list of breakpoint numbers, clear\n",
      "        those breakpoints.  Without argument, clear all breaks (but\n",
      "        first ask confirmation).  With a filename:lineno argument,\n",
      "        clear all breaks at that line in that file.\n",
      "ipdb> h d\n",
      "d(own) [count]\n",
      "        Move the current frame count (default one) levels down in the\n",
      "        stack trace (to a newer frame).\n",
      "\n",
      "        Will skip hidden frames.\n",
      "ipdb> exit\n"
     ]
    },
    {
     "ename": "BdbQuit",
     "evalue": "",
     "output_type": "error",
     "traceback": [
      "\u001b[1;31m---------------------------------------------------------------------------\u001b[0m",
      "\u001b[1;31mBdbQuit\u001b[0m                                   Traceback (most recent call last)",
      "\u001b[1;32m<ipython-input-23-d5652e144737>\u001b[0m in \u001b[0;36m<module>\u001b[1;34m\u001b[0m\n\u001b[0;32m      4\u001b[0m     \u001b[1;32mreturn\u001b[0m \u001b[0mnum1\u001b[0m \u001b[1;33m+\u001b[0m \u001b[0mnum2\u001b[0m\u001b[1;33m\u001b[0m\u001b[1;33m\u001b[0m\u001b[0m\n\u001b[0;32m      5\u001b[0m \u001b[1;33m\u001b[0m\u001b[0m\n\u001b[1;32m----> 6\u001b[1;33m \u001b[0mprint\u001b[0m\u001b[1;33m(\u001b[0m\u001b[0madd\u001b[0m\u001b[1;33m(\u001b[0m\u001b[1;36m4\u001b[0m\u001b[1;33m,\u001b[0m \u001b[1;34m'5'\u001b[0m\u001b[1;33m)\u001b[0m\u001b[1;33m)\u001b[0m\u001b[1;33m\u001b[0m\u001b[1;33m\u001b[0m\u001b[0m\n\u001b[0m",
      "\u001b[1;32m<ipython-input-23-d5652e144737>\u001b[0m in \u001b[0;36madd\u001b[1;34m(num1, num2)\u001b[0m\n\u001b[0;32m      1\u001b[0m \u001b[1;32mdef\u001b[0m \u001b[0madd\u001b[0m\u001b[1;33m(\u001b[0m\u001b[0mnum1\u001b[0m\u001b[1;33m,\u001b[0m \u001b[0mnum2\u001b[0m\u001b[1;33m)\u001b[0m\u001b[1;33m:\u001b[0m\u001b[1;33m\u001b[0m\u001b[1;33m\u001b[0m\u001b[0m\n\u001b[0;32m      2\u001b[0m     \u001b[0mpdb\u001b[0m\u001b[1;33m.\u001b[0m\u001b[0mset_trace\u001b[0m\u001b[1;33m(\u001b[0m\u001b[1;33m)\u001b[0m\u001b[1;33m\u001b[0m\u001b[1;33m\u001b[0m\u001b[0m\n\u001b[1;32m----> 3\u001b[1;33m     \u001b[0mt\u001b[0m \u001b[1;33m=\u001b[0m \u001b[1;36m2\u001b[0m \u001b[1;33m*\u001b[0m \u001b[1;36m3\u001b[0m\u001b[1;33m\u001b[0m\u001b[1;33m\u001b[0m\u001b[0m\n\u001b[0m\u001b[0;32m      4\u001b[0m     \u001b[1;32mreturn\u001b[0m \u001b[0mnum1\u001b[0m \u001b[1;33m+\u001b[0m \u001b[0mnum2\u001b[0m\u001b[1;33m\u001b[0m\u001b[1;33m\u001b[0m\u001b[0m\n\u001b[0;32m      5\u001b[0m \u001b[1;33m\u001b[0m\u001b[0m\n",
      "\u001b[1;32m<ipython-input-23-d5652e144737>\u001b[0m in \u001b[0;36madd\u001b[1;34m(num1, num2)\u001b[0m\n\u001b[0;32m      1\u001b[0m \u001b[1;32mdef\u001b[0m \u001b[0madd\u001b[0m\u001b[1;33m(\u001b[0m\u001b[0mnum1\u001b[0m\u001b[1;33m,\u001b[0m \u001b[0mnum2\u001b[0m\u001b[1;33m)\u001b[0m\u001b[1;33m:\u001b[0m\u001b[1;33m\u001b[0m\u001b[1;33m\u001b[0m\u001b[0m\n\u001b[0;32m      2\u001b[0m     \u001b[0mpdb\u001b[0m\u001b[1;33m.\u001b[0m\u001b[0mset_trace\u001b[0m\u001b[1;33m(\u001b[0m\u001b[1;33m)\u001b[0m\u001b[1;33m\u001b[0m\u001b[1;33m\u001b[0m\u001b[0m\n\u001b[1;32m----> 3\u001b[1;33m     \u001b[0mt\u001b[0m \u001b[1;33m=\u001b[0m \u001b[1;36m2\u001b[0m \u001b[1;33m*\u001b[0m \u001b[1;36m3\u001b[0m\u001b[1;33m\u001b[0m\u001b[1;33m\u001b[0m\u001b[0m\n\u001b[0m\u001b[0;32m      4\u001b[0m     \u001b[1;32mreturn\u001b[0m \u001b[0mnum1\u001b[0m \u001b[1;33m+\u001b[0m \u001b[0mnum2\u001b[0m\u001b[1;33m\u001b[0m\u001b[1;33m\u001b[0m\u001b[0m\n\u001b[0;32m      5\u001b[0m \u001b[1;33m\u001b[0m\u001b[0m\n",
      "\u001b[1;32m~\\Anaconda3\\lib\\bdb.py\u001b[0m in \u001b[0;36mtrace_dispatch\u001b[1;34m(self, frame, event, arg)\u001b[0m\n\u001b[0;32m     86\u001b[0m             \u001b[1;32mreturn\u001b[0m \u001b[1;31m# None\u001b[0m\u001b[1;33m\u001b[0m\u001b[1;33m\u001b[0m\u001b[0m\n\u001b[0;32m     87\u001b[0m         \u001b[1;32mif\u001b[0m \u001b[0mevent\u001b[0m \u001b[1;33m==\u001b[0m \u001b[1;34m'line'\u001b[0m\u001b[1;33m:\u001b[0m\u001b[1;33m\u001b[0m\u001b[1;33m\u001b[0m\u001b[0m\n\u001b[1;32m---> 88\u001b[1;33m             \u001b[1;32mreturn\u001b[0m \u001b[0mself\u001b[0m\u001b[1;33m.\u001b[0m\u001b[0mdispatch_line\u001b[0m\u001b[1;33m(\u001b[0m\u001b[0mframe\u001b[0m\u001b[1;33m)\u001b[0m\u001b[1;33m\u001b[0m\u001b[1;33m\u001b[0m\u001b[0m\n\u001b[0m\u001b[0;32m     89\u001b[0m         \u001b[1;32mif\u001b[0m \u001b[0mevent\u001b[0m \u001b[1;33m==\u001b[0m \u001b[1;34m'call'\u001b[0m\u001b[1;33m:\u001b[0m\u001b[1;33m\u001b[0m\u001b[1;33m\u001b[0m\u001b[0m\n\u001b[0;32m     90\u001b[0m             \u001b[1;32mreturn\u001b[0m \u001b[0mself\u001b[0m\u001b[1;33m.\u001b[0m\u001b[0mdispatch_call\u001b[0m\u001b[1;33m(\u001b[0m\u001b[0mframe\u001b[0m\u001b[1;33m,\u001b[0m \u001b[0marg\u001b[0m\u001b[1;33m)\u001b[0m\u001b[1;33m\u001b[0m\u001b[1;33m\u001b[0m\u001b[0m\n",
      "\u001b[1;32m~\\Anaconda3\\lib\\bdb.py\u001b[0m in \u001b[0;36mdispatch_line\u001b[1;34m(self, frame)\u001b[0m\n\u001b[0;32m    111\u001b[0m         \u001b[1;32mif\u001b[0m \u001b[0mself\u001b[0m\u001b[1;33m.\u001b[0m\u001b[0mstop_here\u001b[0m\u001b[1;33m(\u001b[0m\u001b[0mframe\u001b[0m\u001b[1;33m)\u001b[0m \u001b[1;32mor\u001b[0m \u001b[0mself\u001b[0m\u001b[1;33m.\u001b[0m\u001b[0mbreak_here\u001b[0m\u001b[1;33m(\u001b[0m\u001b[0mframe\u001b[0m\u001b[1;33m)\u001b[0m\u001b[1;33m:\u001b[0m\u001b[1;33m\u001b[0m\u001b[1;33m\u001b[0m\u001b[0m\n\u001b[0;32m    112\u001b[0m             \u001b[0mself\u001b[0m\u001b[1;33m.\u001b[0m\u001b[0muser_line\u001b[0m\u001b[1;33m(\u001b[0m\u001b[0mframe\u001b[0m\u001b[1;33m)\u001b[0m\u001b[1;33m\u001b[0m\u001b[1;33m\u001b[0m\u001b[0m\n\u001b[1;32m--> 113\u001b[1;33m             \u001b[1;32mif\u001b[0m \u001b[0mself\u001b[0m\u001b[1;33m.\u001b[0m\u001b[0mquitting\u001b[0m\u001b[1;33m:\u001b[0m \u001b[1;32mraise\u001b[0m \u001b[0mBdbQuit\u001b[0m\u001b[1;33m\u001b[0m\u001b[1;33m\u001b[0m\u001b[0m\n\u001b[0m\u001b[0;32m    114\u001b[0m         \u001b[1;32mreturn\u001b[0m \u001b[0mself\u001b[0m\u001b[1;33m.\u001b[0m\u001b[0mtrace_dispatch\u001b[0m\u001b[1;33m\u001b[0m\u001b[1;33m\u001b[0m\u001b[0m\n\u001b[0;32m    115\u001b[0m \u001b[1;33m\u001b[0m\u001b[0m\n",
      "\u001b[1;31mBdbQuit\u001b[0m: "
     ]
    }
   ],
   "source": [
    "def add(num1, num2):\n",
    "    pdb.set_trace()\n",
    "    t = 2 * 3\n",
    "    return num1 + num2\n",
    "\n",
    "print(add(4, '5'))"
   ]
  },
  {
   "cell_type": "code",
   "execution_count": 24,
   "metadata": {},
   "outputs": [
    {
     "name": "stdout",
     "output_type": "stream",
     "text": [
      "> \u001b[1;32m<ipython-input-24-d5652e144737>\u001b[0m(3)\u001b[0;36madd\u001b[1;34m()\u001b[0m\n",
      "\u001b[1;32m      1 \u001b[1;33m\u001b[1;32mdef\u001b[0m \u001b[0madd\u001b[0m\u001b[1;33m(\u001b[0m\u001b[0mnum1\u001b[0m\u001b[1;33m,\u001b[0m \u001b[0mnum2\u001b[0m\u001b[1;33m)\u001b[0m\u001b[1;33m:\u001b[0m\u001b[1;33m\u001b[0m\u001b[1;33m\u001b[0m\u001b[0m\n",
      "\u001b[0m\u001b[1;32m      2 \u001b[1;33m    \u001b[0mpdb\u001b[0m\u001b[1;33m.\u001b[0m\u001b[0mset_trace\u001b[0m\u001b[1;33m(\u001b[0m\u001b[1;33m)\u001b[0m\u001b[1;33m\u001b[0m\u001b[1;33m\u001b[0m\u001b[0m\n",
      "\u001b[0m\u001b[1;32m----> 3 \u001b[1;33m    \u001b[0mt\u001b[0m \u001b[1;33m=\u001b[0m \u001b[1;36m2\u001b[0m \u001b[1;33m*\u001b[0m \u001b[1;36m3\u001b[0m\u001b[1;33m\u001b[0m\u001b[1;33m\u001b[0m\u001b[0m\n",
      "\u001b[0m\u001b[1;32m      4 \u001b[1;33m    \u001b[1;32mreturn\u001b[0m \u001b[0mnum1\u001b[0m \u001b[1;33m+\u001b[0m \u001b[0mnum2\u001b[0m\u001b[1;33m\u001b[0m\u001b[1;33m\u001b[0m\u001b[0m\n",
      "\u001b[0m\u001b[1;32m      5 \u001b[1;33m\u001b[1;33m\u001b[0m\u001b[0m\n",
      "\u001b[0m\n",
      "ipdb> h\n",
      "\n",
      "Documented commands (type help <topic>):\n",
      "========================================\n",
      "EOF    cl         disable  interact  next    psource  rv           undisplay\n",
      "a      clear      display  j         p       q        s            unt      \n",
      "alias  commands   down     jump      pdef    quit     skip_hidden  until    \n",
      "args   condition  enable   l         pdoc    r        source       up       \n",
      "b      cont       exit     list      pfile   restart  step         w        \n",
      "break  continue   h        ll        pinfo   return   tbreak       whatis   \n",
      "bt     d          help     longlist  pinfo2  retval   u            where    \n",
      "c      debug      ignore   n         pp      run      unalias    \n",
      "\n",
      "Miscellaneous help topics:\n",
      "==========================\n",
      "exec  pdb\n",
      "\n",
      "ipdb> h c\n",
      "c(ont(inue))\n",
      "        Continue execution, only stop when a breakpoint is encountered.\n",
      "ipdb> h bt\n",
      "w(here)\n",
      "        Print a stack trace, with the most recent frame at the bottom.\n",
      "        An arrow indicates the \"current frame\", which determines the\n",
      "        context of most commands.  'bt' is an alias for this command.\n",
      "ipdb> h b\n",
      "b(reak) [ ([filename:]lineno | function) [, condition] ]\n",
      "        Without argument, list all breaks.\n",
      "\n",
      "        With a line number argument, set a break at this line in the\n",
      "        current file.  With a function name, set a break at the first\n",
      "        executable line of that function.  If a second argument is\n",
      "        present, it is a string specifying an expression which must\n",
      "        evaluate to true before the breakpoint is honored.\n",
      "\n",
      "        The line number may be prefixed with a filename and a colon,\n",
      "        to specify a breakpoint in another file (probably one that\n",
      "        hasn't been loaded yet).  The file is searched for on\n",
      "        sys.path; the .py suffix may be omitted.\n",
      "ipdb> h EOF\n",
      "EOF\n",
      "        Handles the receipt of EOF as a command.\n",
      "ipdb> exit\n"
     ]
    },
    {
     "ename": "BdbQuit",
     "evalue": "",
     "output_type": "error",
     "traceback": [
      "\u001b[1;31m---------------------------------------------------------------------------\u001b[0m",
      "\u001b[1;31mBdbQuit\u001b[0m                                   Traceback (most recent call last)",
      "\u001b[1;32m<ipython-input-24-d5652e144737>\u001b[0m in \u001b[0;36m<module>\u001b[1;34m\u001b[0m\n\u001b[0;32m      4\u001b[0m     \u001b[1;32mreturn\u001b[0m \u001b[0mnum1\u001b[0m \u001b[1;33m+\u001b[0m \u001b[0mnum2\u001b[0m\u001b[1;33m\u001b[0m\u001b[1;33m\u001b[0m\u001b[0m\n\u001b[0;32m      5\u001b[0m \u001b[1;33m\u001b[0m\u001b[0m\n\u001b[1;32m----> 6\u001b[1;33m \u001b[0mprint\u001b[0m\u001b[1;33m(\u001b[0m\u001b[0madd\u001b[0m\u001b[1;33m(\u001b[0m\u001b[1;36m4\u001b[0m\u001b[1;33m,\u001b[0m \u001b[1;34m'5'\u001b[0m\u001b[1;33m)\u001b[0m\u001b[1;33m)\u001b[0m\u001b[1;33m\u001b[0m\u001b[1;33m\u001b[0m\u001b[0m\n\u001b[0m",
      "\u001b[1;32m<ipython-input-24-d5652e144737>\u001b[0m in \u001b[0;36madd\u001b[1;34m(num1, num2)\u001b[0m\n\u001b[0;32m      1\u001b[0m \u001b[1;32mdef\u001b[0m \u001b[0madd\u001b[0m\u001b[1;33m(\u001b[0m\u001b[0mnum1\u001b[0m\u001b[1;33m,\u001b[0m \u001b[0mnum2\u001b[0m\u001b[1;33m)\u001b[0m\u001b[1;33m:\u001b[0m\u001b[1;33m\u001b[0m\u001b[1;33m\u001b[0m\u001b[0m\n\u001b[0;32m      2\u001b[0m     \u001b[0mpdb\u001b[0m\u001b[1;33m.\u001b[0m\u001b[0mset_trace\u001b[0m\u001b[1;33m(\u001b[0m\u001b[1;33m)\u001b[0m\u001b[1;33m\u001b[0m\u001b[1;33m\u001b[0m\u001b[0m\n\u001b[1;32m----> 3\u001b[1;33m     \u001b[0mt\u001b[0m \u001b[1;33m=\u001b[0m \u001b[1;36m2\u001b[0m \u001b[1;33m*\u001b[0m \u001b[1;36m3\u001b[0m\u001b[1;33m\u001b[0m\u001b[1;33m\u001b[0m\u001b[0m\n\u001b[0m\u001b[0;32m      4\u001b[0m     \u001b[1;32mreturn\u001b[0m \u001b[0mnum1\u001b[0m \u001b[1;33m+\u001b[0m \u001b[0mnum2\u001b[0m\u001b[1;33m\u001b[0m\u001b[1;33m\u001b[0m\u001b[0m\n\u001b[0;32m      5\u001b[0m \u001b[1;33m\u001b[0m\u001b[0m\n",
      "\u001b[1;32m<ipython-input-24-d5652e144737>\u001b[0m in \u001b[0;36madd\u001b[1;34m(num1, num2)\u001b[0m\n\u001b[0;32m      1\u001b[0m \u001b[1;32mdef\u001b[0m \u001b[0madd\u001b[0m\u001b[1;33m(\u001b[0m\u001b[0mnum1\u001b[0m\u001b[1;33m,\u001b[0m \u001b[0mnum2\u001b[0m\u001b[1;33m)\u001b[0m\u001b[1;33m:\u001b[0m\u001b[1;33m\u001b[0m\u001b[1;33m\u001b[0m\u001b[0m\n\u001b[0;32m      2\u001b[0m     \u001b[0mpdb\u001b[0m\u001b[1;33m.\u001b[0m\u001b[0mset_trace\u001b[0m\u001b[1;33m(\u001b[0m\u001b[1;33m)\u001b[0m\u001b[1;33m\u001b[0m\u001b[1;33m\u001b[0m\u001b[0m\n\u001b[1;32m----> 3\u001b[1;33m     \u001b[0mt\u001b[0m \u001b[1;33m=\u001b[0m \u001b[1;36m2\u001b[0m \u001b[1;33m*\u001b[0m \u001b[1;36m3\u001b[0m\u001b[1;33m\u001b[0m\u001b[1;33m\u001b[0m\u001b[0m\n\u001b[0m\u001b[0;32m      4\u001b[0m     \u001b[1;32mreturn\u001b[0m \u001b[0mnum1\u001b[0m \u001b[1;33m+\u001b[0m \u001b[0mnum2\u001b[0m\u001b[1;33m\u001b[0m\u001b[1;33m\u001b[0m\u001b[0m\n\u001b[0;32m      5\u001b[0m \u001b[1;33m\u001b[0m\u001b[0m\n",
      "\u001b[1;32m~\\Anaconda3\\lib\\bdb.py\u001b[0m in \u001b[0;36mtrace_dispatch\u001b[1;34m(self, frame, event, arg)\u001b[0m\n\u001b[0;32m     86\u001b[0m             \u001b[1;32mreturn\u001b[0m \u001b[1;31m# None\u001b[0m\u001b[1;33m\u001b[0m\u001b[1;33m\u001b[0m\u001b[0m\n\u001b[0;32m     87\u001b[0m         \u001b[1;32mif\u001b[0m \u001b[0mevent\u001b[0m \u001b[1;33m==\u001b[0m \u001b[1;34m'line'\u001b[0m\u001b[1;33m:\u001b[0m\u001b[1;33m\u001b[0m\u001b[1;33m\u001b[0m\u001b[0m\n\u001b[1;32m---> 88\u001b[1;33m             \u001b[1;32mreturn\u001b[0m \u001b[0mself\u001b[0m\u001b[1;33m.\u001b[0m\u001b[0mdispatch_line\u001b[0m\u001b[1;33m(\u001b[0m\u001b[0mframe\u001b[0m\u001b[1;33m)\u001b[0m\u001b[1;33m\u001b[0m\u001b[1;33m\u001b[0m\u001b[0m\n\u001b[0m\u001b[0;32m     89\u001b[0m         \u001b[1;32mif\u001b[0m \u001b[0mevent\u001b[0m \u001b[1;33m==\u001b[0m \u001b[1;34m'call'\u001b[0m\u001b[1;33m:\u001b[0m\u001b[1;33m\u001b[0m\u001b[1;33m\u001b[0m\u001b[0m\n\u001b[0;32m     90\u001b[0m             \u001b[1;32mreturn\u001b[0m \u001b[0mself\u001b[0m\u001b[1;33m.\u001b[0m\u001b[0mdispatch_call\u001b[0m\u001b[1;33m(\u001b[0m\u001b[0mframe\u001b[0m\u001b[1;33m,\u001b[0m \u001b[0marg\u001b[0m\u001b[1;33m)\u001b[0m\u001b[1;33m\u001b[0m\u001b[1;33m\u001b[0m\u001b[0m\n",
      "\u001b[1;32m~\\Anaconda3\\lib\\bdb.py\u001b[0m in \u001b[0;36mdispatch_line\u001b[1;34m(self, frame)\u001b[0m\n\u001b[0;32m    111\u001b[0m         \u001b[1;32mif\u001b[0m \u001b[0mself\u001b[0m\u001b[1;33m.\u001b[0m\u001b[0mstop_here\u001b[0m\u001b[1;33m(\u001b[0m\u001b[0mframe\u001b[0m\u001b[1;33m)\u001b[0m \u001b[1;32mor\u001b[0m \u001b[0mself\u001b[0m\u001b[1;33m.\u001b[0m\u001b[0mbreak_here\u001b[0m\u001b[1;33m(\u001b[0m\u001b[0mframe\u001b[0m\u001b[1;33m)\u001b[0m\u001b[1;33m:\u001b[0m\u001b[1;33m\u001b[0m\u001b[1;33m\u001b[0m\u001b[0m\n\u001b[0;32m    112\u001b[0m             \u001b[0mself\u001b[0m\u001b[1;33m.\u001b[0m\u001b[0muser_line\u001b[0m\u001b[1;33m(\u001b[0m\u001b[0mframe\u001b[0m\u001b[1;33m)\u001b[0m\u001b[1;33m\u001b[0m\u001b[1;33m\u001b[0m\u001b[0m\n\u001b[1;32m--> 113\u001b[1;33m             \u001b[1;32mif\u001b[0m \u001b[0mself\u001b[0m\u001b[1;33m.\u001b[0m\u001b[0mquitting\u001b[0m\u001b[1;33m:\u001b[0m \u001b[1;32mraise\u001b[0m \u001b[0mBdbQuit\u001b[0m\u001b[1;33m\u001b[0m\u001b[1;33m\u001b[0m\u001b[0m\n\u001b[0m\u001b[0;32m    114\u001b[0m         \u001b[1;32mreturn\u001b[0m \u001b[0mself\u001b[0m\u001b[1;33m.\u001b[0m\u001b[0mtrace_dispatch\u001b[0m\u001b[1;33m\u001b[0m\u001b[1;33m\u001b[0m\u001b[0m\n\u001b[0;32m    115\u001b[0m \u001b[1;33m\u001b[0m\u001b[0m\n",
      "\u001b[1;31mBdbQuit\u001b[0m: "
     ]
    }
   ],
   "source": [
    "def add(num1, num2):\n",
    "    pdb.set_trace()\n",
    "    t = 2 * 3\n",
    "    return num1 + num2\n",
    "\n",
    "print(add(4, '5'))"
   ]
  },
  {
   "cell_type": "code",
   "execution_count": 30,
   "metadata": {},
   "outputs": [
    {
     "name": "stdout",
     "output_type": "stream",
     "text": [
      "hello stranger\n"
     ]
    }
   ],
   "source": [
    "# ternary operator (conditional expression)\n",
    "# do_this_if_condition_is_true if condition else do_this_if_condition_is_false\n",
    "\n",
    "is_friend = False\n",
    "message = 'hello friend' if is_friend else 'hello stranger'\n",
    "print(message)"
   ]
  },
  {
   "cell_type": "code",
   "execution_count": 31,
   "metadata": {},
   "outputs": [
    {
     "name": "stdout",
     "output_type": "stream",
     "text": [
      "hello friend\n"
     ]
    }
   ],
   "source": [
    "is_friend = True\n",
    "message = 'hello friend' if is_friend else 'hello stranger'\n",
    "print(message)"
   ]
  },
  {
   "cell_type": "code",
   "execution_count": 32,
   "metadata": {},
   "outputs": [
    {
     "ename": "SyntaxError",
     "evalue": "can't assign to conditional expression (<ipython-input-32-bab5a7b4cb2d>, line 2)",
     "output_type": "error",
     "traceback": [
      "\u001b[1;36m  File \u001b[1;32m\"<ipython-input-32-bab5a7b4cb2d>\"\u001b[1;36m, line \u001b[1;32m2\u001b[0m\n\u001b[1;33m    message = 'hello friend' if is_friend else message =  'hello stranger'\u001b[0m\n\u001b[1;37m             ^\u001b[0m\n\u001b[1;31mSyntaxError\u001b[0m\u001b[1;31m:\u001b[0m can't assign to conditional expression\n"
     ]
    }
   ],
   "source": [
    "is_friend = True\n",
    "message = 'hello friend' if is_friend else message =  'hello stranger'\n",
    "print(message)"
   ]
  },
  {
   "cell_type": "code",
   "execution_count": 35,
   "metadata": {},
   "outputs": [
    {
     "name": "stdout",
     "output_type": "stream",
     "text": [
      "hello friend\n"
     ]
    }
   ],
   "source": [
    "is_friend = True\n",
    "print('hello friend' if is_friend else 'hello stranger')"
   ]
  },
  {
   "cell_type": "code",
   "execution_count": 36,
   "metadata": {},
   "outputs": [
    {
     "name": "stdout",
     "output_type": "stream",
     "text": [
      "hello stranger\n"
     ]
    }
   ],
   "source": [
    "is_friend = False\n",
    "print('hello friend' if is_friend else 'hello stranger')"
   ]
  },
  {
   "cell_type": "code",
   "execution_count": 37,
   "metadata": {},
   "outputs": [
    {
     "name": "stdout",
     "output_type": "stream",
     "text": [
      "True value first is efficient in or operator due to short cicuiting.\n"
     ]
    }
   ],
   "source": [
    "# short circuiting\n",
    "\n",
    "is_friend = True\n",
    "is_user = False\n",
    "\n",
    "if is_friend or is_user:\n",
    "    print('True value first is efficient in or operator due to short cicuiting.')\n",
    "\n",
    "if is_user and is_friend:\n",
    "    print('False value first is efficient in and operator due to short circuiting.')"
   ]
  },
  {
   "cell_type": "code",
   "execution_count": 74,
   "metadata": {},
   "outputs": [
    {
     "name": "stdout",
     "output_type": "stream",
     "text": [
      "False\n",
      "True\n",
      "False\n",
      "True\n",
      "False\n",
      "True\n",
      "True\n"
     ]
    }
   ],
   "source": [
    "# logical operators\n",
    "\n",
    "print(4 > 5)\n",
    "print(4 < 5)\n",
    "print(4 >= 5)\n",
    "print(4 <= 5)\n",
    "print(4 == 5)\n",
    "print(4 != 5)\n",
    "print('hello' == 'hello')"
   ]
  },
  {
   "cell_type": "code",
   "execution_count": 75,
   "metadata": {},
   "outputs": [
    {
     "name": "stdout",
     "output_type": "stream",
     "text": [
      "False\n",
      "True\n"
     ]
    }
   ],
   "source": [
    "print('a' > 'b')\n",
    "print('a' > 'A')"
   ]
  },
  {
   "cell_type": "code",
   "execution_count": 76,
   "metadata": {},
   "outputs": [
    {
     "name": "stdout",
     "output_type": "stream",
     "text": [
      "True\n",
      "False\n",
      "True\n"
     ]
    }
   ],
   "source": [
    "print(1 == 1 == 1)\n",
    "print(1 == 1 == 2)\n",
    "print(1 == 1 != 2)"
   ]
  },
  {
   "cell_type": "code",
   "execution_count": 77,
   "metadata": {},
   "outputs": [
    {
     "name": "stdout",
     "output_type": "stream",
     "text": [
      "True\n",
      "False\n"
     ]
    }
   ],
   "source": [
    "print(1 < 2 < 3 < 4)\n",
    "print(1 < 2 > 3 < 4)"
   ]
  },
  {
   "cell_type": "code",
   "execution_count": 78,
   "metadata": {},
   "outputs": [
    {
     "name": "stdout",
     "output_type": "stream",
     "text": [
      "False\n",
      "True\n"
     ]
    }
   ],
   "source": [
    "print(1 < 2 < 3 < 4 and 1 < 2 > 3 < 4)\n",
    "print(1 < 2 < 3 < 4 or 1 < 2 > 3 < 4)"
   ]
  },
  {
   "cell_type": "code",
   "execution_count": 71,
   "metadata": {},
   "outputs": [
    {
     "name": "stdout",
     "output_type": "stream",
     "text": [
      "True\n",
      "False\n",
      "True\n",
      "False\n",
      "True\n",
      "True\n"
     ]
    }
   ],
   "source": [
    "print(not(False))\n",
    "print(not(True))\n",
    "print(not False)\n",
    "print(not True)\n",
    "print(not 4 == 5)\n",
    "print(not(4 == 5))"
   ]
  },
  {
   "cell_type": "code",
   "execution_count": 70,
   "metadata": {},
   "outputs": [
    {
     "name": "stdout",
     "output_type": "stream",
     "text": [
      "True\n",
      "False\n",
      "True\n",
      "False\n",
      "True\n"
     ]
    }
   ],
   "source": [
    "print(1 > 3 or 4 > 1)\n",
    "print(not (1 > 3 or 4 > 1))\n",
    "print(not 1 > 3 or 4 > 1)\n",
    "print(1 > 3 or not 4 > 1)\n",
    "print(not 1 > 3 or not 4 > 1)"
   ]
  },
  {
   "cell_type": "code",
   "execution_count": 51,
   "metadata": {},
   "outputs": [
    {
     "name": "stdout",
     "output_type": "stream",
     "text": [
      "You are not magician nor expert.\n"
     ]
    }
   ],
   "source": [
    "is_magician = False\n",
    "is_expert = False\n",
    "\n",
    "if is_magician and is_expert:\n",
    "    print('You are an expert magician.')\n",
    "elif is_magician:\n",
    "    print('You are a magician.')\n",
    "elif is_expert:\n",
    "    print('You are an expert.')\n",
    "else:\n",
    "    print('You are not magician nor expert.')"
   ]
  },
  {
   "cell_type": "code",
   "execution_count": 60,
   "metadata": {},
   "outputs": [
    {
     "name": "stdout",
     "output_type": "stream",
     "text": [
      "True\n",
      "True\n",
      "False\n",
      "False\n",
      "False\n",
      "False\n",
      "False\n",
      "False\n",
      "False\n",
      "False\n",
      "True\n",
      "True\n",
      "True\n",
      "True\n",
      "False\n"
     ]
    }
   ],
   "source": [
    "print(True == 1)\n",
    "print(False == 0)\n",
    "print(True == 'True')\n",
    "print(False == '')\n",
    "print(False == \"\")\n",
    "print('' == 0)\n",
    "print('' == 1)\n",
    "print('1' == 1)\n",
    "print([] == 0)\n",
    "print([] == 1)\n",
    "print(0.0 == 0)\n",
    "print(10 == 10.0)\n",
    "print([] == [])\n",
    "print([1, 2] == [1, 2])\n",
    "print([1, 2] == [1, -2])"
   ]
  },
  {
   "cell_type": "code",
   "execution_count": 61,
   "metadata": {},
   "outputs": [
    {
     "name": "stdout",
     "output_type": "stream",
     "text": [
      "False\n",
      "False\n",
      "False\n",
      "False\n",
      "False\n",
      "False\n",
      "False\n",
      "False\n",
      "False\n",
      "False\n",
      "False\n",
      "False\n",
      "False\n",
      "False\n",
      "False\n"
     ]
    }
   ],
   "source": [
    "print(True is 1)\n",
    "print(False is 0)\n",
    "print(True is 'True')\n",
    "print(False is '')\n",
    "print(False is \"\")\n",
    "print('' is 0)\n",
    "print('' is 1)\n",
    "print('1' is 1)\n",
    "print([] is 0)\n",
    "print([] is 1)\n",
    "print(0.0 is 0)\n",
    "print(10 is 10.0)\n",
    "print([] is [])\n",
    "print([1, 2] is [1, 2])\n",
    "print([1, 2] is [1, -2])"
   ]
  },
  {
   "cell_type": "code",
   "execution_count": 62,
   "metadata": {},
   "outputs": [
    {
     "name": "stdout",
     "output_type": "stream",
     "text": [
      "True\n",
      "True\n",
      "True\n",
      "True\n",
      "True\n"
     ]
    }
   ],
   "source": [
    "print(True is True)\n",
    "print(False is False)\n",
    "print('True' is 'True')\n",
    "print(1 is 1)\n",
    "print(1.1 is 1.1)"
   ]
  },
  {
   "cell_type": "code",
   "execution_count": 63,
   "metadata": {},
   "outputs": [
    {
     "name": "stdout",
     "output_type": "stream",
     "text": [
      "True\n",
      "False\n"
     ]
    }
   ],
   "source": [
    "a = [1, 2]\n",
    "b = [1, 2]\n",
    "\n",
    "print(a == b)\n",
    "print(a is b)"
   ]
  },
  {
   "cell_type": "code",
   "execution_count": 79,
   "metadata": {},
   "outputs": [],
   "source": [
    "# == compare the 2 values.\n",
    "# is compare the memory locations of the 2 values.\n",
    "# data structures like lists, dicts, sets, tuples store in different memory locations.\n",
    "# simple data types like int, float, bool, str store in same location."
   ]
  },
  {
   "cell_type": "code",
   "execution_count": 80,
   "metadata": {},
   "outputs": [
    {
     "name": "stdout",
     "output_type": "stream",
     "text": [
      "Z\n",
      "e\n",
      "r\n",
      "o\n",
      " \n",
      "t\n",
      "o\n",
      " \n",
      "M\n",
      "a\n",
      "s\n",
      "t\n",
      "e\n",
      "r\n",
      "y\n"
     ]
    }
   ],
   "source": [
    "for item in 'Zero to Mastery':\n",
    "    print(item)"
   ]
  },
  {
   "cell_type": "code",
   "execution_count": 84,
   "metadata": {},
   "outputs": [
    {
     "name": "stdout",
     "output_type": "stream",
     "text": [
      "1\n",
      "2\n",
      "3\n",
      "4\n",
      "5\n",
      "6\n",
      "7\n",
      "8\n",
      "9\n",
      "10\n"
     ]
    }
   ],
   "source": [
    "my_list = [1, 2, 3, 4, 5, 6, 7, 8, 9, 10]\n",
    "\n",
    "for item in my_list:\n",
    "    print(item)"
   ]
  },
  {
   "cell_type": "code",
   "execution_count": 85,
   "metadata": {},
   "outputs": [
    {
     "name": "stdout",
     "output_type": "stream",
     "text": [
      "1\n",
      "2\n",
      "3\n",
      "4\n",
      "5\n",
      "6\n",
      "7\n",
      "8\n",
      "9\n",
      "10\n"
     ]
    }
   ],
   "source": [
    "my_set = {1, 2, 3, 4, 5, 6, 7, 8, 9, 10}\n",
    "\n",
    "for item in my_set:\n",
    "    print(item)"
   ]
  },
  {
   "cell_type": "code",
   "execution_count": 86,
   "metadata": {},
   "outputs": [
    {
     "name": "stdout",
     "output_type": "stream",
     "text": [
      "1\n",
      "2\n",
      "3\n",
      "4\n",
      "5\n",
      "6\n",
      "7\n",
      "8\n",
      "9\n",
      "10\n"
     ]
    }
   ],
   "source": [
    "my_tuple = (1, 2, 3, 4, 5, 6, 7, 8, 9, 10)\n",
    "\n",
    "for item in my_tuple:\n",
    "    print(item)"
   ]
  },
  {
   "cell_type": "code",
   "execution_count": 88,
   "metadata": {},
   "outputs": [
    {
     "name": "stdout",
     "output_type": "stream",
     "text": [
      "1\n",
      "1\n",
      "1\n",
      "2\n",
      "2\n",
      "2\n",
      "3\n",
      "3\n",
      "3\n",
      "4\n",
      "4\n",
      "4\n",
      "5\n",
      "5\n",
      "5\n",
      "6\n",
      "6\n",
      "6\n",
      "7\n",
      "7\n",
      "7\n",
      "8\n",
      "8\n",
      "8\n",
      "9\n",
      "9\n",
      "9\n",
      "10\n",
      "10\n",
      "10\n",
      "10\n",
      "end\n"
     ]
    }
   ],
   "source": [
    "my_list = [1, 2, 3, 4, 5, 6, 7, 8, 9, 10]\n",
    "\n",
    "for item in my_list:\n",
    "    print(item)\n",
    "    print(item)\n",
    "    print(item)\n",
    "print(item)\n",
    "print('end')"
   ]
  },
  {
   "cell_type": "code",
   "execution_count": 89,
   "metadata": {},
   "outputs": [
    {
     "name": "stdout",
     "output_type": "stream",
     "text": [
      "1 a\n",
      "1 b\n",
      "1 c\n",
      "2 a\n",
      "2 b\n",
      "2 c\n",
      "3 a\n",
      "3 b\n",
      "3 c\n",
      "4 a\n",
      "4 b\n",
      "4 c\n",
      "5 a\n",
      "5 b\n",
      "5 c\n"
     ]
    }
   ],
   "source": [
    "for item in (1, 2, 3, 4, 5):\n",
    "    for x in ['a', 'b', 'c']:\n",
    "        print(item, x)"
   ]
  },
  {
   "cell_type": "code",
   "execution_count": 102,
   "metadata": {},
   "outputs": [
    {
     "ename": "TypeError",
     "evalue": "'int' object is not iterable",
     "output_type": "error",
     "traceback": [
      "\u001b[1;31m---------------------------------------------------------------------------\u001b[0m",
      "\u001b[1;31mTypeError\u001b[0m                                 Traceback (most recent call last)",
      "\u001b[1;32m<ipython-input-102-d364c661ef19>\u001b[0m in \u001b[0;36m<module>\u001b[1;34m\u001b[0m\n\u001b[0;32m      4\u001b[0m \u001b[1;31m# int, float, bool are not iterable\u001b[0m\u001b[1;33m\u001b[0m\u001b[1;33m\u001b[0m\u001b[1;33m\u001b[0m\u001b[0m\n\u001b[0;32m      5\u001b[0m \u001b[1;33m\u001b[0m\u001b[0m\n\u001b[1;32m----> 6\u001b[1;33m \u001b[1;32mfor\u001b[0m \u001b[0mitem\u001b[0m \u001b[1;32min\u001b[0m \u001b[1;36m50\u001b[0m\u001b[1;33m:\u001b[0m\u001b[1;33m\u001b[0m\u001b[1;33m\u001b[0m\u001b[0m\n\u001b[0m\u001b[0;32m      7\u001b[0m     \u001b[0mprint\u001b[0m\u001b[1;33m(\u001b[0m\u001b[0mitem\u001b[0m\u001b[1;33m)\u001b[0m\u001b[1;33m\u001b[0m\u001b[1;33m\u001b[0m\u001b[0m\n",
      "\u001b[1;31mTypeError\u001b[0m: 'int' object is not iterable"
     ]
    }
   ],
   "source": [
    "# iterable - object or collection that can be iterated over\n",
    "# can a a str, list, set, tuple, dict\n",
    "# can access each item inside the collection one by one\n",
    "# int, float, bool are not iterable\n",
    "\n",
    "for item in 50:\n",
    "    print(item)"
   ]
  },
  {
   "cell_type": "code",
   "execution_count": 92,
   "metadata": {},
   "outputs": [
    {
     "name": "stdout",
     "output_type": "stream",
     "text": [
      "name\n",
      "age\n",
      "can_swim\n"
     ]
    }
   ],
   "source": [
    "user = {\n",
    "    'name': 'Kevin',\n",
    "    'age': 26,\n",
    "    'can_swim': False\n",
    "}\n",
    "\n",
    "for item in user:\n",
    "    print(item)"
   ]
  },
  {
   "cell_type": "code",
   "execution_count": 93,
   "metadata": {},
   "outputs": [
    {
     "name": "stdout",
     "output_type": "stream",
     "text": [
      "name\n",
      "age\n",
      "can_swim\n"
     ]
    }
   ],
   "source": [
    "user = {\n",
    "    'name': 'Kevin',\n",
    "    'age': 26,\n",
    "    'can_swim': False\n",
    "}\n",
    "\n",
    "for item in user.keys():\n",
    "    print(item)"
   ]
  },
  {
   "cell_type": "code",
   "execution_count": 94,
   "metadata": {},
   "outputs": [
    {
     "name": "stdout",
     "output_type": "stream",
     "text": [
      "Kevin\n",
      "26\n",
      "False\n"
     ]
    }
   ],
   "source": [
    "user = {\n",
    "    'name': 'Kevin',\n",
    "    'age': 26,\n",
    "    'can_swim': False\n",
    "}\n",
    "\n",
    "for item in user.values():\n",
    "    print(item)"
   ]
  },
  {
   "cell_type": "code",
   "execution_count": 95,
   "metadata": {},
   "outputs": [
    {
     "name": "stdout",
     "output_type": "stream",
     "text": [
      "('name', 'Kevin')\n",
      "('age', 26)\n",
      "('can_swim', False)\n"
     ]
    }
   ],
   "source": [
    "user = {\n",
    "    'name': 'Kevin',\n",
    "    'age': 26,\n",
    "    'can_swim': False\n",
    "}\n",
    "\n",
    "for item in user.items():\n",
    "    print(item)"
   ]
  },
  {
   "cell_type": "code",
   "execution_count": 96,
   "metadata": {},
   "outputs": [
    {
     "name": "stdout",
     "output_type": "stream",
     "text": [
      "name\n",
      "age\n",
      "can_swim\n"
     ]
    }
   ],
   "source": [
    "user = {\n",
    "    'name': 'Kevin',\n",
    "    'age': 26,\n",
    "    'can_swim': False\n",
    "}\n",
    "\n",
    "for item in user.items():\n",
    "    print(item[0])"
   ]
  },
  {
   "cell_type": "code",
   "execution_count": 97,
   "metadata": {},
   "outputs": [
    {
     "name": "stdout",
     "output_type": "stream",
     "text": [
      "Kevin\n",
      "26\n",
      "False\n"
     ]
    }
   ],
   "source": [
    "user = {\n",
    "    'name': 'Kevin',\n",
    "    'age': 26,\n",
    "    'can_swim': False\n",
    "}\n",
    "\n",
    "for item in user.items():\n",
    "    print(item[1])"
   ]
  },
  {
   "cell_type": "code",
   "execution_count": 98,
   "metadata": {},
   "outputs": [
    {
     "name": "stdout",
     "output_type": "stream",
     "text": [
      "name Kevin\n",
      "age 26\n",
      "can_swim False\n"
     ]
    }
   ],
   "source": [
    "user = {\n",
    "    'name': 'Kevin',\n",
    "    'age': 26,\n",
    "    'can_swim': False\n",
    "}\n",
    "\n",
    "for item in user.items():\n",
    "    print(item[0], item[1])"
   ]
  },
  {
   "cell_type": "code",
   "execution_count": 99,
   "metadata": {},
   "outputs": [
    {
     "name": "stdout",
     "output_type": "stream",
     "text": [
      "name Kevin\n",
      "age 26\n",
      "can_swim False\n"
     ]
    }
   ],
   "source": [
    "user = {\n",
    "    'name': 'Kevin',\n",
    "    'age': 26,\n",
    "    'can_swim': False\n",
    "}\n",
    "\n",
    "for item in user.items():\n",
    "    key, value = item\n",
    "    print(key, value)"
   ]
  },
  {
   "cell_type": "code",
   "execution_count": 101,
   "metadata": {},
   "outputs": [
    {
     "name": "stdout",
     "output_type": "stream",
     "text": [
      "name Kevin\n",
      "age 26\n",
      "can_swim False\n",
      "\n",
      "name Kevin\n",
      "age 26\n",
      "can_swim False\n"
     ]
    }
   ],
   "source": [
    "user = {\n",
    "    'name': 'Kevin',\n",
    "    'age': 26,\n",
    "    'can_swim': False\n",
    "}\n",
    "\n",
    "for key, value in user.items():\n",
    "    print(key, value)\n",
    "\n",
    "print()\n",
    "\n",
    "for k, v in user.items():\n",
    "    print(k, v)"
   ]
  },
  {
   "cell_type": "code",
   "execution_count": 103,
   "metadata": {},
   "outputs": [
    {
     "name": "stdout",
     "output_type": "stream",
     "text": [
      "55\n"
     ]
    }
   ],
   "source": [
    "my_list = [1, 2, 3, 4, 5, 6, 7, 8, 9, 10]\n",
    "\n",
    "sum = 0\n",
    "\n",
    "for item in my_list:\n",
    "    sum += item\n",
    "\n",
    "print(sum)"
   ]
  },
  {
   "cell_type": "code",
   "execution_count": 104,
   "metadata": {},
   "outputs": [
    {
     "name": "stdout",
     "output_type": "stream",
     "text": [
      "['b', 'n']\n"
     ]
    }
   ],
   "source": [
    "some_list = ['a', 'b', 'c', 'b', 'd', 'm', 'n', 'n']\n",
    "\n",
    "duplicates = []\n",
    "\n",
    "for value in some_list:\n",
    "    if some_list.count(value) > 1:\n",
    "        if value not in duplicates:\n",
    "            duplicates.append(value)\n",
    "\n",
    "print(duplicates)"
   ]
  },
  {
   "cell_type": "code",
   "execution_count": 105,
   "metadata": {},
   "outputs": [
    {
     "name": "stdout",
     "output_type": "stream",
     "text": [
      "['b', 'n']\n"
     ]
    }
   ],
   "source": [
    "some_list = ['a', 'b', 'c', 'b', 'd', 'm', 'n', 'n']\n",
    "duplicates = list(set([x for x in some_list if some_list.count(x) > 1]))\n",
    "print(duplicates)"
   ]
  },
  {
   "cell_type": "code",
   "execution_count": 108,
   "metadata": {},
   "outputs": [
    {
     "name": "stdout",
     "output_type": "stream",
     "text": [
      "range(0, 10)\n",
      "range(0, 10)\n",
      "range(3, 10)\n"
     ]
    }
   ],
   "source": [
    "print(range(10))\n",
    "print(range(0, 10))\n",
    "print(range(3, 10))"
   ]
  },
  {
   "cell_type": "code",
   "execution_count": 121,
   "metadata": {},
   "outputs": [
    {
     "name": "stdout",
     "output_type": "stream",
     "text": [
      "[0, 1, 2, 3, 4, 5, 6, 7, 8, 9]\n",
      "[0, 1, 2, 3, 4, 5, 6, 7, 8, 9]\n",
      "[3, 4, 5, 6, 7, 8, 9]\n"
     ]
    }
   ],
   "source": [
    "print(list(range(10)))\n",
    "print(list(range(0, 10)))\n",
    "print(list(range(3, 10)))"
   ]
  },
  {
   "cell_type": "code",
   "execution_count": 109,
   "metadata": {},
   "outputs": [
    {
     "name": "stdout",
     "output_type": "stream",
     "text": [
      "0\n",
      "1\n",
      "2\n",
      "3\n",
      "4\n",
      "5\n",
      "6\n",
      "7\n",
      "8\n",
      "9\n"
     ]
    }
   ],
   "source": [
    "for number in range(0, 10):\n",
    "    print(number)"
   ]
  },
  {
   "cell_type": "code",
   "execution_count": 111,
   "metadata": {},
   "outputs": [
    {
     "name": "stdout",
     "output_type": "stream",
     "text": [
      "0\n",
      "1\n",
      "2\n",
      "3\n",
      "4\n",
      "5\n",
      "6\n",
      "7\n",
      "8\n",
      "9\n"
     ]
    }
   ],
   "source": [
    "for _ in range(0, 10):\n",
    "    print(_)"
   ]
  },
  {
   "cell_type": "code",
   "execution_count": 112,
   "metadata": {},
   "outputs": [
    {
     "name": "stdout",
     "output_type": "stream",
     "text": [
      "0\n",
      "1\n",
      "2\n",
      "3\n",
      "4\n",
      "5\n",
      "6\n",
      "7\n",
      "8\n",
      "9\n"
     ]
    }
   ],
   "source": [
    "for _ in range(0, 10, 1):\n",
    "    print(_)"
   ]
  },
  {
   "cell_type": "code",
   "execution_count": 113,
   "metadata": {},
   "outputs": [
    {
     "name": "stdout",
     "output_type": "stream",
     "text": [
      "0\n",
      "2\n",
      "4\n",
      "6\n",
      "8\n"
     ]
    }
   ],
   "source": [
    "for _ in range(0, 10, 2):\n",
    "    print(_)"
   ]
  },
  {
   "cell_type": "code",
   "execution_count": 114,
   "metadata": {},
   "outputs": [
    {
     "name": "stdout",
     "output_type": "stream",
     "text": [
      "1\n",
      "3\n",
      "5\n",
      "7\n",
      "9\n"
     ]
    }
   ],
   "source": [
    "for _ in range(1, 10, 2):\n",
    "    print(_)"
   ]
  },
  {
   "cell_type": "code",
   "execution_count": 118,
   "metadata": {},
   "outputs": [
    {
     "name": "stdout",
     "output_type": "stream",
     "text": [
      "10\n",
      "9\n",
      "8\n",
      "7\n",
      "6\n",
      "5\n",
      "4\n",
      "3\n",
      "2\n",
      "1\n"
     ]
    }
   ],
   "source": [
    "for _ in range(10, 0, -1):\n",
    "    print(_)"
   ]
  },
  {
   "cell_type": "code",
   "execution_count": 122,
   "metadata": {},
   "outputs": [
    {
     "name": "stdout",
     "output_type": "stream",
     "text": [
      "10\n",
      "8\n",
      "6\n",
      "4\n",
      "2\n",
      "0\n",
      "-2\n",
      "-4\n",
      "-6\n",
      "-8\n"
     ]
    }
   ],
   "source": [
    "for _ in range(10, -10, -2):\n",
    "    print(_)"
   ]
  },
  {
   "cell_type": "code",
   "execution_count": 125,
   "metadata": {},
   "outputs": [
    {
     "name": "stdout",
     "output_type": "stream",
     "text": [
      "[-10, -9, -8, -7, -6, -5, -4, -3, -2, -1, 0, 1, 2, 3, 4, 5, 6, 7, 8, 9]\n",
      "[-10, -9, -8, -7, -6, -5, -4, -3, -2, -1, 0, 1, 2, 3, 4, 5, 6, 7, 8, 9]\n",
      "[-10, -9, -8, -7, -6, -5, -4, -3, -2, -1, 0, 1, 2, 3, 4, 5, 6, 7, 8, 9]\n",
      "[-10, -9, -8, -7, -6, -5, -4, -3, -2, -1, 0, 1, 2, 3, 4, 5, 6, 7, 8, 9]\n",
      "[-10, -9, -8, -7, -6, -5, -4, -3, -2, -1, 0, 1, 2, 3, 4, 5, 6, 7, 8, 9]\n",
      "[-10, -9, -8, -7, -6, -5, -4, -3, -2, -1, 0, 1, 2, 3, 4, 5, 6, 7, 8, 9]\n",
      "[-10, -9, -8, -7, -6, -5, -4, -3, -2, -1, 0, 1, 2, 3, 4, 5, 6, 7, 8, 9]\n",
      "[-10, -9, -8, -7, -6, -5, -4, -3, -2, -1, 0, 1, 2, 3, 4, 5, 6, 7, 8, 9]\n",
      "[-10, -9, -8, -7, -6, -5, -4, -3, -2, -1, 0, 1, 2, 3, 4, 5, 6, 7, 8, 9]\n",
      "[-10, -9, -8, -7, -6, -5, -4, -3, -2, -1, 0, 1, 2, 3, 4, 5, 6, 7, 8, 9]\n"
     ]
    }
   ],
   "source": [
    "for _ in range(10, -10, -2):\n",
    "    print(list(range(-10, 10)))"
   ]
  },
  {
   "cell_type": "code",
   "execution_count": 127,
   "metadata": {},
   "outputs": [
    {
     "name": "stdout",
     "output_type": "stream",
     "text": [
      "[0, 1, 2, 3, 4, 5, 6, 7, 8, 9]\n",
      "[0, 1, 2, 3, 4, 5, 6, 7, 8, 9]\n"
     ]
    }
   ],
   "source": [
    "for _ in range(2):\n",
    "    print(list(range(10)))"
   ]
  },
  {
   "cell_type": "code",
   "execution_count": 128,
   "metadata": {},
   "outputs": [
    {
     "name": "stdout",
     "output_type": "stream",
     "text": [
      "(0, 'h')\n",
      "(1, 'e')\n",
      "(2, 'l')\n",
      "(3, 'l')\n",
      "(4, 'o')\n"
     ]
    }
   ],
   "source": [
    "for char in enumerate('hello'):\n",
    "    print(char)"
   ]
  },
  {
   "cell_type": "code",
   "execution_count": 129,
   "metadata": {},
   "outputs": [
    {
     "name": "stdout",
     "output_type": "stream",
     "text": [
      "0 h\n",
      "1 e\n",
      "2 l\n",
      "3 l\n",
      "4 o\n"
     ]
    }
   ],
   "source": [
    "for i, char in enumerate('hello'):\n",
    "    print(i, char)"
   ]
  },
  {
   "cell_type": "code",
   "execution_count": 130,
   "metadata": {},
   "outputs": [
    {
     "name": "stdout",
     "output_type": "stream",
     "text": [
      "(0, 10)\n",
      "(1, 20)\n",
      "(2, 30)\n"
     ]
    }
   ],
   "source": [
    "for n in enumerate([10, 20, 30]):\n",
    "    print(n)"
   ]
  },
  {
   "cell_type": "code",
   "execution_count": 132,
   "metadata": {},
   "outputs": [
    {
     "name": "stdout",
     "output_type": "stream",
     "text": [
      "0 10\n",
      "1 20\n",
      "2 30\n"
     ]
    }
   ],
   "source": [
    "for i, n in enumerate([10, 20, 30]):\n",
    "    print(i, n)"
   ]
  },
  {
   "cell_type": "code",
   "execution_count": 133,
   "metadata": {},
   "outputs": [
    {
     "name": "stdout",
     "output_type": "stream",
     "text": [
      "(0, 10)\n",
      "(1, 20)\n",
      "(2, 30)\n"
     ]
    }
   ],
   "source": [
    "for n in enumerate((10, 20, 30)):\n",
    "    print(n)"
   ]
  },
  {
   "cell_type": "code",
   "execution_count": 135,
   "metadata": {},
   "outputs": [
    {
     "name": "stdout",
     "output_type": "stream",
     "text": [
      "0 10\n",
      "1 20\n",
      "2 30\n"
     ]
    }
   ],
   "source": [
    "for i, n in enumerate((10, 20, 30)):\n",
    "    print(i, n)"
   ]
  },
  {
   "cell_type": "code",
   "execution_count": 139,
   "metadata": {},
   "outputs": [
    {
     "name": "stdout",
     "output_type": "stream",
     "text": [
      "0 50\n",
      "1 55\n",
      "2 60\n",
      "3 65\n",
      "4 70\n",
      "5 75\n",
      "6 80\n",
      "7 85\n",
      "8 90\n",
      "9 95\n"
     ]
    }
   ],
   "source": [
    "for i, n in enumerate(list(range(50, 100, 5))):\n",
    "    print(i, n)"
   ]
  },
  {
   "cell_type": "code",
   "execution_count": 142,
   "metadata": {},
   "outputs": [
    {
     "name": "stdout",
     "output_type": "stream",
     "text": [
      "5\n",
      "Index of 75 in list is 5\n"
     ]
    }
   ],
   "source": [
    "for i, n in enumerate(list(range(50, 100, 5))):\n",
    "    if n == 75:\n",
    "        print(i)\n",
    "        print(f'Index of 75 in list is {i}')\n",
    "        break"
   ]
  },
  {
   "cell_type": "code",
   "execution_count": 143,
   "metadata": {},
   "outputs": [
    {
     "name": "stdout",
     "output_type": "stream",
     "text": [
      "1\n",
      "2\n",
      "3\n",
      "4\n"
     ]
    }
   ],
   "source": [
    "mx = [[1, 2], [3, 4]]\n",
    "\n",
    "for row in range(len(mx)):\n",
    "    for col in range(len(mx)):\n",
    "        print(mx[row][col])"
   ]
  },
  {
   "cell_type": "code",
   "execution_count": 144,
   "metadata": {},
   "outputs": [
    {
     "name": "stdout",
     "output_type": "stream",
     "text": [
      "1\n",
      "2\n",
      "3\n",
      "4\n"
     ]
    }
   ],
   "source": [
    "mx = [[1, 2], [3, 4]]\n",
    "\n",
    "for row in mx:\n",
    "    for item in row:\n",
    "        print(item)"
   ]
  },
  {
   "cell_type": "code",
   "execution_count": 145,
   "metadata": {},
   "outputs": [
    {
     "name": "stdout",
     "output_type": "stream",
     "text": [
      "Outside\n",
      "Outside\n"
     ]
    }
   ],
   "source": [
    "print('Outside')\n",
    "\n",
    "while False:\n",
    "    print('Inside')\n",
    "\n",
    "print('Outside')"
   ]
  },
  {
   "cell_type": "code",
   "execution_count": 147,
   "metadata": {},
   "outputs": [
    {
     "name": "stdout",
     "output_type": "stream",
     "text": [
      "Outside\n",
      "Inside\n",
      "Inside\n",
      "Inside\n",
      "Inside\n",
      "Inside\n",
      "Inside\n",
      "Inside\n",
      "Inside\n",
      "Inside\n",
      "Inside\n",
      "Inside\n",
      "Inside\n",
      "Inside\n",
      "Inside\n",
      "Inside\n",
      "Inside\n",
      "Inside\n",
      "Inside\n",
      "Inside\n",
      "Inside\n",
      "Inside\n",
      "Inside\n",
      "Inside\n",
      "Inside\n",
      "Inside\n",
      "Inside\n",
      "Inside\n",
      "Inside\n",
      "Inside\n",
      "Inside\n",
      "Inside\n",
      "Inside\n",
      "Inside\n",
      "Inside\n",
      "Inside\n",
      "Inside\n",
      "Inside\n",
      "Inside\n",
      "Inside\n",
      "Inside\n",
      "Inside\n",
      "Inside\n",
      "Inside\n",
      "Inside\n",
      "Inside\n",
      "Inside\n",
      "Inside\n",
      "Inside\n",
      "Inside\n",
      "Inside\n",
      "Inside\n",
      "Inside\n",
      "Inside\n",
      "Inside\n",
      "Inside\n",
      "Inside\n",
      "Inside\n",
      "Inside\n",
      "Inside\n",
      "Inside\n",
      "Inside\n",
      "Inside\n",
      "Inside\n",
      "Inside\n",
      "Inside\n",
      "Inside\n",
      "Inside\n",
      "Inside\n",
      "Inside\n",
      "Inside\n",
      "Inside\n",
      "Inside\n",
      "Inside\n",
      "Inside\n",
      "Inside\n",
      "Inside\n",
      "Inside\n",
      "Inside\n",
      "Inside\n",
      "Inside\n",
      "Inside\n",
      "Inside\n",
      "Inside\n",
      "Inside\n",
      "Inside\n",
      "Inside\n",
      "Inside\n",
      "Inside\n",
      "Inside\n",
      "Inside\n",
      "Inside\n",
      "Inside\n",
      "Inside\n",
      "Inside\n",
      "Inside\n",
      "Inside\n",
      "Inside\n",
      "Inside\n",
      "Inside\n",
      "Inside\n",
      "Inside\n",
      "Inside\n",
      "Inside\n",
      "Inside\n",
      "Inside\n",
      "Inside\n",
      "Inside\n",
      "Inside\n",
      "Inside\n",
      "Inside\n",
      "Inside\n",
      "Inside\n",
      "Inside\n",
      "Inside\n",
      "Inside\n",
      "Inside\n",
      "Inside\n",
      "Inside\n",
      "Inside\n",
      "Inside\n",
      "Inside\n",
      "Inside\n",
      "Inside\n",
      "Inside\n",
      "Inside\n",
      "Inside\n",
      "Inside\n",
      "Inside\n",
      "Inside\n",
      "Inside\n",
      "Inside\n",
      "Inside\n",
      "Inside\n",
      "Inside\n",
      "Inside\n",
      "Inside\n",
      "Inside\n",
      "Inside\n",
      "Inside\n",
      "Inside\n",
      "Inside\n",
      "Inside\n",
      "Inside\n",
      "Inside\n",
      "Inside\n",
      "Inside\n",
      "Inside\n",
      "Inside\n",
      "Inside\n",
      "Inside\n",
      "Inside\n",
      "Inside\n",
      "Inside\n",
      "Inside\n",
      "Inside\n",
      "Inside\n",
      "Inside\n",
      "Inside\n",
      "Inside\n",
      "Inside\n",
      "Inside\n",
      "Inside\n",
      "Inside\n",
      "Inside\n",
      "Inside\n",
      "Inside\n",
      "Inside\n",
      "Inside\n",
      "Inside\n",
      "Inside\n",
      "Inside\n",
      "Inside\n",
      "Inside\n",
      "Inside\n",
      "Inside\n",
      "Inside\n",
      "Inside\n",
      "Inside\n",
      "Inside\n",
      "Inside\n",
      "Inside\n",
      "Inside\n",
      "Inside\n",
      "Inside\n",
      "Inside\n",
      "Inside\n",
      "Inside\n",
      "Inside\n",
      "Inside\n",
      "Inside\n",
      "Inside\n",
      "Inside\n",
      "Inside\n",
      "Inside\n",
      "Inside\n",
      "Inside\n",
      "Inside\n",
      "Inside\n",
      "Inside\n",
      "Inside\n",
      "Inside\n",
      "Inside\n",
      "Inside\n",
      "Inside\n",
      "Inside\n",
      "Inside\n",
      "Inside\n",
      "Inside\n",
      "Inside\n",
      "Inside\n",
      "Inside\n",
      "Inside\n",
      "Inside\n",
      "Inside\n",
      "Inside\n",
      "Inside\n",
      "Inside\n",
      "Inside\n",
      "Inside\n",
      "Inside\n",
      "Inside\n",
      "Inside\n",
      "Inside\n",
      "Inside\n",
      "Inside\n",
      "Inside\n",
      "Inside\n",
      "Inside\n",
      "Inside\n",
      "Inside\n",
      "Inside\n",
      "Inside\n",
      "Inside\n",
      "Inside\n",
      "Inside\n",
      "Inside\n",
      "Inside\n",
      "Inside\n",
      "Inside\n",
      "Inside\n",
      "Inside\n",
      "Inside\n",
      "Inside\n",
      "Inside\n",
      "Inside\n",
      "Inside\n",
      "Inside\n",
      "Inside\n",
      "Inside\n",
      "Inside\n",
      "Inside\n",
      "Inside\n",
      "Inside\n",
      "Inside\n",
      "Inside\n",
      "Inside\n",
      "Inside\n",
      "Inside\n",
      "Inside\n",
      "Inside\n",
      "Inside\n",
      "Inside\n",
      "Inside\n",
      "Inside\n",
      "Inside\n",
      "Inside\n",
      "Inside\n",
      "Inside\n",
      "Inside\n",
      "Inside\n",
      "Inside\n",
      "Inside\n",
      "Inside\n",
      "Inside\n",
      "Inside\n",
      "Inside\n",
      "Inside\n",
      "Inside\n",
      "Inside\n",
      "Inside\n",
      "Inside\n",
      "Inside\n",
      "Inside\n",
      "Inside\n",
      "Inside\n",
      "Inside\n",
      "Inside\n",
      "Inside\n",
      "Inside\n",
      "Inside\n",
      "Inside\n",
      "Inside\n",
      "Inside\n",
      "Inside\n",
      "Inside\n",
      "Inside\n",
      "Inside\n",
      "Inside\n",
      "Inside\n",
      "Inside\n",
      "Inside\n",
      "Inside\n",
      "Inside\n",
      "Inside\n",
      "Inside\n",
      "Inside\n",
      "Inside\n",
      "Inside\n",
      "Inside\n",
      "Inside\n",
      "Inside\n",
      "Inside\n",
      "Inside\n",
      "Inside\n",
      "Inside\n",
      "Inside\n",
      "Inside\n",
      "Inside\n",
      "Inside\n",
      "Inside\n",
      "Inside\n",
      "Inside\n",
      "Inside\n",
      "Inside\n",
      "Inside\n",
      "Inside\n",
      "Inside\n",
      "Inside\n",
      "Inside\n",
      "Inside\n",
      "Inside\n",
      "Inside\n",
      "Inside\n",
      "Inside\n",
      "Inside\n",
      "Inside\n",
      "Inside\n",
      "Inside\n",
      "Inside\n",
      "Inside\n",
      "Inside\n",
      "Inside\n",
      "Inside\n",
      "Inside\n",
      "Inside\n",
      "Inside\n",
      "Inside\n",
      "Inside\n",
      "Inside\n",
      "Inside\n",
      "Inside\n",
      "Inside\n",
      "Inside\n",
      "Inside\n",
      "Inside\n",
      "Inside\n",
      "Inside\n",
      "Inside\n",
      "Inside\n",
      "Inside\n",
      "Inside\n",
      "Inside\n",
      "Inside\n",
      "Inside\n",
      "Inside\n",
      "Inside\n",
      "Inside\n",
      "Inside\n",
      "Inside\n",
      "Inside\n",
      "Inside\n",
      "Inside\n",
      "Inside\n",
      "Inside\n",
      "Inside\n",
      "Inside\n",
      "Inside\n",
      "Inside\n",
      "Inside\n",
      "Inside\n",
      "Inside\n",
      "Inside\n",
      "Inside\n",
      "Inside\n",
      "Inside\n",
      "Inside\n",
      "Inside\n",
      "Inside\n",
      "Inside\n",
      "Inside\n",
      "Inside\n",
      "Inside\n",
      "Inside\n",
      "Inside\n",
      "Inside\n",
      "Inside\n",
      "Inside\n",
      "Inside\n",
      "Inside\n",
      "Inside\n",
      "Inside\n",
      "Inside\n",
      "Inside\n",
      "Inside\n",
      "Inside\n",
      "Inside\n",
      "Inside\n",
      "Inside\n",
      "Inside\n",
      "Inside\n",
      "Inside\n",
      "Inside\n",
      "Inside\n",
      "Inside\n",
      "Inside\n",
      "Inside\n",
      "Inside\n",
      "Inside\n",
      "Inside\n",
      "Inside\n",
      "Inside\n",
      "Inside\n",
      "Inside\n",
      "Inside\n",
      "Inside\n",
      "Inside\n",
      "Inside\n",
      "Inside\n",
      "Inside\n",
      "Inside\n",
      "Inside\n",
      "Inside\n",
      "Inside\n",
      "Inside\n",
      "Inside\n",
      "Inside\n",
      "Inside\n",
      "Inside\n",
      "Inside\n",
      "Inside\n",
      "Inside\n",
      "Inside\n",
      "Inside\n",
      "Inside\n",
      "Inside\n",
      "Inside\n",
      "Inside\n",
      "Inside\n",
      "Inside\n",
      "Inside\n",
      "Inside\n",
      "Inside\n",
      "Inside\n",
      "Inside\n",
      "Inside\n",
      "Inside\n",
      "Inside\n",
      "Inside\n",
      "Inside\n",
      "Inside\n",
      "Inside\n",
      "Inside\n",
      "Inside\n",
      "Inside\n",
      "Inside\n",
      "Inside\n",
      "Inside\n",
      "Inside\n",
      "Inside\n",
      "Inside\n",
      "Inside\n",
      "Inside\n",
      "Inside\n",
      "Inside\n",
      "Inside\n",
      "Inside\n",
      "Inside\n",
      "Inside\n",
      "Inside\n",
      "Inside\n",
      "Inside\n",
      "Inside\n",
      "Inside\n",
      "Inside\n",
      "Inside\n",
      "Inside\n",
      "Inside\n",
      "Inside\n",
      "Inside\n",
      "Inside\n",
      "Inside\n",
      "Inside\n",
      "Inside\n",
      "Inside\n",
      "Inside\n",
      "Inside\n",
      "Inside\n",
      "Inside\n",
      "Inside\n",
      "Inside\n",
      "Inside\n",
      "Inside\n",
      "Inside\n",
      "Inside\n",
      "Inside\n",
      "Inside\n",
      "Inside\n",
      "Inside\n",
      "Inside\n",
      "Inside\n",
      "Inside\n",
      "Inside\n",
      "Inside\n",
      "Inside\n",
      "Inside\n",
      "Inside\n",
      "Inside\n",
      "Inside\n",
      "Inside\n",
      "Inside\n",
      "Inside\n",
      "Inside\n",
      "Inside\n",
      "Inside\n",
      "Inside\n",
      "Inside\n",
      "Inside\n",
      "Inside\n",
      "Inside\n",
      "Inside\n",
      "Inside\n",
      "Inside\n",
      "Inside\n",
      "Inside\n",
      "Inside\n",
      "Inside\n",
      "Inside\n",
      "Inside\n",
      "Inside\n",
      "Inside\n",
      "Inside\n",
      "Inside\n",
      "Inside\n",
      "Inside\n",
      "Inside\n",
      "Inside\n",
      "Inside\n",
      "Inside\n",
      "Inside\n",
      "Inside\n",
      "Inside\n",
      "Inside\n",
      "Inside\n",
      "Inside\n",
      "Inside\n",
      "Inside\n",
      "Inside\n",
      "Inside\n",
      "Inside\n",
      "Inside\n",
      "Inside\n",
      "Inside\n",
      "Inside\n",
      "Inside\n",
      "Inside\n",
      "Inside\n",
      "Inside\n",
      "Inside\n",
      "Inside\n",
      "Inside\n",
      "Inside\n",
      "Inside\n",
      "Inside\n",
      "Inside\n",
      "Inside\n",
      "Inside\n",
      "Inside\n",
      "Inside\n",
      "Inside\n",
      "Inside\n",
      "Inside\n",
      "Inside\n",
      "Inside\n",
      "Inside\n",
      "Inside\n",
      "Inside\n",
      "Inside\n",
      "Inside\n",
      "Inside\n",
      "Inside\n",
      "Inside\n",
      "Inside\n",
      "Inside\n",
      "Inside\n",
      "Inside\n",
      "Inside\n",
      "Inside\n",
      "Inside\n",
      "Inside\n",
      "Inside\n",
      "Inside\n",
      "Inside\n",
      "Inside\n",
      "Inside\n",
      "Inside\n",
      "Inside\n",
      "Inside\n",
      "Inside\n",
      "Inside\n",
      "Inside\n",
      "Inside\n",
      "Inside\n",
      "Inside\n",
      "Inside\n",
      "Inside\n",
      "Inside\n",
      "Inside\n",
      "Inside\n",
      "Inside\n",
      "Inside\n",
      "Inside\n",
      "Inside\n",
      "Inside\n",
      "Inside\n",
      "Inside\n",
      "Inside\n",
      "Inside\n",
      "Inside\n",
      "Inside\n",
      "Inside\n",
      "Inside\n",
      "Inside\n",
      "Inside\n",
      "Inside\n",
      "Inside\n",
      "Inside\n",
      "Inside\n",
      "Inside\n",
      "Inside\n",
      "Inside\n",
      "Inside\n",
      "Inside\n",
      "Inside\n",
      "Inside\n",
      "Inside\n",
      "Inside\n",
      "Inside\n",
      "Inside\n",
      "Inside\n",
      "Inside\n",
      "Inside\n",
      "Inside\n",
      "Inside\n",
      "Inside\n",
      "Inside\n",
      "Inside\n",
      "Inside\n",
      "Inside\n",
      "Inside\n",
      "Inside\n",
      "Inside\n",
      "Inside\n",
      "Inside\n",
      "Inside\n",
      "Inside\n",
      "Inside\n",
      "Inside\n",
      "Inside\n",
      "Inside\n",
      "Inside\n",
      "Inside\n",
      "Inside\n",
      "Inside\n",
      "Inside\n",
      "Inside\n",
      "Inside\n",
      "Inside\n",
      "Inside\n",
      "Inside\n",
      "Inside\n",
      "Inside\n",
      "Inside\n",
      "Inside\n",
      "Inside\n",
      "Inside\n",
      "Inside\n",
      "Inside\n",
      "Inside\n",
      "Inside\n",
      "Inside\n",
      "Inside\n",
      "Inside\n",
      "Inside\n",
      "Inside\n",
      "Inside\n",
      "Inside\n",
      "Inside\n",
      "Inside\n",
      "Inside\n",
      "Inside\n",
      "Inside\n",
      "Inside\n",
      "Inside\n",
      "Inside\n",
      "Inside\n",
      "Inside\n",
      "Inside\n",
      "Inside\n",
      "Inside\n",
      "Inside\n",
      "Inside\n",
      "Inside\n",
      "Inside\n",
      "Inside\n",
      "Inside\n",
      "Inside\n",
      "Inside\n",
      "Inside\n",
      "Inside\n",
      "Inside\n",
      "Inside\n",
      "Inside\n",
      "Inside\n",
      "Inside\n",
      "Inside\n",
      "Inside\n",
      "Inside\n",
      "Inside\n",
      "Inside\n",
      "Inside\n",
      "Inside\n",
      "Inside\n",
      "Inside\n",
      "Inside\n",
      "Inside\n",
      "Inside\n",
      "Inside\n",
      "Inside\n",
      "Inside\n",
      "Inside\n",
      "Inside\n",
      "Inside\n",
      "Inside\n",
      "Inside\n",
      "Inside\n",
      "Inside\n",
      "Inside\n",
      "Inside\n",
      "Inside\n",
      "Inside\n",
      "Inside\n",
      "Inside\n",
      "Inside\n",
      "Inside\n",
      "Inside\n",
      "Inside\n",
      "Inside\n",
      "Inside\n",
      "Inside\n",
      "Inside\n",
      "Inside\n",
      "Inside\n",
      "Inside\n",
      "Inside\n",
      "Inside\n",
      "Inside\n",
      "Inside\n",
      "Inside\n",
      "Inside\n",
      "Inside\n",
      "Inside\n",
      "Inside\n",
      "Inside\n",
      "Inside\n",
      "Inside\n",
      "Inside\n",
      "Inside\n",
      "Inside\n",
      "Inside\n",
      "Inside\n",
      "Inside\n",
      "Inside\n",
      "Inside\n",
      "Inside\n",
      "Inside\n",
      "Inside\n",
      "Inside\n",
      "Inside\n",
      "Inside\n",
      "Inside\n",
      "Inside\n",
      "Inside\n",
      "Inside\n",
      "Inside\n",
      "Inside\n",
      "Inside\n",
      "Inside\n",
      "Inside\n",
      "Inside\n",
      "Inside\n",
      "Inside\n",
      "Inside\n",
      "Inside\n",
      "Inside\n",
      "Inside\n",
      "Inside\n",
      "Inside\n",
      "Inside\n",
      "Inside\n",
      "Inside\n",
      "Inside\n",
      "Inside\n",
      "Inside\n",
      "Inside\n",
      "Inside\n",
      "Inside\n",
      "Inside\n",
      "Inside\n",
      "Inside\n",
      "Inside\n",
      "Inside\n",
      "Inside\n",
      "Inside\n",
      "Inside\n",
      "Inside\n",
      "Inside\n",
      "Inside\n",
      "Inside\n",
      "Inside\n",
      "Inside\n",
      "Inside\n",
      "Inside\n",
      "Inside\n",
      "Inside\n",
      "Inside\n",
      "Inside\n",
      "Inside\n",
      "Inside\n",
      "Inside\n",
      "Inside\n",
      "Inside\n",
      "Inside\n",
      "Inside\n",
      "Inside\n",
      "Inside\n",
      "Inside\n",
      "Inside\n",
      "Inside\n",
      "Inside\n",
      "Inside\n",
      "Inside\n",
      "Inside\n",
      "Inside\n",
      "Inside\n",
      "Inside\n",
      "Inside\n",
      "Inside\n",
      "Inside\n",
      "Inside\n",
      "Inside\n",
      "Inside\n",
      "Inside\n",
      "Inside\n",
      "Inside\n",
      "Inside\n",
      "Inside\n",
      "Inside\n",
      "Inside\n",
      "Inside\n",
      "Inside\n",
      "Inside\n",
      "Inside\n",
      "Inside\n",
      "Inside\n",
      "Inside\n",
      "Inside\n",
      "Inside\n",
      "Inside\n",
      "Inside\n",
      "Inside\n",
      "Inside\n",
      "Inside\n",
      "Inside\n",
      "Inside\n",
      "Inside\n",
      "Inside\n",
      "Inside\n",
      "Inside\n",
      "Inside\n",
      "Inside\n",
      "Inside\n",
      "Inside\n",
      "Inside\n",
      "Inside\n",
      "Inside\n",
      "Inside\n",
      "Inside\n",
      "Inside\n",
      "Inside\n",
      "Inside\n",
      "Inside\n",
      "Inside\n",
      "Inside\n",
      "Inside\n",
      "Inside\n",
      "Inside\n",
      "Inside\n",
      "Inside\n",
      "Inside\n",
      "Inside\n",
      "Inside\n",
      "Inside\n",
      "Inside\n",
      "Inside\n",
      "Inside\n",
      "Inside\n",
      "Inside\n",
      "Inside\n",
      "Inside\n",
      "Inside\n",
      "Inside\n",
      "Inside\n",
      "Inside\n",
      "Inside\n",
      "Inside\n",
      "Inside\n",
      "Inside\n",
      "Inside\n",
      "Inside\n",
      "Inside\n",
      "Inside\n",
      "Inside\n",
      "Inside\n",
      "Inside\n",
      "Inside\n",
      "Inside\n",
      "Inside\n",
      "Inside\n",
      "Inside\n",
      "Inside\n",
      "Inside\n",
      "Inside\n",
      "Inside\n",
      "Inside\n",
      "Inside\n",
      "Inside\n",
      "Inside\n",
      "Inside\n",
      "Inside\n",
      "Inside\n",
      "Inside\n",
      "Inside\n",
      "Inside\n",
      "Inside\n",
      "Inside\n",
      "Inside\n",
      "Inside\n",
      "Inside\n",
      "Inside\n",
      "Inside\n",
      "Inside\n",
      "Inside\n",
      "Inside\n",
      "Inside\n",
      "Inside\n",
      "Inside\n",
      "Inside\n",
      "Inside\n",
      "Inside\n",
      "Inside\n",
      "Inside\n",
      "Inside\n",
      "Inside\n",
      "Inside\n",
      "Inside\n",
      "Inside\n",
      "Inside\n",
      "Inside\n",
      "Inside\n",
      "Inside\n",
      "Inside\n",
      "Inside\n",
      "Inside\n",
      "Inside\n",
      "Inside\n",
      "Inside\n",
      "Inside\n",
      "Inside\n",
      "Inside\n",
      "Inside\n",
      "Inside\n",
      "Inside\n",
      "Inside\n",
      "Inside\n",
      "Inside\n",
      "Inside\n",
      "Inside\n",
      "Inside\n",
      "Inside\n",
      "Inside\n",
      "Inside\n",
      "Inside\n",
      "Inside\n",
      "Inside\n",
      "Inside\n",
      "Inside\n",
      "Inside\n",
      "Inside\n",
      "Inside\n",
      "Inside\n",
      "Inside\n",
      "Inside\n",
      "Inside\n",
      "Inside\n",
      "Inside\n",
      "Inside\n",
      "Inside\n",
      "Inside\n",
      "Inside\n",
      "Inside\n",
      "Inside\n",
      "Inside\n",
      "Inside\n",
      "Inside\n",
      "Inside\n",
      "Inside\n",
      "Inside\n",
      "Inside\n",
      "Inside\n",
      "Inside\n",
      "Inside\n",
      "Inside\n",
      "Inside\n",
      "Inside\n",
      "Inside\n",
      "Inside\n",
      "Inside\n",
      "Inside\n",
      "Inside\n",
      "Inside\n",
      "Inside\n",
      "Inside\n",
      "Inside\n",
      "Inside\n",
      "Inside\n",
      "Inside\n",
      "Inside\n",
      "Inside\n",
      "Inside\n",
      "Inside\n",
      "Inside\n",
      "Inside\n",
      "Inside\n",
      "Inside\n",
      "Inside\n",
      "Inside\n",
      "Inside\n",
      "Inside\n",
      "Inside\n",
      "Inside\n",
      "Inside\n",
      "Inside\n",
      "Inside\n",
      "Inside\n",
      "Inside\n",
      "Inside\n",
      "Inside\n",
      "Inside\n",
      "Inside\n",
      "Inside\n",
      "Inside\n",
      "Inside\n",
      "Inside\n",
      "Inside\n",
      "Inside\n",
      "Inside\n",
      "Inside\n",
      "Inside\n",
      "Inside\n",
      "Inside\n",
      "Inside\n",
      "Inside\n",
      "Inside\n",
      "Inside\n",
      "Inside\n",
      "Inside\n",
      "Inside\n",
      "Inside\n",
      "Inside\n",
      "Inside\n",
      "Inside\n",
      "Inside\n",
      "Inside\n",
      "Inside\n",
      "Inside\n",
      "Inside\n",
      "Inside\n",
      "Inside\n",
      "Inside\n",
      "Inside\n",
      "Inside\n",
      "Inside\n",
      "Inside\n",
      "Inside\n",
      "Inside\n",
      "Inside\n",
      "Inside\n",
      "Inside\n",
      "Inside\n",
      "Inside\n",
      "Inside\n",
      "Inside\n",
      "Inside\n",
      "Inside\n",
      "Inside\n",
      "Inside\n",
      "Inside\n",
      "Inside\n",
      "Inside\n",
      "Inside\n",
      "Inside\n",
      "Inside\n",
      "Inside\n",
      "Inside\n",
      "Inside\n",
      "Inside\n",
      "Inside\n",
      "Inside\n",
      "Inside\n",
      "Inside\n",
      "Inside\n",
      "Inside\n",
      "Inside\n",
      "Inside\n",
      "Inside\n",
      "Inside\n",
      "Inside\n",
      "Inside\n",
      "Inside\n",
      "Inside\n",
      "Inside\n",
      "Inside\n",
      "Inside\n",
      "Inside\n",
      "Inside\n",
      "Inside\n",
      "Inside\n",
      "Inside\n",
      "Inside\n",
      "Inside\n",
      "Inside\n",
      "Inside\n",
      "Inside\n",
      "Inside\n",
      "Inside\n",
      "Inside\n",
      "Inside\n",
      "Inside\n",
      "Inside\n",
      "Inside\n",
      "Inside\n",
      "Inside\n",
      "Inside\n",
      "Inside\n",
      "Inside\n",
      "Inside\n",
      "Inside\n",
      "Inside\n",
      "Inside\n",
      "Inside\n",
      "Inside\n",
      "Inside\n",
      "Inside\n",
      "Inside\n",
      "Inside\n",
      "Inside\n",
      "Inside\n",
      "Inside\n",
      "Inside\n",
      "Inside\n",
      "Inside\n",
      "Inside\n",
      "Inside\n",
      "Inside\n",
      "Inside\n",
      "Inside\n",
      "Inside\n",
      "Inside\n",
      "Inside\n",
      "Inside\n",
      "Inside\n",
      "Inside\n",
      "Inside\n",
      "Inside\n",
      "Inside\n",
      "Inside\n",
      "Inside\n",
      "Inside\n",
      "Inside\n",
      "Inside\n",
      "Inside\n",
      "Inside\n",
      "Inside\n",
      "Inside\n",
      "Inside\n",
      "Inside\n",
      "Inside\n",
      "Inside\n",
      "Inside\n",
      "Inside\n",
      "Inside\n",
      "Inside\n",
      "Inside\n",
      "Inside\n",
      "Inside\n",
      "Inside\n",
      "Inside\n",
      "Inside\n",
      "Inside\n",
      "Inside\n",
      "Inside\n",
      "Inside\n",
      "Inside\n",
      "Inside\n",
      "Inside\n",
      "Inside\n",
      "Inside\n",
      "Inside\n",
      "Inside\n",
      "Inside\n",
      "Inside\n",
      "Inside\n",
      "Inside\n",
      "Inside\n",
      "Inside\n",
      "Inside\n",
      "Inside\n",
      "Inside\n",
      "Inside\n",
      "Inside\n",
      "Inside\n",
      "Inside\n",
      "Inside\n",
      "Inside\n",
      "Inside\n",
      "Inside\n",
      "Inside\n",
      "Inside\n",
      "Inside\n",
      "Inside\n",
      "Inside\n",
      "Inside\n",
      "Inside\n",
      "Inside\n",
      "Inside\n",
      "Inside\n",
      "Inside\n",
      "Inside\n",
      "Inside\n",
      "Inside\n",
      "Inside\n",
      "Inside\n",
      "Inside\n",
      "Inside\n",
      "Inside\n",
      "Inside\n",
      "Inside\n",
      "Inside\n",
      "Inside\n",
      "Inside\n",
      "Inside\n",
      "Inside\n",
      "Inside\n",
      "Inside\n",
      "Inside\n",
      "Inside\n",
      "Inside\n",
      "Inside\n",
      "Inside\n",
      "Inside\n",
      "Inside\n",
      "Inside\n",
      "Inside\n",
      "Inside\n",
      "Inside\n",
      "Inside\n",
      "Inside\n",
      "Inside\n",
      "Inside\n",
      "Inside\n",
      "Inside\n",
      "Inside\n",
      "Inside\n",
      "Inside\n",
      "Inside\n",
      "Inside\n",
      "Inside\n",
      "Inside\n",
      "Inside\n",
      "Inside\n",
      "Inside\n",
      "Inside\n",
      "Inside\n",
      "Inside\n",
      "Inside\n",
      "Inside\n",
      "Inside\n",
      "Inside\n",
      "Inside\n",
      "Inside\n",
      "Inside\n",
      "Inside\n",
      "Inside\n",
      "Inside\n",
      "Inside\n",
      "Inside\n",
      "Inside\n",
      "Inside\n",
      "Inside\n",
      "Inside\n",
      "Inside\n",
      "Inside\n",
      "Inside\n",
      "Inside\n",
      "Inside\n",
      "Inside\n",
      "Inside\n",
      "Inside\n",
      "Inside\n",
      "Inside\n",
      "Inside\n",
      "Inside\n",
      "Inside\n",
      "Inside\n",
      "Inside\n",
      "Inside\n",
      "Inside\n",
      "Inside\n",
      "Inside\n",
      "Inside\n",
      "Inside\n",
      "Inside\n",
      "Inside\n",
      "Inside\n",
      "Inside\n",
      "Inside\n",
      "Inside\n",
      "Inside\n",
      "Inside\n",
      "Inside\n",
      "Inside\n",
      "Inside\n",
      "Inside\n",
      "Inside\n",
      "Inside\n",
      "Inside\n",
      "Inside\n",
      "Inside\n",
      "Inside\n",
      "Inside\n",
      "Inside\n",
      "Inside\n",
      "Inside\n",
      "Inside\n",
      "Inside\n",
      "Inside\n",
      "Inside\n",
      "Inside\n",
      "Inside\n",
      "Inside\n",
      "Inside\n",
      "Inside\n",
      "Inside\n",
      "Inside\n",
      "Inside\n",
      "Inside\n",
      "Inside\n",
      "Inside\n",
      "Inside\n",
      "Inside\n",
      "Inside\n",
      "Inside\n",
      "Inside\n",
      "Inside\n",
      "Inside\n",
      "Inside\n",
      "Inside\n",
      "Inside\n",
      "Inside\n",
      "Inside\n",
      "Inside\n",
      "Inside\n",
      "Inside\n",
      "Inside\n",
      "Inside\n",
      "Inside\n",
      "Inside\n",
      "Inside\n",
      "Inside\n",
      "Inside\n",
      "Inside\n",
      "Inside\n",
      "Inside\n",
      "Inside\n",
      "Inside\n",
      "Inside\n",
      "Inside\n",
      "Inside\n",
      "Inside\n",
      "Inside\n",
      "Inside\n",
      "Inside\n",
      "Inside\n",
      "Inside\n",
      "Inside\n",
      "Inside\n",
      "Inside\n",
      "Inside\n",
      "Inside\n",
      "Inside\n",
      "Inside\n",
      "Inside\n",
      "Inside\n",
      "Inside\n",
      "Inside\n",
      "Inside\n",
      "Inside\n",
      "Inside\n",
      "Inside\n",
      "Inside\n",
      "Inside\n",
      "Inside\n",
      "Inside\n",
      "Inside\n",
      "Inside\n",
      "Inside\n",
      "Inside\n",
      "Inside\n",
      "Inside\n",
      "Inside\n",
      "Inside\n",
      "Inside\n",
      "Inside\n",
      "Inside\n",
      "Inside\n",
      "Inside\n",
      "Inside\n",
      "Inside\n",
      "Inside\n",
      "Inside\n",
      "Inside\n",
      "Inside\n",
      "Inside\n",
      "Inside\n",
      "Inside\n",
      "Inside\n",
      "Inside\n",
      "Inside\n",
      "Inside\n",
      "Inside\n",
      "Inside\n",
      "Inside\n",
      "Inside\n",
      "Inside\n",
      "Inside\n",
      "Inside\n",
      "Inside\n",
      "Inside\n",
      "Inside\n",
      "Inside\n",
      "Inside\n",
      "Inside\n",
      "Inside\n",
      "Inside\n",
      "Inside\n",
      "Inside\n",
      "Inside\n",
      "Inside\n",
      "Inside\n",
      "Inside\n",
      "Inside\n",
      "Inside\n",
      "Inside\n",
      "Inside\n",
      "Inside\n",
      "Inside\n",
      "Inside\n",
      "Inside\n",
      "Inside\n",
      "Inside\n",
      "Inside\n",
      "Inside\n",
      "Inside\n",
      "Inside\n",
      "Inside\n",
      "Inside\n",
      "Inside\n",
      "Inside\n",
      "Inside\n",
      "Inside\n",
      "Inside\n",
      "Inside\n",
      "Inside\n",
      "Inside\n",
      "Inside\n",
      "Inside\n",
      "Inside\n",
      "Inside\n",
      "Inside\n",
      "Inside\n",
      "Inside\n",
      "Inside\n",
      "Inside\n",
      "Inside\n",
      "Inside\n",
      "Inside\n",
      "Inside\n",
      "Inside\n",
      "Inside\n",
      "Inside\n",
      "Inside\n",
      "Inside\n",
      "Inside\n",
      "Inside\n",
      "Inside\n",
      "Inside\n",
      "Inside\n",
      "Inside\n",
      "Inside\n",
      "Inside\n",
      "Inside\n",
      "Inside\n",
      "Inside\n",
      "Inside\n",
      "Inside\n",
      "Inside\n",
      "Inside\n",
      "Inside\n",
      "Inside\n",
      "Inside\n",
      "Inside\n",
      "Inside\n",
      "Inside\n",
      "Inside\n",
      "Inside\n",
      "Inside\n",
      "Inside\n",
      "Inside\n",
      "Inside\n",
      "Inside\n",
      "Inside\n",
      "Inside\n",
      "Inside\n",
      "Inside\n",
      "Inside\n",
      "Inside\n",
      "Inside\n",
      "Inside\n",
      "Inside\n",
      "Inside\n",
      "Inside\n",
      "Inside\n",
      "Inside\n",
      "Inside\n",
      "Inside\n",
      "Inside\n",
      "Inside\n",
      "Inside\n",
      "Inside\n",
      "Inside\n",
      "Inside\n",
      "Inside\n",
      "Inside\n",
      "Inside\n",
      "Inside\n",
      "Inside\n",
      "Inside\n",
      "Inside\n",
      "Inside\n",
      "Inside\n",
      "Inside\n",
      "Inside\n",
      "Inside\n",
      "Inside\n",
      "Inside\n",
      "Inside\n",
      "Inside\n",
      "Inside\n",
      "Inside\n",
      "Inside\n",
      "Inside\n",
      "Inside\n",
      "Inside\n",
      "Inside\n",
      "Inside\n",
      "Inside\n",
      "Inside\n",
      "Inside\n",
      "Inside\n",
      "Inside\n",
      "Inside\n",
      "Inside\n",
      "Inside\n",
      "Inside\n",
      "Inside\n",
      "Inside\n",
      "Inside\n",
      "Inside\n",
      "Inside\n",
      "Inside\n",
      "Inside\n",
      "Inside\n",
      "Inside\n",
      "Inside\n",
      "Inside\n",
      "Inside\n",
      "Inside\n",
      "Inside\n",
      "Inside\n",
      "Inside\n",
      "Inside\n",
      "Inside\n",
      "Inside\n",
      "Inside\n",
      "Inside\n",
      "Inside\n",
      "Inside\n",
      "Inside\n",
      "Inside\n",
      "Inside\n",
      "Inside\n",
      "Inside\n",
      "Inside\n",
      "Inside\n",
      "Inside\n",
      "Inside\n",
      "Inside\n",
      "Inside\n",
      "Inside\n",
      "Inside\n",
      "Inside\n",
      "Inside\n",
      "Inside\n",
      "Inside\n",
      "Inside\n",
      "Inside\n",
      "Inside\n",
      "Inside\n",
      "Inside\n",
      "Inside\n",
      "Inside\n",
      "Inside\n",
      "Inside\n",
      "Inside\n",
      "Inside\n",
      "Inside\n",
      "Inside\n",
      "Inside\n",
      "Inside\n",
      "Inside\n",
      "Inside\n",
      "Inside\n",
      "Inside\n",
      "Inside\n",
      "Inside\n",
      "Inside\n",
      "Inside\n",
      "Inside\n",
      "Inside\n",
      "Inside\n",
      "Inside\n",
      "Inside\n",
      "Inside\n",
      "Inside\n",
      "Inside\n",
      "Inside\n",
      "Inside\n",
      "Inside\n",
      "Inside\n",
      "Inside\n",
      "Inside\n",
      "Inside\n",
      "Inside\n",
      "Inside\n",
      "Inside\n",
      "Inside\n",
      "Inside\n",
      "Inside\n",
      "Inside\n",
      "Inside\n",
      "Inside\n",
      "Inside\n",
      "Inside\n",
      "Inside\n",
      "Inside\n",
      "Inside\n",
      "Inside\n",
      "Inside\n",
      "Inside\n",
      "Inside\n",
      "Inside\n",
      "Inside\n",
      "Inside\n",
      "Inside\n",
      "Inside\n",
      "Inside\n",
      "Inside\n",
      "Inside\n",
      "Inside\n",
      "Inside\n",
      "Inside\n",
      "Inside\n",
      "Inside\n",
      "Inside\n",
      "Inside\n",
      "Inside\n",
      "Inside\n",
      "Inside\n",
      "Inside\n",
      "Inside\n",
      "Inside\n",
      "Inside\n",
      "Inside\n",
      "Inside\n",
      "Inside\n",
      "Inside\n",
      "Inside\n",
      "Inside\n",
      "Inside\n",
      "Inside\n",
      "Inside\n",
      "Inside\n",
      "Inside\n",
      "Inside\n",
      "Inside\n",
      "Inside\n",
      "Inside\n",
      "Inside\n",
      "Inside\n",
      "Inside\n",
      "Inside\n",
      "Inside\n",
      "Inside\n",
      "Inside\n",
      "Inside\n",
      "Inside\n",
      "Inside\n",
      "Inside\n",
      "Inside\n",
      "Inside\n",
      "Inside\n",
      "Inside\n",
      "Inside\n",
      "Inside\n",
      "Inside\n",
      "Inside\n",
      "Inside\n",
      "Inside\n",
      "Inside\n",
      "Inside\n",
      "Inside\n",
      "Inside\n",
      "Inside\n",
      "Inside\n",
      "Inside\n",
      "Inside\n",
      "Inside\n",
      "Inside\n",
      "Inside\n",
      "Inside\n",
      "Inside\n",
      "Inside\n",
      "Inside\n",
      "Inside\n",
      "Inside\n",
      "Inside\n",
      "Inside\n",
      "Inside\n",
      "Inside\n",
      "Inside\n",
      "Inside\n",
      "Inside\n",
      "Inside\n",
      "Inside\n",
      "Inside\n",
      "Inside\n",
      "Inside\n",
      "Inside\n",
      "Inside\n",
      "Inside\n",
      "Inside\n",
      "Inside\n",
      "Inside\n",
      "Inside\n",
      "Inside\n",
      "Inside\n",
      "Inside\n",
      "Inside\n",
      "Inside\n",
      "Inside\n",
      "Inside\n",
      "Inside\n",
      "Inside\n",
      "Inside\n",
      "Inside\n",
      "Inside\n",
      "Inside\n",
      "Inside\n",
      "Inside\n",
      "Inside\n",
      "Inside\n",
      "Inside\n",
      "Inside\n",
      "Inside\n",
      "Inside\n",
      "Inside\n",
      "Inside\n",
      "Inside\n",
      "Inside\n",
      "Inside\n",
      "Inside\n",
      "Inside\n",
      "Inside\n",
      "Inside\n",
      "Inside\n",
      "Inside\n",
      "Inside\n",
      "Inside\n",
      "Inside\n",
      "Inside\n",
      "Inside\n",
      "Inside\n",
      "Inside\n",
      "Inside\n",
      "Inside\n",
      "Inside\n",
      "Inside\n",
      "Inside\n",
      "Inside\n",
      "Inside\n",
      "Inside\n",
      "Inside\n",
      "Inside\n",
      "Inside\n",
      "Inside\n",
      "Inside\n",
      "Inside\n",
      "Inside\n",
      "Inside\n",
      "Inside\n",
      "Inside\n",
      "Inside\n",
      "Inside\n",
      "Inside\n",
      "Inside\n",
      "Inside\n",
      "Inside\n",
      "Inside\n",
      "Inside\n",
      "Inside\n",
      "Inside\n",
      "Inside\n",
      "Inside\n",
      "Inside\n",
      "Inside\n",
      "Inside\n",
      "Inside\n",
      "Inside\n",
      "Inside\n",
      "Inside\n",
      "Inside\n",
      "Inside\n",
      "Inside\n",
      "Inside\n",
      "Inside\n",
      "Inside\n",
      "Inside\n",
      "Inside\n",
      "Inside\n",
      "Inside\n",
      "Inside\n",
      "Inside\n",
      "Inside\n",
      "Inside\n",
      "Inside\n",
      "Inside\n",
      "Inside\n",
      "Inside\n",
      "Inside\n",
      "Inside\n",
      "Inside\n",
      "Inside\n",
      "Inside\n",
      "Inside\n",
      "Inside\n",
      "Inside\n",
      "Inside\n",
      "Inside\n",
      "Inside\n",
      "Inside\n",
      "Inside\n",
      "Inside\n",
      "Inside\n",
      "Inside\n",
      "Inside\n",
      "Inside\n",
      "Inside\n",
      "Inside\n",
      "Inside\n",
      "Inside\n",
      "Inside\n",
      "Inside\n",
      "Inside\n",
      "Inside\n",
      "Inside\n",
      "Inside\n",
      "Inside\n",
      "Inside\n",
      "Inside\n",
      "Inside\n",
      "Inside\n",
      "Inside\n",
      "Inside\n",
      "Inside\n",
      "Inside\n",
      "Inside\n",
      "Inside\n",
      "Inside\n",
      "Inside\n",
      "Inside\n",
      "Inside\n",
      "Inside\n",
      "Inside\n",
      "Inside\n",
      "Inside\n",
      "Inside\n",
      "Inside\n",
      "Inside\n",
      "Inside\n",
      "Inside\n",
      "Inside\n",
      "Inside\n",
      "Inside\n",
      "Inside\n",
      "Inside\n",
      "Inside\n",
      "Inside\n",
      "Inside\n",
      "Inside\n",
      "Inside\n",
      "Inside\n",
      "Inside\n",
      "Inside\n",
      "Inside\n",
      "Inside\n",
      "Inside\n",
      "Inside\n",
      "Inside\n",
      "Inside\n",
      "Inside\n",
      "Inside\n",
      "Inside\n",
      "Inside\n",
      "Inside\n",
      "Inside\n",
      "Inside\n",
      "Inside\n",
      "Inside\n",
      "Inside\n",
      "Inside\n",
      "Inside\n",
      "Inside\n",
      "Inside\n",
      "Inside\n",
      "Inside\n",
      "Inside\n",
      "Inside\n",
      "Inside\n",
      "Inside\n",
      "Inside\n",
      "Inside\n",
      "Inside\n",
      "Inside\n",
      "Inside\n",
      "Inside\n",
      "Inside\n",
      "Inside\n",
      "Inside\n",
      "Inside\n",
      "Inside\n",
      "Inside\n",
      "Inside\n",
      "Inside\n",
      "Inside\n",
      "Inside\n",
      "Inside\n",
      "Inside\n",
      "Inside\n",
      "Inside\n",
      "Inside\n",
      "Inside\n",
      "Inside\n",
      "Inside\n",
      "Inside\n",
      "Inside\n",
      "Inside\n",
      "Inside\n",
      "Inside\n",
      "Inside\n",
      "Inside\n",
      "Inside\n",
      "Inside\n",
      "Inside\n",
      "Inside\n",
      "Inside\n",
      "Inside\n",
      "Inside\n",
      "Inside\n",
      "Inside\n"
     ]
    },
    {
     "name": "stdout",
     "output_type": "stream",
     "text": [
      "Inside\n",
      "Inside\n",
      "Inside\n",
      "Inside\n",
      "Inside\n",
      "Inside\n",
      "Inside\n",
      "Inside\n",
      "Inside\n",
      "Inside\n",
      "Inside\n",
      "Inside\n",
      "Inside\n",
      "Inside\n",
      "Inside\n",
      "Inside\n",
      "Inside\n",
      "Inside\n",
      "Inside\n",
      "Inside\n",
      "Inside\n",
      "Inside\n",
      "Inside\n",
      "Inside\n",
      "Inside\n",
      "Inside\n",
      "Inside\n",
      "Inside\n",
      "Inside\n",
      "Inside\n",
      "Inside\n",
      "Inside\n",
      "Inside\n",
      "Inside\n",
      "Inside\n",
      "Inside\n",
      "Inside\n",
      "Inside\n",
      "Inside\n",
      "Inside\n",
      "Inside\n",
      "Inside\n",
      "Inside\n",
      "Inside\n",
      "Inside\n",
      "Inside\n",
      "Inside\n",
      "Inside\n",
      "Inside\n",
      "Inside\n",
      "Inside\n",
      "Inside\n",
      "Inside\n",
      "Inside\n",
      "Inside\n",
      "Inside\n",
      "Inside\n",
      "Inside\n",
      "Inside\n",
      "Inside\n",
      "Inside\n",
      "Inside\n",
      "Inside\n",
      "Inside\n",
      "Inside\n",
      "Inside\n",
      "Inside\n",
      "Inside\n",
      "Inside\n",
      "Inside\n",
      "Inside\n",
      "Inside\n",
      "Inside\n",
      "Inside\n",
      "Inside\n",
      "Inside\n",
      "Inside\n",
      "Inside\n",
      "Inside\n",
      "Inside\n",
      "Inside\n",
      "Inside\n",
      "Inside\n",
      "Inside\n",
      "Inside\n",
      "Inside\n",
      "Inside\n",
      "Inside\n",
      "Inside\n",
      "Inside\n",
      "Inside\n",
      "Inside\n",
      "Inside\n",
      "Inside\n",
      "Inside\n",
      "Inside\n",
      "Inside\n",
      "Inside\n",
      "Inside\n",
      "Inside\n",
      "Inside\n",
      "Inside\n",
      "Inside\n",
      "Inside\n",
      "Inside\n",
      "Inside\n",
      "Inside\n",
      "Inside\n",
      "Inside\n",
      "Inside\n",
      "Inside\n",
      "Inside\n",
      "Inside\n",
      "Inside\n",
      "Inside\n",
      "Inside\n",
      "Inside\n",
      "Inside\n",
      "Inside\n",
      "Inside\n",
      "Inside\n",
      "Inside\n",
      "Inside\n",
      "Inside\n",
      "Inside\n",
      "Inside\n",
      "Inside\n",
      "Inside\n",
      "Inside\n",
      "Inside\n",
      "Inside\n",
      "Inside\n",
      "Inside\n",
      "Inside\n",
      "Inside\n",
      "Inside\n",
      "Inside\n",
      "Inside\n",
      "Inside\n",
      "Inside\n",
      "Inside\n",
      "Inside\n",
      "Inside\n",
      "Inside\n",
      "Inside\n",
      "Inside\n",
      "Inside\n",
      "Inside\n",
      "Inside\n",
      "Inside\n",
      "Inside\n",
      "Inside\n",
      "Inside\n",
      "Inside\n",
      "Inside\n",
      "Inside\n",
      "Inside\n",
      "Inside\n",
      "Inside\n",
      "Inside\n",
      "Inside\n",
      "Inside\n",
      "Inside\n",
      "Inside\n",
      "Inside\n",
      "Inside\n",
      "Inside\n",
      "Inside\n",
      "Inside\n",
      "Inside\n",
      "Inside\n",
      "Inside\n",
      "Inside\n",
      "Inside\n",
      "Inside\n",
      "Inside\n",
      "Inside\n",
      "Inside\n",
      "Inside\n",
      "Inside\n",
      "Inside\n",
      "Inside\n",
      "Inside\n",
      "Inside\n",
      "Inside\n",
      "Inside\n",
      "Inside\n",
      "Inside\n",
      "Inside\n",
      "Inside\n",
      "Inside\n",
      "Inside\n",
      "Inside\n",
      "Inside\n",
      "Inside\n",
      "Inside\n",
      "Inside\n",
      "Inside\n",
      "Inside\n",
      "Inside\n",
      "Inside\n",
      "Inside\n",
      "Inside\n",
      "Inside\n",
      "Inside\n",
      "Inside\n",
      "Inside\n",
      "Inside\n",
      "Inside\n",
      "Inside\n",
      "Inside\n",
      "Inside\n",
      "Inside\n",
      "Inside\n",
      "Inside\n",
      "Inside\n",
      "Inside\n",
      "Inside\n",
      "Inside\n",
      "Inside\n",
      "Inside\n",
      "Inside\n",
      "Inside\n",
      "Inside\n",
      "Inside\n",
      "Inside\n",
      "Inside\n",
      "Inside\n",
      "Inside\n",
      "Inside\n",
      "Inside\n",
      "Inside\n",
      "Inside\n",
      "Inside\n",
      "Inside\n",
      "Inside\n",
      "Inside\n",
      "Inside\n",
      "Inside\n",
      "Inside\n",
      "Inside\n",
      "Inside\n",
      "Inside\n",
      "Inside\n",
      "Inside\n",
      "Inside\n",
      "Inside\n",
      "Inside\n",
      "Inside\n",
      "Inside\n",
      "Inside\n",
      "Inside\n",
      "Inside\n",
      "Inside\n",
      "Inside\n",
      "Inside\n",
      "Inside\n",
      "Inside\n",
      "Inside\n",
      "Inside\n",
      "Inside\n",
      "Inside\n",
      "Inside\n",
      "Inside\n",
      "Inside\n",
      "Inside\n",
      "Inside\n",
      "Inside\n",
      "Inside\n",
      "Inside\n",
      "Inside\n",
      "Inside\n",
      "Inside\n",
      "Inside\n",
      "Inside\n",
      "Inside\n",
      "Inside\n",
      "Inside\n",
      "Inside\n",
      "Inside\n",
      "Inside\n",
      "Inside\n",
      "Inside\n",
      "Inside\n",
      "Inside\n",
      "Inside\n",
      "Inside\n",
      "Inside\n",
      "Inside\n",
      "Inside\n",
      "Inside\n",
      "Inside\n",
      "Inside\n",
      "Inside\n",
      "Inside\n",
      "Inside\n",
      "Inside\n",
      "Inside\n",
      "Inside\n",
      "Inside\n",
      "Inside\n",
      "Inside\n",
      "Inside\n",
      "Inside\n",
      "Inside\n",
      "Inside\n",
      "Inside\n",
      "Inside\n",
      "Inside\n",
      "Inside\n",
      "Inside\n",
      "Inside\n",
      "Inside\n",
      "Inside\n",
      "Inside\n",
      "Inside\n",
      "Inside\n",
      "Inside\n",
      "Inside\n",
      "Inside\n",
      "Inside\n",
      "Inside\n",
      "Inside\n",
      "Inside\n",
      "Inside\n",
      "Inside\n",
      "Inside\n",
      "Inside\n",
      "Inside\n",
      "Inside\n",
      "Inside\n",
      "Inside\n",
      "Inside\n",
      "Inside\n",
      "Inside\n",
      "Inside\n",
      "Inside\n",
      "Inside\n",
      "Inside\n",
      "Inside\n",
      "Inside\n",
      "Inside\n",
      "Inside\n",
      "Inside\n",
      "Inside\n",
      "Inside\n",
      "Inside\n",
      "Inside\n",
      "Inside\n",
      "Inside\n",
      "Inside\n",
      "Inside\n",
      "Inside\n",
      "Inside\n",
      "Inside\n",
      "Inside\n",
      "Inside\n",
      "Inside\n",
      "Inside\n",
      "Inside\n",
      "Inside\n",
      "Inside\n",
      "Inside\n",
      "Inside\n",
      "Inside\n",
      "Inside\n",
      "Inside\n",
      "Inside\n",
      "Inside\n",
      "Inside\n",
      "Inside\n",
      "Inside\n",
      "Inside\n",
      "Inside\n",
      "Inside\n",
      "Inside\n",
      "Inside\n",
      "Inside\n",
      "Inside\n",
      "Inside\n",
      "Inside\n",
      "Inside\n",
      "Inside\n",
      "Inside\n",
      "Inside\n",
      "Inside\n",
      "Inside\n",
      "Inside\n",
      "Inside\n",
      "Inside\n",
      "Inside\n",
      "Inside\n",
      "Inside\n",
      "Inside\n",
      "Inside\n",
      "Inside\n",
      "Inside\n",
      "Inside\n",
      "Inside\n",
      "Inside\n",
      "Inside\n",
      "Inside\n",
      "Inside\n",
      "Inside\n",
      "Inside\n",
      "Inside\n",
      "Inside\n",
      "Inside\n",
      "Inside\n",
      "Inside\n",
      "Inside\n",
      "Inside\n",
      "Inside\n",
      "Inside\n",
      "Inside\n",
      "Inside\n",
      "Inside\n",
      "Inside\n",
      "Inside\n",
      "Inside\n",
      "Inside\n",
      "Inside\n",
      "Inside\n",
      "Inside\n",
      "Inside\n",
      "Inside\n",
      "Inside\n",
      "Inside\n",
      "Inside\n",
      "Inside\n",
      "Inside\n",
      "Inside\n",
      "Inside\n",
      "Inside\n",
      "Inside\n",
      "Inside\n",
      "Inside\n",
      "Inside\n",
      "Inside\n",
      "Inside\n",
      "Inside\n",
      "Inside\n",
      "Inside\n",
      "Inside\n",
      "Inside\n",
      "Inside\n",
      "Inside\n",
      "Inside\n",
      "Inside\n",
      "Inside\n",
      "Inside\n",
      "Inside\n",
      "Inside\n",
      "Inside\n",
      "Inside\n",
      "Inside\n",
      "Inside\n",
      "Inside\n",
      "Inside\n",
      "Inside\n",
      "Inside\n",
      "Inside\n",
      "Inside\n",
      "Inside\n",
      "Inside\n",
      "Inside\n",
      "Inside\n",
      "Inside\n",
      "Inside\n",
      "Inside\n",
      "Inside\n",
      "Inside\n",
      "Inside\n",
      "Inside\n",
      "Inside\n",
      "Inside\n",
      "Inside\n",
      "Inside\n",
      "Inside\n",
      "Inside\n",
      "Inside\n",
      "Inside\n",
      "Inside\n",
      "Inside\n",
      "Inside\n",
      "Inside\n",
      "Inside\n",
      "Inside\n",
      "Inside\n",
      "Inside\n",
      "Inside\n",
      "Inside\n",
      "Inside\n",
      "Inside\n",
      "Inside\n",
      "Inside\n",
      "Inside\n",
      "Inside\n",
      "Inside\n",
      "Inside\n",
      "Inside\n",
      "Inside\n",
      "Inside\n",
      "Inside\n",
      "Inside\n",
      "Inside\n",
      "Inside\n",
      "Inside\n",
      "Inside\n",
      "Inside\n",
      "Inside\n",
      "Inside\n",
      "Inside\n",
      "Inside\n",
      "Inside\n",
      "Inside\n",
      "Inside\n",
      "Inside\n",
      "Inside\n",
      "Inside\n",
      "Inside\n",
      "Inside\n",
      "Inside\n",
      "Inside\n",
      "Inside\n",
      "Inside\n",
      "Inside\n",
      "Inside\n",
      "Inside\n",
      "Inside\n",
      "Inside\n",
      "Inside\n",
      "Inside\n",
      "Inside\n",
      "Inside\n",
      "Inside\n",
      "Inside\n",
      "Inside\n",
      "Inside\n",
      "Inside\n",
      "Inside\n",
      "Inside\n",
      "Inside\n",
      "Inside\n",
      "Inside\n",
      "Inside\n",
      "Inside\n",
      "Inside\n",
      "Inside\n",
      "Inside\n",
      "Inside\n",
      "Inside\n",
      "Inside\n",
      "Inside\n",
      "Inside\n",
      "Inside\n",
      "Inside\n",
      "Inside\n",
      "Inside\n",
      "Inside\n",
      "Inside\n",
      "Inside\n",
      "Inside\n",
      "Inside\n",
      "Inside\n",
      "Inside\n",
      "Inside\n",
      "Inside\n",
      "Inside\n",
      "Inside\n",
      "Inside\n",
      "Inside\n",
      "Inside\n",
      "Inside\n",
      "Inside\n",
      "Inside\n",
      "Inside\n",
      "Inside\n",
      "Inside\n",
      "Inside\n",
      "Inside\n",
      "Inside\n",
      "Inside\n",
      "Inside\n",
      "Inside\n",
      "Inside\n",
      "Inside\n",
      "Inside\n",
      "Inside\n",
      "Inside\n",
      "Inside\n",
      "Inside\n",
      "Inside\n",
      "Inside\n",
      "Inside\n",
      "Inside\n",
      "Inside\n",
      "Inside\n",
      "Inside\n",
      "Inside\n",
      "Inside\n",
      "Inside\n",
      "Inside\n",
      "Inside\n",
      "Inside\n",
      "Inside\n",
      "Inside\n",
      "Inside\n",
      "Inside\n",
      "Inside\n",
      "Inside\n",
      "Inside\n",
      "Inside\n",
      "Inside\n",
      "Inside\n",
      "Inside\n",
      "Inside\n",
      "Inside\n",
      "Inside\n",
      "Inside\n",
      "Inside\n",
      "Inside\n",
      "Inside\n",
      "Inside\n",
      "Inside\n",
      "Inside\n",
      "Inside\n",
      "Inside\n",
      "Inside\n",
      "Inside\n",
      "Inside\n",
      "Inside\n",
      "Inside\n",
      "Inside\n",
      "Inside\n",
      "Inside\n",
      "Inside\n",
      "Inside\n",
      "Inside\n",
      "Inside\n",
      "Inside\n",
      "Inside\n",
      "Inside\n",
      "Inside\n",
      "Inside\n",
      "Inside\n",
      "Inside\n",
      "Inside\n",
      "Inside\n",
      "Inside\n",
      "Inside\n",
      "Inside\n",
      "Inside\n",
      "Inside\n",
      "Inside\n",
      "Inside\n",
      "Inside\n",
      "Inside\n",
      "Inside\n",
      "Inside\n",
      "Inside\n",
      "Inside\n",
      "Inside\n",
      "Inside\n",
      "Inside\n",
      "Inside\n",
      "Inside\n",
      "Inside\n",
      "Inside\n",
      "Inside\n",
      "Inside\n",
      "Inside\n",
      "Inside\n",
      "Inside\n",
      "Inside\n",
      "Inside\n",
      "Inside\n",
      "Inside\n",
      "Inside\n",
      "Inside\n",
      "Inside\n",
      "Inside\n",
      "Inside\n",
      "Inside\n",
      "Inside\n",
      "Inside\n",
      "Inside\n",
      "Inside\n",
      "Inside\n",
      "Inside\n",
      "Inside\n",
      "Inside\n",
      "Inside\n",
      "Inside\n",
      "Inside\n",
      "Inside\n",
      "Inside\n",
      "Inside\n",
      "Inside\n",
      "Inside\n",
      "Inside\n",
      "Inside\n",
      "Inside\n",
      "Inside\n",
      "Inside\n",
      "Inside\n",
      "Inside\n",
      "Inside\n",
      "Inside\n",
      "Inside\n",
      "Inside\n",
      "Inside\n",
      "Inside\n",
      "Inside\n",
      "Inside\n",
      "Inside\n",
      "Inside\n",
      "Inside\n",
      "Inside\n",
      "Inside\n",
      "Inside\n",
      "Inside\n",
      "Inside\n",
      "Inside\n",
      "Inside\n",
      "Inside\n",
      "Inside\n",
      "Inside\n",
      "Inside\n",
      "Inside\n",
      "Inside\n",
      "Inside\n",
      "Inside\n",
      "Inside\n",
      "Inside\n",
      "Inside\n",
      "Inside\n",
      "Inside\n",
      "Inside\n",
      "Inside\n",
      "Inside\n",
      "Inside\n",
      "Inside\n",
      "Inside\n",
      "Inside\n",
      "Inside\n",
      "Inside\n",
      "Inside\n",
      "Inside\n",
      "Inside\n",
      "Inside\n",
      "Inside\n",
      "Inside\n",
      "Inside\n",
      "Inside\n",
      "Inside\n",
      "Inside\n",
      "Inside\n",
      "Inside\n",
      "Inside\n",
      "Inside\n",
      "Inside\n",
      "Inside\n",
      "Inside\n",
      "Inside\n",
      "Inside\n",
      "Inside\n",
      "Inside\n",
      "Inside\n",
      "Inside\n",
      "Inside\n",
      "Inside\n",
      "Inside\n",
      "Inside\n",
      "Inside\n",
      "Inside\n",
      "Inside\n",
      "Inside\n",
      "Inside\n",
      "Inside\n",
      "Inside\n",
      "Inside\n",
      "Inside\n",
      "Inside\n",
      "Inside\n",
      "Inside\n",
      "Inside\n",
      "Inside\n",
      "Inside\n",
      "Inside\n",
      "Inside\n",
      "Inside\n",
      "Inside\n",
      "Inside\n",
      "Inside\n",
      "Inside\n",
      "Inside\n",
      "Inside\n",
      "Inside\n",
      "Inside\n",
      "Inside\n",
      "Inside\n",
      "Inside\n",
      "Inside\n",
      "Inside\n",
      "Inside\n",
      "Inside\n",
      "Inside\n",
      "Inside\n",
      "Inside\n",
      "Inside\n",
      "Inside\n",
      "Inside\n",
      "Inside\n",
      "Inside\n",
      "Inside\n",
      "Inside\n",
      "Inside\n",
      "Inside\n",
      "Inside\n",
      "Inside\n",
      "Inside\n",
      "Inside\n",
      "Inside\n",
      "Inside\n",
      "Inside\n",
      "Inside\n",
      "Inside\n",
      "Inside\n",
      "Inside\n",
      "Inside\n",
      "Inside\n",
      "Inside\n",
      "Inside\n",
      "Inside\n",
      "Inside\n",
      "Inside\n",
      "Inside\n",
      "Inside\n",
      "Inside\n",
      "Inside\n",
      "Inside\n",
      "Inside\n",
      "Inside\n",
      "Inside\n",
      "Inside\n",
      "Inside\n",
      "Inside\n",
      "Inside\n",
      "Inside\n",
      "Inside\n",
      "Inside\n",
      "Inside\n",
      "Inside\n",
      "Inside\n",
      "Inside\n",
      "Inside\n",
      "Inside\n",
      "Inside\n",
      "Inside\n",
      "Inside\n",
      "Inside\n",
      "Inside\n",
      "Inside\n",
      "Inside\n",
      "Inside\n",
      "Inside\n",
      "Inside\n",
      "Inside\n",
      "Inside\n",
      "Inside\n",
      "Inside\n",
      "Inside\n",
      "Inside\n",
      "Inside\n",
      "Inside\n",
      "Inside\n",
      "Inside\n",
      "Inside\n",
      "Inside\n",
      "Inside\n",
      "Inside\n",
      "Inside\n",
      "Inside\n",
      "Inside\n",
      "Inside\n",
      "Inside\n",
      "Inside\n",
      "Inside\n",
      "Inside\n",
      "Inside\n",
      "Inside\n",
      "Inside\n",
      "Inside\n",
      "Inside\n",
      "Inside\n",
      "Inside\n",
      "Inside\n",
      "Inside\n",
      "Inside\n",
      "Inside\n",
      "Inside\n",
      "Inside\n",
      "Inside\n",
      "Inside\n",
      "Inside\n",
      "Inside\n",
      "Inside\n",
      "Inside\n",
      "Inside\n",
      "Inside\n",
      "Inside\n",
      "Inside\n",
      "Inside\n",
      "Inside\n",
      "Inside\n",
      "Inside\n",
      "Inside\n",
      "Inside\n",
      "Inside\n",
      "Inside\n",
      "Inside\n",
      "Inside\n",
      "Inside\n",
      "Inside\n",
      "Inside\n",
      "Inside\n",
      "Inside\n",
      "Inside\n",
      "Inside\n",
      "Inside\n",
      "Inside\n",
      "Inside\n",
      "Inside\n",
      "Inside\n",
      "Inside\n",
      "Inside\n",
      "Inside\n",
      "Inside\n",
      "Inside\n",
      "Inside\n",
      "Inside\n",
      "Inside\n",
      "Inside\n",
      "Inside\n",
      "Inside\n",
      "Inside\n",
      "Inside\n",
      "Inside\n",
      "Inside\n",
      "Inside\n",
      "Inside\n",
      "Inside\n",
      "Inside\n",
      "Inside\n",
      "Inside\n",
      "Inside\n",
      "Inside\n",
      "Inside\n",
      "Inside\n",
      "Inside\n",
      "Inside\n",
      "Inside\n",
      "Inside\n",
      "Inside\n",
      "Inside\n",
      "Inside\n",
      "Inside\n",
      "Inside\n",
      "Inside\n",
      "Inside\n",
      "Inside\n",
      "Inside\n",
      "Inside\n",
      "Inside\n",
      "Inside\n",
      "Inside\n",
      "Inside\n",
      "Inside\n",
      "Inside\n",
      "Inside\n",
      "Inside\n",
      "Inside\n",
      "Inside\n",
      "Inside\n",
      "Inside\n",
      "Inside\n",
      "Inside\n",
      "Inside\n",
      "Inside\n",
      "Inside\n",
      "Inside\n",
      "Inside\n",
      "Inside\n",
      "Inside\n",
      "Inside\n",
      "Inside\n",
      "Inside\n",
      "Inside\n",
      "Inside\n",
      "Inside\n",
      "Inside\n",
      "Inside\n",
      "Inside\n",
      "Inside\n",
      "Inside\n",
      "Inside\n",
      "Inside\n",
      "Inside\n",
      "Inside\n",
      "Inside\n",
      "Inside\n",
      "Inside\n",
      "Inside\n",
      "Inside\n",
      "Inside\n",
      "Inside\n",
      "Inside\n",
      "Inside\n",
      "Inside\n",
      "Inside\n",
      "Inside\n",
      "Inside\n",
      "Inside\n",
      "Inside\n",
      "Inside\n",
      "Inside\n",
      "Inside\n",
      "Inside\n",
      "Inside\n",
      "Inside\n",
      "Inside\n",
      "Inside\n",
      "Inside\n",
      "Inside\n",
      "Inside\n",
      "Inside\n",
      "Inside\n",
      "Inside\n",
      "Inside\n",
      "Inside\n",
      "Inside\n",
      "Inside\n",
      "Inside\n",
      "Inside\n",
      "Inside\n",
      "Inside\n",
      "Inside\n",
      "Inside\n",
      "Inside\n",
      "Inside\n",
      "Inside\n",
      "Inside\n",
      "Inside\n",
      "Inside\n",
      "Inside\n",
      "Inside\n",
      "Inside\n",
      "Inside\n",
      "Inside\n",
      "Inside\n",
      "Inside\n",
      "Inside\n",
      "Inside\n",
      "Inside\n",
      "Inside\n",
      "Inside\n",
      "Inside\n",
      "Inside\n",
      "Inside\n",
      "Inside\n",
      "Inside\n",
      "Inside\n",
      "Inside\n",
      "Inside\n",
      "Inside\n",
      "Inside\n",
      "Inside\n",
      "Inside\n",
      "Inside\n",
      "Inside\n",
      "Inside\n",
      "Inside\n",
      "Inside\n",
      "Inside\n",
      "Inside\n",
      "Inside\n",
      "Inside\n",
      "Inside\n",
      "Inside\n",
      "Inside\n",
      "Inside\n",
      "Inside\n",
      "Inside\n",
      "Inside\n",
      "Inside\n",
      "Inside\n",
      "Inside\n",
      "Inside\n",
      "Inside\n",
      "Inside\n",
      "Inside\n",
      "Inside\n",
      "Inside\n",
      "Inside\n",
      "Inside\n",
      "Inside\n",
      "Inside\n",
      "Inside\n",
      "Inside\n",
      "Inside\n",
      "Inside\n",
      "Inside\n",
      "Inside\n",
      "Inside\n",
      "Inside\n",
      "Inside\n",
      "Inside\n",
      "Inside\n",
      "Inside\n",
      "Inside\n",
      "Inside\n",
      "Inside\n",
      "Inside\n",
      "Inside\n",
      "Inside\n",
      "Inside\n",
      "Inside\n",
      "Inside\n",
      "Inside\n",
      "Inside\n",
      "Inside\n",
      "Inside\n",
      "Inside\n",
      "Inside\n",
      "Inside\n",
      "Inside\n",
      "Inside\n",
      "Inside\n",
      "Inside\n",
      "Inside\n",
      "Inside\n",
      "Inside\n",
      "Inside\n",
      "Inside\n",
      "Inside\n",
      "Inside\n",
      "Inside\n",
      "Inside\n",
      "Inside\n",
      "Inside\n",
      "Inside\n",
      "Inside\n",
      "Inside\n",
      "Inside\n",
      "Inside\n",
      "Inside\n",
      "Inside\n",
      "Inside\n",
      "Inside\n",
      "Inside\n",
      "Inside\n",
      "Inside\n",
      "Inside\n",
      "Inside\n",
      "Inside\n",
      "Inside\n",
      "Inside\n",
      "Inside\n",
      "Inside\n",
      "Inside\n",
      "Inside\n",
      "Inside\n",
      "Inside\n",
      "Inside\n",
      "Inside\n",
      "Inside\n",
      "Inside\n",
      "Inside\n",
      "Inside\n",
      "Inside\n",
      "Inside\n",
      "Inside\n",
      "Inside\n",
      "Inside\n",
      "Inside\n",
      "Inside\n",
      "Inside\n",
      "Inside\n",
      "Inside\n",
      "Inside\n",
      "Inside\n",
      "Inside\n",
      "Inside\n",
      "Inside\n",
      "Inside\n",
      "Inside\n",
      "Inside\n",
      "Inside\n",
      "Inside\n",
      "Inside\n",
      "Inside\n",
      "Inside\n",
      "Inside\n",
      "Inside\n",
      "Inside\n",
      "Inside\n",
      "Inside\n",
      "Inside\n",
      "Inside\n",
      "Inside\n",
      "Inside\n",
      "Inside\n",
      "Inside\n",
      "Inside\n",
      "Inside\n",
      "Inside\n",
      "Inside\n",
      "Inside\n",
      "Inside\n",
      "Inside\n",
      "Inside\n",
      "Inside\n",
      "Inside\n",
      "Inside\n",
      "Inside\n",
      "Inside\n",
      "Inside\n",
      "Inside\n",
      "Inside\n",
      "Inside\n",
      "Inside\n",
      "Inside\n",
      "Inside\n",
      "Inside\n",
      "Inside\n",
      "Inside\n",
      "Inside\n",
      "Inside\n",
      "Inside\n",
      "Inside\n",
      "Inside\n",
      "Inside\n",
      "Inside\n",
      "Inside\n",
      "Inside\n",
      "Inside\n",
      "Inside\n",
      "Inside\n",
      "Inside\n",
      "Inside\n",
      "Inside\n",
      "Inside\n",
      "Inside\n",
      "Inside\n",
      "Inside\n",
      "Inside\n",
      "Inside\n",
      "Inside\n",
      "Inside\n",
      "Inside\n",
      "Inside\n",
      "Inside\n",
      "Inside\n",
      "Inside\n",
      "Inside\n",
      "Inside\n",
      "Inside\n",
      "Inside\n",
      "Inside\n",
      "Inside\n",
      "Inside\n",
      "Inside\n",
      "Inside\n",
      "Inside\n",
      "Inside\n",
      "Inside\n",
      "Inside\n",
      "Inside\n",
      "Inside\n",
      "Inside\n",
      "Inside\n",
      "Inside\n",
      "Inside\n",
      "Inside\n",
      "Inside\n",
      "Inside\n",
      "Inside\n",
      "Inside\n",
      "Inside\n",
      "Inside\n",
      "Inside\n",
      "Inside\n",
      "Inside\n",
      "Inside\n",
      "Inside\n",
      "Inside\n",
      "Inside\n",
      "Inside\n",
      "Inside\n",
      "Inside\n",
      "Inside\n",
      "Inside\n",
      "Inside\n",
      "Inside\n",
      "Inside\n",
      "Inside\n",
      "Inside\n",
      "Inside\n",
      "Inside\n",
      "Inside\n",
      "Inside\n",
      "Inside\n",
      "Inside\n",
      "Inside\n",
      "Inside\n",
      "Inside\n",
      "Inside\n",
      "Inside\n",
      "Inside\n",
      "Inside\n",
      "Inside\n",
      "Inside\n",
      "Inside\n",
      "Inside\n",
      "Inside\n",
      "Inside\n",
      "Inside\n",
      "Inside\n",
      "Inside\n",
      "Inside\n",
      "Inside\n",
      "Inside\n",
      "Inside\n",
      "Inside\n",
      "Inside\n",
      "Inside\n",
      "Inside\n",
      "Inside\n",
      "Inside\n",
      "Inside\n",
      "Inside\n",
      "Inside\n",
      "Inside\n",
      "Inside\n",
      "Inside\n",
      "Inside\n",
      "Inside\n",
      "Inside\n",
      "Inside\n",
      "Inside\n",
      "Inside\n",
      "Inside\n",
      "Inside\n",
      "Inside\n",
      "Inside\n",
      "Inside\n",
      "Inside\n",
      "Inside\n",
      "Inside\n",
      "Inside\n",
      "Inside\n",
      "Inside\n",
      "Inside\n",
      "Inside\n",
      "Inside\n",
      "Inside\n",
      "Inside\n",
      "Inside\n",
      "Inside\n",
      "Inside\n",
      "Inside\n",
      "Inside\n",
      "Inside\n",
      "Inside\n",
      "Inside\n",
      "Inside\n",
      "Inside\n",
      "Inside\n",
      "Inside\n",
      "Inside\n",
      "Inside\n",
      "Inside\n",
      "Inside\n",
      "Inside\n",
      "Inside\n",
      "Inside\n",
      "Inside\n",
      "Inside\n",
      "Inside\n",
      "Inside\n",
      "Inside\n",
      "Inside\n",
      "Inside\n",
      "Inside\n",
      "Inside\n",
      "Inside\n",
      "Inside\n",
      "Inside\n",
      "Inside\n",
      "Inside\n",
      "Inside\n",
      "Inside\n",
      "Inside\n",
      "Inside\n",
      "Inside\n",
      "Inside\n",
      "Inside\n",
      "Inside\n",
      "Inside\n",
      "Inside\n",
      "Inside\n",
      "Inside\n",
      "Inside\n",
      "Inside\n",
      "Inside\n",
      "Inside\n",
      "Inside\n",
      "Inside\n",
      "Inside\n",
      "Inside\n",
      "Inside\n",
      "Inside\n",
      "Inside\n",
      "Inside\n",
      "Inside\n",
      "Inside\n",
      "Inside\n",
      "Inside\n",
      "Inside\n",
      "Inside\n",
      "Inside\n",
      "Inside\n",
      "Inside\n",
      "Inside\n",
      "Inside\n",
      "Inside\n",
      "Inside\n",
      "Inside\n",
      "Inside\n",
      "Inside\n",
      "Inside\n",
      "Inside\n",
      "Inside\n",
      "Inside\n",
      "Inside\n",
      "Inside\n",
      "Inside\n",
      "Inside\n",
      "Inside\n",
      "Inside\n",
      "Inside\n",
      "Inside\n",
      "Inside\n",
      "Inside\n",
      "Inside\n",
      "Inside\n",
      "Inside\n",
      "Inside\n",
      "Inside\n",
      "Inside\n",
      "Inside\n",
      "Inside\n",
      "Inside\n",
      "Inside\n",
      "Inside\n",
      "Inside\n",
      "Inside\n",
      "Inside\n",
      "Inside\n",
      "Inside\n",
      "Inside\n",
      "Inside\n",
      "Inside\n",
      "Inside\n",
      "Inside\n",
      "Inside\n",
      "Inside\n",
      "Inside\n",
      "Inside\n",
      "Inside\n",
      "Inside\n",
      "Inside\n",
      "Inside\n",
      "Inside\n",
      "Inside\n",
      "Inside\n",
      "Inside\n",
      "Inside\n",
      "Inside\n",
      "Inside\n",
      "Inside\n",
      "Inside\n",
      "Inside\n",
      "Inside\n",
      "Inside\n",
      "Inside\n",
      "Inside\n",
      "Inside\n",
      "Inside\n",
      "Inside\n",
      "Inside\n",
      "Inside\n",
      "Inside\n",
      "Inside\n",
      "Inside\n",
      "Inside\n",
      "Inside\n",
      "Inside\n",
      "Inside\n",
      "Inside\n",
      "Inside\n",
      "Inside\n",
      "Inside\n",
      "Inside\n",
      "Inside\n",
      "Inside\n",
      "Inside\n",
      "Inside\n",
      "Inside\n",
      "Inside\n",
      "Inside\n",
      "Inside\n",
      "Inside\n",
      "Inside\n",
      "Inside\n",
      "Inside\n",
      "Inside\n",
      "Inside\n",
      "Inside\n",
      "Inside\n",
      "Inside\n",
      "Inside\n",
      "Inside\n",
      "Inside\n",
      "Inside\n",
      "Inside\n",
      "Inside\n",
      "Inside\n",
      "Inside\n",
      "Inside\n",
      "Inside\n",
      "Inside\n",
      "Inside\n",
      "Inside\n",
      "Inside\n",
      "Inside\n",
      "Inside\n",
      "Inside\n",
      "Inside\n",
      "Inside\n",
      "Inside\n",
      "Inside\n",
      "Inside\n",
      "Inside\n",
      "Inside\n",
      "Inside\n",
      "Inside\n",
      "Inside\n",
      "Inside\n",
      "Inside\n",
      "Inside\n",
      "Inside\n",
      "Inside\n",
      "Inside\n",
      "Inside\n",
      "Inside\n",
      "Inside\n",
      "Inside\n",
      "Inside\n",
      "Inside\n",
      "Inside\n",
      "Inside\n",
      "Inside\n",
      "Inside\n",
      "Inside\n",
      "Inside\n",
      "Inside\n",
      "Inside\n",
      "Inside\n",
      "Inside\n",
      "Inside\n",
      "Inside\n",
      "Inside\n",
      "Inside\n",
      "Inside\n",
      "Inside\n",
      "Inside\n",
      "Inside\n",
      "Inside\n",
      "Inside\n",
      "Inside\n",
      "Inside\n",
      "Inside\n",
      "Inside\n",
      "Inside\n",
      "Inside\n",
      "Inside\n",
      "Inside\n",
      "Inside\n",
      "Inside\n",
      "Inside\n",
      "Inside\n",
      "Inside\n",
      "Inside\n",
      "Inside\n",
      "Inside\n",
      "Inside\n",
      "Inside\n",
      "Inside\n",
      "Inside\n",
      "Inside\n",
      "Inside\n",
      "Inside\n",
      "Inside\n",
      "Inside\n",
      "Inside\n",
      "Inside\n",
      "Inside\n",
      "Inside\n",
      "Inside\n",
      "Inside\n",
      "Inside\n",
      "Inside\n",
      "Inside\n",
      "Inside\n",
      "Inside\n",
      "Inside\n",
      "Inside\n",
      "Inside\n",
      "Inside\n",
      "Inside\n",
      "Inside\n",
      "Inside\n",
      "Inside\n",
      "Inside\n",
      "Inside\n",
      "Inside\n",
      "Inside\n",
      "Inside\n",
      "Inside\n",
      "Inside\n",
      "Inside\n",
      "Inside\n",
      "Inside\n",
      "Inside\n",
      "Inside\n",
      "Inside\n",
      "Inside\n",
      "Inside\n",
      "Inside\n",
      "Inside\n",
      "Inside\n",
      "Inside\n",
      "Inside\n",
      "Inside\n",
      "Inside\n",
      "Inside\n",
      "Inside\n",
      "Inside\n",
      "Inside\n",
      "Inside\n",
      "Inside\n",
      "Inside\n",
      "Inside\n",
      "Inside\n",
      "Inside\n",
      "Inside\n",
      "Inside\n",
      "Inside\n",
      "Inside\n",
      "Inside\n",
      "Inside\n",
      "Inside\n",
      "Inside\n",
      "Inside\n",
      "Inside\n",
      "Inside\n",
      "Inside\n",
      "Inside\n",
      "Inside\n",
      "Inside\n",
      "Inside\n",
      "Inside\n",
      "Inside\n",
      "Inside\n",
      "Inside\n",
      "Inside\n",
      "Inside\n",
      "Inside\n",
      "Inside\n",
      "Inside\n",
      "Inside\n",
      "Inside\n",
      "Inside\n",
      "Inside\n",
      "Inside\n",
      "Inside\n",
      "Inside\n",
      "Inside\n",
      "Inside\n",
      "Inside\n",
      "Inside\n",
      "Inside\n",
      "Inside\n",
      "Inside\n",
      "Inside\n",
      "Inside\n",
      "Inside\n",
      "Inside\n",
      "Inside\n",
      "Inside\n",
      "Inside\n",
      "Inside\n",
      "Inside\n",
      "Inside\n",
      "Inside\n",
      "Inside\n",
      "Inside\n",
      "Inside\n",
      "Inside\n",
      "Inside\n",
      "Inside\n",
      "Inside\n",
      "Inside\n",
      "Inside\n",
      "Inside\n",
      "Inside\n",
      "Inside\n",
      "Inside\n",
      "Inside\n",
      "Inside\n",
      "Inside\n",
      "Inside\n",
      "Inside\n",
      "Inside\n",
      "Inside\n",
      "Inside\n",
      "Inside\n",
      "Inside\n",
      "Inside\n",
      "Inside\n",
      "Inside\n",
      "Inside\n",
      "Inside\n",
      "Inside\n",
      "Inside\n",
      "Inside\n",
      "Inside\n",
      "Inside\n",
      "Inside\n",
      "Inside\n",
      "Inside\n",
      "Inside\n",
      "Inside\n",
      "Inside\n",
      "Inside\n",
      "Inside\n",
      "Inside\n",
      "Inside\n",
      "Inside\n",
      "Inside\n",
      "Inside\n",
      "Inside\n",
      "Inside\n",
      "Inside\n",
      "Inside\n",
      "Inside\n",
      "Inside\n",
      "Inside\n",
      "Inside\n",
      "Inside\n",
      "Inside\n",
      "Inside\n",
      "Inside\n",
      "Inside\n",
      "Inside\n",
      "Inside\n",
      "Inside\n",
      "Inside\n",
      "Inside\n",
      "Inside\n",
      "Inside\n",
      "Inside\n",
      "Inside\n",
      "Inside\n",
      "Inside\n",
      "Inside\n",
      "Inside\n",
      "Inside\n",
      "Inside\n",
      "Inside\n",
      "Inside\n",
      "Inside\n",
      "Inside\n",
      "Inside\n",
      "Inside\n",
      "Inside\n",
      "Inside\n",
      "Inside\n",
      "Inside\n",
      "Inside\n",
      "Inside\n",
      "Inside\n",
      "Inside\n",
      "Inside\n",
      "Inside\n",
      "Inside\n",
      "Inside\n",
      "Inside\n",
      "Inside\n",
      "Inside\n",
      "Inside\n",
      "Inside\n",
      "Inside\n",
      "Inside\n",
      "Inside\n",
      "Inside\n",
      "Inside\n",
      "Inside\n",
      "Inside\n",
      "Inside\n",
      "Inside\n",
      "Inside\n",
      "Inside\n",
      "Inside\n",
      "Inside\n",
      "Inside\n",
      "Inside\n",
      "Inside\n",
      "Inside\n",
      "Inside\n",
      "Inside\n",
      "Inside\n",
      "Inside\n",
      "Inside\n",
      "Inside\n",
      "Inside\n",
      "Inside\n",
      "Inside\n",
      "Inside\n",
      "Inside\n",
      "Inside\n",
      "Inside\n",
      "Inside\n",
      "Inside\n",
      "Inside\n",
      "Inside\n",
      "Inside\n",
      "Inside\n",
      "Inside\n",
      "Inside\n",
      "Inside\n",
      "Inside\n",
      "Inside\n",
      "Inside\n",
      "Inside\n",
      "Inside\n",
      "Inside\n",
      "Inside\n",
      "Inside\n",
      "Inside\n",
      "Inside\n",
      "Inside\n",
      "Inside\n",
      "Inside\n",
      "Inside\n",
      "Inside\n",
      "Inside\n",
      "Inside\n",
      "Inside\n",
      "Inside\n",
      "Inside\n",
      "Inside\n",
      "Inside\n",
      "Inside\n",
      "Inside\n",
      "Inside\n",
      "Inside\n",
      "Inside\n",
      "Inside\n",
      "Inside\n",
      "Inside\n",
      "Inside\n",
      "Inside\n",
      "Inside\n",
      "Inside\n",
      "Inside\n",
      "Inside\n",
      "Inside\n",
      "Inside\n",
      "Inside\n",
      "Inside\n",
      "Inside\n",
      "Inside\n",
      "Inside\n",
      "Inside\n",
      "Inside\n",
      "Inside\n",
      "Inside\n",
      "Inside\n",
      "Inside\n",
      "Inside\n",
      "Inside\n",
      "Inside\n",
      "Inside\n",
      "Inside\n",
      "Inside\n",
      "Inside\n",
      "Inside\n",
      "Inside\n",
      "Inside\n",
      "Inside\n",
      "Inside\n",
      "Inside\n",
      "Inside\n",
      "Inside\n",
      "Inside\n",
      "Inside\n",
      "Inside\n",
      "Inside\n",
      "Inside\n",
      "Inside\n",
      "Inside\n",
      "Inside\n",
      "Inside\n",
      "Inside\n",
      "Inside\n",
      "Inside\n",
      "Inside\n",
      "Inside\n",
      "Inside\n",
      "Inside\n",
      "Inside\n",
      "Inside\n",
      "Inside\n",
      "Inside\n",
      "Inside\n",
      "Inside\n",
      "Inside\n",
      "Inside\n",
      "Inside\n",
      "Inside\n",
      "Inside\n",
      "Inside\n",
      "Inside\n",
      "Inside\n",
      "Inside\n",
      "Inside\n",
      "Inside\n",
      "Inside\n",
      "Inside\n",
      "Inside\n",
      "Inside\n",
      "Inside\n",
      "Inside\n",
      "Inside\n",
      "Inside\n",
      "Inside\n",
      "Inside\n",
      "Inside\n",
      "Inside\n",
      "Inside\n",
      "Inside\n",
      "Inside\n",
      "Inside\n",
      "Inside\n",
      "Inside\n",
      "Inside\n",
      "Inside\n",
      "Inside\n",
      "Inside\n",
      "Inside\n",
      "Inside\n",
      "Inside\n",
      "Inside\n",
      "Inside\n",
      "Inside\n",
      "Inside\n",
      "Inside\n",
      "Inside\n",
      "Inside\n",
      "Inside\n",
      "Inside\n",
      "Inside\n",
      "Inside\n",
      "Inside\n",
      "Inside\n",
      "Inside\n",
      "Inside\n",
      "Inside\n",
      "Inside\n",
      "Inside\n",
      "Inside\n",
      "Inside\n",
      "Inside\n",
      "Inside\n",
      "Inside\n",
      "Inside\n",
      "Inside\n",
      "Inside\n",
      "Inside\n",
      "Inside\n",
      "Inside\n",
      "Inside\n",
      "Inside\n",
      "Inside\n",
      "Inside\n",
      "Inside\n",
      "Inside\n",
      "Inside\n",
      "Inside\n",
      "Inside\n",
      "Inside\n",
      "Inside\n",
      "Inside\n",
      "Inside\n",
      "Inside\n",
      "Inside\n",
      "Inside\n",
      "Inside\n",
      "Inside\n",
      "Inside\n",
      "Inside\n",
      "Inside\n",
      "Inside\n",
      "Inside\n",
      "Inside\n",
      "Inside\n",
      "Inside\n",
      "Inside\n",
      "Inside\n",
      "Inside\n",
      "Inside\n",
      "Inside\n",
      "Inside\n",
      "Inside\n",
      "Inside\n",
      "Inside\n",
      "Inside\n",
      "Inside\n",
      "Inside\n",
      "Inside\n",
      "Inside\n",
      "Inside\n",
      "Inside\n",
      "Inside\n",
      "Inside\n",
      "Inside\n",
      "Inside\n",
      "Inside\n",
      "Inside\n",
      "Inside\n",
      "Inside\n",
      "Inside\n",
      "Inside\n",
      "Inside\n",
      "Inside\n",
      "Inside\n",
      "Inside\n",
      "Inside\n",
      "Inside\n",
      "Inside\n",
      "Inside\n",
      "Inside\n",
      "Inside\n",
      "Inside\n",
      "Inside\n",
      "Inside\n",
      "Inside\n",
      "Inside\n",
      "Inside\n",
      "Inside\n",
      "Inside\n",
      "Inside\n",
      "Inside\n",
      "Inside\n",
      "Inside\n",
      "Inside\n",
      "Inside\n",
      "Inside\n",
      "Inside\n",
      "Inside\n",
      "Inside\n",
      "Inside\n",
      "Inside\n",
      "Inside\n",
      "Inside\n",
      "Inside\n",
      "Inside\n",
      "Inside\n",
      "Inside\n",
      "Inside\n",
      "Inside\n",
      "Inside\n",
      "Inside\n",
      "Inside\n",
      "Inside\n",
      "Inside\n",
      "Inside\n",
      "Inside\n",
      "Inside\n",
      "Inside\n",
      "Inside\n",
      "Inside\n",
      "Inside\n",
      "Inside\n",
      "Inside\n",
      "Inside\n",
      "Inside\n",
      "Inside\n",
      "Inside\n",
      "Inside\n",
      "Inside\n",
      "Inside\n",
      "Inside\n",
      "Inside\n",
      "Inside\n",
      "Inside\n",
      "Inside\n",
      "Inside\n",
      "Inside\n",
      "Inside\n",
      "Inside\n",
      "Inside\n",
      "Inside\n",
      "Inside\n",
      "Inside\n",
      "Inside\n",
      "Inside\n",
      "Inside\n",
      "Inside\n",
      "Inside\n",
      "Inside\n",
      "Inside\n",
      "Inside\n",
      "Inside\n",
      "Inside\n",
      "Inside\n",
      "Inside\n",
      "Inside\n",
      "Inside\n",
      "Inside\n",
      "Inside\n",
      "Inside\n",
      "Inside\n",
      "Inside\n",
      "Inside\n",
      "Inside\n",
      "Inside\n",
      "Inside\n",
      "Inside\n",
      "Inside\n",
      "Inside\n",
      "Inside\n",
      "Inside\n",
      "Inside\n",
      "Inside\n",
      "Inside\n",
      "Inside\n",
      "Inside\n",
      "Inside\n",
      "Inside\n",
      "Inside\n",
      "Inside\n",
      "Inside\n",
      "Inside\n",
      "Inside\n",
      "Inside\n",
      "Inside\n",
      "Inside\n",
      "Inside\n",
      "Inside\n",
      "Inside\n",
      "Inside\n",
      "Inside\n",
      "Inside\n",
      "Inside\n",
      "Inside\n",
      "Inside\n",
      "Inside\n",
      "Inside\n",
      "Inside\n",
      "Inside\n",
      "Inside\n",
      "Inside\n",
      "Inside\n",
      "Inside\n",
      "Inside\n",
      "Inside\n",
      "Inside\n",
      "Inside\n",
      "Inside\n",
      "Inside\n",
      "Inside\n",
      "Inside\n",
      "Inside\n",
      "Inside\n",
      "Inside\n",
      "Inside\n",
      "Inside\n",
      "Inside\n",
      "Inside\n",
      "Inside\n",
      "Inside\n",
      "Inside\n",
      "Inside\n",
      "Inside\n",
      "Inside\n",
      "Inside\n",
      "Inside\n",
      "Inside\n",
      "Inside\n",
      "Inside\n"
     ]
    },
    {
     "name": "stdout",
     "output_type": "stream",
     "text": [
      "Inside\n",
      "Inside\n",
      "Inside\n",
      "Inside\n",
      "Inside\n",
      "Inside\n",
      "Inside\n",
      "Inside\n",
      "Inside\n",
      "Inside\n",
      "Inside\n",
      "Inside\n",
      "Inside\n",
      "Inside\n",
      "Inside\n",
      "Inside\n",
      "Inside\n",
      "Inside\n",
      "Inside\n",
      "Inside\n",
      "Inside\n",
      "Inside\n",
      "Inside\n",
      "Inside\n",
      "Inside\n",
      "Inside\n",
      "Inside\n",
      "Inside\n",
      "Inside\n",
      "Inside\n",
      "Inside\n",
      "Inside\n",
      "Inside\n",
      "Inside\n",
      "Inside\n",
      "Inside\n",
      "Inside\n",
      "Inside\n",
      "Inside\n",
      "Inside\n",
      "Inside\n",
      "Inside\n",
      "Inside\n",
      "Inside\n",
      "Inside\n",
      "Inside\n",
      "Inside\n",
      "Inside\n",
      "Inside\n",
      "Inside\n",
      "Inside\n",
      "Inside\n",
      "Inside\n",
      "Inside\n",
      "Inside\n",
      "Inside\n",
      "Inside\n",
      "Inside\n",
      "Inside\n",
      "Inside\n",
      "Inside\n",
      "Inside\n",
      "Inside\n",
      "Inside\n",
      "Inside\n",
      "Inside\n",
      "Inside\n",
      "Inside\n",
      "Inside\n",
      "Inside\n",
      "Inside\n",
      "Inside\n",
      "Inside\n",
      "Inside\n",
      "Inside\n",
      "Inside\n",
      "Inside\n",
      "Inside\n",
      "Inside\n",
      "Inside\n",
      "Inside\n",
      "Inside\n",
      "Inside\n",
      "Inside\n",
      "Inside\n",
      "Inside\n",
      "Inside\n",
      "Inside\n",
      "Inside\n",
      "Inside\n",
      "Inside\n",
      "Inside\n",
      "Inside\n",
      "Inside\n",
      "Inside\n",
      "Inside\n",
      "Inside\n",
      "Inside\n",
      "Inside\n",
      "Inside\n",
      "Inside\n",
      "Inside\n",
      "Inside\n",
      "Inside\n",
      "Inside\n",
      "Inside\n",
      "Inside\n",
      "Inside\n",
      "Inside\n",
      "Inside\n",
      "Inside\n",
      "Inside\n",
      "Inside\n",
      "Inside\n",
      "Inside\n",
      "Inside\n",
      "Inside\n",
      "Inside\n",
      "Inside\n",
      "Inside\n",
      "Inside\n",
      "Inside\n",
      "Inside\n",
      "Inside\n",
      "Inside\n",
      "Inside\n",
      "Inside\n",
      "Inside\n",
      "Inside\n",
      "Inside\n",
      "Inside\n",
      "Inside\n",
      "Inside\n",
      "Inside\n",
      "Inside\n",
      "Inside\n",
      "Inside\n",
      "Inside\n",
      "Inside\n",
      "Inside\n",
      "Inside\n",
      "Inside\n",
      "Inside\n",
      "Inside\n",
      "Inside\n",
      "Inside\n",
      "Inside\n",
      "Inside\n",
      "Inside\n",
      "Inside\n",
      "Inside\n",
      "Inside\n",
      "Inside\n",
      "Inside\n",
      "Inside\n",
      "Inside\n",
      "Inside\n",
      "Inside\n",
      "Inside\n",
      "Inside\n",
      "Inside\n",
      "Inside\n",
      "Inside\n",
      "Inside\n",
      "Inside\n",
      "Inside\n",
      "Inside\n",
      "Inside\n",
      "Inside\n",
      "Inside\n",
      "Inside\n",
      "Inside\n",
      "Inside\n",
      "Inside\n",
      "Inside\n",
      "Inside\n",
      "Inside\n",
      "Inside\n",
      "Inside\n",
      "Inside\n",
      "Inside\n",
      "Inside\n",
      "Inside\n",
      "Inside\n",
      "Inside\n",
      "Inside\n",
      "Inside\n",
      "Inside\n",
      "Inside\n",
      "Inside\n",
      "Inside\n",
      "Inside\n",
      "Inside\n",
      "Inside\n",
      "Inside\n",
      "Inside\n",
      "Inside\n",
      "Inside\n",
      "Inside\n",
      "Inside\n",
      "Inside\n",
      "Inside\n",
      "Inside\n",
      "Inside\n",
      "Inside\n",
      "Inside\n",
      "Inside\n",
      "Inside\n",
      "Inside\n",
      "Inside\n",
      "Inside\n",
      "Inside\n",
      "Inside\n",
      "Inside\n",
      "Inside\n",
      "Inside\n",
      "Inside\n",
      "Inside\n",
      "Inside\n",
      "Inside\n",
      "Inside\n",
      "Inside\n",
      "Inside\n",
      "Inside\n",
      "Inside\n",
      "Inside\n",
      "Inside\n",
      "Inside\n",
      "Inside\n",
      "Inside\n",
      "Inside\n",
      "Inside\n",
      "Inside\n",
      "Inside\n",
      "Inside\n",
      "Inside\n",
      "Inside\n",
      "Inside\n",
      "Inside\n",
      "Inside\n",
      "Inside\n",
      "Inside\n",
      "Inside\n",
      "Inside\n",
      "Inside\n",
      "Inside\n",
      "Inside\n",
      "Inside\n",
      "Inside\n",
      "Inside\n",
      "Inside\n",
      "Inside\n",
      "Inside\n",
      "Inside\n",
      "Inside\n",
      "Inside\n",
      "Inside\n",
      "Inside\n",
      "Inside\n",
      "Inside\n",
      "Inside\n",
      "Inside\n",
      "Inside\n",
      "Inside\n",
      "Inside\n",
      "Inside\n",
      "Inside\n",
      "Inside\n",
      "Inside\n",
      "Inside\n",
      "Inside\n",
      "Inside\n",
      "Inside\n",
      "Inside\n",
      "Inside\n",
      "Inside\n",
      "Inside\n",
      "Inside\n",
      "Inside\n",
      "Inside\n",
      "Inside\n",
      "Inside\n",
      "Inside\n",
      "Inside\n",
      "Inside\n",
      "Inside\n",
      "Inside\n",
      "Inside\n",
      "Inside\n",
      "Inside\n",
      "Inside\n",
      "Inside\n",
      "Inside\n",
      "Inside\n",
      "Inside\n",
      "Inside\n",
      "Inside\n",
      "Inside\n",
      "Inside\n",
      "Inside\n",
      "Inside\n",
      "Inside\n",
      "Inside\n",
      "Inside\n",
      "Inside\n",
      "Inside\n",
      "Inside\n",
      "Inside\n",
      "Inside\n",
      "Inside\n",
      "Inside\n",
      "Inside\n",
      "Inside\n",
      "Inside\n",
      "Inside\n",
      "Inside\n",
      "Inside\n",
      "Inside\n",
      "Inside\n",
      "Inside\n",
      "Inside\n",
      "Inside\n",
      "Inside\n",
      "Inside\n",
      "Inside\n",
      "Inside\n",
      "Inside\n",
      "Inside\n",
      "Inside\n",
      "Inside\n",
      "Inside\n",
      "Inside\n",
      "Inside\n",
      "Inside\n",
      "Inside\n",
      "Inside\n",
      "Inside\n",
      "Inside\n",
      "Inside\n",
      "Inside\n",
      "Inside\n",
      "Inside\n",
      "Inside\n",
      "Inside\n",
      "Inside\n",
      "Inside\n",
      "Inside\n",
      "Inside\n",
      "Inside\n",
      "Inside\n",
      "Inside\n",
      "Inside\n",
      "Inside\n",
      "Inside\n",
      "Inside\n",
      "Inside\n",
      "Inside\n",
      "Inside\n",
      "Inside\n",
      "Inside\n",
      "Inside\n",
      "Inside\n",
      "Inside\n",
      "Inside\n",
      "Inside\n",
      "Inside\n",
      "Inside\n",
      "Inside\n",
      "Inside\n",
      "Inside\n",
      "Inside\n",
      "Inside\n",
      "Inside\n",
      "Inside\n",
      "Inside\n",
      "Inside\n",
      "Inside\n",
      "Inside\n",
      "Inside\n",
      "Inside\n",
      "Inside\n",
      "Inside\n",
      "Inside\n",
      "Inside\n",
      "Inside\n",
      "Inside\n",
      "Inside\n",
      "Inside\n",
      "Inside\n",
      "Inside\n",
      "Inside\n",
      "Inside\n",
      "Inside\n",
      "Inside\n",
      "Inside\n",
      "Inside\n",
      "Inside\n",
      "Inside\n",
      "Inside\n",
      "Inside\n",
      "Inside\n",
      "Inside\n",
      "Inside\n",
      "Inside\n",
      "Inside\n",
      "Inside\n",
      "Inside\n",
      "Inside\n",
      "Inside\n",
      "Inside\n",
      "Inside\n",
      "Inside\n",
      "Inside\n",
      "Inside\n",
      "Inside\n",
      "Inside\n",
      "Inside\n",
      "Inside\n",
      "Inside\n",
      "Inside\n",
      "Inside\n",
      "Inside\n",
      "Inside\n",
      "Inside\n",
      "Inside\n",
      "Inside\n",
      "Inside\n",
      "Inside\n",
      "Inside\n",
      "Inside\n",
      "Inside\n",
      "Inside\n",
      "Inside\n",
      "Inside\n",
      "Inside\n",
      "Inside\n",
      "Inside\n",
      "Inside\n",
      "Inside\n",
      "Inside\n",
      "Inside\n",
      "Inside\n",
      "Inside\n",
      "Inside\n",
      "Inside\n",
      "Inside\n",
      "Inside\n",
      "Inside\n",
      "Inside\n",
      "Inside\n",
      "Inside\n",
      "Inside\n",
      "Inside\n",
      "Inside\n",
      "Inside\n",
      "Inside\n",
      "Inside\n",
      "Inside\n",
      "Inside\n",
      "Inside\n",
      "Inside\n",
      "Inside\n",
      "Inside\n",
      "Inside\n",
      "Inside\n",
      "Inside\n",
      "Inside\n",
      "Inside\n",
      "Inside\n",
      "Inside\n",
      "Inside\n",
      "Inside\n",
      "Inside\n",
      "Inside\n",
      "Inside\n",
      "Inside\n",
      "Inside\n",
      "Inside\n",
      "Inside\n",
      "Inside\n",
      "Inside\n",
      "Inside\n",
      "Inside\n",
      "Inside\n",
      "Inside\n",
      "Inside\n",
      "Inside\n",
      "Inside\n",
      "Inside\n",
      "Inside\n",
      "Inside\n",
      "Inside\n",
      "Inside\n",
      "Inside\n",
      "Inside\n",
      "Inside\n",
      "Inside\n",
      "Inside\n",
      "Inside\n",
      "Inside\n",
      "Inside\n",
      "Inside\n",
      "Inside\n",
      "Inside\n",
      "Inside\n",
      "Inside\n",
      "Inside\n",
      "Inside\n",
      "Inside\n",
      "Inside\n",
      "Inside\n",
      "Inside\n",
      "Inside\n",
      "Inside\n",
      "Inside\n",
      "Inside\n",
      "Inside\n",
      "Inside\n",
      "Inside\n",
      "Inside\n",
      "Inside\n",
      "Inside\n",
      "Inside\n",
      "Inside\n",
      "Inside\n",
      "Inside\n",
      "Inside\n",
      "Inside\n",
      "Inside\n",
      "Inside\n",
      "Inside\n",
      "Inside\n",
      "Inside\n",
      "Inside\n",
      "Inside\n",
      "Inside\n",
      "Inside\n",
      "Inside\n",
      "Inside\n",
      "Inside\n",
      "Inside\n",
      "Inside\n",
      "Inside\n",
      "Inside\n",
      "Inside\n",
      "Inside\n",
      "Inside\n",
      "Inside\n",
      "Inside\n",
      "Inside\n",
      "Inside\n",
      "Inside\n",
      "Inside\n",
      "Inside\n",
      "Inside\n",
      "Inside\n",
      "Inside\n",
      "Inside\n",
      "Inside\n",
      "Inside\n",
      "Inside\n",
      "Inside\n",
      "Inside\n",
      "Inside\n",
      "Inside\n",
      "Inside\n",
      "Inside\n",
      "Inside\n",
      "Inside\n",
      "Inside\n",
      "Inside\n",
      "Inside\n",
      "Inside\n",
      "Inside\n",
      "Inside\n",
      "Inside\n",
      "Inside\n",
      "Inside\n",
      "Inside\n",
      "Inside\n",
      "Inside\n",
      "Inside\n",
      "Inside\n",
      "Inside\n",
      "Inside\n",
      "Inside\n",
      "Inside\n",
      "Inside\n",
      "Inside\n",
      "Inside\n",
      "Inside\n",
      "Inside\n",
      "Inside\n",
      "Inside\n",
      "Inside\n",
      "Inside\n",
      "Inside\n",
      "Inside\n",
      "Inside\n",
      "Inside\n",
      "Inside\n",
      "Inside\n",
      "Inside\n",
      "Inside\n",
      "Inside\n",
      "Inside\n",
      "Inside\n",
      "Inside\n",
      "Inside\n",
      "Inside\n",
      "Inside\n",
      "Inside\n",
      "Inside\n",
      "Inside\n",
      "Inside\n",
      "Inside\n",
      "Inside\n",
      "Inside\n",
      "Inside\n",
      "Inside\n",
      "Inside\n",
      "Inside\n",
      "Inside\n",
      "Inside\n",
      "Inside\n",
      "Inside\n",
      "Inside\n",
      "Inside\n",
      "Inside\n",
      "Inside\n",
      "Inside\n",
      "Inside\n",
      "Inside\n",
      "Inside\n",
      "Inside\n",
      "Inside\n",
      "Inside\n",
      "Inside\n",
      "Inside\n",
      "Inside\n",
      "Inside\n",
      "Inside\n",
      "Inside\n",
      "Inside\n",
      "Inside\n",
      "Inside\n",
      "Inside\n",
      "Inside\n",
      "Inside\n",
      "Inside\n",
      "Inside\n",
      "Inside\n",
      "Inside\n",
      "Inside\n",
      "Inside\n",
      "Inside\n",
      "Inside\n",
      "Inside\n",
      "Inside\n",
      "Inside\n",
      "Inside\n",
      "Inside\n",
      "Inside\n",
      "Inside\n",
      "Inside\n",
      "Inside\n",
      "Inside\n",
      "Inside\n",
      "Inside\n",
      "Inside\n",
      "Inside\n",
      "Inside\n",
      "Inside\n",
      "Inside\n",
      "Inside\n",
      "Inside\n",
      "Inside\n",
      "Inside\n",
      "Inside\n",
      "Inside\n",
      "Inside\n",
      "Inside\n",
      "Inside\n",
      "Inside\n",
      "Inside\n",
      "Inside\n",
      "Inside\n",
      "Inside\n",
      "Inside\n",
      "Inside\n",
      "Inside\n",
      "Inside\n",
      "Inside\n",
      "Inside\n",
      "Inside\n",
      "Inside\n",
      "Inside\n",
      "Inside\n",
      "Inside\n",
      "Inside\n",
      "Inside\n",
      "Inside\n",
      "Inside\n",
      "Inside\n",
      "Inside\n",
      "Inside\n",
      "Inside\n",
      "Inside\n",
      "Inside\n",
      "Inside\n",
      "Inside\n",
      "Inside\n",
      "Inside\n",
      "Inside\n",
      "Inside\n",
      "Inside\n",
      "Inside\n",
      "Inside\n",
      "Inside\n",
      "Inside\n",
      "Inside\n",
      "Inside\n",
      "Inside\n",
      "Inside\n",
      "Inside\n",
      "Inside\n",
      "Inside\n",
      "Inside\n",
      "Inside\n",
      "Inside\n",
      "Inside\n",
      "Inside\n",
      "Inside\n",
      "Inside\n",
      "Inside\n",
      "Inside\n",
      "Inside\n",
      "Inside\n",
      "Inside\n",
      "Inside\n",
      "Inside\n",
      "Inside\n",
      "Inside\n",
      "Inside\n",
      "Inside\n",
      "Inside\n",
      "Inside\n",
      "Inside\n",
      "Inside\n",
      "Inside\n",
      "Inside\n",
      "Inside\n",
      "Inside\n",
      "Inside\n",
      "Inside\n",
      "Inside\n",
      "Inside\n",
      "Inside\n",
      "Inside\n",
      "Inside\n",
      "Inside\n",
      "Inside\n",
      "Inside\n",
      "Inside\n",
      "Inside\n",
      "Inside\n",
      "Inside\n",
      "Inside\n",
      "Inside\n",
      "Inside\n",
      "Inside\n",
      "Inside\n",
      "Inside\n",
      "Inside\n",
      "Inside\n",
      "Inside\n",
      "Inside\n",
      "Inside\n",
      "Inside\n",
      "Inside\n",
      "Inside\n",
      "Inside\n",
      "Inside\n",
      "Inside\n",
      "Inside\n",
      "Inside\n",
      "Inside\n",
      "Inside\n",
      "Inside\n",
      "Inside\n",
      "Inside\n",
      "Inside\n",
      "Inside\n",
      "Inside\n",
      "Inside\n",
      "Inside\n",
      "Inside\n",
      "Inside\n",
      "Inside\n",
      "Inside\n",
      "Inside\n",
      "Inside\n",
      "Inside\n",
      "Inside\n",
      "Inside\n",
      "Inside\n",
      "Inside\n",
      "Inside\n",
      "Inside\n",
      "Inside\n",
      "Inside\n",
      "Inside\n",
      "Inside\n",
      "Inside\n",
      "Inside\n",
      "Inside\n",
      "Inside\n",
      "Inside\n",
      "Inside\n",
      "Inside\n",
      "Inside\n",
      "Inside\n",
      "Inside\n",
      "Inside\n",
      "Inside\n",
      "Inside\n",
      "Inside\n",
      "Inside\n",
      "Inside\n",
      "Inside\n",
      "Inside\n",
      "Inside\n",
      "Inside\n",
      "Inside\n",
      "Inside\n",
      "Inside\n",
      "Inside\n",
      "Inside\n",
      "Inside\n",
      "Inside\n",
      "Inside\n",
      "Inside\n",
      "Inside\n",
      "Inside\n",
      "Inside\n",
      "Inside\n",
      "Inside\n",
      "Inside\n",
      "Inside\n",
      "Inside\n",
      "Inside\n",
      "Inside\n",
      "Inside\n",
      "Inside\n",
      "Inside\n",
      "Inside\n",
      "Inside\n",
      "Inside\n",
      "Inside\n",
      "Inside\n",
      "Inside\n",
      "Inside\n",
      "Inside\n",
      "Inside\n",
      "Inside\n",
      "Inside\n",
      "Inside\n",
      "Inside\n",
      "Inside\n",
      "Inside\n",
      "Inside\n",
      "Inside\n",
      "Inside\n",
      "Inside\n",
      "Inside\n",
      "Inside\n",
      "Inside\n",
      "Inside\n",
      "Inside\n",
      "Inside\n",
      "Inside\n",
      "Inside\n",
      "Inside\n",
      "Inside\n",
      "Inside\n",
      "Inside\n",
      "Inside\n",
      "Inside\n",
      "Inside\n",
      "Inside\n",
      "Inside\n",
      "Inside\n",
      "Inside\n",
      "Inside\n",
      "Inside\n",
      "Inside\n",
      "Inside\n",
      "Inside\n",
      "Inside\n",
      "Inside\n",
      "Inside\n",
      "Inside\n",
      "Inside\n",
      "Inside\n",
      "Inside\n",
      "Inside\n",
      "Inside\n",
      "Inside\n",
      "Inside\n",
      "Inside\n",
      "Inside\n",
      "Inside\n",
      "Inside\n",
      "Inside\n",
      "Inside\n",
      "Inside\n",
      "Inside\n",
      "Inside\n",
      "Inside\n",
      "Inside\n",
      "Inside\n",
      "Inside\n",
      "Inside\n",
      "Inside\n",
      "Inside\n",
      "Inside\n",
      "Inside\n",
      "Inside\n",
      "Inside\n",
      "Inside\n",
      "Inside\n",
      "Inside\n",
      "Inside\n",
      "Inside\n",
      "Inside\n",
      "Inside\n",
      "Inside\n",
      "Inside\n",
      "Inside\n",
      "Inside\n",
      "Inside\n",
      "Inside\n",
      "Inside\n",
      "Inside\n",
      "Inside\n",
      "Inside\n",
      "Inside\n",
      "Inside\n",
      "Inside\n",
      "Inside\n",
      "Inside\n",
      "Inside\n",
      "Inside\n",
      "Inside\n",
      "Inside\n",
      "Inside\n",
      "Inside\n",
      "Inside\n",
      "Inside\n",
      "Inside\n",
      "Inside\n",
      "Inside\n",
      "Inside\n",
      "Inside\n",
      "Inside\n",
      "Inside\n",
      "Inside\n",
      "Inside\n",
      "Inside\n",
      "Inside\n",
      "Inside\n",
      "Inside\n",
      "Inside\n",
      "Inside\n",
      "Inside\n",
      "Inside"
     ]
    },
    {
     "ename": "KeyboardInterrupt",
     "evalue": "",
     "output_type": "error",
     "traceback": [
      "\u001b[1;31m---------------------------------------------------------------------------\u001b[0m",
      "\u001b[1;31mKeyboardInterrupt\u001b[0m                         Traceback (most recent call last)",
      "\u001b[1;32m<ipython-input-147-c1d156178859>\u001b[0m in \u001b[0;36m<module>\u001b[1;34m\u001b[0m\n\u001b[0;32m      2\u001b[0m \u001b[1;33m\u001b[0m\u001b[0m\n\u001b[0;32m      3\u001b[0m \u001b[1;32mwhile\u001b[0m \u001b[1;32mTrue\u001b[0m\u001b[1;33m:\u001b[0m\u001b[1;33m\u001b[0m\u001b[1;33m\u001b[0m\u001b[0m\n\u001b[1;32m----> 4\u001b[1;33m     \u001b[0mprint\u001b[0m\u001b[1;33m(\u001b[0m\u001b[1;34m'Inside'\u001b[0m\u001b[1;33m)\u001b[0m\u001b[1;33m\u001b[0m\u001b[1;33m\u001b[0m\u001b[0m\n\u001b[0m\u001b[0;32m      5\u001b[0m \u001b[1;33m\u001b[0m\u001b[0m\n\u001b[0;32m      6\u001b[0m \u001b[0mprint\u001b[0m\u001b[1;33m(\u001b[0m\u001b[1;34m'Outside'\u001b[0m\u001b[1;33m)\u001b[0m\u001b[1;33m\u001b[0m\u001b[1;33m\u001b[0m\u001b[0m\n",
      "\u001b[1;32m~\\Anaconda3\\lib\\site-packages\\ipykernel\\iostream.py\u001b[0m in \u001b[0;36mwrite\u001b[1;34m(self, string)\u001b[0m\n\u001b[0;32m    400\u001b[0m             \u001b[0mis_child\u001b[0m \u001b[1;33m=\u001b[0m \u001b[1;33m(\u001b[0m\u001b[1;32mnot\u001b[0m \u001b[0mself\u001b[0m\u001b[1;33m.\u001b[0m\u001b[0m_is_master_process\u001b[0m\u001b[1;33m(\u001b[0m\u001b[1;33m)\u001b[0m\u001b[1;33m)\u001b[0m\u001b[1;33m\u001b[0m\u001b[1;33m\u001b[0m\u001b[0m\n\u001b[0;32m    401\u001b[0m             \u001b[1;31m# only touch the buffer in the IO thread to avoid races\u001b[0m\u001b[1;33m\u001b[0m\u001b[1;33m\u001b[0m\u001b[1;33m\u001b[0m\u001b[0m\n\u001b[1;32m--> 402\u001b[1;33m             \u001b[0mself\u001b[0m\u001b[1;33m.\u001b[0m\u001b[0mpub_thread\u001b[0m\u001b[1;33m.\u001b[0m\u001b[0mschedule\u001b[0m\u001b[1;33m(\u001b[0m\u001b[1;32mlambda\u001b[0m \u001b[1;33m:\u001b[0m \u001b[0mself\u001b[0m\u001b[1;33m.\u001b[0m\u001b[0m_buffer\u001b[0m\u001b[1;33m.\u001b[0m\u001b[0mwrite\u001b[0m\u001b[1;33m(\u001b[0m\u001b[0mstring\u001b[0m\u001b[1;33m)\u001b[0m\u001b[1;33m)\u001b[0m\u001b[1;33m\u001b[0m\u001b[1;33m\u001b[0m\u001b[0m\n\u001b[0m\u001b[0;32m    403\u001b[0m             \u001b[1;32mif\u001b[0m \u001b[0mis_child\u001b[0m\u001b[1;33m:\u001b[0m\u001b[1;33m\u001b[0m\u001b[1;33m\u001b[0m\u001b[0m\n\u001b[0;32m    404\u001b[0m                 \u001b[1;31m# mp.Pool cannot be trusted to flush promptly (or ever),\u001b[0m\u001b[1;33m\u001b[0m\u001b[1;33m\u001b[0m\u001b[1;33m\u001b[0m\u001b[0m\n",
      "\u001b[1;32m~\\Anaconda3\\lib\\site-packages\\ipykernel\\iostream.py\u001b[0m in \u001b[0;36mschedule\u001b[1;34m(self, f)\u001b[0m\n\u001b[0;32m    201\u001b[0m             \u001b[0mself\u001b[0m\u001b[1;33m.\u001b[0m\u001b[0m_events\u001b[0m\u001b[1;33m.\u001b[0m\u001b[0mappend\u001b[0m\u001b[1;33m(\u001b[0m\u001b[0mf\u001b[0m\u001b[1;33m)\u001b[0m\u001b[1;33m\u001b[0m\u001b[1;33m\u001b[0m\u001b[0m\n\u001b[0;32m    202\u001b[0m             \u001b[1;31m# wake event thread (message content is ignored)\u001b[0m\u001b[1;33m\u001b[0m\u001b[1;33m\u001b[0m\u001b[1;33m\u001b[0m\u001b[0m\n\u001b[1;32m--> 203\u001b[1;33m             \u001b[0mself\u001b[0m\u001b[1;33m.\u001b[0m\u001b[0m_event_pipe\u001b[0m\u001b[1;33m.\u001b[0m\u001b[0msend\u001b[0m\u001b[1;33m(\u001b[0m\u001b[1;34mb''\u001b[0m\u001b[1;33m)\u001b[0m\u001b[1;33m\u001b[0m\u001b[1;33m\u001b[0m\u001b[0m\n\u001b[0m\u001b[0;32m    204\u001b[0m         \u001b[1;32melse\u001b[0m\u001b[1;33m:\u001b[0m\u001b[1;33m\u001b[0m\u001b[1;33m\u001b[0m\u001b[0m\n\u001b[0;32m    205\u001b[0m             \u001b[0mf\u001b[0m\u001b[1;33m(\u001b[0m\u001b[1;33m)\u001b[0m\u001b[1;33m\u001b[0m\u001b[1;33m\u001b[0m\u001b[0m\n",
      "\u001b[1;32m~\\Anaconda3\\lib\\site-packages\\zmq\\sugar\\socket.py\u001b[0m in \u001b[0;36msend\u001b[1;34m(self, data, flags, copy, track, routing_id, group)\u001b[0m\n\u001b[0;32m    503\u001b[0m                 )\n\u001b[0;32m    504\u001b[0m             \u001b[0mdata\u001b[0m\u001b[1;33m.\u001b[0m\u001b[0mgroup\u001b[0m \u001b[1;33m=\u001b[0m \u001b[0mgroup\u001b[0m\u001b[1;33m\u001b[0m\u001b[1;33m\u001b[0m\u001b[0m\n\u001b[1;32m--> 505\u001b[1;33m         \u001b[1;32mreturn\u001b[0m \u001b[0msuper\u001b[0m\u001b[1;33m(\u001b[0m\u001b[0mSocket\u001b[0m\u001b[1;33m,\u001b[0m \u001b[0mself\u001b[0m\u001b[1;33m)\u001b[0m\u001b[1;33m.\u001b[0m\u001b[0msend\u001b[0m\u001b[1;33m(\u001b[0m\u001b[0mdata\u001b[0m\u001b[1;33m,\u001b[0m \u001b[0mflags\u001b[0m\u001b[1;33m=\u001b[0m\u001b[0mflags\u001b[0m\u001b[1;33m,\u001b[0m \u001b[0mcopy\u001b[0m\u001b[1;33m=\u001b[0m\u001b[0mcopy\u001b[0m\u001b[1;33m,\u001b[0m \u001b[0mtrack\u001b[0m\u001b[1;33m=\u001b[0m\u001b[0mtrack\u001b[0m\u001b[1;33m)\u001b[0m\u001b[1;33m\u001b[0m\u001b[1;33m\u001b[0m\u001b[0m\n\u001b[0m\u001b[0;32m    506\u001b[0m \u001b[1;33m\u001b[0m\u001b[0m\n\u001b[0;32m    507\u001b[0m     \u001b[1;32mdef\u001b[0m \u001b[0msend_multipart\u001b[0m\u001b[1;33m(\u001b[0m\u001b[0mself\u001b[0m\u001b[1;33m,\u001b[0m \u001b[0mmsg_parts\u001b[0m\u001b[1;33m,\u001b[0m \u001b[0mflags\u001b[0m\u001b[1;33m=\u001b[0m\u001b[1;36m0\u001b[0m\u001b[1;33m,\u001b[0m \u001b[0mcopy\u001b[0m\u001b[1;33m=\u001b[0m\u001b[1;32mTrue\u001b[0m\u001b[1;33m,\u001b[0m \u001b[0mtrack\u001b[0m\u001b[1;33m=\u001b[0m\u001b[1;32mFalse\u001b[0m\u001b[1;33m,\u001b[0m \u001b[1;33m**\u001b[0m\u001b[0mkwargs\u001b[0m\u001b[1;33m)\u001b[0m\u001b[1;33m:\u001b[0m\u001b[1;33m\u001b[0m\u001b[1;33m\u001b[0m\u001b[0m\n",
      "\u001b[1;32mzmq/backend/cython/socket.pyx\u001b[0m in \u001b[0;36mzmq.backend.cython.socket.Socket.send\u001b[1;34m()\u001b[0m\n",
      "\u001b[1;32mzmq/backend/cython/socket.pyx\u001b[0m in \u001b[0;36mzmq.backend.cython.socket.Socket.send\u001b[1;34m()\u001b[0m\n",
      "\u001b[1;32mzmq/backend/cython/socket.pyx\u001b[0m in \u001b[0;36mzmq.backend.cython.socket._send_copy\u001b[1;34m()\u001b[0m\n",
      "\u001b[1;32m~\\Anaconda3\\lib\\site-packages\\zmq\\backend\\cython\\checkrc.pxd\u001b[0m in \u001b[0;36mzmq.backend.cython.checkrc._check_rc\u001b[1;34m()\u001b[0m\n",
      "\u001b[1;31mKeyboardInterrupt\u001b[0m: "
     ]
    }
   ],
   "source": [
    "print('Outside')\n",
    "\n",
    "while True:\n",
    "    print('Inside')\n",
    "\n",
    "print('Outside')"
   ]
  },
  {
   "cell_type": "code",
   "execution_count": 3,
   "metadata": {},
   "outputs": [
    {
     "name": "stdout",
     "output_type": "stream",
     "text": [
      "0\n",
      "1\n",
      "2\n",
      "3\n",
      "4\n",
      "5\n",
      "6\n",
      "7\n",
      "8\n",
      "9\n"
     ]
    }
   ],
   "source": [
    "i = 0\n",
    "while i < 10:\n",
    "    print(i)\n",
    "    i += 1"
   ]
  },
  {
   "cell_type": "code",
   "execution_count": 12,
   "metadata": {},
   "outputs": [
    {
     "name": "stdout",
     "output_type": "stream",
     "text": [
      "1\n",
      "2\n",
      "3\n",
      "\n",
      "1\n",
      "2\n",
      "3\n"
     ]
    }
   ],
   "source": [
    "my_list = [1, 2, 3]\n",
    "\n",
    "for i in my_list:\n",
    "    print(i)\n",
    "\n",
    "print()\n",
    "\n",
    "i = 0\n",
    "while i < len(my_list):\n",
    "    print(my_list[i])\n",
    "    i += 1"
   ]
  },
  {
   "cell_type": "code",
   "execution_count": 13,
   "metadata": {},
   "outputs": [
    {
     "name": "stdout",
     "output_type": "stream",
     "text": [
      "Say something: hi\n",
      "Say something: hello\n",
      "Say something: bye\n"
     ]
    }
   ],
   "source": [
    "while True:\n",
    "    response = input('Say something: ')\n",
    "    if response == 'bye':\n",
    "        break"
   ]
  },
  {
   "cell_type": "code",
   "execution_count": 8,
   "metadata": {},
   "outputs": [
    {
     "name": "stdout",
     "output_type": "stream",
     "text": [
      "0\n",
      "1\n",
      "2\n",
      "3\n",
      "4\n",
      "5\n",
      "6\n",
      "7\n",
      "8\n",
      "9\n",
      "Done\n",
      "End\n"
     ]
    }
   ],
   "source": [
    "i = 0\n",
    "while i < 10:\n",
    "    print(i)\n",
    "    i += 1\n",
    "else:\n",
    "    print('Done')\n",
    "print('End')"
   ]
  },
  {
   "cell_type": "code",
   "execution_count": 9,
   "metadata": {},
   "outputs": [
    {
     "name": "stdout",
     "output_type": "stream",
     "text": [
      "0\n",
      "1\n",
      "2\n",
      "3\n",
      "4\n",
      "5\n",
      "6\n",
      "7\n",
      "8\n",
      "9\n",
      "Done\n",
      "End\n"
     ]
    }
   ],
   "source": [
    "i = 0\n",
    "while i < 10:\n",
    "    print(i)\n",
    "    i += 1\n",
    "print('Done')\n",
    "print('End')"
   ]
  },
  {
   "cell_type": "code",
   "execution_count": 10,
   "metadata": {},
   "outputs": [
    {
     "name": "stdout",
     "output_type": "stream",
     "text": [
      "0\n",
      "End\n"
     ]
    }
   ],
   "source": [
    "i = 0\n",
    "while i < 10:\n",
    "    print(i)\n",
    "    i += 1\n",
    "    break\n",
    "else:\n",
    "    print('Done')\n",
    "print('End')"
   ]
  },
  {
   "cell_type": "code",
   "execution_count": 7,
   "metadata": {},
   "outputs": [],
   "source": [
    "# else executes when there is no break\n",
    "# after while loop ends execution due to condition being false else executes\n",
    "# if break end the while loop and skip else too"
   ]
  },
  {
   "cell_type": "code",
   "execution_count": 15,
   "metadata": {},
   "outputs": [
    {
     "name": "stdout",
     "output_type": "stream",
     "text": [
      "1\n",
      "2\n",
      "3\n",
      "4\n",
      "5\n",
      "6\n"
     ]
    }
   ],
   "source": [
    "for i in range(1, 11):\n",
    "    if i == 7:\n",
    "        break\n",
    "    print(i)"
   ]
  },
  {
   "cell_type": "code",
   "execution_count": 14,
   "metadata": {},
   "outputs": [
    {
     "name": "stdout",
     "output_type": "stream",
     "text": [
      "1\n",
      "3\n",
      "5\n",
      "7\n",
      "9\n"
     ]
    }
   ],
   "source": [
    "for i in range(1, 11):\n",
    "    if i % 2 == 0:\n",
    "        continue\n",
    "    print(i)"
   ]
  },
  {
   "cell_type": "code",
   "execution_count": 17,
   "metadata": {},
   "outputs": [
    {
     "name": "stdout",
     "output_type": "stream",
     "text": [
      "1\n",
      "2\n",
      "3\n",
      "4\n",
      "5\n",
      "6\n",
      "7\n",
      "8\n",
      "9\n",
      "10\n"
     ]
    }
   ],
   "source": [
    "for i in range(1, 11):\n",
    "    if i % 2 == 0:\n",
    "        pass\n",
    "    print(i)"
   ]
  },
  {
   "cell_type": "code",
   "execution_count": 18,
   "metadata": {},
   "outputs": [],
   "source": [
    "# pass has no effect\n",
    "# used as a placeholder\n",
    "\n",
    "def future_func():\n",
    "    pass  # will be implemented later\n",
    "\n",
    "for i in range(10):\n",
    "    pass"
   ]
  },
  {
   "cell_type": "code",
   "execution_count": 19,
   "metadata": {},
   "outputs": [
    {
     "ename": "NameError",
     "evalue": "name 'my_func' is not defined",
     "output_type": "error",
     "traceback": [
      "\u001b[1;31m---------------------------------------------------------------------------\u001b[0m",
      "\u001b[1;31mNameError\u001b[0m                                 Traceback (most recent call last)",
      "\u001b[1;32m<ipython-input-19-6c63a9dd6659>\u001b[0m in \u001b[0;36m<module>\u001b[1;34m\u001b[0m\n\u001b[1;32m----> 1\u001b[1;33m \u001b[0mmy_func\u001b[0m\u001b[1;33m(\u001b[0m\u001b[1;33m)\u001b[0m\u001b[1;33m\u001b[0m\u001b[1;33m\u001b[0m\u001b[0m\n\u001b[0m\u001b[0;32m      2\u001b[0m \u001b[1;33m\u001b[0m\u001b[0m\n\u001b[0;32m      3\u001b[0m \u001b[1;32mdef\u001b[0m \u001b[0mmy_func\u001b[0m\u001b[1;33m(\u001b[0m\u001b[1;33m)\u001b[0m\u001b[1;33m:\u001b[0m\u001b[1;33m\u001b[0m\u001b[1;33m\u001b[0m\u001b[0m\n\u001b[0;32m      4\u001b[0m     \u001b[0mprint\u001b[0m\u001b[1;33m(\u001b[0m\u001b[1;34m'Hello World!'\u001b[0m\u001b[1;33m)\u001b[0m\u001b[1;33m\u001b[0m\u001b[1;33m\u001b[0m\u001b[0m\n",
      "\u001b[1;31mNameError\u001b[0m: name 'my_func' is not defined"
     ]
    }
   ],
   "source": [
    "my_func()\n",
    "\n",
    "def my_func():\n",
    "    print('Hello World!')"
   ]
  },
  {
   "cell_type": "code",
   "execution_count": 20,
   "metadata": {},
   "outputs": [
    {
     "name": "stdout",
     "output_type": "stream",
     "text": [
      "Hello World!\n"
     ]
    }
   ],
   "source": [
    "def my_func():\n",
    "    print('Hello World!')\n",
    "\n",
    "my_func()"
   ]
  },
  {
   "cell_type": "code",
   "execution_count": 2,
   "metadata": {},
   "outputs": [
    {
     "name": "stdout",
     "output_type": "stream",
     "text": [
      "Hello Saman, you are 10 years old.\n"
     ]
    }
   ],
   "source": [
    "# parameters\n",
    "def my_func(name, age):\n",
    "    print(f'Hello {name}, you are {age} years old.')\n",
    "\n",
    "# calling / invoking the function\n",
    "# arguments\n",
    "my_func('Saman', 10)"
   ]
  },
  {
   "cell_type": "code",
   "execution_count": 4,
   "metadata": {},
   "outputs": [
    {
     "name": "stdout",
     "output_type": "stream",
     "text": [
      "Hello Saman, you are 10 years old.\n",
      "Hello Kumara, you are 12 years old.\n",
      "Hello Sangakkara, you are 42 years old.\n"
     ]
    }
   ],
   "source": [
    "def my_func(name, age):\n",
    "    print(f'Hello {name}, you are {age} years old.')\n",
    "\n",
    "# positional arguments\n",
    "my_func('Saman', 10)\n",
    "\n",
    "# keyword arguments\n",
    "my_func(name = 'Kumara', age = 12)\n",
    "my_func(age = 42, name = 'Sangakkara')"
   ]
  },
  {
   "cell_type": "code",
   "execution_count": 11,
   "metadata": {},
   "outputs": [
    {
     "name": "stdout",
     "output_type": "stream",
     "text": [
      "Hello Saman Kumara, you are 30 years old.\n",
      "Hello Tharinda, you are 30 years old.\n",
      "Hello Tharinda, you are 22 years old.\n",
      "Hello Kumara, you are 12 years old.\n",
      "Hello Sangakkara, you are 42 years old.\n",
      "Hello Kumara, you are 30 years old.\n",
      "Hello Saman Kumara, you are 42 years old.\n"
     ]
    }
   ],
   "source": [
    "# default parameters\n",
    "def my_func(name = 'Saman Kumara', age = 30):\n",
    "    print(f'Hello {name}, you are {age} years old.')\n",
    "\n",
    "my_func()\n",
    "my_func('Tharinda')\n",
    "my_func('Tharinda', 22)\n",
    "my_func(name = 'Kumara', age = 12)\n",
    "my_func(age = 42, name = 'Sangakkara')\n",
    "my_func(name = 'Kumara')\n",
    "my_func(age = 42)"
   ]
  },
  {
   "cell_type": "code",
   "execution_count": 26,
   "metadata": {},
   "outputs": [
    {
     "ename": "SyntaxError",
     "evalue": "positional argument follows keyword argument (<ipython-input-26-607ab6b12bc7>, line 4)",
     "output_type": "error",
     "traceback": [
      "\u001b[1;36m  File \u001b[1;32m\"<ipython-input-26-607ab6b12bc7>\"\u001b[1;36m, line \u001b[1;32m4\u001b[0m\n\u001b[1;33m    my_func(name = 'Kumara', 22)\u001b[0m\n\u001b[1;37m                            ^\u001b[0m\n\u001b[1;31mSyntaxError\u001b[0m\u001b[1;31m:\u001b[0m positional argument follows keyword argument\n"
     ]
    }
   ],
   "source": [
    "def my_func(name = 'Saman Kumara', age = 30):\n",
    "    print(f'Hello {name}, you are {age} years old.')\n",
    "\n",
    "my_func(name = 'Kumara', 22)"
   ]
  },
  {
   "cell_type": "code",
   "execution_count": 27,
   "metadata": {},
   "outputs": [
    {
     "ename": "SyntaxError",
     "evalue": "non-default argument follows default argument (<ipython-input-27-c519ca6231fc>, line 1)",
     "output_type": "error",
     "traceback": [
      "\u001b[1;36m  File \u001b[1;32m\"<ipython-input-27-c519ca6231fc>\"\u001b[1;36m, line \u001b[1;32m1\u001b[0m\n\u001b[1;33m    def my_func(name = 'Saman Kumara', age):\u001b[0m\n\u001b[1;37m               ^\u001b[0m\n\u001b[1;31mSyntaxError\u001b[0m\u001b[1;31m:\u001b[0m non-default argument follows default argument\n"
     ]
    }
   ],
   "source": [
    "def my_func(name = 'Saman Kumara', age):\n",
    "    print(f'Hello {name}, you are {age} years old.')\n",
    "\n",
    "my_func('Tharinda', 22)"
   ]
  },
  {
   "cell_type": "code",
   "execution_count": 28,
   "metadata": {},
   "outputs": [
    {
     "name": "stdout",
     "output_type": "stream",
     "text": [
      "Hello Tharinda, you are 30 years old.\n",
      "Hello Tharinda, you are 22 years old.\n",
      "Hello Kumara, you are 12 years old.\n",
      "Hello Sangakkara, you are 42 years old.\n",
      "Hello Kumara, you are 30 years old.\n"
     ]
    }
   ],
   "source": [
    "def my_func(name, age = 30):\n",
    "    print(f'Hello {name}, you are {age} years old.')\n",
    "\n",
    "my_func('Tharinda')\n",
    "my_func('Tharinda', 22)\n",
    "my_func(name = 'Kumara', age = 12)\n",
    "my_func(age = 42, name = 'Sangakkara')\n",
    "my_func(name = 'Kumara')\n",
    "\n",
    "# have to pass value for name\n",
    "# can't have non-default parameter following default parameter\n",
    "# can have default parameter following non-default parameter\n",
    "# have default parameters last after all the non-default arameters"
   ]
  },
  {
   "cell_type": "code",
   "execution_count": 29,
   "metadata": {},
   "outputs": [
    {
     "name": "stdout",
     "output_type": "stream",
     "text": [
      "Hello Tharinda, you are 30 years old and you are from Galle.\n",
      "Hello Tharinda, you are 22 years old and you are from Galle.\n",
      "Hello Kumara, you are 12 years old and you are from Galle.\n",
      "Hello Sangakkara, you are 42 years old and you are from Galle.\n",
      "Hello Kumara, you are 30 years old and you are from Galle.\n"
     ]
    }
   ],
   "source": [
    "def my_func(name, age = 30, city = 'Galle'):\n",
    "    print(f'Hello {name}, you are {age} years old and you are from {city}.')\n",
    "\n",
    "my_func('Tharinda')\n",
    "my_func('Tharinda', 22)\n",
    "my_func(name = 'Kumara', age = 12)\n",
    "my_func(age = 42, name = 'Sangakkara')\n",
    "my_func(name = 'Kumara')"
   ]
  },
  {
   "cell_type": "code",
   "execution_count": 30,
   "metadata": {},
   "outputs": [],
   "source": [
    "def sum(num1, num2):\n",
    "    num1 + num2\n",
    "\n",
    "sum(4, 5)"
   ]
  },
  {
   "cell_type": "code",
   "execution_count": 31,
   "metadata": {},
   "outputs": [
    {
     "name": "stdout",
     "output_type": "stream",
     "text": [
      "None\n"
     ]
    }
   ],
   "source": [
    "def sum(num1, num2):\n",
    "    num1 + num2\n",
    "\n",
    "print(sum(4, 5))"
   ]
  },
  {
   "cell_type": "code",
   "execution_count": 32,
   "metadata": {},
   "outputs": [
    {
     "name": "stdout",
     "output_type": "stream",
     "text": [
      "9\n"
     ]
    }
   ],
   "source": [
    "def sum(num1, num2):\n",
    "    return num1 + num2\n",
    "\n",
    "print(sum(4, 5))"
   ]
  },
  {
   "cell_type": "code",
   "execution_count": 33,
   "metadata": {},
   "outputs": [
    {
     "name": "stdout",
     "output_type": "stream",
     "text": [
      "hello\n",
      "9\n"
     ]
    }
   ],
   "source": [
    "# functions should do one thing really well\n",
    "\n",
    "def sum(num1, num2):\n",
    "    print('hello')\n",
    "    return num1 + num2\n",
    "\n",
    "print(sum(4, 5))"
   ]
  },
  {
   "cell_type": "code",
   "execution_count": 34,
   "metadata": {},
   "outputs": [
    {
     "name": "stdout",
     "output_type": "stream",
     "text": [
      "19\n",
      "19\n",
      "13\n"
     ]
    }
   ],
   "source": [
    "def sum(num1, num2):\n",
    "    return num1 + num2\n",
    "\n",
    "total = sum(4, 6)\n",
    "print(sum(total, sum(4, 5)))\n",
    "\n",
    "print(sum(10, sum(4, 5)))\n",
    "print(sum(sum(8, -4), sum(4, 5)))"
   ]
  },
  {
   "cell_type": "code",
   "execution_count": 43,
   "metadata": {},
   "outputs": [
    {
     "name": "stdout",
     "output_type": "stream",
     "text": [
      "None\n"
     ]
    }
   ],
   "source": [
    "def sum(num1, num2):\n",
    "    def another_func(num1, num2):\n",
    "        return num1 + num2\n",
    "\n",
    "\n",
    "total = sum(10, 20)\n",
    "print(total)"
   ]
  },
  {
   "cell_type": "code",
   "execution_count": 42,
   "metadata": {},
   "outputs": [
    {
     "name": "stdout",
     "output_type": "stream",
     "text": [
      "<function sum.<locals>.another_func at 0x00000197940C3A60>\n"
     ]
    }
   ],
   "source": [
    "def sum(num1, num2):\n",
    "    def another_func(num1, num2):\n",
    "        return num1 + num2\n",
    "\n",
    "    return another_func\n",
    "\n",
    "\n",
    "total = sum(10, 20)\n",
    "print(total)"
   ]
  },
  {
   "cell_type": "code",
   "execution_count": 41,
   "metadata": {},
   "outputs": [
    {
     "name": "stdout",
     "output_type": "stream",
     "text": [
      "30\n"
     ]
    }
   ],
   "source": [
    "def sum(num1, num2):\n",
    "    def another_func(num1, num2):\n",
    "        return num1 + num2\n",
    "\n",
    "    return another_func(num1, num2)\n",
    "\n",
    "\n",
    "total = sum(10, 20)\n",
    "print(total)"
   ]
  },
  {
   "cell_type": "code",
   "execution_count": 44,
   "metadata": {},
   "outputs": [
    {
     "name": "stdout",
     "output_type": "stream",
     "text": [
      "30\n"
     ]
    }
   ],
   "source": [
    "def sum(num1, num2):\n",
    "    def another_func(n1, n2):\n",
    "        return n1 + n2\n",
    "\n",
    "    return another_func(num1, num2)\n",
    "\n",
    "\n",
    "total = sum(10, 20)\n",
    "print(total)"
   ]
  },
  {
   "cell_type": "code",
   "execution_count": 40,
   "metadata": {},
   "outputs": [
    {
     "name": "stdout",
     "output_type": "stream",
     "text": [
      "30\n"
     ]
    }
   ],
   "source": [
    "def sum(num1, num2):\n",
    "    def another_func(num1, num2):\n",
    "        return num1 + num2\n",
    "\n",
    "    return another_func\n",
    "\n",
    "\n",
    "total = sum(10, 20)\n",
    "print(total(10, 20))"
   ]
  },
  {
   "cell_type": "code",
   "execution_count": 46,
   "metadata": {},
   "outputs": [
    {
     "name": "stdout",
     "output_type": "stream",
     "text": [
      "30\n"
     ]
    }
   ],
   "source": [
    "def sum(num1, num2):\n",
    "    def another_func(n1, n2):\n",
    "        return n1 + n2\n",
    "\n",
    "    return another_func(num1, num2)\n",
    "    return 5\n",
    "    print('hello')\n",
    "\n",
    "\n",
    "total = sum(10, 20)\n",
    "print(total)\n",
    "\n",
    "# return statement exits from the function"
   ]
  },
  {
   "cell_type": "code",
   "execution_count": 50,
   "metadata": {},
   "outputs": [],
   "source": [
    "# functions vs. methods\n",
    "\n",
    "\n",
    "# built-in functions:\n",
    "\n",
    "# list()\n",
    "# print()\n",
    "# max()\n",
    "# min()\n",
    "# input()\n",
    "\n",
    "# custom functions:\n",
    "\n",
    "def custom_function(n):\n",
    "    pass\n",
    "\n",
    "custom_function(10)"
   ]
  },
  {
   "cell_type": "code",
   "execution_count": 51,
   "metadata": {},
   "outputs": [
    {
     "data": {
      "text/plain": [
       "'Abc def ghi'"
      ]
     },
     "execution_count": 51,
     "metadata": {},
     "output_type": "execute_result"
    }
   ],
   "source": [
    "# methods:\n",
    "\n",
    "'abc def ghi'.capitalize()"
   ]
  },
  {
   "cell_type": "code",
   "execution_count": 52,
   "metadata": {},
   "outputs": [
    {
     "data": {
      "text/plain": [
       "3"
      ]
     },
     "execution_count": 52,
     "metadata": {},
     "output_type": "execute_result"
    }
   ],
   "source": [
    "[0, 4, 6, 3].pop()"
   ]
  },
  {
   "cell_type": "code",
   "execution_count": 1,
   "metadata": {},
   "outputs": [
    {
     "ename": "TypeError",
     "evalue": "sample_func() takes 1 positional argument but 5 were given",
     "output_type": "error",
     "traceback": [
      "\u001b[1;31m---------------------------------------------------------------------------\u001b[0m",
      "\u001b[1;31mTypeError\u001b[0m                                 Traceback (most recent call last)",
      "\u001b[1;32m<ipython-input-1-39d2df9409e8>\u001b[0m in \u001b[0;36m<module>\u001b[1;34m\u001b[0m\n\u001b[0;32m      4\u001b[0m     \u001b[1;32mreturn\u001b[0m \u001b[0msum\u001b[0m\u001b[1;33m(\u001b[0m\u001b[0margs\u001b[0m\u001b[1;33m)\u001b[0m\u001b[1;33m\u001b[0m\u001b[1;33m\u001b[0m\u001b[0m\n\u001b[0;32m      5\u001b[0m \u001b[1;33m\u001b[0m\u001b[0m\n\u001b[1;32m----> 6\u001b[1;33m \u001b[0msample_func\u001b[0m\u001b[1;33m(\u001b[0m\u001b[1;36m1\u001b[0m\u001b[1;33m,\u001b[0m \u001b[1;36m2\u001b[0m\u001b[1;33m,\u001b[0m \u001b[1;36m3\u001b[0m\u001b[1;33m,\u001b[0m \u001b[1;36m4\u001b[0m\u001b[1;33m,\u001b[0m \u001b[1;36m5\u001b[0m\u001b[1;33m)\u001b[0m\u001b[1;33m\u001b[0m\u001b[1;33m\u001b[0m\u001b[0m\n\u001b[0m",
      "\u001b[1;31mTypeError\u001b[0m: sample_func() takes 1 positional argument but 5 were given"
     ]
    }
   ],
   "source": [
    "# *args (arguments) and **kwargs (keyword arguments)\n",
    "\n",
    "def sample_func(args):\n",
    "    return sum(args)\n",
    "\n",
    "sample_func(1, 2, 3, 4, 5)"
   ]
  },
  {
   "cell_type": "code",
   "execution_count": 7,
   "metadata": {},
   "outputs": [
    {
     "data": {
      "text/plain": [
       "15"
      ]
     },
     "execution_count": 7,
     "metadata": {},
     "output_type": "execute_result"
    }
   ],
   "source": [
    "def sample_func(*args):\n",
    "    return sum(args)\n",
    "\n",
    "sample_func(1, 2, 3, 4, 5)"
   ]
  },
  {
   "cell_type": "code",
   "execution_count": 6,
   "metadata": {},
   "outputs": [
    {
     "name": "stdout",
     "output_type": "stream",
     "text": [
      "1 2 3 4 5\n",
      "(1, 2, 3, 4, 5)\n"
     ]
    },
    {
     "data": {
      "text/plain": [
       "15"
      ]
     },
     "execution_count": 6,
     "metadata": {},
     "output_type": "execute_result"
    }
   ],
   "source": [
    "def sample_func(*args):\n",
    "    print(*args)\n",
    "    print(args)\n",
    "    return sum(args)\n",
    "\n",
    "sample_func(1, 2, 3, 4, 5)"
   ]
  },
  {
   "cell_type": "code",
   "execution_count": 8,
   "metadata": {},
   "outputs": [
    {
     "ename": "TypeError",
     "evalue": "sample_func() got an unexpected keyword argument 'num1'",
     "output_type": "error",
     "traceback": [
      "\u001b[1;31m---------------------------------------------------------------------------\u001b[0m",
      "\u001b[1;31mTypeError\u001b[0m                                 Traceback (most recent call last)",
      "\u001b[1;32m<ipython-input-8-bf6e84b5bd71>\u001b[0m in \u001b[0;36m<module>\u001b[1;34m\u001b[0m\n\u001b[0;32m      2\u001b[0m     \u001b[1;32mreturn\u001b[0m \u001b[0msum\u001b[0m\u001b[1;33m(\u001b[0m\u001b[0margs\u001b[0m\u001b[1;33m)\u001b[0m\u001b[1;33m\u001b[0m\u001b[1;33m\u001b[0m\u001b[0m\n\u001b[0;32m      3\u001b[0m \u001b[1;33m\u001b[0m\u001b[0m\n\u001b[1;32m----> 4\u001b[1;33m \u001b[0msample_func\u001b[0m\u001b[1;33m(\u001b[0m\u001b[1;36m1\u001b[0m\u001b[1;33m,\u001b[0m \u001b[1;36m2\u001b[0m\u001b[1;33m,\u001b[0m \u001b[1;36m3\u001b[0m\u001b[1;33m,\u001b[0m \u001b[1;36m4\u001b[0m\u001b[1;33m,\u001b[0m \u001b[1;36m5\u001b[0m\u001b[1;33m,\u001b[0m \u001b[0mnum1\u001b[0m \u001b[1;33m=\u001b[0m \u001b[1;36m5\u001b[0m\u001b[1;33m,\u001b[0m \u001b[0mnum2\u001b[0m \u001b[1;33m=\u001b[0m \u001b[1;36m10\u001b[0m\u001b[1;33m)\u001b[0m\u001b[1;33m\u001b[0m\u001b[1;33m\u001b[0m\u001b[0m\n\u001b[0m",
      "\u001b[1;31mTypeError\u001b[0m: sample_func() got an unexpected keyword argument 'num1'"
     ]
    }
   ],
   "source": [
    "def sample_func(*args):\n",
    "    return sum(args)\n",
    "\n",
    "sample_func(1, 2, 3, 4, 5, num1 = 5, num2 = 10)"
   ]
  },
  {
   "cell_type": "code",
   "execution_count": 24,
   "metadata": {},
   "outputs": [
    {
     "name": "stdout",
     "output_type": "stream",
     "text": [
      "num1 num2\n",
      "{'num1': 5, 'num2': 10}\n"
     ]
    },
    {
     "data": {
      "text/plain": [
       "15"
      ]
     },
     "execution_count": 24,
     "metadata": {},
     "output_type": "execute_result"
    }
   ],
   "source": [
    "def sample_func(*args, **kwargs):\n",
    "    print(*kwargs)\n",
    "    print(kwargs)\n",
    "    return sum(args)\n",
    "\n",
    "sample_func(1, 2, 3, 4, 5, num1 = 5, num2 = 10)"
   ]
  },
  {
   "cell_type": "code",
   "execution_count": 16,
   "metadata": {},
   "outputs": [
    {
     "ename": "TypeError",
     "evalue": "'num1' is an invalid keyword argument for print()",
     "output_type": "error",
     "traceback": [
      "\u001b[1;31m---------------------------------------------------------------------------\u001b[0m",
      "\u001b[1;31mTypeError\u001b[0m                                 Traceback (most recent call last)",
      "\u001b[1;32m<ipython-input-16-07e96d14ad36>\u001b[0m in \u001b[0;36m<module>\u001b[1;34m\u001b[0m\n\u001b[0;32m      3\u001b[0m     \u001b[1;32mreturn\u001b[0m \u001b[0msum\u001b[0m\u001b[1;33m(\u001b[0m\u001b[0margs\u001b[0m\u001b[1;33m)\u001b[0m\u001b[1;33m\u001b[0m\u001b[1;33m\u001b[0m\u001b[0m\n\u001b[0;32m      4\u001b[0m \u001b[1;33m\u001b[0m\u001b[0m\n\u001b[1;32m----> 5\u001b[1;33m \u001b[0msample_func\u001b[0m\u001b[1;33m(\u001b[0m\u001b[1;36m1\u001b[0m\u001b[1;33m,\u001b[0m \u001b[1;36m2\u001b[0m\u001b[1;33m,\u001b[0m \u001b[1;36m3\u001b[0m\u001b[1;33m,\u001b[0m \u001b[1;36m4\u001b[0m\u001b[1;33m,\u001b[0m \u001b[1;36m5\u001b[0m\u001b[1;33m,\u001b[0m \u001b[0mnum1\u001b[0m \u001b[1;33m=\u001b[0m \u001b[1;36m5\u001b[0m\u001b[1;33m,\u001b[0m \u001b[0mnum2\u001b[0m \u001b[1;33m=\u001b[0m \u001b[1;36m10\u001b[0m\u001b[1;33m)\u001b[0m\u001b[1;33m\u001b[0m\u001b[1;33m\u001b[0m\u001b[0m\n\u001b[0m",
      "\u001b[1;32m<ipython-input-16-07e96d14ad36>\u001b[0m in \u001b[0;36msample_func\u001b[1;34m(*args, **kwargs)\u001b[0m\n\u001b[0;32m      1\u001b[0m \u001b[1;32mdef\u001b[0m \u001b[0msample_func\u001b[0m\u001b[1;33m(\u001b[0m\u001b[1;33m*\u001b[0m\u001b[0margs\u001b[0m\u001b[1;33m,\u001b[0m \u001b[1;33m**\u001b[0m\u001b[0mkwargs\u001b[0m\u001b[1;33m)\u001b[0m\u001b[1;33m:\u001b[0m\u001b[1;33m\u001b[0m\u001b[1;33m\u001b[0m\u001b[0m\n\u001b[1;32m----> 2\u001b[1;33m     \u001b[0mprint\u001b[0m\u001b[1;33m(\u001b[0m\u001b[1;33m**\u001b[0m\u001b[0mkwargs\u001b[0m\u001b[1;33m)\u001b[0m\u001b[1;33m\u001b[0m\u001b[1;33m\u001b[0m\u001b[0m\n\u001b[0m\u001b[0;32m      3\u001b[0m     \u001b[1;32mreturn\u001b[0m \u001b[0msum\u001b[0m\u001b[1;33m(\u001b[0m\u001b[0margs\u001b[0m\u001b[1;33m)\u001b[0m\u001b[1;33m\u001b[0m\u001b[1;33m\u001b[0m\u001b[0m\n\u001b[0;32m      4\u001b[0m \u001b[1;33m\u001b[0m\u001b[0m\n\u001b[0;32m      5\u001b[0m \u001b[0msample_func\u001b[0m\u001b[1;33m(\u001b[0m\u001b[1;36m1\u001b[0m\u001b[1;33m,\u001b[0m \u001b[1;36m2\u001b[0m\u001b[1;33m,\u001b[0m \u001b[1;36m3\u001b[0m\u001b[1;33m,\u001b[0m \u001b[1;36m4\u001b[0m\u001b[1;33m,\u001b[0m \u001b[1;36m5\u001b[0m\u001b[1;33m,\u001b[0m \u001b[0mnum1\u001b[0m \u001b[1;33m=\u001b[0m \u001b[1;36m5\u001b[0m\u001b[1;33m,\u001b[0m \u001b[0mnum2\u001b[0m \u001b[1;33m=\u001b[0m \u001b[1;36m10\u001b[0m\u001b[1;33m)\u001b[0m\u001b[1;33m\u001b[0m\u001b[1;33m\u001b[0m\u001b[0m\n",
      "\u001b[1;31mTypeError\u001b[0m: 'num1' is an invalid keyword argument for print()"
     ]
    }
   ],
   "source": [
    "def sample_func(*args, **kwargs):\n",
    "    print(**kwargs)\n",
    "    return sum(args)\n",
    "\n",
    "sample_func(1, 2, 3, 4, 5, num1 = 5, num2 = 10)"
   ]
  },
  {
   "cell_type": "code",
   "execution_count": 34,
   "metadata": {},
   "outputs": [
    {
     "name": "stdout",
     "output_type": "stream",
     "text": [
      "num1 num2\n",
      "{'num1': 5, 'num2': 10}\n",
      "<built-in method keys of dict object at 0x0000024D2F81B6C0>\n",
      "dict_keys(['num1', 'num2'])\n",
      "<built-in method values of dict object at 0x0000024D2F81B6C0>\n",
      "dict_values([5, 10])\n",
      "5\n",
      "10\n"
     ]
    },
    {
     "data": {
      "text/plain": [
       "15"
      ]
     },
     "execution_count": 34,
     "metadata": {},
     "output_type": "execute_result"
    }
   ],
   "source": [
    "def sample_func(*args, **kwargs):\n",
    "    print(*kwargs)\n",
    "    print(kwargs)\n",
    "    print(kwargs.keys)\n",
    "    print(kwargs.keys())\n",
    "    print(kwargs.values)\n",
    "    print(kwargs.values())\n",
    "    print(kwargs['num1'])\n",
    "    print(kwargs['num2'])\n",
    "    return sum(args)\n",
    "\n",
    "sample_func(1, 2, 3, 4, 5, num1 = 5, num2 = 10)"
   ]
  },
  {
   "cell_type": "code",
   "execution_count": 39,
   "metadata": {},
   "outputs": [
    {
     "data": {
      "text/plain": [
       "30"
      ]
     },
     "execution_count": 39,
     "metadata": {},
     "output_type": "execute_result"
    }
   ],
   "source": [
    "def sample_func(*args, **kwargs):\n",
    "    total = 0\n",
    "    for items in kwargs.values():\n",
    "        total += items\n",
    "    return sum(args, total)\n",
    "\n",
    "sample_func(1, 2, 3, 4, 5, num1 = 5, num2 = 10)"
   ]
  },
  {
   "cell_type": "code",
   "execution_count": 40,
   "metadata": {},
   "outputs": [
    {
     "data": {
      "text/plain": [
       "30"
      ]
     },
     "execution_count": 40,
     "metadata": {},
     "output_type": "execute_result"
    }
   ],
   "source": [
    "def sample_func(*args, **kwargs):\n",
    "    total = 0\n",
    "    for items in kwargs.values():\n",
    "        total += items\n",
    "    return sum(args) + total\n",
    "\n",
    "sample_func(1, 2, 3, 4, 5, num1 = 5, num2 = 10)"
   ]
  },
  {
   "cell_type": "code",
   "execution_count": 41,
   "metadata": {},
   "outputs": [
    {
     "data": {
      "text/plain": [
       "45"
      ]
     },
     "execution_count": 41,
     "metadata": {},
     "output_type": "execute_result"
    }
   ],
   "source": [
    "def sample_func(*args, **kwargs):\n",
    "    total = 0\n",
    "    for items in kwargs.values():\n",
    "        total += items\n",
    "    return sum(args, total) + total\n",
    "\n",
    "sample_func(1, 2, 3, 4, 5, num1 = 5, num2 = 10)"
   ]
  },
  {
   "cell_type": "code",
   "execution_count": 43,
   "metadata": {},
   "outputs": [
    {
     "ename": "TypeError",
     "evalue": "sum expected at most 2 arguments, got 3",
     "output_type": "error",
     "traceback": [
      "\u001b[1;31m---------------------------------------------------------------------------\u001b[0m",
      "\u001b[1;31mTypeError\u001b[0m                                 Traceback (most recent call last)",
      "\u001b[1;32m<ipython-input-43-0badc5aa405a>\u001b[0m in \u001b[0;36m<module>\u001b[1;34m\u001b[0m\n\u001b[0;32m      5\u001b[0m     \u001b[1;32mreturn\u001b[0m \u001b[0msum\u001b[0m\u001b[1;33m(\u001b[0m\u001b[0margs\u001b[0m\u001b[1;33m,\u001b[0m \u001b[0mtotal\u001b[0m\u001b[1;33m,\u001b[0m \u001b[0mtotal\u001b[0m\u001b[1;33m)\u001b[0m\u001b[1;33m\u001b[0m\u001b[1;33m\u001b[0m\u001b[0m\n\u001b[0;32m      6\u001b[0m \u001b[1;33m\u001b[0m\u001b[0m\n\u001b[1;32m----> 7\u001b[1;33m \u001b[0msample_func\u001b[0m\u001b[1;33m(\u001b[0m\u001b[1;36m1\u001b[0m\u001b[1;33m,\u001b[0m \u001b[1;36m2\u001b[0m\u001b[1;33m,\u001b[0m \u001b[1;36m3\u001b[0m\u001b[1;33m,\u001b[0m \u001b[1;36m4\u001b[0m\u001b[1;33m,\u001b[0m \u001b[1;36m5\u001b[0m\u001b[1;33m,\u001b[0m \u001b[0mnum1\u001b[0m \u001b[1;33m=\u001b[0m \u001b[1;36m5\u001b[0m\u001b[1;33m,\u001b[0m \u001b[0mnum2\u001b[0m \u001b[1;33m=\u001b[0m \u001b[1;36m10\u001b[0m\u001b[1;33m)\u001b[0m\u001b[1;33m\u001b[0m\u001b[1;33m\u001b[0m\u001b[0m\n\u001b[0m",
      "\u001b[1;32m<ipython-input-43-0badc5aa405a>\u001b[0m in \u001b[0;36msample_func\u001b[1;34m(*args, **kwargs)\u001b[0m\n\u001b[0;32m      3\u001b[0m     \u001b[1;32mfor\u001b[0m \u001b[0mitems\u001b[0m \u001b[1;32min\u001b[0m \u001b[0mkwargs\u001b[0m\u001b[1;33m.\u001b[0m\u001b[0mvalues\u001b[0m\u001b[1;33m(\u001b[0m\u001b[1;33m)\u001b[0m\u001b[1;33m:\u001b[0m\u001b[1;33m\u001b[0m\u001b[1;33m\u001b[0m\u001b[0m\n\u001b[0;32m      4\u001b[0m         \u001b[0mtotal\u001b[0m \u001b[1;33m+=\u001b[0m \u001b[0mitems\u001b[0m\u001b[1;33m\u001b[0m\u001b[1;33m\u001b[0m\u001b[0m\n\u001b[1;32m----> 5\u001b[1;33m     \u001b[1;32mreturn\u001b[0m \u001b[0msum\u001b[0m\u001b[1;33m(\u001b[0m\u001b[0margs\u001b[0m\u001b[1;33m,\u001b[0m \u001b[0mtotal\u001b[0m\u001b[1;33m,\u001b[0m \u001b[0mtotal\u001b[0m\u001b[1;33m)\u001b[0m\u001b[1;33m\u001b[0m\u001b[1;33m\u001b[0m\u001b[0m\n\u001b[0m\u001b[0;32m      6\u001b[0m \u001b[1;33m\u001b[0m\u001b[0m\n\u001b[0;32m      7\u001b[0m \u001b[0msample_func\u001b[0m\u001b[1;33m(\u001b[0m\u001b[1;36m1\u001b[0m\u001b[1;33m,\u001b[0m \u001b[1;36m2\u001b[0m\u001b[1;33m,\u001b[0m \u001b[1;36m3\u001b[0m\u001b[1;33m,\u001b[0m \u001b[1;36m4\u001b[0m\u001b[1;33m,\u001b[0m \u001b[1;36m5\u001b[0m\u001b[1;33m,\u001b[0m \u001b[0mnum1\u001b[0m \u001b[1;33m=\u001b[0m \u001b[1;36m5\u001b[0m\u001b[1;33m,\u001b[0m \u001b[0mnum2\u001b[0m \u001b[1;33m=\u001b[0m \u001b[1;36m10\u001b[0m\u001b[1;33m)\u001b[0m\u001b[1;33m\u001b[0m\u001b[1;33m\u001b[0m\u001b[0m\n",
      "\u001b[1;31mTypeError\u001b[0m: sum expected at most 2 arguments, got 3"
     ]
    }
   ],
   "source": [
    "def sample_func(*args, **kwargs):\n",
    "    total = 0\n",
    "    for items in kwargs.values():\n",
    "        total += items\n",
    "    return sum(args, total, total)\n",
    "\n",
    "sample_func(1, 2, 3, 4, 5, num1 = 5, num2 = 10)"
   ]
  },
  {
   "cell_type": "code",
   "execution_count": null,
   "metadata": {},
   "outputs": [],
   "source": []
  },
  {
   "cell_type": "code",
   "execution_count": null,
   "metadata": {},
   "outputs": [],
   "source": []
  },
  {
   "cell_type": "code",
   "execution_count": null,
   "metadata": {},
   "outputs": [],
   "source": []
  },
  {
   "cell_type": "code",
   "execution_count": null,
   "metadata": {},
   "outputs": [],
   "source": []
  },
  {
   "cell_type": "code",
   "execution_count": null,
   "metadata": {},
   "outputs": [],
   "source": []
  },
  {
   "cell_type": "code",
   "execution_count": 44,
   "metadata": {},
   "outputs": [
    {
     "name": "stdout",
     "output_type": "stream",
     "text": [
      "10\n"
     ]
    }
   ],
   "source": [
    "def highest_even(list_):\n",
    "    evens = []\n",
    "    for list_item in list_:\n",
    "        if list_item % 2 == 0:\n",
    "            evens.append(list_item)\n",
    "    return max(evens)\n",
    "\n",
    "print(highest_even([10, 1, 2, 3, 4, 8]))"
   ]
  },
  {
   "cell_type": "code",
   "execution_count": 45,
   "metadata": {},
   "outputs": [
    {
     "name": "stdout",
     "output_type": "stream",
     "text": [
      "inner: nonlocal\n",
      "outer: nonlocal\n"
     ]
    }
   ],
   "source": [
    "# Scope - what variables do I have access to?\n",
    "\n",
    "def outer():\n",
    "    x = 'local'\n",
    "\n",
    "    def inner():\n",
    "        nonlocal x\n",
    "        x = 'nonlocal'\n",
    "        print('inner:', x)\n",
    "\n",
    "    inner()\n",
    "    print('outer:', x)\n",
    "\n",
    "outer()\n",
    "\n",
    "# 1 - start with local\n",
    "# 2 - Parent local?\n",
    "# 3 - global\n",
    "# 4 - built in python functions"
   ]
  },
  {
   "cell_type": "code",
   "execution_count": 3,
   "metadata": {},
   "outputs": [
    {
     "name": "stdout",
     "output_type": "stream",
     "text": [
      "<class 'NoneType'>\n",
      "<class 'bool'>\n",
      "<class 'int'>\n",
      "<class 'float'>\n",
      "<class 'str'>\n",
      "<class 'list'>\n",
      "<class 'tuple'>\n",
      "<class 'dict'>\n"
     ]
    }
   ],
   "source": [
    "print(type(None))\n",
    "print(type(True))\n",
    "print(type(5))\n",
    "print(type(5.5))\n",
    "print(type('hi'))\n",
    "print(type([]))\n",
    "print(type(()))\n",
    "print(type({}))"
   ]
  },
  {
   "cell_type": "code",
   "execution_count": 4,
   "metadata": {},
   "outputs": [
    {
     "name": "stdout",
     "output_type": "stream",
     "text": [
      "<class '__main__.BigObject'>\n"
     ]
    }
   ],
   "source": [
    "class BigObject:\n",
    "    pass\n",
    "\n",
    "obj1 = BigObject()\n",
    "obj2 = BigObject()\n",
    "obj3 = BigObject()\n",
    "\n",
    "print(type(obj1))"
   ]
  },
  {
   "cell_type": "code",
   "execution_count": 5,
   "metadata": {},
   "outputs": [
    {
     "name": "stdout",
     "output_type": "stream",
     "text": [
      "red\n",
      "red\n",
      "5\n",
      "yes?\n",
      "Yoo\n"
     ]
    }
   ],
   "source": [
    "# Add 3 more magic / dunder methods of your choice to this Toy class.\n",
    "\n",
    "class Toy:\n",
    "    def __init__(self, color, age):\n",
    "        self.color = color\n",
    "        self.age = age\n",
    "        self.my_dict = {\n",
    "            'name': 'Yoo',\n",
    "            'has_pets': False,\n",
    "        }\n",
    "\n",
    "    def __str__(self):\n",
    "        return f'{self.color}'\n",
    "\n",
    "    def __len__(self):\n",
    "        return 5\n",
    "\n",
    "    def __del__(self):\n",
    "        return 'deleted'\n",
    "\n",
    "    def __call__(self):\n",
    "        return 'yes?'\n",
    "\n",
    "    def __getitem__(self, i):\n",
    "        return self.my_dict[i]\n",
    "\n",
    "action_figure = Toy('red', 0)\n",
    "\n",
    "print(action_figure.__str__())\n",
    "print(str(action_figure))\n",
    "print(len(action_figure))\n",
    "print(action_figure())\n",
    "print(action_figure['name'])"
   ]
  },
  {
   "cell_type": "code",
   "execution_count": 6,
   "metadata": {},
   "outputs": [
    {
     "name": "stdout",
     "output_type": "stream",
     "text": [
      "1000\n",
      "5\n",
      "True\n"
     ]
    }
   ],
   "source": [
    "class SuperList(list):\n",
    "    def __len__(self):\n",
    "        return 1000\n",
    "\n",
    "super_list1 = SuperList()\n",
    "\n",
    "print(len(super_list1))\n",
    "\n",
    "super_list1.append(5)\n",
    "print(super_list1[0])\n",
    "\n",
    "print(issubclass(list, object))"
   ]
  },
  {
   "cell_type": "code",
   "execution_count": 7,
   "metadata": {},
   "outputs": [
    {
     "name": "stdout",
     "output_type": "stream",
     "text": [
      "The oldest cat is 5 years old.\n"
     ]
    }
   ],
   "source": [
    "class Cat:\n",
    "    species = 'mammal'\n",
    "\n",
    "    def __init__(self, name, age):\n",
    "        self.name = name\n",
    "        self.age = age\n",
    "\n",
    "# 1. Instantiate the Cat object with 3 cats.\n",
    "peanut = Cat('Peanut', 3)\n",
    "garfield = Cat('Garfield', 5)\n",
    "snickers = Cat('Snickers', 1)\n",
    "\n",
    "# 2. Create a function that finds the oldest cat.\n",
    "def get_oldest_cat(*args):\n",
    "    return max(args)\n",
    "\n",
    "# 3. Print out: 'The oldest cat is x years old.' - x will be the \n",
    "# oldest cat age by using the function in #2.\n",
    "print(f'The oldest cat is {get_oldest_cat(peanut.age, garfield.age, snickers.age)} years old.')"
   ]
  },
  {
   "cell_type": "code",
   "execution_count": 8,
   "metadata": {},
   "outputs": [
    {
     "name": "stdout",
     "output_type": "stream",
     "text": [
      "Simon is just walking around\n",
      "Sally is just walking around\n",
      "Suzy is just walking around\n"
     ]
    }
   ],
   "source": [
    "class Pets:\n",
    "    animals = []\n",
    "\n",
    "    def __init__(self, animals):\n",
    "        self.animals = animals\n",
    "\n",
    "    def walk(self):\n",
    "        for animal in self.animals:\n",
    "            print(animal.walk())\n",
    "\n",
    "class Cat:\n",
    "    is_lazy = True\n",
    "\n",
    "    def __init__(self, name, age):\n",
    "        self.name = name\n",
    "        self.age = age\n",
    "\n",
    "    def walk(self):\n",
    "        return f'{self.name} is just walking around'\n",
    "\n",
    "class Simon(Cat):\n",
    "    def sing(self, sounds):\n",
    "        return f'{sounds}'\n",
    "\n",
    "class Sally(Cat):\n",
    "    def sing(self, sounds):\n",
    "        return f'{sounds}'\n",
    "\n",
    "class Suzy(Cat):\n",
    "    def sing(self, sounds):\n",
    "        return f'{sounds}'\n",
    "\n",
    "# Create a list of all of the pets (create 3 cat instances from the above).\n",
    "my_cats = [Simon('Simon', 4), Sally('Sally', 21), Suzy('Suzy', 1)]\n",
    "\n",
    "# Instantiate the Pet class with all your cats.\n",
    "my_pets = Pets(my_cats)\n",
    "\n",
    "# Output all of the cats singing using the my_pets instance.\n",
    "my_pets.walk()"
   ]
  },
  {
   "cell_type": "code",
   "execution_count": 9,
   "metadata": {},
   "outputs": [
    {
     "name": "stdout",
     "output_type": "stream",
     "text": [
      "['SISI', 'BIBI', 'TITI', 'CARLA']\n",
      "[('a', 1), ('b', 2), ('c', 3), ('d', 4), ('e', 5)]\n",
      "[73, 65, 76, 100, 88]\n",
      "456\n"
     ]
    }
   ],
   "source": [
    "from functools import reduce\n",
    "\n",
    "# Capitalize all of the pet names and print the list.\n",
    "my_pets = ['sisi', 'bibi', 'titi', 'carla']\n",
    "\n",
    "def capitalize(string):\n",
    "    return string.upper()\n",
    "\n",
    "print(list(map(capitalize, my_pets)))\n",
    "\n",
    "# Zip the 2 lists into a list of tuples, but sort the numbers \n",
    "# from lowest to highest.\n",
    "my_strings = ['a', 'b', 'c', 'd', 'e']\n",
    "my_numbers = [5, 4, 3, 2, 1]\n",
    "\n",
    "print(list(zip(my_strings, sorted(my_numbers))))\n",
    "\n",
    "# Filter the scores that pass over 50%.\n",
    "scores = [73, 20, 65, 19, 76, 100, 88]\n",
    "\n",
    "def is_smart_student(score):\n",
    "    return score > 50\n",
    "\n",
    "print(list(filter(is_smart_student, scores)))\n",
    "\n",
    "# Combine all of the numbers that are in a list on this file \n",
    "# using reduce (my_numbers and scores).\n",
    "# What is the total?\n",
    "def accumulator(acc, item):\n",
    "    return acc + item\n",
    "\n",
    "print(reduce(accumulator, (my_numbers + scores)))"
   ]
  },
  {
   "cell_type": "code",
   "execution_count": 10,
   "metadata": {},
   "outputs": [
    {
     "name": "stdout",
     "output_type": "stream",
     "text": [
      "[1, 4, 9]\n",
      "[(10, -1), (0, 2), (5, 2), (9, 9)]\n"
     ]
    }
   ],
   "source": [
    "print(list(map(lambda num: num ** 2, [1, 2, 3])))\n",
    "\n",
    "a = [(0, 2), (5, 2), (9, 9), (10, -1)]\n",
    "a.sort(key=lambda x: x[1])\n",
    "\n",
    "print(a)"
   ]
  },
  {
   "cell_type": "code",
   "execution_count": 11,
   "metadata": {},
   "outputs": [
    {
     "name": "stdout",
     "output_type": "stream",
     "text": [
      "took 0.0009968280792236328\n"
     ]
    }
   ],
   "source": [
    "# performance decorator\n",
    "\n",
    "from time import time\n",
    "\n",
    "def performance(fn):\n",
    "    def wrapper(*args, **kwargs):\n",
    "        t1 = time()\n",
    "        result = fn(*args, **kwargs)\n",
    "        t2 = time()\n",
    "        print(f'took {t2 - t1}')\n",
    "        return result\n",
    "\n",
    "    return wrapper\n",
    "\n",
    "@performance\n",
    "def long_time():\n",
    "    for i in range(10000):\n",
    "        i * 5\n",
    "\n",
    "long_time()"
   ]
  },
  {
   "cell_type": "code",
   "execution_count": 12,
   "metadata": {},
   "outputs": [
    {
     "name": "stdout",
     "output_type": "stream",
     "text": [
      "message has been sent\n"
     ]
    }
   ],
   "source": [
    "# Create an @authenticated decorator that only allows the \n",
    "# function to run is user1 has 'valid' set to True:\n",
    "\n",
    "user1 = {'name': 'Sorna', 'valid': True}\n",
    "\n",
    "def authenticated(fn):\n",
    "    def wrapper(*args, **kwargs):\n",
    "        if args[0]['valid']:\n",
    "            return fn(*args, **kwargs)\n",
    "\n",
    "    return wrapper\n",
    "\n",
    "@authenticated\n",
    "def message_friends(user):\n",
    "    print('message has been sent')\n",
    "\n",
    "message_friends(user1)"
   ]
  },
  {
   "cell_type": "code",
   "execution_count": 13,
   "metadata": {},
   "outputs": [
    {
     "name": "stdout",
     "output_type": "stream",
     "text": [
      "1\n",
      "took 0.003988981246948242 s\n",
      "2\n",
      "took 0.005984067916870117 s\n"
     ]
    }
   ],
   "source": [
    "from time import time\n",
    "\n",
    "def performance(fn):\n",
    "    def wrapper(*args, **kawrgs):\n",
    "        t1 = time()\n",
    "        result = fn(*args, **kawrgs)\n",
    "        t2 = time()\n",
    "        print(f'took {t2 - t1} s')\n",
    "        return result\n",
    "\n",
    "    return wrapper\n",
    "\n",
    "@performance\n",
    "def long_time():\n",
    "    print('1')\n",
    "    for i in range(100000):\n",
    "        i * 5\n",
    "\n",
    "@performance\n",
    "def long_time2():\n",
    "    print('2')\n",
    "    for i in list(range(100000)):\n",
    "        i * 5\n",
    "\n",
    "long_time()\n",
    "long_time2()"
   ]
  },
  {
   "cell_type": "code",
   "execution_count": 14,
   "metadata": {},
   "outputs": [
    {
     "name": "stdout",
     "output_type": "stream",
     "text": [
      "1\n",
      "2\n",
      "3\n",
      "4\n",
      "5\n",
      "6\n",
      "7\n",
      "8\n",
      "9\n",
      "10\n",
      "11\n",
      "12\n",
      "13\n",
      "14\n",
      "15\n",
      "16\n",
      "17\n",
      "18\n",
      "19\n",
      "20\n",
      "21\n",
      "22\n",
      "23\n",
      "24\n",
      "25\n",
      "26\n",
      "27\n",
      "28\n",
      "29\n",
      "30\n",
      "31\n",
      "32\n",
      "33\n",
      "34\n",
      "35\n",
      "36\n",
      "37\n",
      "38\n",
      "39\n",
      "40\n",
      "41\n",
      "42\n",
      "43\n",
      "44\n",
      "45\n",
      "46\n",
      "47\n",
      "48\n",
      "49\n",
      "50\n",
      "51\n",
      "52\n",
      "53\n",
      "54\n",
      "55\n",
      "56\n",
      "57\n",
      "58\n",
      "59\n",
      "60\n",
      "61\n",
      "62\n",
      "63\n",
      "64\n",
      "65\n",
      "66\n",
      "67\n",
      "68\n",
      "69\n",
      "70\n",
      "71\n",
      "72\n",
      "73\n",
      "74\n",
      "75\n",
      "76\n",
      "77\n",
      "78\n",
      "79\n",
      "80\n",
      "81\n",
      "82\n",
      "83\n",
      "84\n",
      "85\n",
      "86\n",
      "87\n",
      "88\n",
      "89\n",
      "90\n",
      "91\n",
      "92\n",
      "93\n",
      "94\n",
      "95\n",
      "96\n",
      "97\n",
      "98\n",
      "99\n"
     ]
    }
   ],
   "source": [
    "def special_for(iterable):\n",
    "    iterator = iter(iterable)\n",
    "\n",
    "    while True:\n",
    "        try:\n",
    "            iterator * 5\n",
    "            next(iterator)\n",
    "        except StopIteration:\n",
    "            break\n",
    "\n",
    "class MyGen:\n",
    "  current = 0\n",
    "\n",
    "  def __init__(self, first, last):\n",
    "    self.first = first\n",
    "    self.last = last\n",
    "    # this line allows us to use the current number as \n",
    "    # the starting point for the iteration\n",
    "    MyGen.current = self.first\n",
    "\n",
    "  def __iter__(self):\n",
    "    return self\n",
    "\n",
    "  def __next__(self):\n",
    "    if MyGen.current < self.last:\n",
    "      num = MyGen.current\n",
    "      MyGen.current += 1\n",
    "      return num\n",
    "    raise StopIteration\n",
    "\n",
    "gen = MyGen(1, 100)\n",
    "\n",
    "for i in gen:\n",
    "    print(i)"
   ]
  },
  {
   "cell_type": "code",
   "execution_count": 15,
   "metadata": {},
   "outputs": [
    {
     "name": "stdout",
     "output_type": "stream",
     "text": [
      "0\n",
      "1\n",
      "1\n",
      "2\n",
      "3\n",
      "5\n",
      "8\n",
      "13\n",
      "21\n",
      "34\n",
      "55\n",
      "89\n",
      "144\n",
      "233\n",
      "377\n",
      "610\n",
      "987\n",
      "1597\n",
      "2584\n",
      "4181\n",
      "6765\n",
      "10946\n",
      "17711\n",
      "28657\n",
      "46368\n",
      "75025\n",
      "121393\n",
      "196418\n",
      "317811\n",
      "514229\n",
      "832040\n",
      "1346269\n",
      "2178309\n",
      "3524578\n",
      "5702887\n",
      "9227465\n",
      "14930352\n",
      "24157817\n",
      "39088169\n",
      "63245986\n",
      "102334155\n",
      "165580141\n",
      "267914296\n",
      "433494437\n",
      "701408733\n",
      "1134903170\n",
      "1836311903\n",
      "2971215073\n",
      "4807526976\n",
      "7778742049\n",
      "12586269025\n",
      "20365011074\n",
      "32951280099\n",
      "53316291173\n",
      "86267571272\n",
      "139583862445\n",
      "225851433717\n",
      "365435296162\n",
      "591286729879\n",
      "956722026041\n",
      "1548008755920\n",
      "2504730781961\n",
      "4052739537881\n",
      "6557470319842\n",
      "10610209857723\n",
      "17167680177565\n",
      "27777890035288\n",
      "44945570212853\n",
      "72723460248141\n",
      "117669030460994\n",
      "190392490709135\n",
      "308061521170129\n",
      "498454011879264\n",
      "806515533049393\n",
      "1304969544928657\n",
      "2111485077978050\n",
      "3416454622906707\n",
      "5527939700884757\n",
      "8944394323791464\n",
      "14472334024676221\n",
      "23416728348467685\n",
      "37889062373143906\n",
      "61305790721611591\n",
      "99194853094755497\n",
      "160500643816367088\n",
      "259695496911122585\n",
      "420196140727489673\n",
      "679891637638612258\n",
      "1100087778366101931\n",
      "1779979416004714189\n",
      "2880067194370816120\n",
      "4660046610375530309\n",
      "7540113804746346429\n",
      "12200160415121876738\n",
      "19740274219868223167\n",
      "31940434634990099905\n",
      "51680708854858323072\n",
      "83621143489848422977\n",
      "135301852344706746049\n",
      "218922995834555169026\n",
      "[0, 1, 1, 2, 3, 5, 8, 13, 21, 34, 55, 89, 144, 233, 377, 610, 987, 1597, 2584, 4181, 6765, 10946, 17711, 28657, 46368, 75025, 121393, 196418, 317811, 514229, 832040, 1346269, 2178309, 3524578, 5702887, 9227465, 14930352, 24157817, 39088169, 63245986, 102334155, 165580141, 267914296, 433494437, 701408733, 1134903170, 1836311903, 2971215073, 4807526976, 7778742049, 12586269025, 20365011074, 32951280099, 53316291173, 86267571272, 139583862445, 225851433717, 365435296162, 591286729879, 956722026041, 1548008755920, 2504730781961, 4052739537881, 6557470319842, 10610209857723, 17167680177565, 27777890035288, 44945570212853, 72723460248141, 117669030460994, 190392490709135, 308061521170129, 498454011879264, 806515533049393, 1304969544928657, 2111485077978050, 3416454622906707, 5527939700884757, 8944394323791464, 14472334024676221, 23416728348467685, 37889062373143906, 61305790721611591, 99194853094755497, 160500643816367088, 259695496911122585, 420196140727489673, 679891637638612258, 1100087778366101931, 1779979416004714189, 2880067194370816120, 4660046610375530309, 7540113804746346429, 12200160415121876738, 19740274219868223167, 31940434634990099905, 51680708854858323072, 83621143489848422977, 135301852344706746049, 218922995834555169026]\n"
     ]
    }
   ],
   "source": [
    "# generator which calculates fibonacci numbers:\n",
    "\n",
    "def fib(number):\n",
    "    a = 0\n",
    "    b = 1\n",
    "    for i in range(number):\n",
    "        yield a\n",
    "        temp = a\n",
    "        a = b\n",
    "        b = temp + b\n",
    "\n",
    "for x in fib(100):\n",
    "    print(x)\n",
    "\n",
    "def fib2(number):\n",
    "    a =  0\n",
    "    b = 1\n",
    "    result = []\n",
    "    for i in range(number):\n",
    "        result.append(a)\n",
    "        temp = a\n",
    "        a = b\n",
    "        b = temp + b\n",
    "    return result\n",
    "\n",
    "print(fib2(100))"
   ]
  },
  {
   "cell_type": "code",
   "execution_count": 16,
   "metadata": {},
   "outputs": [
    {
     "name": "stdout",
     "output_type": "stream",
     "text": [
      "['C:\\\\Users\\\\ASUS\\\\Downloads', 'C:\\\\Users\\\\ASUS\\\\Anaconda3\\\\python37.zip', 'C:\\\\Users\\\\ASUS\\\\Anaconda3\\\\DLLs', 'C:\\\\Users\\\\ASUS\\\\Anaconda3\\\\lib', 'C:\\\\Users\\\\ASUS\\\\Anaconda3', '', 'C:\\\\Users\\\\ASUS\\\\Anaconda3\\\\lib\\\\site-packages', 'C:\\\\Users\\\\ASUS\\\\Anaconda3\\\\lib\\\\site-packages\\\\win32', 'C:\\\\Users\\\\ASUS\\\\Anaconda3\\\\lib\\\\site-packages\\\\win32\\\\lib', 'C:\\\\Users\\\\ASUS\\\\Anaconda3\\\\lib\\\\site-packages\\\\Pythonwin', 'C:\\\\Users\\\\ASUS\\\\Anaconda3\\\\lib\\\\site-packages\\\\IPython\\\\extensions', 'C:\\\\Users\\\\ASUS\\\\.ipython']\n"
     ]
    }
   ],
   "source": [
    "import sys\n",
    "\n",
    "print(sys.path)"
   ]
  },
  {
   "cell_type": "code",
   "execution_count": 17,
   "metadata": {},
   "outputs": [
    {
     "ename": "ValueError",
     "evalue": "invalid literal for int() with base 10: '-f'",
     "output_type": "error",
     "traceback": [
      "\u001b[1;31m---------------------------------------------------------------------------\u001b[0m",
      "\u001b[1;31mValueError\u001b[0m                                Traceback (most recent call last)",
      "\u001b[1;32m<ipython-input-17-530cfdc35a3f>\u001b[0m in \u001b[0;36m<module>\u001b[1;34m\u001b[0m\n\u001b[0;32m      2\u001b[0m \u001b[1;32mimport\u001b[0m \u001b[0msys\u001b[0m\u001b[1;33m\u001b[0m\u001b[1;33m\u001b[0m\u001b[0m\n\u001b[0;32m      3\u001b[0m \u001b[1;33m\u001b[0m\u001b[0m\n\u001b[1;32m----> 4\u001b[1;33m \u001b[0manswer\u001b[0m \u001b[1;33m=\u001b[0m \u001b[0mrandint\u001b[0m\u001b[1;33m(\u001b[0m\u001b[0mint\u001b[0m\u001b[1;33m(\u001b[0m\u001b[0msys\u001b[0m\u001b[1;33m.\u001b[0m\u001b[0margv\u001b[0m\u001b[1;33m[\u001b[0m\u001b[1;36m1\u001b[0m\u001b[1;33m]\u001b[0m\u001b[1;33m)\u001b[0m\u001b[1;33m,\u001b[0m \u001b[0mint\u001b[0m\u001b[1;33m(\u001b[0m\u001b[0msys\u001b[0m\u001b[1;33m.\u001b[0m\u001b[0margv\u001b[0m\u001b[1;33m[\u001b[0m\u001b[1;36m2\u001b[0m\u001b[1;33m]\u001b[0m\u001b[1;33m)\u001b[0m\u001b[1;33m)\u001b[0m\u001b[1;33m\u001b[0m\u001b[1;33m\u001b[0m\u001b[0m\n\u001b[0m\u001b[0;32m      5\u001b[0m \u001b[1;33m\u001b[0m\u001b[0m\n\u001b[0;32m      6\u001b[0m \u001b[1;32mwhile\u001b[0m \u001b[1;32mTrue\u001b[0m\u001b[1;33m:\u001b[0m\u001b[1;33m\u001b[0m\u001b[1;33m\u001b[0m\u001b[0m\n",
      "\u001b[1;31mValueError\u001b[0m: invalid literal for int() with base 10: '-f'"
     ]
    }
   ],
   "source": [
    "from random import randint\n",
    "import sys\n",
    "\n",
    "answer = randint(int(sys.argv[1]), int(sys.argv[2]))\n",
    "\n",
    "while True:\n",
    "    try:\n",
    "        guess = int(input(f'guess a number {sys.argv[1]}~{sys.argv[2]}:  '))\n",
    "        if  0 < guess < 11:\n",
    "            if guess == answer:\n",
    "                print('you are a genius!')\n",
    "                break\n",
    "        else:\n",
    "            print('hey bozo, I said 1~10')\n",
    "    except ValueError:\n",
    "        print('please enter a number')\n",
    "        continue"
   ]
  },
  {
   "cell_type": "code",
   "execution_count": 18,
   "metadata": {},
   "outputs": [],
   "source": [
    "def do_stuff(num=0):\n",
    "  try:\n",
    "    if num:  # try to test for when input is 0. How can you fix this?\n",
    "      return int(num) + 5\n",
    "    else:\n",
    "      return 'please enter number'\n",
    "  except ValueError as err:\n",
    "    return err"
   ]
  },
  {
   "cell_type": "code",
   "execution_count": 21,
   "metadata": {},
   "outputs": [
    {
     "name": "stdout",
     "output_type": "stream",
     "text": [
      "guess a number 1~10:  1\n",
      "guess a number 1~10:  5\n",
      "guess a number 1~10:  9\n",
      "guess a number 1~10:  3\n",
      "guess a number 1~10:  7\n",
      "guess a number 1~10:  6\n",
      "guess a number 1~10:  4\n",
      "you are a genius!\n"
     ]
    }
   ],
   "source": [
    "import random\n",
    "\n",
    "def run_guess(guess, answer):\n",
    "    if  0 < guess < 11:\n",
    "        if guess == answer:\n",
    "            print('you are a genius!')\n",
    "            return True\n",
    "    else:\n",
    "        print('hey bozo, I said 1~10')\n",
    "        return False\n",
    "\n",
    "if __name__ == '__main__':\n",
    "    answer = random.randint(1, 10)\n",
    "    while True:\n",
    "        try:\n",
    "            guess = int(input('guess a number 1~10:  '))\n",
    "            if (run_guess(guess, answer)):\n",
    "                break\n",
    "        except ValueError:\n",
    "            print('please enter a number')\n",
    "            continue"
   ]
  },
  {
   "cell_type": "code",
   "execution_count": 22,
   "metadata": {},
   "outputs": [
    {
     "ename": "FileNotFoundError",
     "evalue": "[Errno 2] No such file or directory: 'index.html'",
     "output_type": "error",
     "traceback": [
      "\u001b[1;31m---------------------------------------------------------------------------\u001b[0m",
      "\u001b[1;31mFileNotFoundError\u001b[0m                         Traceback (most recent call last)",
      "\u001b[1;32m<ipython-input-22-7a90c2268a5e>\u001b[0m in \u001b[0;36m<module>\u001b[1;34m\u001b[0m\n\u001b[0;32m      4\u001b[0m \u001b[1;32mfrom\u001b[0m \u001b[0mpathlib\u001b[0m \u001b[1;32mimport\u001b[0m \u001b[0mPath\u001b[0m\u001b[1;33m\u001b[0m\u001b[1;33m\u001b[0m\u001b[0m\n\u001b[0;32m      5\u001b[0m \u001b[1;33m\u001b[0m\u001b[0m\n\u001b[1;32m----> 6\u001b[1;33m \u001b[0mhtml\u001b[0m \u001b[1;33m=\u001b[0m \u001b[0mTemplate\u001b[0m\u001b[1;33m(\u001b[0m\u001b[0mPath\u001b[0m\u001b[1;33m(\u001b[0m\u001b[1;34m'index.html'\u001b[0m\u001b[1;33m)\u001b[0m\u001b[1;33m.\u001b[0m\u001b[0mread_text\u001b[0m\u001b[1;33m(\u001b[0m\u001b[1;33m)\u001b[0m\u001b[1;33m)\u001b[0m\u001b[1;33m\u001b[0m\u001b[1;33m\u001b[0m\u001b[0m\n\u001b[0m\u001b[0;32m      7\u001b[0m \u001b[0memail\u001b[0m \u001b[1;33m=\u001b[0m \u001b[0mEmailMessage\u001b[0m\u001b[1;33m(\u001b[0m\u001b[1;33m)\u001b[0m\u001b[1;33m\u001b[0m\u001b[1;33m\u001b[0m\u001b[0m\n\u001b[0;32m      8\u001b[0m \u001b[0memail\u001b[0m\u001b[1;33m[\u001b[0m\u001b[1;34m'from'\u001b[0m\u001b[1;33m]\u001b[0m \u001b[1;33m=\u001b[0m \u001b[1;34m'Andrei Neagoie'\u001b[0m\u001b[1;33m\u001b[0m\u001b[1;33m\u001b[0m\u001b[0m\n",
      "\u001b[1;32m~\\Anaconda3\\lib\\pathlib.py\u001b[0m in \u001b[0;36mread_text\u001b[1;34m(self, encoding, errors)\u001b[0m\n\u001b[0;32m   1187\u001b[0m         \u001b[0mOpen\u001b[0m \u001b[0mthe\u001b[0m \u001b[0mfile\u001b[0m \u001b[1;32min\u001b[0m \u001b[0mtext\u001b[0m \u001b[0mmode\u001b[0m\u001b[1;33m,\u001b[0m \u001b[0mread\u001b[0m \u001b[0mit\u001b[0m\u001b[1;33m,\u001b[0m \u001b[1;32mand\u001b[0m \u001b[0mclose\u001b[0m \u001b[0mthe\u001b[0m \u001b[0mfile\u001b[0m\u001b[1;33m.\u001b[0m\u001b[1;33m\u001b[0m\u001b[1;33m\u001b[0m\u001b[0m\n\u001b[0;32m   1188\u001b[0m         \"\"\"\n\u001b[1;32m-> 1189\u001b[1;33m         \u001b[1;32mwith\u001b[0m \u001b[0mself\u001b[0m\u001b[1;33m.\u001b[0m\u001b[0mopen\u001b[0m\u001b[1;33m(\u001b[0m\u001b[0mmode\u001b[0m\u001b[1;33m=\u001b[0m\u001b[1;34m'r'\u001b[0m\u001b[1;33m,\u001b[0m \u001b[0mencoding\u001b[0m\u001b[1;33m=\u001b[0m\u001b[0mencoding\u001b[0m\u001b[1;33m,\u001b[0m \u001b[0merrors\u001b[0m\u001b[1;33m=\u001b[0m\u001b[0merrors\u001b[0m\u001b[1;33m)\u001b[0m \u001b[1;32mas\u001b[0m \u001b[0mf\u001b[0m\u001b[1;33m:\u001b[0m\u001b[1;33m\u001b[0m\u001b[1;33m\u001b[0m\u001b[0m\n\u001b[0m\u001b[0;32m   1190\u001b[0m             \u001b[1;32mreturn\u001b[0m \u001b[0mf\u001b[0m\u001b[1;33m.\u001b[0m\u001b[0mread\u001b[0m\u001b[1;33m(\u001b[0m\u001b[1;33m)\u001b[0m\u001b[1;33m\u001b[0m\u001b[1;33m\u001b[0m\u001b[0m\n\u001b[0;32m   1191\u001b[0m \u001b[1;33m\u001b[0m\u001b[0m\n",
      "\u001b[1;32m~\\Anaconda3\\lib\\pathlib.py\u001b[0m in \u001b[0;36mopen\u001b[1;34m(self, mode, buffering, encoding, errors, newline)\u001b[0m\n\u001b[0;32m   1174\u001b[0m             \u001b[0mself\u001b[0m\u001b[1;33m.\u001b[0m\u001b[0m_raise_closed\u001b[0m\u001b[1;33m(\u001b[0m\u001b[1;33m)\u001b[0m\u001b[1;33m\u001b[0m\u001b[1;33m\u001b[0m\u001b[0m\n\u001b[0;32m   1175\u001b[0m         return io.open(self, mode, buffering, encoding, errors, newline,\n\u001b[1;32m-> 1176\u001b[1;33m                        opener=self._opener)\n\u001b[0m\u001b[0;32m   1177\u001b[0m \u001b[1;33m\u001b[0m\u001b[0m\n\u001b[0;32m   1178\u001b[0m     \u001b[1;32mdef\u001b[0m \u001b[0mread_bytes\u001b[0m\u001b[1;33m(\u001b[0m\u001b[0mself\u001b[0m\u001b[1;33m)\u001b[0m\u001b[1;33m:\u001b[0m\u001b[1;33m\u001b[0m\u001b[1;33m\u001b[0m\u001b[0m\n",
      "\u001b[1;32m~\\Anaconda3\\lib\\pathlib.py\u001b[0m in \u001b[0;36m_opener\u001b[1;34m(self, name, flags, mode)\u001b[0m\n\u001b[0;32m   1028\u001b[0m     \u001b[1;32mdef\u001b[0m \u001b[0m_opener\u001b[0m\u001b[1;33m(\u001b[0m\u001b[0mself\u001b[0m\u001b[1;33m,\u001b[0m \u001b[0mname\u001b[0m\u001b[1;33m,\u001b[0m \u001b[0mflags\u001b[0m\u001b[1;33m,\u001b[0m \u001b[0mmode\u001b[0m\u001b[1;33m=\u001b[0m\u001b[1;36m0o666\u001b[0m\u001b[1;33m)\u001b[0m\u001b[1;33m:\u001b[0m\u001b[1;33m\u001b[0m\u001b[1;33m\u001b[0m\u001b[0m\n\u001b[0;32m   1029\u001b[0m         \u001b[1;31m# A stub for the opener argument to built-in open()\u001b[0m\u001b[1;33m\u001b[0m\u001b[1;33m\u001b[0m\u001b[1;33m\u001b[0m\u001b[0m\n\u001b[1;32m-> 1030\u001b[1;33m         \u001b[1;32mreturn\u001b[0m \u001b[0mself\u001b[0m\u001b[1;33m.\u001b[0m\u001b[0m_accessor\u001b[0m\u001b[1;33m.\u001b[0m\u001b[0mopen\u001b[0m\u001b[1;33m(\u001b[0m\u001b[0mself\u001b[0m\u001b[1;33m,\u001b[0m \u001b[0mflags\u001b[0m\u001b[1;33m,\u001b[0m \u001b[0mmode\u001b[0m\u001b[1;33m)\u001b[0m\u001b[1;33m\u001b[0m\u001b[1;33m\u001b[0m\u001b[0m\n\u001b[0m\u001b[0;32m   1031\u001b[0m \u001b[1;33m\u001b[0m\u001b[0m\n\u001b[0;32m   1032\u001b[0m     \u001b[1;32mdef\u001b[0m \u001b[0m_raw_open\u001b[0m\u001b[1;33m(\u001b[0m\u001b[0mself\u001b[0m\u001b[1;33m,\u001b[0m \u001b[0mflags\u001b[0m\u001b[1;33m,\u001b[0m \u001b[0mmode\u001b[0m\u001b[1;33m=\u001b[0m\u001b[1;36m0o777\u001b[0m\u001b[1;33m)\u001b[0m\u001b[1;33m:\u001b[0m\u001b[1;33m\u001b[0m\u001b[1;33m\u001b[0m\u001b[0m\n",
      "\u001b[1;31mFileNotFoundError\u001b[0m: [Errno 2] No such file or directory: 'index.html'"
     ]
    }
   ],
   "source": [
    "import smtplib\n",
    "from email.message import EmailMessage\n",
    "from string import Template\n",
    "from pathlib import Path\n",
    "\n",
    "html = Template(Path('index.html').read_text())\n",
    "email = EmailMessage()\n",
    "email['from'] = 'Andrei Neagoie'\n",
    "email['to'] = '<to email address>'\n",
    "email['subject'] = 'You won 1,000,000 dollars!'\n",
    "\n",
    "email.set_content(html.substitute({'name': 'TinTin'}), 'html')\n",
    "\n",
    "with smtplib.SMTP(host='smtp.gmail.com', port=587) as smtp:\n",
    "  smtp.ehlo()\n",
    "  smtp.starttls()\n",
    "  smtp.login('<your email address>', '<your password>')\n",
    "  smtp.send_message(email)\n",
    "  print('all good boss!')"
   ]
  },
  {
   "cell_type": "code",
   "execution_count": 23,
   "metadata": {},
   "outputs": [
    {
     "name": "stdout",
     "output_type": "stream",
     "text": [
      "-f was NOT found. Carry on!\n",
      "C:\\Users\\ASUS\\AppData\\Roaming\\jupyter\\runtime\\kernel-0a710957-cd1d-4c68-a614-5b358d2e2309.json was NOT found. Carry on!\n"
     ]
    },
    {
     "ename": "SystemExit",
     "evalue": "done!",
     "output_type": "error",
     "traceback": [
      "An exception has occurred, use %tb to see the full traceback.\n",
      "\u001b[1;31mSystemExit\u001b[0m\u001b[1;31m:\u001b[0m done!\n"
     ]
    },
    {
     "name": "stderr",
     "output_type": "stream",
     "text": [
      "C:\\Users\\ASUS\\Anaconda3\\lib\\site-packages\\IPython\\core\\interactiveshell.py:3426: UserWarning: To exit: use 'exit', 'quit', or Ctrl-D.\n",
      "  warn(\"To exit: use 'exit', 'quit', or Ctrl-D.\", stacklevel=1)\n"
     ]
    }
   ],
   "source": [
    "import requests\n",
    "import hashlib\n",
    "import sys\n",
    "\n",
    "def request_api_data(query_char):\n",
    "  url = 'https://api.pwnedpasswords.com/range/' + query_char\n",
    "  res = requests.get(url)\n",
    "  if res.status_code != 200:\n",
    "    raise RuntimeError(f'Error fetching: {res.status_code}, check the api and try again')\n",
    "  return res\n",
    "\n",
    "def get_password_leaks_count(hashes, hash_to_check):\n",
    "  hashes = (line.split(':') for line in hashes.text.splitlines())\n",
    "  for h, count in hashes:\n",
    "    if h == hash_to_check:\n",
    "      return count\n",
    "  return 0\n",
    "\n",
    "def pwned_api_check(password):\n",
    "  sha1password = hashlib.sha1(password.encode('utf-8')).hexdigest().upper()\n",
    "  first5_char, tail = sha1password[:5], sha1password[5:]\n",
    "  response = request_api_data(first5_char)\n",
    "  return get_password_leaks_count(response, tail)\n",
    "\n",
    "def main(args):\n",
    "  for password in args:\n",
    "    count = pwned_api_check(password)\n",
    "    if count:\n",
    "      print(f'{password} was found {count} times... you should probably change your password!')\n",
    "    else:\n",
    "      print(f'{password} was NOT found. Carry on!')\n",
    "  return 'done!'\n",
    "\n",
    "if __name__ == '__main__':\n",
    "  sys.exit(main(sys.argv[1:]))"
   ]
  },
  {
   "cell_type": "code",
   "execution_count": 24,
   "metadata": {},
   "outputs": [
    {
     "ename": "ModuleNotFoundError",
     "evalue": "No module named 'tweepy'",
     "output_type": "error",
     "traceback": [
      "\u001b[1;31m---------------------------------------------------------------------------\u001b[0m",
      "\u001b[1;31mModuleNotFoundError\u001b[0m                       Traceback (most recent call last)",
      "\u001b[1;32m<ipython-input-24-fdf15f205a4c>\u001b[0m in \u001b[0;36m<module>\u001b[1;34m\u001b[0m\n\u001b[1;32m----> 1\u001b[1;33m \u001b[1;32mimport\u001b[0m \u001b[0mtweepy\u001b[0m\u001b[1;33m\u001b[0m\u001b[1;33m\u001b[0m\u001b[0m\n\u001b[0m\u001b[0;32m      2\u001b[0m \u001b[1;32mimport\u001b[0m \u001b[0mtime\u001b[0m\u001b[1;33m\u001b[0m\u001b[1;33m\u001b[0m\u001b[0m\n\u001b[0;32m      3\u001b[0m \u001b[1;33m\u001b[0m\u001b[0m\n\u001b[0;32m      4\u001b[0m \u001b[0mconsumer_key\u001b[0m \u001b[1;33m=\u001b[0m \u001b[1;34m''\u001b[0m\u001b[1;33m\u001b[0m\u001b[1;33m\u001b[0m\u001b[0m\n\u001b[0;32m      5\u001b[0m \u001b[0mconsumer_secret\u001b[0m \u001b[1;33m=\u001b[0m \u001b[1;34m''\u001b[0m\u001b[1;33m\u001b[0m\u001b[1;33m\u001b[0m\u001b[0m\n",
      "\u001b[1;31mModuleNotFoundError\u001b[0m: No module named 'tweepy'"
     ]
    }
   ],
   "source": [
    "import tweepy\n",
    "import time\n",
    "\n",
    "consumer_key = ''\n",
    "consumer_secret = ''\n",
    "access_token = ''\n",
    "access_token_secret = ''\n",
    "auth = tweepy.OAuthHandler(consumer_key, consumer_secret)\n",
    "auth.set_access_token(access_token, access_token_secret)\n",
    "api = tweepy.API(auth)\n",
    "\n",
    "user = api.me()\n",
    "print(user.name)  # prints your name.\n",
    "print(user.screen_name)\n",
    "print(user.followers_count)\n",
    "\n",
    "search = 'zerotomastery'\n",
    "numberOfTweets = 2\n",
    "\n",
    "def limit_handle(cursor):\n",
    "  while True:\n",
    "    try:\n",
    "      yield cursor.next()\n",
    "    except tweepy.RateLimitError:\n",
    "      time.sleep(1000)\n",
    "\n",
    "# Be nice to your followers. Follow everyone!\n",
    "for follower in limit_handle(tweepy.Cursor(api.followers).items()):\n",
    "  if follower.name == 'User name here':\n",
    "    print(follower.name)\n",
    "    follower.follow()"
   ]
  },
  {
   "cell_type": "code",
   "execution_count": 25,
   "metadata": {},
   "outputs": [
    {
     "ename": "NameError",
     "evalue": "name 'tweepy' is not defined",
     "output_type": "error",
     "traceback": [
      "\u001b[1;31m---------------------------------------------------------------------------\u001b[0m",
      "\u001b[1;31mNameError\u001b[0m                                 Traceback (most recent call last)",
      "\u001b[1;32m<ipython-input-25-79013c0b8cff>\u001b[0m in \u001b[0;36m<module>\u001b[1;34m\u001b[0m\n\u001b[0;32m      1\u001b[0m \u001b[1;31m# Be a narcissist and love your own tweets,\u001b[0m\u001b[1;33m\u001b[0m\u001b[1;33m\u001b[0m\u001b[1;33m\u001b[0m\u001b[0m\n\u001b[0;32m      2\u001b[0m \u001b[1;31m# or retweet anything with a keyword!\u001b[0m\u001b[1;33m\u001b[0m\u001b[1;33m\u001b[0m\u001b[1;33m\u001b[0m\u001b[0m\n\u001b[1;32m----> 3\u001b[1;33m \u001b[1;32mfor\u001b[0m \u001b[0mtweet\u001b[0m \u001b[1;32min\u001b[0m \u001b[0mtweepy\u001b[0m\u001b[1;33m.\u001b[0m\u001b[0mCursor\u001b[0m\u001b[1;33m(\u001b[0m\u001b[0mapi\u001b[0m\u001b[1;33m.\u001b[0m\u001b[0msearch\u001b[0m\u001b[1;33m,\u001b[0m \u001b[0msearch\u001b[0m\u001b[1;33m)\u001b[0m\u001b[1;33m.\u001b[0m\u001b[0mitems\u001b[0m\u001b[1;33m(\u001b[0m\u001b[0mnumberOfTweets\u001b[0m\u001b[1;33m)\u001b[0m\u001b[1;33m:\u001b[0m\u001b[1;33m\u001b[0m\u001b[1;33m\u001b[0m\u001b[0m\n\u001b[0m\u001b[0;32m      4\u001b[0m     \u001b[1;32mtry\u001b[0m\u001b[1;33m:\u001b[0m\u001b[1;33m\u001b[0m\u001b[1;33m\u001b[0m\u001b[0m\n\u001b[0;32m      5\u001b[0m         \u001b[0mtweet\u001b[0m\u001b[1;33m.\u001b[0m\u001b[0mfavorite\u001b[0m\u001b[1;33m(\u001b[0m\u001b[1;33m)\u001b[0m\u001b[1;33m\u001b[0m\u001b[1;33m\u001b[0m\u001b[0m\n",
      "\u001b[1;31mNameError\u001b[0m: name 'tweepy' is not defined"
     ]
    }
   ],
   "source": [
    "# Be a narcissist and love your own tweets,\n",
    "# or retweet anything with a keyword!\n",
    "for tweet in tweepy.Cursor(api.search, search).items(numberOfTweets):\n",
    "    try:\n",
    "        tweet.favorite()\n",
    "        print('Retweeted the tweet')\n",
    "    except tweepy.TweepError as e:\n",
    "        print(e.reason)\n",
    "    except StopIteration:\n",
    "        break"
   ]
  },
  {
   "cell_type": "code",
   "execution_count": 26,
   "metadata": {},
   "outputs": [],
   "source": [
    "#([A-Za-z0-9$%#@]{7,}[0-9])"
   ]
  },
  {
   "cell_type": "code",
   "execution_count": 27,
   "metadata": {},
   "outputs": [],
   "source": [
    "# MRO - Method Resolution Order\n",
    "\n",
    "class A:\n",
    "    num = 10\n",
    "\n",
    "class B(A):\n",
    "    pass\n",
    "\n",
    "class C(A):\n",
    "    num = 1\n",
    "\n",
    "class D(B, C):\n",
    "    pass"
   ]
  },
  {
   "cell_type": "code",
   "execution_count": 28,
   "metadata": {},
   "outputs": [
    {
     "ename": "SyntaxError",
     "evalue": "invalid syntax (<ipython-input-28-a82c47c9f96a>, line 3)",
     "output_type": "error",
     "traceback": [
      "\u001b[1;36m  File \u001b[1;32m\"<ipython-input-28-a82c47c9f96a>\"\u001b[1;36m, line \u001b[1;32m3\u001b[0m\n\u001b[1;33m    if (n := len(a)) > 10:\u001b[0m\n\u001b[1;37m          ^\u001b[0m\n\u001b[1;31mSyntaxError\u001b[0m\u001b[1;31m:\u001b[0m invalid syntax\n"
     ]
    }
   ],
   "source": [
    "a = 'helloooooooooo'\n",
    "\n",
    "if (n := len(a)) > 10:\n",
    "    print(f'too long {n} elements')\n",
    "\n",
    "while (n := len(a)) > 1:\n",
    "    print(n)\n",
    "    a = a[:-1]\n",
    "\n",
    "print(a)"
   ]
  },
  {
   "cell_type": "code",
   "execution_count": 29,
   "metadata": {},
   "outputs": [
    {
     "name": "stdout",
     "output_type": "stream",
     "text": [
      "[{'link': 'https://www.legacy.com/us/obituaries/scnow/name/brad-cox-obituary?pid=197454225',\n",
      "  'title': 'Brad Cox has died',\n",
      "  'votes': 841},\n",
      " {'link': 'https://www.u-tokyo.ac.jp/focus/en/press/z0508_00161.html',\n",
      "  'title': 'Atomic resolution video of salt crystals forming in real time',\n",
      "  'votes': 641},\n",
      " {'link': 'https://rosenzweig.io/blog/asahi-gpu-part-2.html',\n",
      "  'title': 'Dissecting the Apple M1 GPU, Part II',\n",
      "  'votes': 562},\n",
      " {'link': 'https://chriskiehl.com/article/thoughts-after-6-years',\n",
      "  'title': 'Software engineering topics I changed my mind on',\n",
      "  'votes': 381},\n",
      " {'link': 'https://blog.jmdawson.co.uk/i-bought-200-raspberry-pi-model-bs-and-im-going-to-fix-them-part-1/',\n",
      "  'title': 'I bought 200 Raspberry Pi Model B’s and I’m going to fix them',\n",
      "  'votes': 334},\n",
      " {'link': 'https://jvns.ca/blog/2021/01/23/firecracker--start-a-vm-in-less-than-a-second/',\n",
      "  'title': 'Firecracker: Start a VM in less than a second',\n",
      "  'votes': 334},\n",
      " {'link': 'https://lincoln.metacannon.net/2021/01/facebook-disabled-my-account-after-i-criticized-them.html',\n",
      "  'title': 'Facebook Disabled My Account After I Criticized Them',\n",
      "  'votes': 307},\n",
      " {'link': 'https://www.wusa9.com/article/features/producers-picks/fbi-tracks-cell-phones-that-were-near-capitol-insurrection-and-riot/65-ca268165-a5c5-46a4-8b88-943a8517343a',\n",
      "  'title': 'FBI agents track cell phones that pinged near the Capitol',\n",
      "  'votes': 306},\n",
      " {'link': 'https://pip.pypa.io/en/stable/news/#id1',\n",
      "  'title': 'Pip has dropped support for Python 2',\n",
      "  'votes': 280},\n",
      " {'link': 'https://bodhi.fedoraproject.org/updates/FEDORA-2021-48866282e5',\n",
      "  'title': 'Google has turned off access to sync features for Chromium',\n",
      "  'votes': 246},\n",
      " {'link': 'https://onlysponsors.dev/',\n",
      "  'title': 'Build a salary with GitHub Sponsors',\n",
      "  'votes': 243},\n",
      " {'link': 'https://www.infoq.com/news/2021/01/java-turns-25/',\n",
      "  'title': 'Java 1.0 Turns 25',\n",
      "  'votes': 219},\n",
      " {'link': 'https://bkkaggle.github.io/blog/algpt2/2020/07/17/ALGPT2-part-2.html',\n",
      "  'title': 'Replicating GPT-2 at Home',\n",
      "  'votes': 212},\n",
      " {'link': 'https://pagely.com/blog/whitehouse-gov-chooses-wordpress-again/',\n",
      "  'title': 'Whitehouse.gov Chooses WordPress, Again',\n",
      "  'votes': 205},\n",
      " {'link': 'https://brunocalza.me/but-how-exactly-databases-use-mmap/',\n",
      "  'title': 'But how, exactly, do databases use mmap?',\n",
      "  'votes': 189},\n",
      " {'link': 'https://filmulator.org/v0-11-0/',\n",
      "  'title': 'Show HN: Filmulator – a streamlined, open-source raw photo editor',\n",
      "  'votes': 188},\n",
      " {'link': 'https://noahpinion.substack.com/p/no-one-knows-how-much-the-government',\n",
      "  'title': 'No one knows how much the government can borrow',\n",
      "  'votes': 188},\n",
      " {'link': 'item?id=25883858',\n",
      "  'title': 'Tell HN: 19yo, bootstrapped SaaS, 250k ARR after 10 months',\n",
      "  'votes': 184},\n",
      " {'link': 'https://nbloom.people.stanford.edu/sites/g/files/sbiybj4746/f/why_wfh_stick1_0.pdf',\n",
      "  'title': 'Why Working from Home Will Stick [pdf]',\n",
      "  'votes': 147},\n",
      " {'link': 'https://sitejs.org/',\n",
      "  'title': 'Site.js: Small Web construction set',\n",
      "  'votes': 121},\n",
      " {'link': 'https://sponsor.ajay.app/emails/',\n",
      "  'title': 'Emails a browser extension developer gets from scammers',\n",
      "  'votes': 114},\n",
      " {'link': 'https://www.bbc.com/news/technology-55749959',\n",
      "  'title': 'Malware found on laptops given out by government',\n",
      "  'votes': 112},\n",
      " {'link': 'https://www.vinography.com/2020/12/how-long-does-a-bottle-of-wine-last-after-it-is-opened',\n",
      "  'title': 'How long does a bottle of wine last after it is opened?',\n",
      "  'votes': 111},\n",
      " {'link': 'https://www.pixelatedplaygrounds.com/sidequests/game-design-perspective-stardew-valley',\n",
      "  'title': 'Game Design Perspective: Stardew Valley (2020)',\n",
      "  'votes': 108},\n",
      " {'link': 'https://parentheticallyspeaking.org/articles/drscheme-in-space/',\n",
      "  'title': 'DrScheme in Space',\n",
      "  'votes': 108},\n",
      " {'link': 'https://www.scientificamerican.com/article/forever-chemicals-are-widespread-in-u-s-drinking-water/',\n",
      "  'title': 'Forever chemicals are widespread in U.S. drinking water',\n",
      "  'votes': 102},\n",
      " {'link': 'https://www.nytimes.com/2021/01/23/technology/uber-postmates-layoffs.html',\n",
      "  'title': 'Uber Lays off Postmates Founder/CEO, 180 others',\n",
      "  'votes': 102}]\n"
     ]
    }
   ],
   "source": [
    "import requests\n",
    "from bs4 import BeautifulSoup\n",
    "import pprint\n",
    "\n",
    "res = requests.get('https://news.ycombinator.com/news')\n",
    "res2 = requests.get('https://news.ycombinator.com/news?p=2')\n",
    "soup = BeautifulSoup(res.text, 'html.parser')\n",
    "soup2 = BeautifulSoup(res2.text, 'html.parser')\n",
    "\n",
    "links = soup.select('.storylink')\n",
    "subtext = soup.select('.subtext')\n",
    "links2 = soup2.select('.storylink')\n",
    "subtext2 = soup2.select('.subtext')\n",
    "\n",
    "mega_links = links + links2\n",
    "mega_subtext = subtext + subtext2\n",
    "\n",
    "def sort_stories_by_votes(hnlist):\n",
    "    return sorted(hnlist, key=lambda k: k['votes'], reverse=True)\n",
    "\n",
    "def create_custom_hn(links, subtext):\n",
    "    hn = []\n",
    "    for idx, item in enumerate(links):\n",
    "        title = item.getText()\n",
    "        href = item.get('href', None)\n",
    "        vote = subtext[idx].select('.score')\n",
    "        if len(vote):\n",
    "            points = int(vote[0].getText().replace(' points', ''))\n",
    "            if points > 99:\n",
    "                hn.append({'title': title, 'link': href, 'votes': points})\n",
    "    return sort_stories_by_votes(hn)\n",
    "\n",
    "pprint.pprint(create_custom_hn(mega_links, mega_subtext))"
   ]
  },
  {
   "cell_type": "code",
   "execution_count": null,
   "metadata": {},
   "outputs": [],
   "source": []
  },
  {
   "cell_type": "code",
   "execution_count": null,
   "metadata": {},
   "outputs": [],
   "source": []
  },
  {
   "cell_type": "code",
   "execution_count": null,
   "metadata": {},
   "outputs": [],
   "source": []
  },
  {
   "cell_type": "code",
   "execution_count": null,
   "metadata": {},
   "outputs": [],
   "source": []
  },
  {
   "cell_type": "code",
   "execution_count": null,
   "metadata": {},
   "outputs": [],
   "source": []
  }
 ],
 "metadata": {
  "kernelspec": {
   "display_name": "Python 3",
   "language": "python",
   "name": "python3"
  },
  "language_info": {
   "codemirror_mode": {
    "name": "ipython",
    "version": 3
   },
   "file_extension": ".py",
   "mimetype": "text/x-python",
   "name": "python",
   "nbconvert_exporter": "python",
   "pygments_lexer": "ipython3",
   "version": "3.7.1"
  }
 },
 "nbformat": 4,
 "nbformat_minor": 4
}
