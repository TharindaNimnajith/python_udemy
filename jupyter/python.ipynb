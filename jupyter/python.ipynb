{
 "cells": [
  {
   "cell_type": "code",
   "execution_count": 1,
   "metadata": {},
   "outputs": [
    {
     "name": "stdout",
     "output_type": "stream",
     "text": [
      "Hello World!\n"
     ]
    }
   ],
   "source": [
    "print('Hello World!')"
   ]
  },
  {
   "cell_type": "code",
   "execution_count": 2,
   "metadata": {},
   "outputs": [
    {
     "name": "stdout",
     "output_type": "stream",
     "text": [
      "What is your name? Tharinda\n"
     ]
    }
   ],
   "source": [
    "name = input('What is your name? ')"
   ]
  },
  {
   "cell_type": "code",
   "execution_count": 3,
   "metadata": {},
   "outputs": [
    {
     "name": "stdout",
     "output_type": "stream",
     "text": [
      "Hello Tharinda\n"
     ]
    }
   ],
   "source": [
    "print('Hello ' + name)"
   ]
  },
  {
   "cell_type": "code",
   "execution_count": 4,
   "metadata": {},
   "outputs": [],
   "source": [
    "# fundamental data types:\n",
    "# int\n",
    "# float\n",
    "# complex\n",
    "# bool\n",
    "# str\n",
    "# tuple\n",
    "# list\n",
    "# set\n",
    "# dict\n",
    "#\n",
    "# classes (custom types)\n",
    "#\n",
    "# specialized data types (packages and modules from libraries)\n",
    "#\n",
    "# None"
   ]
  },
  {
   "cell_type": "code",
   "execution_count": 5,
   "metadata": {},
   "outputs": [
    {
     "name": "stdout",
     "output_type": "stream",
     "text": [
      "6\n",
      "-2\n",
      "8\n",
      "0.5\n"
     ]
    }
   ],
   "source": [
    "print(2 + 4)\n",
    "print(2 - 4)\n",
    "print(2 * 4)\n",
    "print(2 / 4)"
   ]
  },
  {
   "cell_type": "code",
   "execution_count": 6,
   "metadata": {},
   "outputs": [
    {
     "name": "stdout",
     "output_type": "stream",
     "text": [
      "<class 'int'>\n",
      "<class 'int'>\n",
      "<class 'int'>\n",
      "<class 'float'>\n"
     ]
    }
   ],
   "source": [
    "print(type(2 + 4))\n",
    "print(type(2 - 4))\n",
    "print(type(2 * 4))\n",
    "print(type(2 / 4))"
   ]
  },
  {
   "cell_type": "code",
   "execution_count": 7,
   "metadata": {},
   "outputs": [
    {
     "name": "stdout",
     "output_type": "stream",
     "text": [
      "9.8\n",
      "<class 'float'>\n",
      "11.0\n",
      "<class 'float'>\n"
     ]
    }
   ],
   "source": [
    "print(10 - 0.2)\n",
    "print(type(10 - 0.2))\n",
    "print(9.9 + 1.1)\n",
    "print(type(9.9 + 1.1))"
   ]
  },
  {
   "cell_type": "code",
   "execution_count": 8,
   "metadata": {},
   "outputs": [
    {
     "name": "stdout",
     "output_type": "stream",
     "text": [
      "8\n"
     ]
    }
   ],
   "source": [
    "print(2 ** 3)"
   ]
  },
  {
   "cell_type": "code",
   "execution_count": 9,
   "metadata": {},
   "outputs": [
    {
     "name": "stdout",
     "output_type": "stream",
     "text": [
      "0\n",
      "1\n",
      "1\n"
     ]
    }
   ],
   "source": [
    "print(2 // 4)\n",
    "print(5 // 4)\n",
    "print(7 // 4)"
   ]
  },
  {
   "cell_type": "code",
   "execution_count": 10,
   "metadata": {},
   "outputs": [
    {
     "name": "stdout",
     "output_type": "stream",
     "text": [
      "1\n"
     ]
    }
   ],
   "source": [
    "print(5 % 4)"
   ]
  },
  {
   "cell_type": "code",
   "execution_count": 11,
   "metadata": {},
   "outputs": [
    {
     "name": "stdout",
     "output_type": "stream",
     "text": [
      "3\n",
      "4\n"
     ]
    }
   ],
   "source": [
    "print(round(3.1))\n",
    "print(round(3.5))"
   ]
  },
  {
   "cell_type": "code",
   "execution_count": 12,
   "metadata": {},
   "outputs": [
    {
     "name": "stdout",
     "output_type": "stream",
     "text": [
      "20.21\n"
     ]
    }
   ],
   "source": [
    "print(abs(-20.21))"
   ]
  },
  {
   "cell_type": "code",
   "execution_count": 13,
   "metadata": {},
   "outputs": [
    {
     "name": "stdout",
     "output_type": "stream",
     "text": [
      "8\n"
     ]
    }
   ],
   "source": [
    "print(20 - 3 * 4)"
   ]
  },
  {
   "cell_type": "code",
   "execution_count": 14,
   "metadata": {},
   "outputs": [],
   "source": [
    "# ()\n",
    "# **\n",
    "# * /\n",
    "# + -"
   ]
  },
  {
   "cell_type": "code",
   "execution_count": 15,
   "metadata": {},
   "outputs": [
    {
     "name": "stdout",
     "output_type": "stream",
     "text": [
      "31\n"
     ]
    }
   ],
   "source": [
    "print(20 * 2 - 3 ** (4 - 2))"
   ]
  },
  {
   "cell_type": "code",
   "execution_count": 16,
   "metadata": {},
   "outputs": [
    {
     "name": "stdout",
     "output_type": "stream",
     "text": [
      "0b101\n"
     ]
    }
   ],
   "source": [
    "print(bin(5))"
   ]
  },
  {
   "cell_type": "code",
   "execution_count": 17,
   "metadata": {},
   "outputs": [
    {
     "name": "stdout",
     "output_type": "stream",
     "text": [
      "5\n"
     ]
    }
   ],
   "source": [
    "print(int('0b101', 2))"
   ]
  },
  {
   "cell_type": "code",
   "execution_count": 18,
   "metadata": {},
   "outputs": [],
   "source": [
    "# variables\n",
    "#\n",
    "# snake_case\n",
    "# start with lowercase or _\n",
    "# do not overwrite keywords\n",
    "# letters, numbers or _\n",
    "# case sensitive"
   ]
  },
  {
   "cell_type": "code",
   "execution_count": 19,
   "metadata": {},
   "outputs": [
    {
     "name": "stdout",
     "output_type": "stream",
     "text": [
      "190\n",
      "47.5\n"
     ]
    }
   ],
   "source": [
    "user_iq = 190\n",
    "print(user_iq)\n",
    "\n",
    "user_age = user_iq / 4\n",
    "test = user_age\n",
    "print(test)"
   ]
  },
  {
   "cell_type": "code",
   "execution_count": 20,
   "metadata": {},
   "outputs": [
    {
     "name": "stdout",
     "output_type": "stream",
     "text": [
      "3.14\n"
     ]
    }
   ],
   "source": [
    "# constants\n",
    "PI = 3.14\n",
    "print(PI)"
   ]
  },
  {
   "cell_type": "code",
   "execution_count": 21,
   "metadata": {},
   "outputs": [],
   "source": [
    "# do not use __ before variable\n",
    "__test = 10"
   ]
  },
  {
   "cell_type": "code",
   "execution_count": 22,
   "metadata": {},
   "outputs": [
    {
     "name": "stdout",
     "output_type": "stream",
     "text": [
      "1\n",
      "2\n",
      "3\n"
     ]
    }
   ],
   "source": [
    "a, b, c = 1, 2, 3\n",
    "print(a)\n",
    "print(b)\n",
    "print(c)"
   ]
  },
  {
   "cell_type": "code",
   "execution_count": 23,
   "metadata": {},
   "outputs": [
    {
     "name": "stdout",
     "output_type": "stream",
     "text": [
      "20.0\n"
     ]
    }
   ],
   "source": [
    "iq = 100\n",
    "age = iq / 5\n",
    "print(age)\n",
    "\n",
    "# iq / 5        ->  expression\n",
    "# age = iq / 5  ->  statement"
   ]
  },
  {
   "cell_type": "code",
   "execution_count": 24,
   "metadata": {},
   "outputs": [
    {
     "name": "stdout",
     "output_type": "stream",
     "text": [
      "6\n",
      "7\n",
      "6\n",
      "12\n",
      "6.0\n"
     ]
    }
   ],
   "source": [
    "# augmented assignment operator\n",
    "\n",
    "value = 5\n",
    "value = value + 1\n",
    "print(value)\n",
    "\n",
    "value += 1\n",
    "print(value)\n",
    "\n",
    "value -= 1\n",
    "print(value)\n",
    "\n",
    "value *= 2\n",
    "print(value)\n",
    "\n",
    "value /= 2\n",
    "print(value)"
   ]
  },
  {
   "cell_type": "code",
   "execution_count": 25,
   "metadata": {},
   "outputs": [
    {
     "ename": "SyntaxError",
     "evalue": "invalid syntax (<ipython-input-25-f5f49a28f96b>, line 2)",
     "output_type": "error",
     "traceback": [
      "\u001b[1;36m  File \u001b[1;32m\"<ipython-input-25-f5f49a28f96b>\"\u001b[1;36m, line \u001b[1;32m2\u001b[0m\n\u001b[1;33m    value++\u001b[0m\n\u001b[1;37m           ^\u001b[0m\n\u001b[1;31mSyntaxError\u001b[0m\u001b[1;31m:\u001b[0m invalid syntax\n"
     ]
    }
   ],
   "source": [
    "# not working\n",
    "value++\n",
    "++value\n",
    "value--\n",
    "--value"
   ]
  },
  {
   "cell_type": "code",
   "execution_count": 26,
   "metadata": {},
   "outputs": [
    {
     "name": "stdout",
     "output_type": "stream",
     "text": [
      "<class 'str'>\n",
      "<class 'str'>\n"
     ]
    }
   ],
   "source": [
    "print(type(\"string\"))\n",
    "print(type('string'))"
   ]
  },
  {
   "cell_type": "code",
   "execution_count": 27,
   "metadata": {},
   "outputs": [
    {
     "name": "stdout",
     "output_type": "stream",
     "text": [
      "\n",
      "this\n",
      " is\n",
      "  a\n",
      "very long\n",
      "       string\n",
      "\n"
     ]
    }
   ],
   "source": [
    "long_string = '''\n",
    "this\n",
    " is\n",
    "  a\n",
    "very long\n",
    "       string\n",
    "'''\n",
    "\n",
    "print(long_string)"
   ]
  },
  {
   "cell_type": "code",
   "execution_count": 28,
   "metadata": {},
   "outputs": [
    {
     "name": "stdout",
     "output_type": "stream",
     "text": [
      "Tharinda Rajapaksha\n"
     ]
    }
   ],
   "source": [
    "first_name = 'Tharinda'\n",
    "last_name = 'Rajapaksha'\n",
    "\n",
    "# string concatenation\n",
    "full_name = first_name + ' ' + last_name\n",
    "print(full_name)"
   ]
  },
  {
   "cell_type": "code",
   "execution_count": 29,
   "metadata": {},
   "outputs": [
    {
     "ename": "TypeError",
     "evalue": "can only concatenate str (not \"int\") to str",
     "output_type": "error",
     "traceback": [
      "\u001b[1;31m---------------------------------------------------------------------------\u001b[0m",
      "\u001b[1;31mTypeError\u001b[0m                                 Traceback (most recent call last)",
      "\u001b[1;32m<ipython-input-29-0488bf699d2c>\u001b[0m in \u001b[0;36m<module>\u001b[1;34m\u001b[0m\n\u001b[0;32m      1\u001b[0m \u001b[1;31m# not working\u001b[0m\u001b[1;33m\u001b[0m\u001b[1;33m\u001b[0m\u001b[1;33m\u001b[0m\u001b[0m\n\u001b[1;32m----> 2\u001b[1;33m \u001b[0mprint\u001b[0m\u001b[1;33m(\u001b[0m\u001b[1;34m'hello'\u001b[0m \u001b[1;33m+\u001b[0m \u001b[1;36m5\u001b[0m\u001b[1;33m)\u001b[0m\u001b[1;33m\u001b[0m\u001b[1;33m\u001b[0m\u001b[0m\n\u001b[0m",
      "\u001b[1;31mTypeError\u001b[0m: can only concatenate str (not \"int\") to str"
     ]
    }
   ],
   "source": [
    "# not working\n",
    "print('hello' + 5)"
   ]
  },
  {
   "cell_type": "code",
   "execution_count": 30,
   "metadata": {},
   "outputs": [
    {
     "name": "stdout",
     "output_type": "stream",
     "text": [
      "100\n",
      "<class 'str'>\n",
      "100\n",
      "<class 'int'>\n"
     ]
    }
   ],
   "source": [
    "# type conversions\n",
    "\n",
    "print(str(100))\n",
    "print(type(str(100)))\n",
    "\n",
    "print(int(str(100)))\n",
    "print(type(int(str(100))))"
   ]
  },
  {
   "cell_type": "code",
   "execution_count": 31,
   "metadata": {},
   "outputs": [
    {
     "ename": "SyntaxError",
     "evalue": "invalid syntax (<ipython-input-31-36d36b38ed9f>, line 4)",
     "output_type": "error",
     "traceback": [
      "\u001b[1;36m  File \u001b[1;32m\"<ipython-input-31-36d36b38ed9f>\"\u001b[1;36m, line \u001b[1;32m4\u001b[0m\n\u001b[1;33m    weather = 'It's sunny!'\u001b[0m\n\u001b[1;37m                  ^\u001b[0m\n\u001b[1;31mSyntaxError\u001b[0m\u001b[1;31m:\u001b[0m invalid syntax\n"
     ]
    }
   ],
   "source": [
    "# escape sequence\n",
    "\n",
    "# not working\n",
    "weather = 'It's sunny!'"
   ]
  },
  {
   "cell_type": "code",
   "execution_count": 32,
   "metadata": {},
   "outputs": [
    {
     "name": "stdout",
     "output_type": "stream",
     "text": [
      "It's sunny!\n"
     ]
    }
   ],
   "source": [
    "weather = \"It's sunny!\"\n",
    "print(weather)"
   ]
  },
  {
   "cell_type": "code",
   "execution_count": 33,
   "metadata": {},
   "outputs": [
    {
     "ename": "SyntaxError",
     "evalue": "invalid syntax (<ipython-input-33-824684dc2b41>, line 2)",
     "output_type": "error",
     "traceback": [
      "\u001b[1;36m  File \u001b[1;32m\"<ipython-input-33-824684dc2b41>\"\u001b[1;36m, line \u001b[1;32m2\u001b[0m\n\u001b[1;33m    weather = \"It's \"kind of\" sunny!\"\u001b[0m\n\u001b[1;37m                        ^\u001b[0m\n\u001b[1;31mSyntaxError\u001b[0m\u001b[1;31m:\u001b[0m invalid syntax\n"
     ]
    }
   ],
   "source": [
    "# not working\n",
    "weather = \"It's \"kind of\" sunny!\""
   ]
  },
  {
   "cell_type": "code",
   "execution_count": 34,
   "metadata": {},
   "outputs": [
    {
     "name": "stdout",
     "output_type": "stream",
     "text": [
      "It's sunny!\n",
      "It's \"kind of\" sunny!\n",
      "\t It\\'s \\\"kind of\" sunny! \n",
      "Hope you have a good day!\n"
     ]
    }
   ],
   "source": [
    "weather = 'It\\'s sunny!'\n",
    "print(weather)\n",
    "\n",
    "weather = \"It's \\\"kind of\\\" sunny!\"\n",
    "print(weather)\n",
    "\n",
    "weather = \"\\t It\\\\'s \\\\\\\"kind of\\\" sunny! \\nHope you have a good day!\"\n",
    "print(weather)"
   ]
  },
  {
   "cell_type": "code",
   "execution_count": 35,
   "metadata": {},
   "outputs": [
    {
     "name": "stdout",
     "output_type": "stream",
     "text": [
      "Hi Tharinda, you are 22 years old.\n",
      "Hi Tharinda, you are 22 years old.\n",
      "Hi Tharinda, you are 22 years old.\n",
      "Hi Tharinda, you are 22 years old.\n",
      "Hi Tharinda, you are 22 years old.\n",
      "Hi Tharinda, you are 22 years old.\n",
      "Hi 22, you are Tharinda years old.\n"
     ]
    }
   ],
   "source": [
    "name = 'Tharinda'\n",
    "age = 22\n",
    "\n",
    "print('Hi ' + name + ', you are ' + str(age) + ' years old.')\n",
    "\n",
    "# formatted strings\n",
    "\n",
    "print(f'Hi {name}, you are {age} years old.')\n",
    "print('Hi {name}, you are {age} years old.'.format(name='Tharinda', age=22))\n",
    "print('Hi {}, you are {} years old.'.format('Tharinda', 22))\n",
    "print('Hi {}, you are {} years old.'.format(name, age))\n",
    "print('Hi {0}, you are {1} years old.'.format(name, age))\n",
    "print('Hi {1}, you are {0} years old.'.format(name, age))"
   ]
  },
  {
   "cell_type": "code",
   "execution_count": 36,
   "metadata": {},
   "outputs": [
    {
     "name": "stdout",
     "output_type": "stream",
     "text": [
      "m\n"
     ]
    }
   ],
   "source": [
    "selfish = 'me me me'\n",
    "print(selfish[0])"
   ]
  },
  {
   "cell_type": "code",
   "execution_count": 45,
   "metadata": {},
   "outputs": [
    {
     "name": "stdout",
     "output_type": "stream",
     "text": [
      "0123456\n",
      "23456789\n",
      "23456789\n",
      "012345\n",
      "24\n",
      "0123456789\n",
      "0123456789\n",
      "0123456789\n",
      "02468\n",
      "9\n",
      "9876543210\n",
      "97531\n",
      "\n",
      "8642\n",
      "6\n",
      "0123456\n",
      "789\n"
     ]
    }
   ],
   "source": [
    "number = '0123456789'\n",
    "\n",
    "# [start:stop:stepover]\n",
    "# minus index = start from the right side\n",
    "\n",
    "print(number[0:7])\n",
    "print(number[2:100])\n",
    "print(number[2:])\n",
    "print(number[:6])\n",
    "print(number[2:6:2])\n",
    "print(number[::1])\n",
    "print(number[:])\n",
    "print(number[::])\n",
    "print(number[::2])\n",
    "print(number[-1])\n",
    "print(number[::-1])\n",
    "print(number[::-2])\n",
    "print(number[1:8:-2])\n",
    "print(number[8:1:-2])\n",
    "print(number[-4])\n",
    "print(number[:-3])\n",
    "print(number[-3:])"
   ]
  },
  {
   "cell_type": "code",
   "execution_count": 38,
   "metadata": {},
   "outputs": [
    {
     "ename": "TypeError",
     "evalue": "'str' object does not support item assignment",
     "output_type": "error",
     "traceback": [
      "\u001b[1;31m---------------------------------------------------------------------------\u001b[0m",
      "\u001b[1;31mTypeError\u001b[0m                                 Traceback (most recent call last)",
      "\u001b[1;32m<ipython-input-38-dbe0f643f9af>\u001b[0m in \u001b[0;36m<module>\u001b[1;34m\u001b[0m\n\u001b[0;32m      1\u001b[0m \u001b[1;31m# python strings are immutable (can not be changed)\u001b[0m\u001b[1;33m\u001b[0m\u001b[1;33m\u001b[0m\u001b[1;33m\u001b[0m\u001b[0m\n\u001b[0;32m      2\u001b[0m \u001b[0mexample_str\u001b[0m \u001b[1;33m=\u001b[0m \u001b[1;34m'abcdefg'\u001b[0m\u001b[1;33m\u001b[0m\u001b[1;33m\u001b[0m\u001b[0m\n\u001b[1;32m----> 3\u001b[1;33m \u001b[0mexample_str\u001b[0m\u001b[1;33m[\u001b[0m\u001b[1;36m0\u001b[0m\u001b[1;33m]\u001b[0m \u001b[1;33m=\u001b[0m \u001b[1;34m'x'\u001b[0m\u001b[1;33m\u001b[0m\u001b[1;33m\u001b[0m\u001b[0m\n\u001b[0m",
      "\u001b[1;31mTypeError\u001b[0m: 'str' object does not support item assignment"
     ]
    }
   ],
   "source": [
    "# python strings are immutable (can not be changed)\n",
    "example_str = 'abcdefg'\n",
    "example_str[0] = 'x'"
   ]
  },
  {
   "cell_type": "code",
   "execution_count": 39,
   "metadata": {},
   "outputs": [
    {
     "name": "stdout",
     "output_type": "stream",
     "text": [
      "x\n"
     ]
    }
   ],
   "source": [
    "# can completely reassign the value to the str variable\n",
    "example_str = 'x'\n",
    "print(example_str)"
   ]
  },
  {
   "cell_type": "code",
   "execution_count": 40,
   "metadata": {},
   "outputs": [
    {
     "name": "stdout",
     "output_type": "stream",
     "text": [
      "xabcdefg\n"
     ]
    }
   ],
   "source": [
    "example_str = 'abcdefg'\n",
    "example_str = 'x' + example_str\n",
    "print(example_str)"
   ]
  },
  {
   "cell_type": "code",
   "execution_count": 58,
   "metadata": {},
   "outputs": [
    {
     "name": "stdout",
     "output_type": "stream",
     "text": [
      "a\n",
      "A\n"
     ]
    }
   ],
   "source": [
    "print(chr(97))\n",
    "print(chr(65))"
   ]
  },
  {
   "cell_type": "code",
   "execution_count": 47,
   "metadata": {},
   "outputs": [
    {
     "name": "stdout",
     "output_type": "stream",
     "text": [
      "4\n"
     ]
    }
   ],
   "source": [
    "x = 2\n",
    "print(eval('x + 2'))"
   ]
  },
  {
   "cell_type": "code",
   "execution_count": 50,
   "metadata": {},
   "outputs": [
    {
     "name": "stdout",
     "output_type": "stream",
     "text": [
      "2.0\n"
     ]
    }
   ],
   "source": [
    "print(float(2))"
   ]
  },
  {
   "cell_type": "code",
   "execution_count": 51,
   "metadata": {},
   "outputs": [
    {
     "name": "stdout",
     "output_type": "stream",
     "text": [
      "\n",
      "Welcome to Python 3.7's help utility!\n",
      "\n",
      "If this is your first time using Python, you should definitely check out\n",
      "the tutorial on the Internet at https://docs.python.org/3.7/tutorial/.\n",
      "\n",
      "Enter the name of any module, keyword, or topic to get help on writing\n",
      "Python programs and using Python modules.  To quit this help utility and\n",
      "return to the interpreter, just type \"quit\".\n",
      "\n",
      "To get a list of available modules, keywords, symbols, or topics, type\n",
      "\"modules\", \"keywords\", \"symbols\", or \"topics\".  Each module also comes\n",
      "with a one-line summary of what it does; to list the modules whose name\n",
      "or summary contain a given string such as \"spam\", type \"modules spam\".\n",
      "\n",
      "help> modules\n",
      "\n",
      "Please wait a moment while I gather a list of all available modules...\n",
      "\n"
     ]
    },
    {
     "name": "stderr",
     "output_type": "stream",
     "text": [
      "C:\\Users\\ASUS\\Anaconda3\\lib\\site-packages\\IPython\\kernel\\__init__.py:13: ShimWarning: The `IPython.kernel` package has been deprecated since IPython 4.0.You should import from ipykernel or jupyter_client instead.\n",
      "  \"You should import from ipykernel or jupyter_client instead.\", ShimWarning)\n",
      "Expected Tk Togl installation in C:\\Users\\ASUS\\Anaconda3\\lib\\site-packages\\OpenGL\\Tk\\togl-win32-64\n",
      "Failure loading Togl package: can't find package Togl, on debian systems this is provided by `libtogl2`\n",
      "WARNING: AstropyDeprecationWarning: The private astropy._erfa module has been made into its own package, pyerfa, which is a dependency of astropy and can be imported directly using \"import erfa\" [astropy._erfa]\n",
      "C:\\Users\\ASUS\\Anaconda3\\lib\\site-packages\\glue\\external\\echo\\__init__.py:3: UserWarning: glue.external.echo is deprecated, import from echo directly instead\n",
      "  warnings.warn('glue.external.echo is deprecated, import from echo directly instead')\n",
      "C:\\Users\\ASUS\\Anaconda3\\lib\\pkgutil.py:92: MatplotlibDeprecationWarning: \n",
      "The matplotlib.compat module was deprecated in Matplotlib 3.3 and will be removed two minor releases later.\n",
      "  __import__(info.name)\n",
      "C:\\Users\\ASUS\\Anaconda3\\lib\\site-packages\\skimage\\viewer\\utils\\__init__.py:1: UserWarning: Recommended matplotlib backend is `Agg` for full skimage.viewer functionality.\n",
      "  from .core import *\n",
      "C:\\Users\\ASUS\\Anaconda3\\lib\\pkgutil.py:107: VisibleDeprecationWarning: zmq.eventloop.minitornado is deprecated in pyzmq 14.0 and will be removed.\n",
      "    Install tornado itself to use zmq with the tornado IOLoop.\n",
      "    \n",
      "  yield from walk_packages(path, info.name+'.', onerror)\n"
     ]
    },
    {
     "name": "stdout",
     "output_type": "stream",
     "text": [
      "AnyQt               brain_pkg_resources keyword             sklearn\n",
      "IPython             brain_pytest        kiwisolver          smtpd\n",
      "OpenGL              brain_qt            lazy_object_proxy   smtplib\n",
      "OpenSSL             brain_random        lib2to3             sndhdr\n",
      "Orange              brain_re            libarchive          sniffio\n",
      "PIL                 brain_responses     libfuturize         snowballstemmer\n",
      "PyQt5               brain_scipy_signal  libpasteurize       socket\n",
      "__future__          brain_six           linecache           socketserver\n",
      "_abc                brain_ssl           locale              socks\n",
      "_ast                brain_subprocess    locket              sockshandler\n",
      "_asyncio            brain_threading     lockfile            sortedcontainers\n",
      "_bisect             brain_typing        logging             soupsieve\n",
      "_black_version      brain_uuid          lzma                sphinx\n",
      "_blake2             brotli              macpath             spyder\n",
      "_bootlocale         bs4                 mailbox             spyder_kernels\n",
      "_bz2                builtins            mailcap             sqlite3\n",
      "_cffi_backend       bz2                 markupsafe          sre_compile\n",
      "_codecs             cProfile            marshal             sre_constants\n",
      "_codecs_cn          cachecontrol        math                sre_parse\n",
      "_codecs_hk          cached_property     matplotlib          ssl\n",
      "_codecs_iso2022     calendar            mccabe              sspi\n",
      "_codecs_jp          certifi             menuinst            sspicon\n",
      "_codecs_kr          cffi                mimetypes           stat\n",
      "_codecs_tw          cgi                 mistune             statistics\n",
      "_collections        cgitb               mmap                storemagic\n",
      "_collections_abc    chardet             mmapfile            string\n",
      "_compat_pickle      chunk               mmsystem            stringprep\n",
      "_compression        click               modulefinder        struct\n",
      "_contextvars        cloudpickle         mpl_scatter_density subprocess\n",
      "_csv                clyent              msgpack             sunau\n",
      "_ctypes             cmath               msilib              symbol\n",
      "_ctypes_test        cmd                 msvcrt              sympyprinting\n",
      "_datetime           code                multiprocessing     symtable\n",
      "_decimal            codecs              mypy_extensions     sys\n",
      "_distutils_findvs   codeop              nacl                sysconfig\n",
      "_distutils_hack     collections         navigator_updater   tabnanny\n",
      "_dummy_thread       colorama            nbclassic           tarfile\n",
      "_elementtree        colorsys            nbclient            tblib\n",
      "_functools          commctrl            nbconvert           telnetlib\n",
      "_hashlib            commonmark          nbformat            tempfile\n",
      "_heapq              community           nest_asyncio        terminado\n",
      "_imp                compileall          netbios             test\n",
      "_io                 concurrent          netrc               test_data\n",
      "_json               conda               networkx            test_pycosat\n",
      "_locale             conda_build         nntplib             testpath\n",
      "_lsprof             conda_env           notebook            tests\n",
      "_lzma               conda_package_handling nt                  textwrap\n",
      "_markupbase         conda_verify        ntpath              this\n",
      "_md5                configparser        ntsecuritycon       threading\n",
      "_msi                contextlib          nturl2path          threadpoolctl\n",
      "_multibytecodec     contextvars         numbers             three_merge\n",
      "_multiprocessing    copy                numpy               tifffile\n",
      "_nsis               copyreg             numpydoc            time\n",
      "_opcode             crypt               odbc                timeit\n",
      "_operator           cryptography        olefile             timer\n",
      "_osx_support        csv                 opcode              tkinter\n",
      "_overlapped         ctypes              openTSNE            tlz\n",
      "_pickle             curses              openpyxl            token\n",
      "_py_abc             cwp                 operator            tokenize\n",
      "_pydecimal          cycler              optparse            toml\n",
      "_pyio               cythonmagic         orangecanvas        toolz\n",
      "_pyrsistent_version cytoolz             orangewidget        tornado\n",
      "_queue              dask                os                  tqdm\n",
      "_random             dataclasses         packaging           trace\n",
      "_sha1               datetime            pandas              traceback\n",
      "_sha256             dateutil            pandocfilters       tracemalloc\n",
      "_sha3               dbi                 paramiko            traitlets\n",
      "_sha512             dbm                 parser              tty\n",
      "_signal             dde                 parso               turtle\n",
      "_sitebuiltins       decimal             partd               turtledemo\n",
      "_socket             decorator           past                typed_ast\n",
      "_sqlite3            defusedxml          pathlib             types\n",
      "_sre                dictdiffer          pathspec            typing\n",
      "_ssl                diff_match_patch    pdb                 typing_extensions\n",
      "_stat               difflib             perfmon             ujson\n",
      "_string             dill                pexpect             unicodedata\n",
      "_strptime           dis                 pickle              unittest\n",
      "_struct             distributed         pickleshare         urllib\n",
      "_symtable           distutils           pickletools         urllib3\n",
      "_system_path        doctest             pip                 uu\n",
      "_testbuffer         docutils            pipes               uuid\n",
      "_testcapi           dummy_threading     pkg_resources       venv\n",
      "_testconsole        easy_install        pkginfo             vispy\n",
      "_testimportmultiple echo                pkgutil             warnings\n",
      "_testmultiphase     email               platform            watchdog\n",
      "_thread             encodings           plistlib            wave\n",
      "_threading_local    ensurepip           pluggy              wcwidth\n",
      "_tkinter            entrypoints         pooch               weakref\n",
      "_tracemalloc        enum                poplib              webbrowser\n",
      "_warnings           erfa                posixpath           webencodings\n",
      "_weakref            errno               pprint              wheel\n",
      "_weakrefset         et_xmlfile          profile             widgetsnbextension\n",
      "_win32sysloader     fast_histogram      prometheus_client   win2kras\n",
      "_winapi             faulthandler        prompt_toolkit      win32api\n",
      "_winxptheme         filecmp             pstats              win32clipboard\n",
      "_yaml               fileinput           psutil              win32com\n",
      "abc                 filelock            pty                 win32con\n",
      "adodbapi            flake8              ptyprocess          win32console\n",
      "afxres              fnmatch             pvectorc            win32cred\n",
      "aifc                formatter           py_compile          win32crypt\n",
      "alabaster           fractions           pyclbr              win32cryptcon\n",
      "anaconda_navigator  freetype            pycodestyle         win32ctypes\n",
      "antigravity         fsspec              pycosat             win32event\n",
      "anyio               ftplib              pycparser           win32evtlog\n",
      "appdirs             functools           pydoc               win32evtlogutil\n",
      "argh                future              pydoc_data          win32file\n",
      "argon2              gc                  pydocstyle          win32gui\n",
      "argparse            genericpath         pyexpat             win32gui_struct\n",
      "array               getopt              pyflakes            win32help\n",
      "ast                 getpass             pygments            win32inet\n",
      "astroid             gettext             pylab               win32inetcon\n",
      "astropy             glob                pylint              win32job\n",
      "async_generator     glob2               pyls                win32lz\n",
      "asynchat            glue                pyls_black          win32net\n",
      "asyncio             glue_vispy_viewers  pyls_jsonrpc        win32netcon\n",
      "asyncore            gzip                pyls_spyder         win32pdh\n",
      "atexit              h11                 pyparsing           win32pdhquery\n",
      "atomicwrites        h2                  pyqtgraph           win32pdhutil\n",
      "attr                h5py                pyreadline          win32pipe\n",
      "audioop             hashlib             pyrsistent          win32print\n",
      "autopep8            heapdict            pythoncom           win32process\n",
      "autoreload          heapq               pytz                win32profile\n",
      "babel               helpdev             pywin               win32ras\n",
      "backcall            hmac                pywin32_bootstrap   win32rcparser\n",
      "backports           hpack               pywin32_testutil    win32security\n",
      "base64              html                pywintypes          win32service\n",
      "baycomp             http                pywt                win32serviceutil\n",
      "bcrypt              httpcore            qdarkstyle          win32timezone\n",
      "bdb                 httpx               qtawesome           win32trace\n",
      "benchmark           hyperframe          qtconsole           win32traceutil\n",
      "binascii            idlelib             qtpy                win32transaction\n",
      "binhex              idna                queue               win32ts\n",
      "binstar_client      imagecodecs         quopri              win32ui\n",
      "bisect              imageio             random              win32uiole\n",
      "black               imagesize           rasutil             win32verstamp\n",
      "blackd              imaplib             re                  win32wnet\n",
      "bleach              imghdr              readline            win_inet_pton\n",
      "blib2to3            imp                 regcheck            wincertstore\n",
      "bokeh               importlib           regex               winerror\n",
      "bottleneck          importlib_metadata  regutil             winioctlcon\n",
      "brain_argparse      inspect             reprlib             winnt\n",
      "brain_attrs         intervaltree        requests            winperf\n",
      "brain_boto3         io                  rfc3986             winpty\n",
      "brain_builtin_inference ipaddress           rlcompleter         winreg\n",
      "brain_collections   ipykernel           rmagic              winsound\n",
      "brain_crypt         ipykernel_launcher  rope                winxpgui\n",
      "brain_curses        ipython_genutils    rtree               winxptheme\n",
      "brain_dataclasses   ipywidgets          ruamel_yaml         wrapt\n",
      "brain_dateutil      isapi               runpy               wsgiref\n",
      "brain_fstrings      isort               sched               xdrlib\n",
      "brain_functools     itertools           scipy               xlrd\n",
      "brain_gi            jdcal               scripts             xlsxwriter\n",
      "brain_hashlib       jedi                secrets             xml\n",
      "brain_http          jinja2              select              xmlrpc\n",
      "brain_io            joblib              selectors           xmltodict\n",
      "brain_mechanize     json                send2trash          xxsubtype\n",
      "brain_multiprocessing json5               serverfiles         yaml\n",
      "brain_namedtuple_enum jsonschema          servicemanager      yapf\n",
      "brain_nose          jupyter             setuptools          yapftests\n",
      "brain_numpy_core_fromnumeric jupyter_client      shelve              zict\n",
      "brain_numpy_core_function_base jupyter_core        shlex               zipapp\n",
      "brain_numpy_core_multiarray jupyter_server      shutil              zipfile\n",
      "brain_numpy_core_numeric jupyterlab          signal              zipimport\n",
      "brain_numpy_core_numerictypes jupyterlab_pygments sipconfig           zipp\n",
      "brain_numpy_core_umath jupyterlab_server   sipdistutils        zlib\n",
      "brain_numpy_ndarray jupyterlab_widgets  site                zmq\n",
      "brain_numpy_random_mtrand keyring             six                 \n",
      "brain_numpy_utils   keyrings            skimage             \n",
      "\n",
      "Enter any module name to get more help.  Or, type \"modules spam\" to search\n",
      "for modules whose name or summary contain the string \"spam\".\n",
      "\n",
      "help> html\n",
      "Help on package html:\n",
      "\n",
      "NAME\n",
      "    html - General functions for HTML manipulation.\n",
      "\n",
      "PACKAGE CONTENTS\n",
      "    entities\n",
      "    parser\n",
      "\n",
      "FUNCTIONS\n",
      "    escape(s, quote=True)\n",
      "        Replace special characters \"&\", \"<\" and \">\" to HTML-safe sequences.\n",
      "        If the optional flag quote is true (the default), the quotation mark\n",
      "        characters, both double quote (\") and single quote (') characters are also\n",
      "        translated.\n",
      "    \n",
      "    unescape(s)\n",
      "        Convert all named and numeric character references (e.g. &gt;, &#62;,\n",
      "        &x3e;) in the string s to the corresponding unicode characters.\n",
      "        This function uses the rules defined by the HTML 5 standard\n",
      "        for both valid and invalid character references, and the list of\n",
      "        HTML 5 named character references defined in html.entities.html5.\n",
      "\n",
      "DATA\n",
      "    __all__ = ['escape', 'unescape']\n",
      "\n",
      "FILE\n",
      "    c:\\users\\asus\\anaconda3\\lib\\html\\__init__.py\n",
      "\n",
      "\n",
      "help> exit()\n",
      "No Python documentation found for 'exit()'.\n",
      "Use help() to get the interactive help utility.\n",
      "Use help(str) for help on the str class.\n",
      "\n",
      "\n",
      "You are now leaving help and returning to the Python interpreter.\n",
      "If you want to ask for help on a particular object directly from the\n",
      "interpreter, you can type \"help(object)\".  Executing \"help('string')\"\n",
      "has the same effect as typing a particular string at the help> prompt.\n"
     ]
    }
   ],
   "source": [
    "help()"
   ]
  },
  {
   "cell_type": "code",
   "execution_count": 53,
   "metadata": {},
   "outputs": [
    {
     "name": "stdout",
     "output_type": "stream",
     "text": [
      "0xa\n",
      "0xb\n",
      "0xc\n",
      "0xd\n",
      "0xe\n",
      "0xf\n",
      "0x10\n",
      "0xff\n"
     ]
    }
   ],
   "source": [
    "print(hex(10))\n",
    "print(hex(11))\n",
    "print(hex(12))\n",
    "print(hex(13))\n",
    "print(hex(14))\n",
    "print(hex(15))\n",
    "print(hex(16))\n",
    "print(hex(255))"
   ]
  },
  {
   "cell_type": "code",
   "execution_count": 55,
   "metadata": {},
   "outputs": [
    {
     "name": "stdout",
     "output_type": "stream",
     "text": [
      "6\n",
      "6\n"
     ]
    }
   ],
   "source": [
    "print(int(input()))"
   ]
  },
  {
   "cell_type": "code",
   "execution_count": 56,
   "metadata": {},
   "outputs": [
    {
     "name": "stdout",
     "output_type": "stream",
     "text": [
      "10\n",
      "5\n"
     ]
    }
   ],
   "source": [
    "print(max(5, 10))\n",
    "print(min(5, 10))"
   ]
  },
  {
   "cell_type": "code",
   "execution_count": 57,
   "metadata": {},
   "outputs": [
    {
     "name": "stdout",
     "output_type": "stream",
     "text": [
      "0o7\n",
      "0o10\n",
      "0o11\n"
     ]
    }
   ],
   "source": [
    "print(oct(7))\n",
    "print(oct(8))\n",
    "print(oct(9))"
   ]
  },
  {
   "cell_type": "code",
   "execution_count": 59,
   "metadata": {},
   "outputs": [
    {
     "name": "stdout",
     "output_type": "stream",
     "text": [
      "97\n",
      "65\n"
     ]
    }
   ],
   "source": [
    "print(ord('a'))\n",
    "print(ord('A'))"
   ]
  },
  {
   "cell_type": "code",
   "execution_count": 64,
   "metadata": {},
   "outputs": [
    {
     "name": "stdout",
     "output_type": "stream",
     "text": [
      "8\n",
      "0\n",
      "2\n"
     ]
    }
   ],
   "source": [
    "print(pow(2, 3))\n",
    "print(pow(2, 3, 4)) #third argument is mod\n",
    "print(pow(2, 3, 3))"
   ]
  },
  {
   "cell_type": "code",
   "execution_count": 70,
   "metadata": {},
   "outputs": [
    {
     "name": "stdout",
     "output_type": "stream",
     "text": [
      "3\n",
      "2.6\n",
      "3.0\n"
     ]
    }
   ],
   "source": [
    "print(round(2.65))\n",
    "print(round(2.65, 1))\n",
    "print(round(2.65, 0))"
   ]
  },
  {
   "cell_type": "code",
   "execution_count": 76,
   "metadata": {},
   "outputs": [
    {
     "name": "stdout",
     "output_type": "stream",
     "text": [
      "10\n",
      "16\n",
      "10 6\n"
     ]
    }
   ],
   "source": [
    "print(sum([2, 1, 3, 4]))\n",
    "print(sum([2, 1, 3, 4], 6))\n",
    "print(sum([2, 1, 3, 4]), 6)"
   ]
  },
  {
   "cell_type": "code",
   "execution_count": 79,
   "metadata": {},
   "outputs": [
    {
     "name": "stdout",
     "output_type": "stream",
     "text": [
      "6\n",
      "['p', 'y', 't', 'h', 'o', 'n']\n",
      "['n', 'o', 'h', 't', 'y', 'p']\n"
     ]
    }
   ],
   "source": [
    "print(len('python'))\n",
    "print(list('python'))\n",
    "print(list(reversed('python')))"
   ]
  },
  {
   "cell_type": "code",
   "execution_count": 86,
   "metadata": {},
   "outputs": [
    {
     "name": "stdout",
     "output_type": "stream",
     "text": [
      "['3']\n",
      "['1', '2', '3', '4', '5']\n",
      "['0', '2', '4', '6']\n",
      "['0', '2', '4', '6']\n"
     ]
    }
   ],
   "source": [
    "# slice(start, end, step)\n",
    "\n",
    "a = list('0123456789')\n",
    "\n",
    "b = slice(3, 4)\n",
    "print(a[b])\n",
    "\n",
    "c = slice(1, 6)\n",
    "print(a[c])\n",
    "\n",
    "d = slice(0, 8, 2)\n",
    "print(a[d])\n",
    "\n",
    "print(a[slice(0, 8, 2)])"
   ]
  },
  {
   "cell_type": "code",
   "execution_count": 88,
   "metadata": {},
   "outputs": [
    {
     "name": "stdout",
     "output_type": "stream",
     "text": [
      "['h', 'n', 'o', 'p', 't', 'y']\n",
      "['h', 'n', 'o', 'p', 't', 'y']\n",
      "['y', 't', 'p', 'o', 'n', 'h']\n",
      "[0, 1, 4, 5, 5, 6, 7, 9]\n",
      "[0, 1, 4, 5, 5, 6, 7, 9]\n",
      "[9, 7, 6, 5, 5, 4, 1, 0]\n"
     ]
    }
   ],
   "source": [
    "a = list('python')\n",
    "print(sorted(a))\n",
    "print(sorted(a, reverse = False))\n",
    "print(sorted(a, reverse = True))\n",
    "\n",
    "a = (4, 9, 6, 0, 7, 5, 5, 1)\n",
    "print(sorted(a))\n",
    "print(sorted(a, reverse = False))\n",
    "print(sorted(a, reverse = True))"
   ]
  },
  {
   "cell_type": "code",
   "execution_count": 89,
   "metadata": {},
   "outputs": [],
   "source": [
    "# built-in functions\n",
    "\n",
    "# abs()\n",
    "# bin()\n",
    "# bool()\n",
    "# chr()\n",
    "# complex()\n",
    "# dict()\n",
    "# eval()\n",
    "# float()\n",
    "# help()\n",
    "# hex()\n",
    "# input()\n",
    "# int()\n",
    "# len()\n",
    "# list()\n",
    "# max()\n",
    "# min()\n",
    "# oct()\n",
    "# ord()\n",
    "# pow()\n",
    "# print()\n",
    "# range()\n",
    "# reversed()\n",
    "# round()\n",
    "# set()\n",
    "# slice()\n",
    "# sorted()\n",
    "# str()\n",
    "# sum()\n",
    "# tuple()\n",
    "# type()"
   ]
  },
  {
   "cell_type": "code",
   "execution_count": 90,
   "metadata": {},
   "outputs": [],
   "source": [
    "# keywords\n",
    "\n",
    "# and\n",
    "# as\n",
    "# assert\n",
    "# break\n",
    "# class\n",
    "# continue\n",
    "# def\n",
    "# del\n",
    "# elif\n",
    "# else\n",
    "# except\n",
    "# False\n",
    "# finally\n",
    "# for\n",
    "# from\n",
    "# global\n",
    "# if\n",
    "# import\n",
    "# in\n",
    "# is\n",
    "# lambda\n",
    "# None\n",
    "# nonlocal\n",
    "# not\n",
    "# or\n",
    "# pass\n",
    "# raise\n",
    "# return\n",
    "# True\n",
    "# try\n",
    "# while\n",
    "# with\n",
    "# yield"
   ]
  },
  {
   "cell_type": "code",
   "execution_count": 1,
   "metadata": {},
   "outputs": [
    {
     "name": "stdout",
     "output_type": "stream",
     "text": [
      "This will run.\n"
     ]
    }
   ],
   "source": [
    "# This is a comment\n",
    "print('This will run.')  # This won't run"
   ]
  },
  {
   "cell_type": "code",
   "execution_count": 2,
   "metadata": {},
   "outputs": [
    {
     "ename": "SyntaxError",
     "evalue": "invalid syntax (<ipython-input-2-4e2301fb637f>, line 2)",
     "output_type": "error",
     "traceback": [
      "\u001b[1;36m  File \u001b[1;32m\"<ipython-input-2-4e2301fb637f>\"\u001b[1;36m, line \u001b[1;32m2\u001b[0m\n\u001b[1;33m    just do this\u001b[0m\n\u001b[1;37m          ^\u001b[0m\n\u001b[1;31mSyntaxError\u001b[0m\u001b[1;31m:\u001b[0m invalid syntax\n"
     ]
    }
   ],
   "source": [
    "# So you can't\n",
    "just do this\n",
    "in python"
   ]
  },
  {
   "cell_type": "code",
   "execution_count": 5,
   "metadata": {},
   "outputs": [],
   "source": [
    "def multiline_example():\n",
    "    # This is a pretty good example\n",
    "    # of how you can spread comments\n",
    "    # over multiple lines in Python\n",
    "    pass"
   ]
  },
  {
   "cell_type": "code",
   "execution_count": 8,
   "metadata": {},
   "outputs": [
    {
     "data": {
      "text/plain": [
       "'\\nIf I really hate pressing `enter` and\\ntyping all those hash marks, I could\\njust do this instead.\\n'"
      ]
     },
     "execution_count": 8,
     "metadata": {},
     "output_type": "execute_result"
    }
   ],
   "source": [
    "\"\"\"\n",
    "If I really hate pressing `enter` and\n",
    "typing all those hash marks, I could\n",
    "just do this instead.\n",
    "\"\"\""
   ]
  },
  {
   "cell_type": "code",
   "execution_count": 42,
   "metadata": {},
   "outputs": [
    {
     "name": "stdout",
     "output_type": "stream",
     "text": [
      "TO BE, OR NOT TO BE.\n",
      "To be, or not to be.\n",
      "to be, or not to be.\n",
      "to be, or not to be.\n",
      "To Be, Or Not To Be.\n",
      "TO BE, OR nOT TO BE.\n",
      "3\n",
      "17\n",
      "to me, or Not to me.\n",
      "False\n",
      "False\n",
      "False\n",
      "False\n",
      "False\n",
      "False\n",
      "False\n",
      "True\n",
      "False\n",
      "False\n",
      "False\n",
      "True\n",
      "False\n",
      "2\n",
      "b'to be, or Not to be.'\n",
      "to be, or Not to be.\n",
      "               to be, or Not to be.               \n",
      "to be, or Not to be.                              \n",
      "                              to be, or Not to be.\n",
      "to be, or Not to be.\n",
      "to be, or Not to be.\n",
      "3\n",
      "17\n",
      "('', 'to', ' be, or Not to be.')\n",
      "('to be, or Not ', 'to', ' be.')\n",
      "['to', 'be,', 'or', 'Not', 'to', 'be.']\n",
      "['to', 'be,', 'or', 'Not', 'to', 'be.']\n",
      "['to be', ' or Not to be.']\n",
      "['to', 'be,', 'or', 'Not', 'to', 'be.']\n",
      "['to', 'be,', 'or', 'Not', 'to', 'be.']\n",
      "['to be', ' or Not to be.']\n",
      "['to be, or Not to be.']\n",
      "t#o# #b#e#,# #o#r# #N#o#t# #t#o# #b#e#.\n",
      "to#be,#or#Not#to#be.\n",
      "#\n",
      "000to be, or Not to be.\n"
     ]
    }
   ],
   "source": [
    "# string methods\n",
    "\n",
    "quote = 'to be, or Not to be.'\n",
    "\n",
    "print(quote.upper())\n",
    "print(quote.capitalize())\n",
    "print(quote.lower())\n",
    "print(quote.casefold())\n",
    "print(quote.title())\n",
    "print(quote.swapcase())\n",
    "print(quote.find('be'))\n",
    "print(quote.rfind('be'))\n",
    "print(quote.replace('be', 'me'))\n",
    "print(quote.isalnum())\n",
    "print(quote.isalpha())\n",
    "print(quote.isdecimal())\n",
    "print(quote.isdigit())\n",
    "print(quote.isidentifier())\n",
    "print(quote.islower())\n",
    "print(quote.isnumeric())\n",
    "print(quote.isprintable())\n",
    "print(quote.isspace())\n",
    "print(quote.istitle())\n",
    "print(quote.isupper())\n",
    "print(quote.startswith('t'))\n",
    "print(quote.endswith('t'))\n",
    "print(quote.count('be'))\n",
    "print(quote.encode())\n",
    "print(quote.strip())\n",
    "print(quote.center(50))\n",
    "print(quote.ljust(50))\n",
    "print(quote.rjust(50))\n",
    "print(quote.lstrip())\n",
    "print(quote.rstrip())\n",
    "print(quote.index('b'))\n",
    "print(quote.rindex('b'))\n",
    "print(quote.partition('to'))\n",
    "print(quote.rpartition('to'))\n",
    "print(quote.split())\n",
    "print(quote.split(' '))\n",
    "print(quote.split(','))\n",
    "print(quote.rsplit())\n",
    "print(quote.rsplit(' '))\n",
    "print(quote.rsplit(','))\n",
    "print(quote.splitlines())\n",
    "print('#'.join(quote))\n",
    "print('#'.join(quote.split()))\n",
    "print(quote.join('#'))\n",
    "print(quote.zfill(23))"
   ]
  },
  {
   "cell_type": "code",
   "execution_count": 86,
   "metadata": {},
   "outputs": [],
   "source": [
    "# string methods\n",
    "\n",
    "# format()\n",
    "# upper()\n",
    "# capitalize()\n",
    "# lower()\n",
    "# casefold()\n",
    "# title()\n",
    "# swapcase()\n",
    "# find()\n",
    "# rfind()\n",
    "# replace()\n",
    "# isalnum()\n",
    "# isalpha()\n",
    "# isdecimal()\n",
    "# isdigit()\n",
    "# isidentifier()\n",
    "# islower()\n",
    "# isnumeric()\n",
    "# isprintable()\n",
    "# isspace()\n",
    "# istitle()\n",
    "# isupper()\n",
    "# startswith()\n",
    "# endswith()\n",
    "# count()\n",
    "# encode()\n",
    "# strip()\n",
    "# center()\n",
    "# ljust()\n",
    "# rjust()\n",
    "# lstrip()\n",
    "# rstrip()\n",
    "# index()\n",
    "# rindex()\n",
    "# partition()\n",
    "# rpartition()\n",
    "# split()\n",
    "# rsplit()\n",
    "# splitlines()\n",
    "# join()\n",
    "# zfill()"
   ]
  },
  {
   "cell_type": "code",
   "execution_count": 2,
   "metadata": {},
   "outputs": [
    {
     "name": "stdout",
     "output_type": "stream",
     "text": [
      "False\n",
      "True\n",
      "True\n",
      "False\n",
      "True\n",
      "True\n",
      "1\n",
      "True\n"
     ]
    }
   ],
   "source": [
    "# booleans\n",
    "\n",
    "is_cool = False\n",
    "print(is_cool)\n",
    "\n",
    "is_cool = True\n",
    "print(is_cool)\n",
    "\n",
    "print(True)\n",
    "print(False)\n",
    "\n",
    "print(bool('True'))\n",
    "print(bool(1))\n",
    "\n",
    "print(int(True))\n",
    "print(str(True))"
   ]
  },
  {
   "cell_type": "code",
   "execution_count": 14,
   "metadata": {},
   "outputs": [
    {
     "name": "stdout",
     "output_type": "stream",
     "text": [
      "It's complicated\n"
     ]
    }
   ],
   "source": [
    "name = 'Tharinda'\n",
    "age = 22\n",
    "relationship_status = 'Single'\n",
    "\n",
    "relationship_status = 'It\\'s complicated'\n",
    "\n",
    "print(relationship_status)"
   ]
  },
  {
   "cell_type": "code",
   "execution_count": 11,
   "metadata": {},
   "outputs": [
    {
     "name": "stdout",
     "output_type": "stream",
     "text": [
      "What year were you born? 1998\n",
      "You are 23 years old.\n"
     ]
    }
   ],
   "source": [
    "birth_year = int(input('What year were you born? '))\n",
    "age = 2021 - birth_year\n",
    "print(f'You are {age} years old.')"
   ]
  },
  {
   "cell_type": "code",
   "execution_count": 12,
   "metadata": {},
   "outputs": [
    {
     "name": "stdout",
     "output_type": "stream",
     "text": [
      "What year were you born? 1998\n",
      "You are 23.0 years old.\n"
     ]
    }
   ],
   "source": [
    "birth_year = float(input('What year were you born? '))\n",
    "age = 2021 - birth_year\n",
    "print(f'You are {age} years old.')"
   ]
  },
  {
   "cell_type": "code",
   "execution_count": 13,
   "metadata": {},
   "outputs": [
    {
     "name": "stdout",
     "output_type": "stream",
     "text": [
      "What year were you born? 1998\n",
      "You are 2020 years old.\n"
     ]
    }
   ],
   "source": [
    "birth_year = bool(input('What year were you born? '))\n",
    "age = 2021 - birth_year\n",
    "print(f'You are {age} years old.')"
   ]
  },
  {
   "cell_type": "code",
   "execution_count": 17,
   "metadata": {},
   "outputs": [
    {
     "name": "stdout",
     "output_type": "stream",
     "text": [
      "Username: Tharinda\n",
      "Password: abcd\n",
      "Hello Tharinda, your password abcd is 4 letters long.\n"
     ]
    }
   ],
   "source": [
    "username = input('Username: ')\n",
    "password = input('Password: ')\n",
    "\n",
    "print(f'Hello {username}, your password {password} is {len(password)} letters long.')"
   ]
  },
  {
   "cell_type": "code",
   "execution_count": 20,
   "metadata": {},
   "outputs": [
    {
     "name": "stdout",
     "output_type": "stream",
     "text": [
      "Username: Tharinda\n",
      "Password: abcd\n",
      "Hello Tharinda, your password **** is 4 letters long.\n"
     ]
    }
   ],
   "source": [
    "username = input('Username: ')\n",
    "password = input('Password: ')\n",
    "\n",
    "print(f'Hello {username}, your password {\"*\" * len(password)} is {len(password)} letters long.')"
   ]
  },
  {
   "cell_type": "code",
   "execution_count": 21,
   "metadata": {},
   "outputs": [
    {
     "name": "stdout",
     "output_type": "stream",
     "text": [
      "**********\n"
     ]
    }
   ],
   "source": [
    "print('*' * 10)"
   ]
  },
  {
   "cell_type": "code",
   "execution_count": 4,
   "metadata": {},
   "outputs": [
    {
     "name": "stdout",
     "output_type": "stream",
     "text": [
      "[1, 3, 7, 2, 3, 7]\n",
      "2\n"
     ]
    }
   ],
   "source": [
    "# list\n",
    "\n",
    "# Python does not have built-in support for Arrays.\n",
    "# But Python Lists can be used instead.\n",
    "# To work with arrays in Python, import a library, like NumPy.\n",
    "# List is a data structure with ordered sequence of objects of any type.\n",
    "\n",
    "numbers_list = [1, 3, 7, 2, 3, 7]\n",
    "letters_list = ['a', 'c', 'b', 'h']\n",
    "mixed_list = [1, 3, 'a', True]\n",
    "\n",
    "print(numbers_list)\n",
    "print(numbers_list[3])"
   ]
  },
  {
   "cell_type": "code",
   "execution_count": 9,
   "metadata": {},
   "outputs": [
    {
     "name": "stdout",
     "output_type": "stream",
     "text": [
      "[5, 3, 7]\n",
      "[5, 7, 3]\n",
      "['a', 'c', 'b']\n",
      "['a', 'c', 'b', 'h']\n"
     ]
    }
   ],
   "source": [
    "# list slicing\n",
    "# similar to strings\n",
    "# when slicing lists, a new list is created seperately\n",
    "\n",
    "print(numbers_list[0:3])\n",
    "print(numbers_list[0::2])\n",
    "\n",
    "new_list = letters_list[0:3]\n",
    "print(new_list)\n",
    "print(letters_list)"
   ]
  },
  {
   "cell_type": "code",
   "execution_count": 16,
   "metadata": {},
   "outputs": [
    {
     "name": "stdout",
     "output_type": "stream",
     "text": [
      "[1, 3, 'a', True]\n",
      "[1, 3, 'a', True]\n",
      "[1, 3, 'a', True]\n",
      "['abc', 3, 'a', True]\n"
     ]
    }
   ],
   "source": [
    "mixed_list = [1, 3, 'a', True]\n",
    "\n",
    "# copy list\n",
    "list_1 = mixed_list[:]\n",
    "print(mixed_list)\n",
    "print(list_1)\n",
    "list_1[0] = 'abc'\n",
    "print(mixed_list)\n",
    "print(list_1)"
   ]
  },
  {
   "cell_type": "code",
   "execution_count": 14,
   "metadata": {},
   "outputs": [
    {
     "name": "stdout",
     "output_type": "stream",
     "text": [
      "[1, 3, 'a', True]\n",
      "[1, 3, 'a', True]\n",
      "['xyz', 3, 'a', True]\n",
      "['xyz', 3, 'a', True]\n"
     ]
    }
   ],
   "source": [
    "mixed_list = [1, 3, 'a', True]\n",
    "\n",
    "# pointing to the existing list in the memory\n",
    "list_2 = mixed_list\n",
    "print(mixed_list)\n",
    "print(list_2)\n",
    "list_2[0] = 'xyz'\n",
    "print(mixed_list)\n",
    "print(list_2)"
   ]
  },
  {
   "cell_type": "code",
   "execution_count": 7,
   "metadata": {},
   "outputs": [
    {
     "name": "stdout",
     "output_type": "stream",
     "text": [
      "[5, 3, 7, 2, 3, 7]\n"
     ]
    }
   ],
   "source": [
    "# lists are mutable (can change items in the list)\n",
    "# different from lists\n",
    "\n",
    "numbers_list[0] = 5\n",
    "print(numbers_list)"
   ]
  },
  {
   "cell_type": "code",
   "execution_count": 15,
   "metadata": {},
   "outputs": [
    {
     "name": "stdout",
     "output_type": "stream",
     "text": [
      "3\n"
     ]
    }
   ],
   "source": [
    "# matrix - arrays inside arrays (multidimentional arrays)\n",
    "\n",
    "matrix = [\n",
    "    [1, 2, 3],\n",
    "    [2, 4, 6],\n",
    "    [7, 8, 9]\n",
    "]\n",
    "\n",
    "another_matrix = [\n",
    "    [1, 0, 1],\n",
    "    [0, 1, 0],\n",
    "    [1, 0, 1]\n",
    "]\n",
    "\n",
    "print(matrix[0][2])"
   ]
  },
  {
   "cell_type": "code",
   "execution_count": 24,
   "metadata": {},
   "outputs": [
    {
     "name": "stdout",
     "output_type": "stream",
     "text": [
      "6\n",
      "[1, 3, 7, 2, 3, 7, 100]\n"
     ]
    }
   ],
   "source": [
    "# built-in functions on lists\n",
    "numbers_list = [1, 3, 7, 2, 3, 7]\n",
    "print(len(numbers_list))\n",
    "\n",
    "# methods\n",
    "numbers_list = [1, 3, 7, 2, 3, 7]\n",
    "numbers_list.append(100)\n",
    "print(numbers_list)"
   ]
  },
  {
   "cell_type": "code",
   "execution_count": 48,
   "metadata": {},
   "outputs": [
    {
     "name": "stdout",
     "output_type": "stream",
     "text": [
      "None\n",
      "[1, 3, 7, 2, 3, 7, 100]\n"
     ]
    }
   ],
   "source": [
    "# differences\n",
    "# does not return a result (returns None)\n",
    "# some methods like pop() returns a result\n",
    "# some methods returns None\n",
    "# only modifies the list\n",
    "# does not make a copy of the list before modifying\n",
    "\n",
    "numbers_list = [1, 3, 7, 2, 3, 7]\n",
    "new_list = numbers_list.append(100)\n",
    "print(new_list)\n",
    "print(numbers_list)"
   ]
  },
  {
   "cell_type": "code",
   "execution_count": 31,
   "metadata": {},
   "outputs": [
    {
     "name": "stdout",
     "output_type": "stream",
     "text": [
      "[1, 3, 7, 2, 3, 7, 100]\n",
      "[1, 3, 7, 2, 3, 7, 100]\n"
     ]
    }
   ],
   "source": [
    "numbers_list = [1, 3, 7, 2, 3, 7]\n",
    "numbers_list.append(100)\n",
    "new_list = numbers_list\n",
    "print(new_list)\n",
    "print(numbers_list)"
   ]
  },
  {
   "cell_type": "code",
   "execution_count": 32,
   "metadata": {},
   "outputs": [
    {
     "name": "stdout",
     "output_type": "stream",
     "text": [
      "None\n",
      "[1, 3, 7, 2, 3, 7, 100]\n"
     ]
    }
   ],
   "source": [
    "numbers_list = [1, 3, 7, 2, 3, 7]\n",
    "print(numbers_list.append(100))\n",
    "print(numbers_list)"
   ]
  },
  {
   "cell_type": "code",
   "execution_count": 33,
   "metadata": {},
   "outputs": [
    {
     "name": "stdout",
     "output_type": "stream",
     "text": [
      "[1, 3, 7, 2, 100, 3, 7]\n"
     ]
    }
   ],
   "source": [
    "numbers_list = [1, 3, 7, 2, 3, 7]\n",
    "numbers_list.insert(4, 100)\n",
    "print(numbers_list)"
   ]
  },
  {
   "cell_type": "code",
   "execution_count": 35,
   "metadata": {},
   "outputs": [
    {
     "name": "stdout",
     "output_type": "stream",
     "text": [
      "[1, 3, 7, 2, 3, 7, 100]\n",
      "[1, 3, 7, 2, 3, 7, 100, 101, 102]\n"
     ]
    }
   ],
   "source": [
    "numbers_list = [1, 3, 7, 2, 3, 7]\n",
    "numbers_list.extend([100])\n",
    "print(numbers_list)\n",
    "\n",
    "numbers_list = [1, 3, 7, 2, 3, 7]\n",
    "numbers_list.extend([100, 101, 102])\n",
    "print(numbers_list)"
   ]
  },
  {
   "cell_type": "code",
   "execution_count": 51,
   "metadata": {},
   "outputs": [
    {
     "name": "stdout",
     "output_type": "stream",
     "text": [
      "8\n",
      "[1, 3, 8, 7, 7, 2, 3, 7, 0]\n",
      "0\n",
      "[1, 3, 8, 7, 7, 2, 3, 7]\n",
      "3\n",
      "[1, 8, 7, 7, 2, 3, 7]\n",
      "[1, 8, 7, 2, 3, 7]\n",
      "[]\n",
      "[[]]\n"
     ]
    }
   ],
   "source": [
    "numbers_list = [1, 3, 8, 7, 7, 2, 3, 7, 0, 8]\n",
    "\n",
    "print(numbers_list.pop())\n",
    "print(numbers_list)\n",
    "\n",
    "print(numbers_list.pop())\n",
    "print(numbers_list)\n",
    "\n",
    "print(numbers_list.pop(1))\n",
    "print(numbers_list)\n",
    "\n",
    "numbers_list.remove(7)\n",
    "print(numbers_list)\n",
    "\n",
    "numbers_list.clear()\n",
    "print(numbers_list)\n",
    "print([numbers_list])"
   ]
  },
  {
   "cell_type": "code",
   "execution_count": 61,
   "metadata": {},
   "outputs": [
    {
     "name": "stdout",
     "output_type": "stream",
     "text": [
      "3\n"
     ]
    }
   ],
   "source": [
    "numbers_list = [1, 3, 8, 7, 7, 2, 3, 7, 0, 8]\n",
    "print(numbers_list.index(7))"
   ]
  },
  {
   "cell_type": "code",
   "execution_count": 62,
   "metadata": {},
   "outputs": [
    {
     "ename": "SyntaxError",
     "evalue": "unexpected EOF while parsing (<ipython-input-62-b5d3eaa91512>, line 3)",
     "output_type": "error",
     "traceback": [
      "\u001b[1;36m  File \u001b[1;32m\"<ipython-input-62-b5d3eaa91512>\"\u001b[1;36m, line \u001b[1;32m3\u001b[0m\n\u001b[1;33m    print(numbers_list.index(7, 0, 3)\u001b[0m\n\u001b[1;37m                                     ^\u001b[0m\n\u001b[1;31mSyntaxError\u001b[0m\u001b[1;31m:\u001b[0m unexpected EOF while parsing\n"
     ]
    }
   ],
   "source": [
    "# index(value, start, stop)\n",
    "numbers_list = [1, 3, 8, 7, 7, 2, 3, 7, 0, 8]\n",
    "print(numbers_list.index(7, 0, 3)"
   ]
  },
  {
   "cell_type": "code",
   "execution_count": 63,
   "metadata": {},
   "outputs": [
    {
     "name": "stdout",
     "output_type": "stream",
     "text": [
      "7\n"
     ]
    }
   ],
   "source": [
    "numbers_list = [1, 3, 8, 7, 7, 2, 3, 7, 0, 8]\n",
    "print(numbers_list.index(7, 5))"
   ]
  },
  {
   "cell_type": "code",
   "execution_count": 64,
   "metadata": {},
   "outputs": [
    {
     "name": "stdout",
     "output_type": "stream",
     "text": [
      "7\n"
     ]
    }
   ],
   "source": [
    "numbers_list = [1, 3, 8, 7, 7, 2, 3, 7, 0, 8]\n",
    "print(numbers_list.index(7, 5, 10))"
   ]
  },
  {
   "cell_type": "code",
   "execution_count": 65,
   "metadata": {},
   "outputs": [
    {
     "name": "stdout",
     "output_type": "stream",
     "text": [
      "False\n",
      "False\n",
      "True\n"
     ]
    }
   ],
   "source": [
    "numbers_list = [1, 3, 8, 7, 7, 2, 3, 7, 0, 8]\n",
    "print('x' in numbers_list)\n",
    "print(9 in numbers_list)\n",
    "print(7 in numbers_list)"
   ]
  },
  {
   "cell_type": "code",
   "execution_count": 66,
   "metadata": {},
   "outputs": [
    {
     "name": "stdout",
     "output_type": "stream",
     "text": [
      "True\n",
      "False\n"
     ]
    }
   ],
   "source": [
    "print('i' in 'hello my name is tharinda')\n",
    "print('z' in 'hello my name is tharinda')"
   ]
  },
  {
   "cell_type": "code",
   "execution_count": 67,
   "metadata": {},
   "outputs": [
    {
     "name": "stdout",
     "output_type": "stream",
     "text": [
      "3\n"
     ]
    }
   ],
   "source": [
    "numbers_list = [1, 3, 8, 7, 7, 2, 3, 7, 0, 8]\n",
    "print(numbers_list.count(7))"
   ]
  },
  {
   "cell_type": "code",
   "execution_count": 69,
   "metadata": {},
   "outputs": [
    {
     "name": "stdout",
     "output_type": "stream",
     "text": [
      "[0, 1, 2, 3, 3, 7, 7, 7, 8, 8]\n",
      "['a', 'b', 'c', 'h']\n"
     ]
    }
   ],
   "source": [
    "numbers_list = [1, 3, 8, 7, 7, 2, 3, 7, 0, 8]\n",
    "numbers_list.sort()\n",
    "print(numbers_list)\n",
    "\n",
    "letters_list = ['a', 'c', 'b', 'h']\n",
    "letters_list.sort()\n",
    "print(letters_list)"
   ]
  },
  {
   "cell_type": "code",
   "execution_count": 74,
   "metadata": {},
   "outputs": [
    {
     "name": "stdout",
     "output_type": "stream",
     "text": [
      "[1, 3, 8, 7, 7, 2, 3, 7, 0, 8]\n",
      "[0, 1, 2, 3, 3, 7, 7, 7, 8, 8]\n",
      "[1, 3, 8, 7, 7, 2, 3, 7, 0, 8]\n",
      "[1, 3, 8, 7, 7, 2, 3, 7, 0, 8]\n",
      "[0, 1, 2, 3, 3, 7, 7, 7, 8, 8]\n"
     ]
    }
   ],
   "source": [
    "numbers_list = [1, 3, 8, 7, 7, 2, 3, 7, 0, 8]\n",
    "sorted(numbers_list)\n",
    "print(numbers_list)\n",
    "\n",
    "numbers_list = [1, 3, 8, 7, 7, 2, 3, 7, 0, 8]\n",
    "print(sorted(numbers_list))\n",
    "print(numbers_list)\n",
    "\n",
    "numbers_list = [1, 3, 8, 7, 7, 2, 3, 7, 0, 8]\n",
    "new_list = sorted(numbers_list)\n",
    "print(numbers_list)\n",
    "print(new_list)\n",
    "\n",
    "# sorted() function copy the list and sort the new list\n",
    "# sort() method sort and modifies the original list"
   ]
  },
  {
   "cell_type": "code",
   "execution_count": 75,
   "metadata": {},
   "outputs": [
    {
     "name": "stdout",
     "output_type": "stream",
     "text": [
      "[1, 3, 8, 7, 7, 2, 3, 7, 0, 8]\n",
      "[0, 1, 2, 3, 3, 7, 7, 7, 8, 8]\n"
     ]
    }
   ],
   "source": [
    "numbers_list = [1, 3, 8, 7, 7, 2, 3, 7, 0, 8]\n",
    "new_list = numbers_list[:]\n",
    "new_list.sort()\n",
    "print(numbers_list)\n",
    "print(new_list)"
   ]
  },
  {
   "cell_type": "code",
   "execution_count": 76,
   "metadata": {},
   "outputs": [
    {
     "name": "stdout",
     "output_type": "stream",
     "text": [
      "[1, 3, 8, 7, 7, 2, 3, 7, 0, 8]\n",
      "[0, 1, 2, 3, 3, 7, 7, 7, 8, 8]\n"
     ]
    }
   ],
   "source": [
    "numbers_list = [1, 3, 8, 7, 7, 2, 3, 7, 0, 8]\n",
    "new_list = numbers_list.copy()\n",
    "new_list.sort()\n",
    "print(numbers_list)\n",
    "print(new_list)"
   ]
  },
  {
   "cell_type": "code",
   "execution_count": 80,
   "metadata": {},
   "outputs": [
    {
     "name": "stdout",
     "output_type": "stream",
     "text": [
      "[8, 0, 7, 3, 2, 7, 7, 8, 3, 1]\n",
      "[8, 0, 7, 3, 2, 7, 7, 8, 3, 1]\n",
      "[1, 3, 8, 7, 7, 2, 3, 7, 0, 8]\n"
     ]
    }
   ],
   "source": [
    "# reverse() method modifies the original list\n",
    "numbers_list = [1, 3, 8, 7, 7, 2, 3, 7, 0, 8]\n",
    "numbers_list.reverse()\n",
    "print(numbers_list)\n",
    "\n",
    "# reversing by slicing reverse a copy of the list\n",
    "numbers_list = [1, 3, 8, 7, 7, 2, 3, 7, 0, 8]\n",
    "print(numbers_list[::-1])\n",
    "print(numbers_list)"
   ]
  },
  {
   "cell_type": "code",
   "execution_count": 79,
   "metadata": {},
   "outputs": [],
   "source": [
    "# list methods\n",
    "\n",
    "# append()\n",
    "# insert()\n",
    "# extend()\n",
    "# remove()\n",
    "# pop()\n",
    "# clear()\n",
    "# index()\n",
    "# count()\n",
    "# sort()\n",
    "# copy()\n",
    "# reverse()"
   ]
  },
  {
   "cell_type": "code",
   "execution_count": 82,
   "metadata": {},
   "outputs": [
    {
     "name": "stdout",
     "output_type": "stream",
     "text": [
      "range(1, 100)\n"
     ]
    }
   ],
   "source": [
    "print(range(1, 100))"
   ]
  },
  {
   "cell_type": "code",
   "execution_count": 85,
   "metadata": {},
   "outputs": [
    {
     "name": "stdout",
     "output_type": "stream",
     "text": [
      "[3, 4, 5, 6, 7, 8, 9, 10, 11, 12, 13, 14, 15, 16, 17, 18, 19, 20, 21, 22, 23, 24, 25, 26, 27, 28, 29, 30, 31, 32, 33, 34, 35, 36, 37, 38, 39, 40, 41, 42, 43, 44, 45, 46, 47, 48, 49, 50, 51, 52, 53, 54, 55, 56, 57, 58, 59, 60, 61, 62, 63, 64, 65, 66, 67, 68, 69, 70, 71, 72, 73, 74, 75, 76, 77, 78, 79, 80, 81, 82, 83, 84, 85, 86, 87, 88, 89, 90, 91, 92, 93, 94, 95, 96, 97, 98, 99]\n"
     ]
    }
   ],
   "source": [
    "print(list(range(3, 100)))"
   ]
  },
  {
   "cell_type": "code",
   "execution_count": 84,
   "metadata": {},
   "outputs": [
    {
     "name": "stdout",
     "output_type": "stream",
     "text": [
      "[0, 1, 2, 3, 4, 5, 6, 7, 8, 9, 10, 11, 12, 13, 14, 15, 16, 17, 18, 19, 20, 21, 22, 23, 24, 25, 26, 27, 28, 29, 30, 31, 32, 33, 34, 35, 36, 37, 38, 39, 40, 41, 42, 43, 44, 45, 46, 47, 48, 49, 50, 51, 52, 53, 54, 55, 56, 57, 58, 59, 60, 61, 62, 63, 64, 65, 66, 67, 68, 69, 70, 71, 72, 73, 74, 75, 76, 77, 78, 79, 80, 81, 82, 83, 84, 85, 86, 87, 88, 89, 90, 91, 92, 93, 94, 95, 96, 97, 98, 99]\n"
     ]
    }
   ],
   "source": [
    "print(list(range(100)))"
   ]
  },
  {
   "cell_type": "code",
   "execution_count": 88,
   "metadata": {},
   "outputs": [
    {
     "name": "stdout",
     "output_type": "stream",
     "text": [
      "my name is tharinda\n",
      "my name is nimnajith\n"
     ]
    }
   ],
   "source": [
    "space = ' '\n",
    "words = ['my', 'name', 'is', 'tharinda']\n",
    "print(space.join(words))\n",
    "\n",
    "print(' '.join(['my', 'name', 'is', 'nimnajith']))"
   ]
  },
  {
   "cell_type": "code",
   "execution_count": 95,
   "metadata": {},
   "outputs": [
    {
     "name": "stdout",
     "output_type": "stream",
     "text": [
      "1\n",
      "2\n",
      "3\n",
      "4\n",
      "5\n",
      "6\n"
     ]
    }
   ],
   "source": [
    "# list unpacking\n",
    "\n",
    "a, b, c = 1, 2, 3\n",
    "print(a)\n",
    "print(b)\n",
    "print(c)\n",
    "\n",
    "a, b, c = [4, 5, 6]\n",
    "print(a)\n",
    "print(b)\n",
    "print(c)"
   ]
  },
  {
   "cell_type": "code",
   "execution_count": 96,
   "metadata": {},
   "outputs": [
    {
     "name": "stdout",
     "output_type": "stream",
     "text": [
      "1\n",
      "2\n",
      "3\n",
      "[4, 5, 6, 7, 8]\n"
     ]
    }
   ],
   "source": [
    "a, b, c, *other = [1, 2, 3, 4, 5, 6, 7, 8]\n",
    "print(a)\n",
    "print(b)\n",
    "print(c)\n",
    "print(other)"
   ]
  },
  {
   "cell_type": "code",
   "execution_count": 97,
   "metadata": {},
   "outputs": [
    {
     "name": "stdout",
     "output_type": "stream",
     "text": [
      "1\n",
      "2\n",
      "3\n",
      "[4, 5, 6, 7]\n",
      "8\n"
     ]
    }
   ],
   "source": [
    "a, b, c, *other, d = [1, 2, 3, 4, 5, 6, 7, 8]\n",
    "print(a)\n",
    "print(b)\n",
    "print(c)\n",
    "print(other)\n",
    "print(d)"
   ]
  },
  {
   "cell_type": "code",
   "execution_count": 99,
   "metadata": {},
   "outputs": [
    {
     "name": "stdout",
     "output_type": "stream",
     "text": [
      "None\n",
      "<class 'NoneType'>\n"
     ]
    }
   ],
   "source": [
    "weapons = None\n",
    "print(weapons)\n",
    "print(type(weapons))"
   ]
  },
  {
   "cell_type": "code",
   "execution_count": 104,
   "metadata": {},
   "outputs": [
    {
     "name": "stdout",
     "output_type": "stream",
     "text": [
      "True\n"
     ]
    }
   ],
   "source": [
    "# bad code\n",
    "\n",
    "# function to check if x is an even number\n",
    "def func_1(x):\n",
    "    if (x % 2 == 0):    # if no remainder after divided by 2\n",
    "        return True     # return true\n",
    "    elif (x % 2 != 0):  # if remainder is 1 after divided by 2\n",
    "        return False    # return false\n",
    "\n",
    "print(func_1(20)) # calling function to check 20 is even\n",
    "\n",
    "# bad commenting\n",
    "# WET (writing everything twice / waste everyone's time)\n",
    "# not DRY (don't repeat yourself)\n",
    "# () in if\n",
    "# can refactor the logic\n",
    "# bad naming conventions"
   ]
  },
  {
   "cell_type": "code",
   "execution_count": 105,
   "metadata": {},
   "outputs": [
    {
     "name": "stdout",
     "output_type": "stream",
     "text": [
      "True\n"
     ]
    }
   ],
   "source": [
    "# cleaning up the code step by step\n",
    "\n",
    "# step 1\n",
    "\n",
    "def is_even(num):\n",
    "    if (num % 2 == 0):\n",
    "        return True\n",
    "    else:\n",
    "        return False\n",
    "\n",
    "print(is_even(20))"
   ]
  },
  {
   "cell_type": "code",
   "execution_count": 106,
   "metadata": {},
   "outputs": [
    {
     "name": "stdout",
     "output_type": "stream",
     "text": [
      "True\n"
     ]
    }
   ],
   "source": [
    "# step 2\n",
    "\n",
    "def is_even(num):\n",
    "    if (num % 2 == 0):\n",
    "        return True\n",
    "    return False\n",
    "\n",
    "print(is_even(20))"
   ]
  },
  {
   "cell_type": "code",
   "execution_count": 107,
   "metadata": {},
   "outputs": [
    {
     "name": "stdout",
     "output_type": "stream",
     "text": [
      "True\n"
     ]
    }
   ],
   "source": [
    "# step 3 - clean code\n",
    "\n",
    "def is_even(num):\n",
    "    return num % 2 == 0\n",
    "\n",
    "print(is_even(20))"
   ]
  },
  {
   "cell_type": "code",
   "execution_count": 118,
   "metadata": {},
   "outputs": [
    {
     "name": "stdout",
     "output_type": "stream",
     "text": [
      "tharinda\n",
      "\n",
      "-----------------------------------------\n",
      "\n",
      "Help on function test in module __main__:\n",
      "\n",
      "test(a)\n",
      "    Info: this function tests and \n",
      "    prints param a\n",
      "\n",
      "\n",
      "-----------------------------------------\n",
      "\n",
      "\n",
      "    Info: this function tests and \n",
      "    prints param a\n",
      "    \n"
     ]
    }
   ],
   "source": [
    "# docstrings\n",
    "\n",
    "def test(a):\n",
    "    '''\n",
    "    Info: this function tests and \n",
    "    prints param a\n",
    "    '''\n",
    "    print(a)\n",
    "\n",
    "test('tharinda')\n",
    "\n",
    "print()\n",
    "print('-----------------------------------------')\n",
    "print()\n",
    "\n",
    "help(test)\n",
    "\n",
    "print()\n",
    "print('-----------------------------------------')\n",
    "print()\n",
    "\n",
    "print(test.__doc__)"
   ]
  },
  {
   "cell_type": "code",
   "execution_count": 127,
   "metadata": {},
   "outputs": [
    {
     "name": "stdout",
     "output_type": "stream",
     "text": [
      "Tharinda, learn python! - using udemy..."
     ]
    }
   ],
   "source": [
    "print('Tharinda, learn python!', 'using udemy', sep = ' - ', end = '...')"
   ]
  },
  {
   "cell_type": "code",
   "execution_count": 130,
   "metadata": {},
   "outputs": [
    {
     "name": "stdout",
     "output_type": "stream",
     "text": [
      "   *   \n",
      "  ***  \n",
      " ***** \n",
      "*******\n",
      "   *   \n",
      "   *   \n",
      "\n",
      "-------\n",
      "\n",
      "   *   \n",
      "  ***  \n",
      " ***** \n",
      "*******\n",
      "   *   \n",
      "   *   \n"
     ]
    }
   ],
   "source": [
    "picture = [\n",
    "    [0, 0, 0, 1, 0, 0, 0],\n",
    "    [0, 0, 1, 1, 1, 0, 0],\n",
    "    [0, 1, 1, 1, 1, 1, 0],\n",
    "    [1, 1, 1, 1, 1, 1, 1],\n",
    "    [0, 0, 0, 1, 0, 0, 0],\n",
    "    [0, 0, 0, 1, 0, 0, 0]\n",
    "]\n",
    "\n",
    "fill = '*'\n",
    "blank = ' '\n",
    "\n",
    "# method 1\n",
    "for row in range(len(picture)):\n",
    "    for column in range(len(picture[row])):\n",
    "        if picture[row][column]:\n",
    "            print(fill, end = '')\n",
    "        else:\n",
    "            print(blank, end = '')\n",
    "    print()\n",
    "\n",
    "print()\n",
    "print('-------')\n",
    "print()\n",
    "\n",
    "# method 2\n",
    "for row in picture:\n",
    "    for column in row:\n",
    "        if column:\n",
    "            print(fill, end = '')\n",
    "        else:\n",
    "            print(blank, end = '')\n",
    "    print()"
   ]
  },
  {
   "cell_type": "code",
   "execution_count": 131,
   "metadata": {},
   "outputs": [
    {
     "name": "stdout",
     "output_type": "stream",
     "text": [
      "You are old enough to drive.\n",
      "Inside the if condition\n",
      "Outside the if condition\n",
      "\n",
      "Outside the if condition\n"
     ]
    }
   ],
   "source": [
    "is_old = True\n",
    "is_licenced = False\n",
    "\n",
    "if is_old:\n",
    "    print('You are old enough to drive.')\n",
    "    print('Inside the if condition')\n",
    "print('Outside the if condition\\n')\n",
    "\n",
    "if is_licenced:\n",
    "    print('You have licence.')\n",
    "    print('Inside the if condition')\n",
    "print('Outside the if condition')"
   ]
  },
  {
   "cell_type": "code",
   "execution_count": 136,
   "metadata": {},
   "outputs": [
    {
     "name": "stdout",
     "output_type": "stream",
     "text": [
      "You are old enough to drive.\n",
      "This gets printed anyway.\n",
      "You do not have licence.\n",
      "This gets printed anyway.\n"
     ]
    }
   ],
   "source": [
    "is_old = True\n",
    "is_licenced = False\n",
    "\n",
    "if is_old:\n",
    "    print('You are old enough to drive.')\n",
    "else:\n",
    "    print('You are too young.')\n",
    "print('This gets printed anyway.')\n",
    "if is_licenced:\n",
    "    print('You have licence.')\n",
    "else:\n",
    "    print('You do not have licence.')\n",
    "print('This gets printed anyway.')"
   ]
  },
  {
   "cell_type": "code",
   "execution_count": 137,
   "metadata": {},
   "outputs": [
    {
     "name": "stdout",
     "output_type": "stream",
     "text": [
      "Too young and not licenced.\n"
     ]
    }
   ],
   "source": [
    "is_old = False\n",
    "is_licenced = False\n",
    "\n",
    "if is_old:\n",
    "    print('You are old enough to drive.')\n",
    "elif is_licenced:\n",
    "    print('You have licence.')\n",
    "else:\n",
    "    print('Too young and not licenced.')"
   ]
  },
  {
   "cell_type": "code",
   "execution_count": 140,
   "metadata": {},
   "outputs": [
    {
     "name": "stdout",
     "output_type": "stream",
     "text": [
      "Not allowed to drive.\n"
     ]
    }
   ],
   "source": [
    "is_old = True\n",
    "is_licenced = False\n",
    "\n",
    "if is_old and is_licenced:\n",
    "    print('You can drive.')\n",
    "else:\n",
    "    print('Not allowed to drive.')"
   ]
  },
  {
   "cell_type": "code",
   "execution_count": 69,
   "metadata": {},
   "outputs": [
    {
     "name": "stdout",
     "output_type": "stream",
     "text": [
      "Not allowed to drive.\n",
      "abc\n"
     ]
    }
   ],
   "source": [
    "is_old = True\n",
    "is_licenced = False\n",
    "\n",
    "if is_old and is_licenced:\n",
    "    print('You can drive.')\n",
    "    print('xyz')\n",
    "else:\n",
    "    print('Not allowed to drive.')\n",
    "    print('abc')"
   ]
  },
  {
   "cell_type": "code",
   "execution_count": 70,
   "metadata": {},
   "outputs": [
    {
     "name": "stdout",
     "output_type": "stream",
     "text": [
      "You can drive.\n",
      "xyz\n",
      "abc\n"
     ]
    }
   ],
   "source": [
    "is_old = True\n",
    "is_licenced = True\n",
    "\n",
    "if is_old and is_licenced:\n",
    "    print('You can drive.')\n",
    "    print('xyz')\n",
    "else:\n",
    "    print('Not allowed to drive.')\n",
    "print('abc')"
   ]
  },
  {
   "cell_type": "code",
   "execution_count": 71,
   "metadata": {},
   "outputs": [
    {
     "name": "stdout",
     "output_type": "stream",
     "text": [
      "You can drive.\n",
      "xyz\n"
     ]
    }
   ],
   "source": [
    "is_old = True\n",
    "is_licenced = True\n",
    "\n",
    "if is_old and is_licenced:\n",
    "    print('You can drive.')\n",
    "    print('xyz')\n",
    "else:\n",
    "    print('Not allowed to drive.')\n",
    "\n",
    "    print('abc')"
   ]
  },
  {
   "cell_type": "code",
   "execution_count": 142,
   "metadata": {},
   "outputs": [
    {
     "name": "stdout",
     "output_type": "stream",
     "text": [
      "What is your age?: 45\n",
      "Powering On. Enjoy the ride!\n"
     ]
    }
   ],
   "source": [
    "age = input('What is your age?: ')\n",
    "\n",
    "if int(age) < 18:\n",
    "    print('Sorry, you are too young to drive this car. Powering off.')\n",
    "elif int(age) > 18:\n",
    "    print('Powering On. Enjoy the ride!')\n",
    "elif int(age) == 18:\n",
    "    print('Congratulations on your first year of driving. Enjoy the ride!')\n",
    "\n",
    "# 1. Wrap the above code in a function called checkDriverAge().\n",
    "# Whenever you call this function, you will get prompted for age. \n",
    "# Notice the benefit in having checkDriverAge() instead of copying\n",
    "# and pasting the function everytime?\n",
    "\n",
    "# 2. Instead of using the input(), make the checkDriverAge() function \n",
    "# accept an argument of age, so that if you enter:\n",
    "# checkDriverAge(92);\n",
    "# it returns 'Powering On. Enjoy the ride!'\n",
    "# also make it so that the default age is set to 0 if no argument is given."
   ]
  },
  {
   "cell_type": "code",
   "execution_count": 143,
   "metadata": {},
   "outputs": [
    {
     "name": "stdout",
     "output_type": "stream",
     "text": [
      "Sorry, you are too young to drive this car. Powering off.\n",
      "Congratulations on your first year of driving. Enjoy the ride!\n",
      "Powering On. Enjoy the ride!\n",
      "Sorry, you are too young to drive this car. Powering off.\n"
     ]
    }
   ],
   "source": [
    "def check_driver_age(age = 0):\n",
    "    if age < 18:\n",
    "        print('Sorry, you are too young to drive this car. Powering off.')\n",
    "    elif age > 18:\n",
    "        print('Powering On. Enjoy the ride!')\n",
    "    elif age == 18:\n",
    "        print('Congratulations on your first year of driving. Enjoy the ride!')\n",
    "\n",
    "check_driver_age()\n",
    "check_driver_age(18)\n",
    "check_driver_age(90)\n",
    "check_driver_age(5)"
   ]
  },
  {
   "cell_type": "code",
   "execution_count": 148,
   "metadata": {},
   "outputs": [
    {
     "name": "stdout",
     "output_type": "stream",
     "text": [
      "my_list is falsy because it is empty.\n",
      "my_list is falsy because it is empty.\n",
      "my_list is truthy because it is not empty.\n",
      "my_list is truthy because it is not empty.\n"
     ]
    }
   ],
   "source": [
    "# truthy and falsy\n",
    "\n",
    "my_list = []\n",
    "\n",
    "if len(my_list) != 0:\n",
    "    print('my_list is truthy because it is not empty.')\n",
    "else:\n",
    "    print('my_list is falsy because it is empty.')\n",
    "\n",
    "if my_list:\n",
    "    print('my_list is truthy because it is not empty.')\n",
    "else:\n",
    "    print('my_list is falsy because it is empty.')\n",
    "\n",
    "my_list.insert(0, 'abc')\n",
    "\n",
    "if len(my_list) != 0:\n",
    "    print('my_list is truthy because it is not empty.')\n",
    "else:\n",
    "    print('my_list is falsy because it is empty.')\n",
    "\n",
    "if my_list:\n",
    "    print('my_list is truthy because it is not empty.')\n",
    "else:\n",
    "    print('my_list is falsy because it is empty.')\n",
    "\n",
    "# If bool(value) results in True, then value is truthy.\n",
    "# An empty list ([]) is considered falsy.\n",
    "# Non-empty list (for example, [1]) is considered truthy.\n",
    "# The integer 0, the empty string \"\" are considered falsy.\n",
    "# Non-zero integers, non-empty strings are considered truthy."
   ]
  },
  {
   "cell_type": "code",
   "execution_count": 75,
   "metadata": {},
   "outputs": [
    {
     "name": "stdout",
     "output_type": "stream",
     "text": [
      "True\n",
      "True\n",
      "True\n",
      "True\n",
      "You can drive.\n"
     ]
    }
   ],
   "source": [
    "is_old = 'True'\n",
    "is_licenced = 5\n",
    "\n",
    "print(bool('True'))\n",
    "print(bool(5))\n",
    "\n",
    "print(bool(is_old))\n",
    "print(bool(is_licenced))\n",
    "\n",
    "if is_old and is_licenced:\n",
    "    print('You can drive.')\n",
    "else:\n",
    "    print('Not allowed to drive.')"
   ]
  },
  {
   "cell_type": "code",
   "execution_count": 77,
   "metadata": {},
   "outputs": [
    {
     "name": "stdout",
     "output_type": "stream",
     "text": [
      "False\n",
      "False\n",
      "Not allowed to drive.\n"
     ]
    }
   ],
   "source": [
    "is_old = ''\n",
    "is_licenced = 0\n",
    "\n",
    "print(bool(is_old))\n",
    "print(bool(is_licenced))\n",
    "\n",
    "if is_old and is_licenced:\n",
    "    print('You can drive.')\n",
    "else:\n",
    "    print('Not allowed to drive.')"
   ]
  },
  {
   "cell_type": "code",
   "execution_count": 78,
   "metadata": {},
   "outputs": [],
   "source": [
    "# all are truthy except the following falsy values\n",
    "\n",
    "# None\n",
    "# False\n",
    "# 0\n",
    "# 0.0\n",
    "# 0j\n",
    "# Decimal(0)\n",
    "# Fraction(0, 1)\n",
    "# []\n",
    "# {}\n",
    "# ()\n",
    "# ''\n",
    "# \"\"\n",
    "# b''\n",
    "# set()\n",
    "# range(0)\n",
    "# obj.__bool__()\n",
    "# obj.__len__()"
   ]
  },
  {
   "cell_type": "code",
   "execution_count": 151,
   "metadata": {},
   "outputs": [
    {
     "name": "stdout",
     "output_type": "stream",
     "text": [
      "['Oranges']\n"
     ]
    }
   ],
   "source": [
    "# Using this list access 'Oranges' and print it.\n",
    "basket = ['Banana', ['Apples', ['Oranges'], 'Blueberries']]\n",
    "print(basket[1][1])"
   ]
  },
  {
   "cell_type": "code",
   "execution_count": 152,
   "metadata": {},
   "outputs": [
    {
     "name": "stdout",
     "output_type": "stream",
     "text": [
      "45.0\n",
      "45.0\n",
      "45.0\n",
      "25.0\n",
      "25\n"
     ]
    }
   ],
   "source": [
    "print((5 + 4) * 10 / 2)\n",
    "print(((5 + 4) * 10) / 2)\n",
    "print((5 + 4) * (10 / 2))\n",
    "print(5 + (4 * 10) / 2)\n",
    "print(5 + 4 * 10 // 2)"
   ]
  },
  {
   "cell_type": "code",
   "execution_count": 153,
   "metadata": {},
   "outputs": [
    {
     "name": "stdout",
     "output_type": "stream",
     "text": [
      "6\n"
     ]
    }
   ],
   "source": [
    "counter = 0\n",
    "\n",
    "counter += 1\n",
    "counter += 1\n",
    "counter += 1\n",
    "counter += 1\n",
    "counter -= 1\n",
    "counter *= 2\n",
    "\n",
    "print(counter)"
   ]
  },
  {
   "cell_type": "code",
   "execution_count": 154,
   "metadata": {},
   "outputs": [
    {
     "name": "stdout",
     "output_type": "stream",
     "text": [
      "Hello Cindy, your balance is 50.\n",
      "Hello Cindy, your balance is 50.\n",
      "Hello Cindy, your balance is 50.\n",
      "Hello Cindy, your balance is 50.\n",
      "Hello Cindy, your balance is 50.\n"
     ]
    }
   ],
   "source": [
    "print('Hello {}, your balance is {}.'.format('Cindy', 50))\n",
    "print('Hello {0}, your balance is {1}.'.format('Cindy', 50))\n",
    "print('Hello {name}, your balance is {amount}.'.format(name='Cindy', amount=50))\n",
    "print('Hello {0}, your balance is {amount}.'.format('Cindy', amount=50))\n",
    "\n",
    "name = 'Cindy'\n",
    "amount = 50\n",
    "print(f'Hello {name}, your balance is {amount}.')"
   ]
  },
  {
   "cell_type": "code",
   "execution_count": 155,
   "metadata": {},
   "outputs": [
    {
     "name": "stdout",
     "output_type": "stream",
     "text": [
      " am\n",
      " am learning PYTHON\n",
      "I am learning PYTHON\n",
      " am learning PYTHON\n",
      "N\n",
      "T\n",
      "I am learning PYT\n",
      "HON\n",
      "NOHTYP gninrael ma I\n"
     ]
    }
   ],
   "source": [
    "python = 'I am learning PYTHON'\n",
    "\n",
    "print(python[1:4])\n",
    "print(python[1:])\n",
    "print(python[:])\n",
    "print(python[1:100])\n",
    "print(python[-1])\n",
    "print(python[-4])\n",
    "print(python[:-3])\n",
    "print(python[-3:])\n",
    "print(python[::-1])"
   ]
  },
  {
   "cell_type": "code",
   "execution_count": 156,
   "metadata": {},
   "outputs": [
    {
     "name": "stdout",
     "output_type": "stream",
     "text": [
      "b\n",
      "b\n",
      "['b', 'c']\n",
      "['z', 'b', 'c']\n"
     ]
    }
   ],
   "source": [
    "new_list = ['a', 'b', 'c']\n",
    "print(new_list[1])\n",
    "print(new_list[-2])\n",
    "print(new_list[1:3])\n",
    "new_list[0] = 'z'\n",
    "print(new_list)"
   ]
  },
  {
   "cell_type": "code",
   "execution_count": 157,
   "metadata": {},
   "outputs": [
    {
     "name": "stdout",
     "output_type": "stream",
     "text": [
      "['z', 2, 3]\n",
      "[1, 2, 3, 5]\n"
     ]
    }
   ],
   "source": [
    "my_list = [1, 2, 3]\n",
    "bonus = my_list + [5]\n",
    "my_list[0] = 'z'\n",
    "print(my_list)\n",
    "print(bonus)"
   ]
  },
  {
   "cell_type": "code",
   "execution_count": 158,
   "metadata": {},
   "outputs": [
    {
     "name": "stdout",
     "output_type": "stream",
     "text": [
      "['Banana', 'Apples', 'Oranges', 'Blueberries']\n",
      "['Apples', 'Oranges', 'Blueberries']\n",
      "['Apples', 'Oranges']\n",
      "['Apples', 'Oranges', 'Kiwi']\n",
      "['Apples', 'Apples', 'Oranges', 'Kiwi']\n",
      "2\n",
      "['Apples', 'Apples', 'Oranges', 'Kiwi']\n",
      "[]\n"
     ]
    }
   ],
   "source": [
    "basket = ['Banana', 'Apples', 'Oranges', 'Blueberries']\n",
    "print(basket)\n",
    "\n",
    "# 1. Remove the Banana from the list\n",
    "basket.remove('Banana')\n",
    "print(basket)\n",
    "\n",
    "# 2. Remove 'Blueberries' from the list.\n",
    "basket.pop()\n",
    "print(basket)\n",
    "\n",
    "# 3. Put 'Kiwi' at the end of the list.\n",
    "basket.append('Kiwi')\n",
    "print(basket)\n",
    "\n",
    "# 4. Add 'Apples' at the beginning of the list\n",
    "basket.insert(0, 'Apples')\n",
    "print(basket)\n",
    "\n",
    "# 5. Count how many apples in the basket\n",
    "print(basket.count('Apples'))\n",
    "print(basket)\n",
    "\n",
    "# 6. empty the basket\n",
    "basket.clear()\n",
    "print(basket)"
   ]
  },
  {
   "cell_type": "code",
   "execution_count": 83,
   "metadata": {},
   "outputs": [
    {
     "ename": "TypeError",
     "evalue": "'tuple' object does not support item assignment",
     "output_type": "error",
     "traceback": [
      "\u001b[1;31m---------------------------------------------------------------------------\u001b[0m",
      "\u001b[1;31mTypeError\u001b[0m                                 Traceback (most recent call last)",
      "\u001b[1;32m<ipython-input-83-8359f2568155>\u001b[0m in \u001b[0;36m<module>\u001b[1;34m\u001b[0m\n\u001b[0;32m      7\u001b[0m \u001b[0mmy_tuple\u001b[0m \u001b[1;33m=\u001b[0m \u001b[1;33m(\u001b[0m\u001b[1;36m1\u001b[0m\u001b[1;33m,\u001b[0m \u001b[1;36m2\u001b[0m\u001b[1;33m,\u001b[0m \u001b[1;36m3\u001b[0m\u001b[1;33m,\u001b[0m \u001b[1;36m4\u001b[0m\u001b[1;33m,\u001b[0m \u001b[1;36m5\u001b[0m\u001b[1;33m)\u001b[0m\u001b[1;33m\u001b[0m\u001b[1;33m\u001b[0m\u001b[0m\n\u001b[0;32m      8\u001b[0m \u001b[1;33m\u001b[0m\u001b[0m\n\u001b[1;32m----> 9\u001b[1;33m \u001b[0mmy_tuple\u001b[0m\u001b[1;33m[\u001b[0m\u001b[1;36m1\u001b[0m\u001b[1;33m]\u001b[0m \u001b[1;33m=\u001b[0m \u001b[1;34m'm'\u001b[0m\u001b[1;33m\u001b[0m\u001b[1;33m\u001b[0m\u001b[0m\n\u001b[0m",
      "\u001b[1;31mTypeError\u001b[0m: 'tuple' object does not support item assignment"
     ]
    }
   ],
   "source": [
    "# tuple\n",
    "\n",
    "# immutable - can't modify\n",
    "# faster than lists\n",
    "# if a list does not need to change, use tuple\n",
    "\n",
    "my_tuple = (1, 2, 3, 4, 5)\n",
    "\n",
    "my_tuple[1] = 'm'"
   ]
  },
  {
   "cell_type": "code",
   "execution_count": 80,
   "metadata": {},
   "outputs": [
    {
     "name": "stdout",
     "output_type": "stream",
     "text": [
      "(1, 2, 3, 4, 5)\n",
      "2\n"
     ]
    }
   ],
   "source": [
    "print(my_tuple)\n",
    "print(my_tuple[1])"
   ]
  },
  {
   "cell_type": "code",
   "execution_count": 82,
   "metadata": {},
   "outputs": [
    {
     "name": "stdout",
     "output_type": "stream",
     "text": [
      "True\n",
      "False\n"
     ]
    }
   ],
   "source": [
    "print(2 in my_tuple)\n",
    "print('2' in my_tuple)"
   ]
  },
  {
   "cell_type": "code",
   "execution_count": 90,
   "metadata": {},
   "outputs": [
    {
     "name": "stdout",
     "output_type": "stream",
     "text": [
      "(2, 3, 4)\n"
     ]
    }
   ],
   "source": [
    "my_tuple = (1, 2, 3, 4, 5)\n",
    "new_tuple = my_tuple[1: 4]\n",
    "print(new_tuple)"
   ]
  },
  {
   "cell_type": "code",
   "execution_count": 91,
   "metadata": {},
   "outputs": [
    {
     "name": "stdout",
     "output_type": "stream",
     "text": [
      "(2,)\n"
     ]
    }
   ],
   "source": [
    "my_tuple = (1, 2, 3, 4, 5)\n",
    "new_tuple = my_tuple[1: 2]\n",
    "print(new_tuple)"
   ]
  },
  {
   "cell_type": "code",
   "execution_count": 93,
   "metadata": {},
   "outputs": [
    {
     "name": "stdout",
     "output_type": "stream",
     "text": [
      "1\n",
      "2\n",
      "[3, 4]\n",
      "5\n",
      "-1\n",
      "-2\n",
      "[-3, -4]\n",
      "-5\n"
     ]
    }
   ],
   "source": [
    "my_tuple = (1, 2, 3, 4, 5)\n",
    "x, y, *other, z = my_tuple\n",
    "print(x)\n",
    "print(y)\n",
    "print(other)\n",
    "print(z)\n",
    "\n",
    "x, y, *other, z = (-1, -2, -3, -4, -5)\n",
    "print(x)\n",
    "print(y)\n",
    "print(other)\n",
    "print(z)"
   ]
  },
  {
   "cell_type": "code",
   "execution_count": 95,
   "metadata": {},
   "outputs": [
    {
     "name": "stdout",
     "output_type": "stream",
     "text": [
      "8\n"
     ]
    }
   ],
   "source": [
    "my_tuple = (1, 2, 3, 4, 5, 3, 2, 3)\n",
    "print(len(my_tuple))"
   ]
  },
  {
   "cell_type": "code",
   "execution_count": 94,
   "metadata": {},
   "outputs": [
    {
     "name": "stdout",
     "output_type": "stream",
     "text": [
      "3\n"
     ]
    }
   ],
   "source": [
    "my_tuple = (1, 2, 3, 4, 5, 3, 2, 3)\n",
    "print(my_tuple.count(3))"
   ]
  },
  {
   "cell_type": "code",
   "execution_count": 96,
   "metadata": {},
   "outputs": [
    {
     "name": "stdout",
     "output_type": "stream",
     "text": [
      "2\n"
     ]
    }
   ],
   "source": [
    "my_tuple = (1, 2, 3, 4, 5, 3, 2, 3)\n",
    "print(my_tuple.index(3))"
   ]
  },
  {
   "cell_type": "code",
   "execution_count": 90,
   "metadata": {},
   "outputs": [],
   "source": [
    "# tuple methods\n",
    "\n",
    "# count()\n",
    "# index()"
   ]
  },
  {
   "cell_type": "code",
   "execution_count": 159,
   "metadata": {},
   "outputs": [
    {
     "name": "stdout",
     "output_type": "stream",
     "text": [
      "['Amira', 'Carrie', 'Chu', 'Joy', 'Patty', 'Simon', 'Stanley']\n"
     ]
    }
   ],
   "source": [
    "friends = ['Simon', 'Patty', 'Joy', 'Carrie', 'Amira', 'Chu']\n",
    "new_friend = ['Stanley']\n",
    "friends.extend(new_friend)\n",
    "print(sorted(friends))"
   ]
  },
  {
   "cell_type": "code",
   "execution_count": 1,
   "metadata": {},
   "outputs": [
    {
     "name": "stdout",
     "output_type": "stream",
     "text": [
      "10\n",
      "10\n",
      "10\n"
     ]
    }
   ],
   "source": [
    "x = y = z = 10\n",
    "print(x)\n",
    "print(y)\n",
    "print(z)"
   ]
  },
  {
   "cell_type": "code",
   "execution_count": 2,
   "metadata": {},
   "outputs": [
    {
     "name": "stdout",
     "output_type": "stream",
     "text": [
      "Five is greater than two!\n",
      "Five is greater than two!\n",
      "Yes\n",
      "Yes\n"
     ]
    }
   ],
   "source": [
    "if 5 > 2:\n",
    "    print('Five is greater than two!')\n",
    "\n",
    "if 5 > 2: print('Five is greater than two!')\n",
    "\n",
    "\n",
    "if 5 > 2:\n",
    "    print('Yes')\n",
    "else:\n",
    "    print('No')\n",
    "\n",
    "print('Yes') if 5 > 2 else print('No')"
   ]
  },
  {
   "cell_type": "code",
   "execution_count": 3,
   "metadata": {},
   "outputs": [
    {
     "name": "stdout",
     "output_type": "stream",
     "text": [
      "1\n",
      "2\n",
      "3\n",
      "4\n",
      "5\n",
      "i is no longer less than 6\n"
     ]
    }
   ],
   "source": [
    "i = 1\n",
    "\n",
    "while i < 6:\n",
    "    print(i)\n",
    "    i += 1\n",
    "else:\n",
    "    print('i is no longer less than 6')"
   ]
  },
  {
   "cell_type": "code",
   "execution_count": 103,
   "metadata": {},
   "outputs": [
    {
     "name": "stdout",
     "output_type": "stream",
     "text": [
      "<class 'list'>\n",
      "[]\n",
      "<class 'set'>\n",
      "set()\n",
      "<class 'dict'>\n",
      "{}\n",
      "<class 'dict'>\n",
      "{}\n",
      "<class 'tuple'>\n",
      "()\n"
     ]
    }
   ],
   "source": [
    "# empty data structures\n",
    "\n",
    "my_list = []\n",
    "my_set = set()\n",
    "my_dict_1 = {}\n",
    "my_dict_2 = dict()\n",
    "my_tuple = ()\n",
    "\n",
    "print(type(my_list))\n",
    "print(my_list)\n",
    "\n",
    "print(type(my_set))\n",
    "print(my_set)\n",
    "\n",
    "print(type(my_dict_1))\n",
    "print(my_dict_1)\n",
    "\n",
    "print(type(my_dict_2))\n",
    "print(my_dict_2)\n",
    "\n",
    "print(type(my_tuple))\n",
    "print(my_tuple)"
   ]
  },
  {
   "cell_type": "code",
   "execution_count": 106,
   "metadata": {},
   "outputs": [
    {
     "name": "stdout",
     "output_type": "stream",
     "text": [
      "{1, 2, 3, 4, 5}\n"
     ]
    }
   ],
   "source": [
    "# set\n",
    "\n",
    "# unordered collection of unique objects\n",
    "\n",
    "my_set = {1, 2, 3, 4, 5}\n",
    "print(my_set)"
   ]
  },
  {
   "cell_type": "code",
   "execution_count": 107,
   "metadata": {},
   "outputs": [
    {
     "ename": "TypeError",
     "evalue": "'set' object does not support indexing",
     "output_type": "error",
     "traceback": [
      "\u001b[1;31m---------------------------------------------------------------------------\u001b[0m",
      "\u001b[1;31mTypeError\u001b[0m                                 Traceback (most recent call last)",
      "\u001b[1;32m<ipython-input-107-2017ac1fb309>\u001b[0m in \u001b[0;36m<module>\u001b[1;34m\u001b[0m\n\u001b[0;32m      1\u001b[0m \u001b[0mmy_set\u001b[0m \u001b[1;33m=\u001b[0m \u001b[1;33m{\u001b[0m\u001b[1;36m1\u001b[0m\u001b[1;33m,\u001b[0m \u001b[1;36m2\u001b[0m\u001b[1;33m,\u001b[0m \u001b[1;36m3\u001b[0m\u001b[1;33m,\u001b[0m \u001b[1;36m4\u001b[0m\u001b[1;33m,\u001b[0m \u001b[1;36m5\u001b[0m\u001b[1;33m}\u001b[0m\u001b[1;33m\u001b[0m\u001b[1;33m\u001b[0m\u001b[0m\n\u001b[1;32m----> 2\u001b[1;33m \u001b[0mprint\u001b[0m\u001b[1;33m(\u001b[0m\u001b[0mmy_set\u001b[0m\u001b[1;33m[\u001b[0m\u001b[1;36m3\u001b[0m\u001b[1;33m]\u001b[0m\u001b[1;33m)\u001b[0m\u001b[1;33m\u001b[0m\u001b[1;33m\u001b[0m\u001b[0m\n\u001b[0m",
      "\u001b[1;31mTypeError\u001b[0m: 'set' object does not support indexing"
     ]
    }
   ],
   "source": [
    "my_set = {1, 2, 3, 4, 5}\n",
    "print(my_set[3])"
   ]
  },
  {
   "cell_type": "code",
   "execution_count": 108,
   "metadata": {},
   "outputs": [
    {
     "name": "stdout",
     "output_type": "stream",
     "text": [
      "{1, 2, 3, 4, 5, 6}\n"
     ]
    }
   ],
   "source": [
    "my_set = {1, 2, 3, 4, 5, 5, 3, 4, 6}\n",
    "print(my_set)"
   ]
  },
  {
   "cell_type": "code",
   "execution_count": 109,
   "metadata": {},
   "outputs": [
    {
     "name": "stdout",
     "output_type": "stream",
     "text": [
      "{1, 2, 3, 4, 5, 100}\n"
     ]
    }
   ],
   "source": [
    "my_set = {1, 2, 3, 4, 5}\n",
    "my_set.add(100)\n",
    "my_set.add(3)\n",
    "print(my_set)"
   ]
  },
  {
   "cell_type": "code",
   "execution_count": 110,
   "metadata": {},
   "outputs": [
    {
     "name": "stdout",
     "output_type": "stream",
     "text": [
      "{1, 2, 3, 4, 5}\n"
     ]
    }
   ],
   "source": [
    "my_list = [1, 2, 3, 3, 4, 5]\n",
    "print(set(my_list))"
   ]
  },
  {
   "cell_type": "code",
   "execution_count": 115,
   "metadata": {},
   "outputs": [
    {
     "name": "stdout",
     "output_type": "stream",
     "text": [
      "5\n",
      "5\n"
     ]
    }
   ],
   "source": [
    "my_set = {1, 2, 3, 3, 4, 5}\n",
    "print(len(my_set))\n",
    "\n",
    "my_set = {1, 2, 3, 4, 5}\n",
    "print(len(my_set))"
   ]
  },
  {
   "cell_type": "code",
   "execution_count": 116,
   "metadata": {},
   "outputs": [
    {
     "name": "stdout",
     "output_type": "stream",
     "text": [
      "True\n",
      "False\n"
     ]
    }
   ],
   "source": [
    "my_set = {1, 2, 3, 4, 5}\n",
    "print(3 in my_set)\n",
    "print('3' in my_set)"
   ]
  },
  {
   "cell_type": "code",
   "execution_count": 118,
   "metadata": {},
   "outputs": [
    {
     "name": "stdout",
     "output_type": "stream",
     "text": [
      "[1, 2, 3, 4, 5]\n",
      "[1, 2, 3, 4, 5]\n"
     ]
    }
   ],
   "source": [
    "my_set = {1, 2, 3, 4, 5}\n",
    "print(list(my_set))\n",
    "\n",
    "my_set = {1, 2, 3, 4, 5, 5, 5}\n",
    "print(list(my_set))"
   ]
  },
  {
   "cell_type": "code",
   "execution_count": 119,
   "metadata": {},
   "outputs": [
    {
     "name": "stdout",
     "output_type": "stream",
     "text": [
      "{1, 2, 3, 4, 5}\n",
      "{1, 2, 3, 4, 5}\n"
     ]
    }
   ],
   "source": [
    "my_set = {1, 2, 3, 4, 5}\n",
    "new_set = my_set.copy()\n",
    "\n",
    "print(my_set)\n",
    "print(new_set)"
   ]
  },
  {
   "cell_type": "code",
   "execution_count": 120,
   "metadata": {},
   "outputs": [
    {
     "name": "stdout",
     "output_type": "stream",
     "text": [
      "set()\n",
      "{1, 2, 3, 4, 5}\n"
     ]
    }
   ],
   "source": [
    "my_set = {1, 2, 3, 4, 5}\n",
    "new_set = my_set.copy()\n",
    "\n",
    "my_set.clear()\n",
    "\n",
    "print(my_set)\n",
    "print(new_set)"
   ]
  },
  {
   "cell_type": "code",
   "execution_count": 127,
   "metadata": {},
   "outputs": [
    {
     "name": "stdout",
     "output_type": "stream",
     "text": [
      "{1, 2, 3}\n",
      "{6, 7, 8, 9, 10}\n"
     ]
    }
   ],
   "source": [
    "my_set = {1, 2, 3, 4, 5}\n",
    "your_set = {4, 5, 6, 7, 8, 9, 10}\n",
    "\n",
    "print(my_set.difference(your_set))\n",
    "print(your_set.difference(my_set))"
   ]
  },
  {
   "cell_type": "code",
   "execution_count": 132,
   "metadata": {},
   "outputs": [
    {
     "name": "stdout",
     "output_type": "stream",
     "text": [
      "{1, 2, 4, 5}\n",
      "{1, 2, 4, 5}\n"
     ]
    }
   ],
   "source": [
    "my_set = {1, 2, 3, 4, 5}\n",
    "\n",
    "my_set.discard(3)\n",
    "print(my_set)\n",
    "\n",
    "my_set.discard(6)\n",
    "print(my_set)"
   ]
  },
  {
   "cell_type": "code",
   "execution_count": 136,
   "metadata": {},
   "outputs": [
    {
     "name": "stdout",
     "output_type": "stream",
     "text": [
      "{1, 2, 3}\n",
      "{1, 2, 3, 4, 5}\n",
      "{4, 5, 6, 7, 8, 9, 10}\n"
     ]
    }
   ],
   "source": [
    "my_set = {1, 2, 3, 4, 5}\n",
    "your_set = {4, 5, 6, 7, 8, 9, 10}\n",
    "print(my_set.difference(your_set))\n",
    "print(my_set)\n",
    "print(your_set)"
   ]
  },
  {
   "cell_type": "code",
   "execution_count": 137,
   "metadata": {},
   "outputs": [
    {
     "name": "stdout",
     "output_type": "stream",
     "text": [
      "{1, 2, 3}\n",
      "{4, 5, 6, 7, 8, 9, 10}\n"
     ]
    }
   ],
   "source": [
    "my_set = {1, 2, 3, 4, 5}\n",
    "your_set = {4, 5, 6, 7, 8, 9, 10}\n",
    "my_set.difference_update(your_set)\n",
    "print(my_set)\n",
    "print(your_set)"
   ]
  },
  {
   "cell_type": "code",
   "execution_count": 138,
   "metadata": {},
   "outputs": [
    {
     "name": "stdout",
     "output_type": "stream",
     "text": [
      "{1, 2, 3, 4, 5}\n",
      "{6, 7, 8, 9, 10}\n"
     ]
    }
   ],
   "source": [
    "my_set = {1, 2, 3, 4, 5}\n",
    "your_set = {4, 5, 6, 7, 8, 9, 10}\n",
    "your_set.difference_update(my_set)\n",
    "print(my_set)\n",
    "print(your_set)"
   ]
  },
  {
   "cell_type": "code",
   "execution_count": 181,
   "metadata": {},
   "outputs": [
    {
     "name": "stdout",
     "output_type": "stream",
     "text": [
      "{4, 5}\n",
      "{1, 2, 3, 4, 5}\n",
      "{4, 5, 6, 7, 8, 9, 10}\n"
     ]
    }
   ],
   "source": [
    "my_set = {1, 2, 3, 4, 5}\n",
    "your_set = {4, 5, 6, 7, 8, 9, 10}\n",
    "print(my_set.intersection(your_set))\n",
    "print(my_set)\n",
    "print(your_set)"
   ]
  },
  {
   "cell_type": "code",
   "execution_count": 182,
   "metadata": {},
   "outputs": [
    {
     "name": "stdout",
     "output_type": "stream",
     "text": [
      "{4, 5}\n",
      "{1, 2, 3, 4, 5}\n",
      "{4, 5, 6, 7, 8, 9, 10}\n"
     ]
    }
   ],
   "source": [
    "my_set = {1, 2, 3, 4, 5}\n",
    "your_set = {4, 5, 6, 7, 8, 9, 10}\n",
    "print(your_set.intersection(my_set))\n",
    "print(my_set)\n",
    "print(your_set)"
   ]
  },
  {
   "cell_type": "code",
   "execution_count": 183,
   "metadata": {},
   "outputs": [
    {
     "name": "stdout",
     "output_type": "stream",
     "text": [
      "{4, 5}\n",
      "{1, 2, 3, 4, 5}\n",
      "{4, 5, 6, 7, 8, 9, 10}\n"
     ]
    }
   ],
   "source": [
    "my_set = {1, 2, 3, 4, 5}\n",
    "your_set = {4, 5, 6, 7, 8, 9, 10}\n",
    "print(my_set & your_set)\n",
    "print(my_set)\n",
    "print(your_set)"
   ]
  },
  {
   "cell_type": "code",
   "execution_count": 184,
   "metadata": {},
   "outputs": [
    {
     "name": "stdout",
     "output_type": "stream",
     "text": [
      "{4, 5}\n",
      "{1, 2, 3, 4, 5}\n",
      "{4, 5, 6, 7, 8, 9, 10}\n"
     ]
    }
   ],
   "source": [
    "my_set = {1, 2, 3, 4, 5}\n",
    "your_set = {4, 5, 6, 7, 8, 9, 10}\n",
    "print(your_set & my_set)\n",
    "print(my_set)\n",
    "print(your_set)"
   ]
  },
  {
   "cell_type": "code",
   "execution_count": 143,
   "metadata": {},
   "outputs": [
    {
     "name": "stdout",
     "output_type": "stream",
     "text": [
      "{4, 5}\n",
      "{4, 5, 6, 7, 8, 9, 10}\n"
     ]
    }
   ],
   "source": [
    "my_set = {1, 2, 3, 4, 5}\n",
    "your_set = {4, 5, 6, 7, 8, 9, 10}\n",
    "my_set.intersection_update(your_set)\n",
    "print(my_set)\n",
    "print(your_set)"
   ]
  },
  {
   "cell_type": "code",
   "execution_count": 144,
   "metadata": {},
   "outputs": [
    {
     "name": "stdout",
     "output_type": "stream",
     "text": [
      "{1, 2, 3, 4, 5}\n",
      "{4, 5}\n"
     ]
    }
   ],
   "source": [
    "my_set = {1, 2, 3, 4, 5}\n",
    "your_set = {4, 5, 6, 7, 8, 9, 10}\n",
    "your_set.intersection_update(my_set)\n",
    "print(my_set)\n",
    "print(your_set)"
   ]
  },
  {
   "cell_type": "code",
   "execution_count": 148,
   "metadata": {},
   "outputs": [
    {
     "name": "stdout",
     "output_type": "stream",
     "text": [
      "1\n",
      "{2, 3, 4, 5}\n",
      "2\n",
      "{3, 4, 5}\n",
      "3\n",
      "{4, 5}\n",
      "4\n",
      "{5}\n",
      "5\n",
      "set()\n"
     ]
    },
    {
     "ename": "KeyError",
     "evalue": "'pop from an empty set'",
     "output_type": "error",
     "traceback": [
      "\u001b[1;31m---------------------------------------------------------------------------\u001b[0m",
      "\u001b[1;31mKeyError\u001b[0m                                  Traceback (most recent call last)",
      "\u001b[1;32m<ipython-input-148-7f6491c1c329>\u001b[0m in \u001b[0;36m<module>\u001b[1;34m\u001b[0m\n\u001b[0;32m     16\u001b[0m \u001b[0mprint\u001b[0m\u001b[1;33m(\u001b[0m\u001b[0mmy_set\u001b[0m\u001b[1;33m)\u001b[0m\u001b[1;33m\u001b[0m\u001b[1;33m\u001b[0m\u001b[0m\n\u001b[0;32m     17\u001b[0m \u001b[1;33m\u001b[0m\u001b[0m\n\u001b[1;32m---> 18\u001b[1;33m \u001b[0mprint\u001b[0m\u001b[1;33m(\u001b[0m\u001b[0mmy_set\u001b[0m\u001b[1;33m.\u001b[0m\u001b[0mpop\u001b[0m\u001b[1;33m(\u001b[0m\u001b[1;33m)\u001b[0m\u001b[1;33m)\u001b[0m\u001b[1;33m\u001b[0m\u001b[1;33m\u001b[0m\u001b[0m\n\u001b[0m\u001b[0;32m     19\u001b[0m \u001b[0mprint\u001b[0m\u001b[1;33m(\u001b[0m\u001b[0mmy_set\u001b[0m\u001b[1;33m)\u001b[0m\u001b[1;33m\u001b[0m\u001b[1;33m\u001b[0m\u001b[0m\n",
      "\u001b[1;31mKeyError\u001b[0m: 'pop from an empty set'"
     ]
    }
   ],
   "source": [
    "my_set = {1, 2, 3, 4, 5}\n",
    "\n",
    "print(my_set.pop())\n",
    "print(my_set)\n",
    "\n",
    "print(my_set.pop())\n",
    "print(my_set)\n",
    "\n",
    "print(my_set.pop())\n",
    "print(my_set)\n",
    "\n",
    "print(my_set.pop())\n",
    "print(my_set)\n",
    "\n",
    "print(my_set.pop())\n",
    "print(my_set)\n",
    "\n",
    "print(my_set.pop())\n",
    "print(my_set)"
   ]
  },
  {
   "cell_type": "code",
   "execution_count": 152,
   "metadata": {},
   "outputs": [
    {
     "name": "stdout",
     "output_type": "stream",
     "text": [
      "{1, 2, 4, 5}\n"
     ]
    }
   ],
   "source": [
    "my_set = {1, 2, 3, 4, 5}\n",
    "my_set.remove(3)\n",
    "print(my_set)"
   ]
  },
  {
   "cell_type": "code",
   "execution_count": 154,
   "metadata": {},
   "outputs": [
    {
     "name": "stdout",
     "output_type": "stream",
     "text": [
      "{1, 2, 3, 4, 5}\n",
      "{1, 2, 3, 4, 5}\n"
     ]
    }
   ],
   "source": [
    "my_set = {1, 2, 3, 4, 5}\n",
    "new_set = my_set.copy()\n",
    "print(my_set)\n",
    "print(new_set)"
   ]
  },
  {
   "cell_type": "code",
   "execution_count": 155,
   "metadata": {},
   "outputs": [
    {
     "name": "stdout",
     "output_type": "stream",
     "text": [
      "set()\n",
      "{1, 2, 3, 4, 5}\n"
     ]
    }
   ],
   "source": [
    "my_set = {1, 2, 3, 4, 5}\n",
    "new_set = my_set.copy()\n",
    "my_set.clear()\n",
    "print(my_set)\n",
    "print(new_set)"
   ]
  },
  {
   "cell_type": "code",
   "execution_count": 163,
   "metadata": {},
   "outputs": [
    {
     "name": "stdout",
     "output_type": "stream",
     "text": [
      "{1, 2, 3, 4, 5, 100, 6, 7}\n"
     ]
    }
   ],
   "source": [
    "my_set = {1, 2, 3, 4, 5}\n",
    "my_set.update([4, 100, 6, 7])\n",
    "print(my_set)"
   ]
  },
  {
   "cell_type": "code",
   "execution_count": 164,
   "metadata": {},
   "outputs": [
    {
     "name": "stdout",
     "output_type": "stream",
     "text": [
      "{1, 2, 3, 6, 7, 8, 9, 10}\n",
      "{1, 2, 3, 4, 5}\n",
      "{4, 5, 6, 7, 8, 9, 10}\n"
     ]
    }
   ],
   "source": [
    "my_set = {1, 2, 3, 4, 5}\n",
    "your_set = {4, 5, 6, 7, 8, 9, 10}\n",
    "print(my_set.symmetric_difference(your_set))\n",
    "print(my_set)\n",
    "print(your_set)"
   ]
  },
  {
   "cell_type": "code",
   "execution_count": 165,
   "metadata": {},
   "outputs": [
    {
     "name": "stdout",
     "output_type": "stream",
     "text": [
      "{1, 2, 3, 6, 7, 8, 9, 10}\n",
      "{1, 2, 3, 4, 5}\n",
      "{4, 5, 6, 7, 8, 9, 10}\n"
     ]
    }
   ],
   "source": [
    "my_set = {1, 2, 3, 4, 5}\n",
    "your_set = {4, 5, 6, 7, 8, 9, 10}\n",
    "print(your_set.symmetric_difference(my_set))\n",
    "print(my_set)\n",
    "print(your_set)"
   ]
  },
  {
   "cell_type": "code",
   "execution_count": 166,
   "metadata": {},
   "outputs": [
    {
     "name": "stdout",
     "output_type": "stream",
     "text": [
      "{1, 2, 3, 6, 7, 8, 9, 10}\n",
      "{4, 5, 6, 7, 8, 9, 10}\n"
     ]
    }
   ],
   "source": [
    "my_set = {1, 2, 3, 4, 5}\n",
    "your_set = {4, 5, 6, 7, 8, 9, 10}\n",
    "my_set.symmetric_difference_update(your_set)\n",
    "print(my_set)\n",
    "print(your_set)"
   ]
  },
  {
   "cell_type": "code",
   "execution_count": 167,
   "metadata": {},
   "outputs": [
    {
     "name": "stdout",
     "output_type": "stream",
     "text": [
      "{1, 2, 3, 4, 5}\n",
      "{1, 2, 3, 6, 7, 8, 9, 10}\n"
     ]
    }
   ],
   "source": [
    "my_set = {1, 2, 3, 4, 5}\n",
    "your_set = {4, 5, 6, 7, 8, 9, 10}\n",
    "your_set.symmetric_difference_update(my_set)\n",
    "print(my_set)\n",
    "print(your_set)"
   ]
  },
  {
   "cell_type": "code",
   "execution_count": 173,
   "metadata": {},
   "outputs": [
    {
     "name": "stdout",
     "output_type": "stream",
     "text": [
      "False\n"
     ]
    }
   ],
   "source": [
    "my_set = {1, 2, 3, 4, 5}\n",
    "your_set = {4, 5, 6, 7, 8, 9, 10}\n",
    "print(my_set.isdisjoint(your_set))"
   ]
  },
  {
   "cell_type": "code",
   "execution_count": 174,
   "metadata": {},
   "outputs": [
    {
     "name": "stdout",
     "output_type": "stream",
     "text": [
      "False\n"
     ]
    }
   ],
   "source": [
    "my_set = {1, 2, 3, 4, 5}\n",
    "your_set = {4, 5, 6, 7, 8, 9, 10}\n",
    "print(your_set.isdisjoint(my_set))"
   ]
  },
  {
   "cell_type": "code",
   "execution_count": 175,
   "metadata": {},
   "outputs": [
    {
     "name": "stdout",
     "output_type": "stream",
     "text": [
      "True\n"
     ]
    }
   ],
   "source": [
    "my_set = {1, 2, 3}\n",
    "your_set = {4, 5, 6, 7, 8, 9, 10}\n",
    "print(my_set.isdisjoint(your_set))"
   ]
  },
  {
   "cell_type": "code",
   "execution_count": 176,
   "metadata": {},
   "outputs": [
    {
     "name": "stdout",
     "output_type": "stream",
     "text": [
      "True\n"
     ]
    }
   ],
   "source": [
    "my_set = {1, 2, 3}\n",
    "your_set = {4, 5, 6, 7, 8, 9, 10}\n",
    "print(your_set.isdisjoint(my_set))"
   ]
  },
  {
   "cell_type": "code",
   "execution_count": 177,
   "metadata": {},
   "outputs": [
    {
     "name": "stdout",
     "output_type": "stream",
     "text": [
      "{1, 2, 3, 4, 5, 6, 7, 8, 9, 10}\n",
      "{1, 2, 3, 4, 5}\n",
      "{4, 5, 6, 7, 8, 9, 10}\n"
     ]
    }
   ],
   "source": [
    "my_set = {1, 2, 3, 4, 5}\n",
    "your_set = {4, 5, 6, 7, 8, 9, 10}\n",
    "print(my_set.union(your_set))\n",
    "print(my_set)\n",
    "print(your_set)"
   ]
  },
  {
   "cell_type": "code",
   "execution_count": 178,
   "metadata": {},
   "outputs": [
    {
     "name": "stdout",
     "output_type": "stream",
     "text": [
      "{1, 2, 3, 4, 5, 6, 7, 8, 9, 10}\n",
      "{1, 2, 3, 4, 5}\n",
      "{4, 5, 6, 7, 8, 9, 10}\n"
     ]
    }
   ],
   "source": [
    "my_set = {1, 2, 3, 4, 5}\n",
    "your_set = {4, 5, 6, 7, 8, 9, 10}\n",
    "print(your_set.union(my_set))\n",
    "print(my_set)\n",
    "print(your_set)"
   ]
  },
  {
   "cell_type": "code",
   "execution_count": 179,
   "metadata": {},
   "outputs": [
    {
     "name": "stdout",
     "output_type": "stream",
     "text": [
      "{1, 2, 3, 4, 5, 6, 7, 8, 9, 10}\n",
      "{1, 2, 3, 4, 5}\n",
      "{4, 5, 6, 7, 8, 9, 10}\n"
     ]
    }
   ],
   "source": [
    "my_set = {1, 2, 3, 4, 5}\n",
    "your_set = {4, 5, 6, 7, 8, 9, 10}\n",
    "print(my_set | your_set)\n",
    "print(my_set)\n",
    "print(your_set)"
   ]
  },
  {
   "cell_type": "code",
   "execution_count": 180,
   "metadata": {},
   "outputs": [
    {
     "name": "stdout",
     "output_type": "stream",
     "text": [
      "{1, 2, 3, 4, 5, 6, 7, 8, 9, 10}\n",
      "{1, 2, 3, 4, 5}\n",
      "{4, 5, 6, 7, 8, 9, 10}\n"
     ]
    }
   ],
   "source": [
    "my_set = {1, 2, 3, 4, 5}\n",
    "your_set = {4, 5, 6, 7, 8, 9, 10}\n",
    "print(your_set | my_set)\n",
    "print(my_set)\n",
    "print(your_set)"
   ]
  },
  {
   "cell_type": "code",
   "execution_count": 185,
   "metadata": {},
   "outputs": [
    {
     "name": "stdout",
     "output_type": "stream",
     "text": [
      "False\n"
     ]
    }
   ],
   "source": [
    "my_set = {1, 2, 3, 4, 5}\n",
    "your_set = {4, 5, 6, 7, 8, 9, 10}\n",
    "print(my_set.issubset(your_set))"
   ]
  },
  {
   "cell_type": "code",
   "execution_count": 186,
   "metadata": {},
   "outputs": [
    {
     "name": "stdout",
     "output_type": "stream",
     "text": [
      "True\n"
     ]
    }
   ],
   "source": [
    "my_set = {4, 5}\n",
    "your_set = {4, 5, 6, 7, 8, 9, 10}\n",
    "print(my_set.issubset(your_set))"
   ]
  },
  {
   "cell_type": "code",
   "execution_count": 187,
   "metadata": {},
   "outputs": [
    {
     "name": "stdout",
     "output_type": "stream",
     "text": [
      "False\n"
     ]
    }
   ],
   "source": [
    "my_set = {4, 5}\n",
    "your_set = {4, 5, 6, 7, 8, 9, 10}\n",
    "print(your_set.issubset(my_set))"
   ]
  },
  {
   "cell_type": "code",
   "execution_count": 188,
   "metadata": {},
   "outputs": [
    {
     "name": "stdout",
     "output_type": "stream",
     "text": [
      "False\n"
     ]
    }
   ],
   "source": [
    "my_set = {4, 5}\n",
    "your_set = {4, 5, 6, 7, 8, 9, 10}\n",
    "print(my_set.issuperset(your_set))"
   ]
  },
  {
   "cell_type": "code",
   "execution_count": 189,
   "metadata": {},
   "outputs": [
    {
     "name": "stdout",
     "output_type": "stream",
     "text": [
      "True\n"
     ]
    }
   ],
   "source": [
    "my_set = {4, 5}\n",
    "your_set = {4, 5, 6, 7, 8, 9, 10}\n",
    "print(your_set.issuperset(my_set))"
   ]
  },
  {
   "cell_type": "code",
   "execution_count": 190,
   "metadata": {},
   "outputs": [],
   "source": [
    "# set methods\n",
    "\n",
    "# add()\n",
    "# clear()\n",
    "# discard()\n",
    "# pop()\n",
    "# remove()\n",
    "# copy()\n",
    "# difference()\n",
    "# difference_update()\n",
    "# intersection()\n",
    "# intersection_update()\n",
    "# isdisjoint()\n",
    "# issubset()\n",
    "# issuperset()\n",
    "# union()\n",
    "# update()\n",
    "# symmetric_difference()\n",
    "# symmetric_difference_update()"
   ]
  },
  {
   "cell_type": "code",
   "execution_count": 123,
   "metadata": {},
   "outputs": [],
   "source": [
    "# You are working for the school Principal.\n",
    "# We have a database of school students:\n",
    "school = {'Bobby', 'Tammy', 'Jammy', 'Sally', 'Danny'}"
   ]
  },
  {
   "cell_type": "code",
   "execution_count": 124,
   "metadata": {},
   "outputs": [],
   "source": [
    "# During class, the teachers take attendance and compile it into a list.\n",
    "attendance_list = ['Jammy', 'Bobby', 'Danny', 'Sally']"
   ]
  },
  {
   "cell_type": "code",
   "execution_count": 125,
   "metadata": {},
   "outputs": [
    {
     "name": "stdout",
     "output_type": "stream",
     "text": [
      "{'Tammy'}\n"
     ]
    }
   ],
   "source": [
    "# using what you learned about sets, create a piece of code that the school principal can use to immediately find out\n",
    "# who missed class so they can call the parents. (Imagine if the list had 1000s of students. The principal can use\n",
    "# the lists generated by the teachers + the school database to use python and make his/her job easier): Find the\n",
    "# students that miss class!\n",
    "\n",
    "# Solution: Notice how we don't have to convert the attendance_list to a set...it does it for you.\n",
    "print(school.difference(attendance_list))"
   ]
  },
  {
   "cell_type": "code",
   "execution_count": 128,
   "metadata": {},
   "outputs": [
    {
     "ename": "AttributeError",
     "evalue": "'list' object has no attribute 'difference'",
     "output_type": "error",
     "traceback": [
      "\u001b[1;31m---------------------------------------------------------------------------\u001b[0m",
      "\u001b[1;31mAttributeError\u001b[0m                            Traceback (most recent call last)",
      "\u001b[1;32m<ipython-input-128-d53706d2997f>\u001b[0m in \u001b[0;36m<module>\u001b[1;34m\u001b[0m\n\u001b[1;32m----> 1\u001b[1;33m \u001b[0mprint\u001b[0m\u001b[1;33m(\u001b[0m\u001b[0mattendance_list\u001b[0m\u001b[1;33m.\u001b[0m\u001b[0mdifference\u001b[0m\u001b[1;33m(\u001b[0m\u001b[0mschool\u001b[0m\u001b[1;33m)\u001b[0m\u001b[1;33m)\u001b[0m\u001b[1;33m\u001b[0m\u001b[1;33m\u001b[0m\u001b[0m\n\u001b[0m",
      "\u001b[1;31mAttributeError\u001b[0m: 'list' object has no attribute 'difference'"
     ]
    }
   ],
   "source": [
    "print(attendance_list.difference(school))"
   ]
  },
  {
   "cell_type": "code",
   "execution_count": 129,
   "metadata": {},
   "outputs": [
    {
     "name": "stdout",
     "output_type": "stream",
     "text": [
      "set()\n"
     ]
    }
   ],
   "source": [
    "print(set(attendance_list).difference(school))"
   ]
  },
  {
   "cell_type": "code",
   "execution_count": 84,
   "metadata": {},
   "outputs": [
    {
     "name": "stdout",
     "output_type": "stream",
     "text": [
      "{'key_1': 'value_1', 'key_2': 'value_2', 'key_3': True, 'key_4': 5, 'key_5': -2.4, 'key_6': [1, 2, 3]}\n",
      "value_1\n",
      "2\n"
     ]
    }
   ],
   "source": [
    "# dictionary\n",
    "\n",
    "# dictionary is an unordered key value pair\n",
    "\n",
    "dictionary = {\n",
    "    'key_1': 'value_1',\n",
    "    'key_2': 'value_2',\n",
    "    'key_3': True,\n",
    "    'key_4': 5,\n",
    "    'key_5': -2.4,\n",
    "    'key_6': [1, 2, 3]\n",
    "}\n",
    "\n",
    "print(dictionary)\n",
    "print(dictionary['key_1'])\n",
    "print(dictionary['key_6'][1])"
   ]
  },
  {
   "cell_type": "code",
   "execution_count": 19,
   "metadata": {},
   "outputs": [
    {
     "name": "stdout",
     "output_type": "stream",
     "text": [
      "{'key_1': True}\n",
      "True\n"
     ]
    }
   ],
   "source": [
    "# key should be unique\n",
    "# if duplicate the value will be overwritten\n",
    "\n",
    "dictionary = {\n",
    "    'key_1': 'value_1',\n",
    "    'key_1': 'value_2',\n",
    "    'key_1': True,\n",
    "}\n",
    "\n",
    "print(dictionary)\n",
    "print(dictionary['key_1'])"
   ]
  },
  {
   "cell_type": "code",
   "execution_count": 112,
   "metadata": {},
   "outputs": [
    {
     "ename": "KeyError",
     "evalue": "0",
     "output_type": "error",
     "traceback": [
      "\u001b[1;31m---------------------------------------------------------------------------\u001b[0m",
      "\u001b[1;31mKeyError\u001b[0m                                  Traceback (most recent call last)",
      "\u001b[1;32m<ipython-input-112-1f66f02f2ff9>\u001b[0m in \u001b[0;36m<module>\u001b[1;34m\u001b[0m\n\u001b[0;32m      5\u001b[0m }\n\u001b[0;32m      6\u001b[0m \u001b[1;33m\u001b[0m\u001b[0m\n\u001b[1;32m----> 7\u001b[1;33m \u001b[0mprint\u001b[0m\u001b[1;33m(\u001b[0m\u001b[0mdictionary\u001b[0m\u001b[1;33m[\u001b[0m\u001b[1;36m0\u001b[0m\u001b[1;33m]\u001b[0m\u001b[1;33m)\u001b[0m\u001b[1;33m\u001b[0m\u001b[1;33m\u001b[0m\u001b[0m\n\u001b[0m",
      "\u001b[1;31mKeyError\u001b[0m: 0"
     ]
    }
   ],
   "source": [
    "dictionary = {\n",
    "    'key_1': 'value_1',\n",
    "    'key_1': 'value_2',\n",
    "    'key_1': True,\n",
    "}\n",
    "\n",
    "print(dictionary[0])"
   ]
  },
  {
   "cell_type": "code",
   "execution_count": 10,
   "metadata": {},
   "outputs": [
    {
     "name": "stdout",
     "output_type": "stream",
     "text": [
      "[{'key_2': 'value_2', 'key_3': True, 'key_4': 5}, {'key_2': [4, 5, 6], 'key_3': False, 'key_5': 5.1}]\n",
      "6\n"
     ]
    }
   ],
   "source": [
    "my_list = [\n",
    "    {\n",
    "        'key_2': 'value_2',\n",
    "        'key_3': True,\n",
    "        'key_4': 5\n",
    "    },\n",
    "    {\n",
    "        'key_2': [4, 5, 6],\n",
    "        'key_3': False,\n",
    "        'key_5': 5.1\n",
    "    }\n",
    "]\n",
    "\n",
    "print(my_list)\n",
    "print(my_list[1]['key_2'][2])"
   ]
  },
  {
   "cell_type": "code",
   "execution_count": 86,
   "metadata": {},
   "outputs": [
    {
     "name": "stdout",
     "output_type": "stream",
     "text": [
      "{'key': 'value_1', 12345: 'value_2', 123.4: True, False: True, (1, 2): 'hello'}\n",
      "value_1\n",
      "value_2\n",
      "True\n",
      "True\n",
      "hello\n"
     ]
    }
   ],
   "source": [
    "# a key can be any immutable data type value\n",
    "# but mutable data type values such as lists can be keys\n",
    "\n",
    "dictionary = {\n",
    "    'key': 'value_1',\n",
    "    12345: 'value_2',\n",
    "    123.4: True,\n",
    "    False: True,\n",
    "    (1, 2): 'hello'\n",
    "}\n",
    "\n",
    "print(dictionary)\n",
    "print(dictionary['key'])\n",
    "print(dictionary[12345])\n",
    "print(dictionary[123.4])\n",
    "print(dictionary[False])\n",
    "print(dictionary[(1, 2)])"
   ]
  },
  {
   "cell_type": "code",
   "execution_count": 87,
   "metadata": {},
   "outputs": [
    {
     "ename": "TypeError",
     "evalue": "unhashable type: 'list'",
     "output_type": "error",
     "traceback": [
      "\u001b[1;31m---------------------------------------------------------------------------\u001b[0m",
      "\u001b[1;31mTypeError\u001b[0m                                 Traceback (most recent call last)",
      "\u001b[1;32m<ipython-input-87-5e855cbb8852>\u001b[0m in \u001b[0;36m<module>\u001b[1;34m\u001b[0m\n\u001b[0;32m      5\u001b[0m     \u001b[1;32mFalse\u001b[0m\u001b[1;33m:\u001b[0m \u001b[1;32mTrue\u001b[0m\u001b[1;33m,\u001b[0m\u001b[1;33m\u001b[0m\u001b[1;33m\u001b[0m\u001b[0m\n\u001b[0;32m      6\u001b[0m     \u001b[1;33m(\u001b[0m\u001b[1;36m1\u001b[0m\u001b[1;33m,\u001b[0m \u001b[1;36m2\u001b[0m\u001b[1;33m)\u001b[0m\u001b[1;33m:\u001b[0m \u001b[1;34m'hello'\u001b[0m\u001b[1;33m,\u001b[0m\u001b[1;33m\u001b[0m\u001b[1;33m\u001b[0m\u001b[0m\n\u001b[1;32m----> 7\u001b[1;33m     \u001b[1;33m[\u001b[0m\u001b[1;36m100\u001b[0m\u001b[1;33m]\u001b[0m\u001b[1;33m:\u001b[0m \u001b[1;36m11\u001b[0m\u001b[1;33m\u001b[0m\u001b[1;33m\u001b[0m\u001b[0m\n\u001b[0m\u001b[0;32m      8\u001b[0m }\n\u001b[0;32m      9\u001b[0m \u001b[1;33m\u001b[0m\u001b[0m\n",
      "\u001b[1;31mTypeError\u001b[0m: unhashable type: 'list'"
     ]
    }
   ],
   "source": [
    "dictionary = {\n",
    "    'key': 'value_1',\n",
    "    12345: 'value_2',\n",
    "    123.4: True,\n",
    "    False: True,\n",
    "    (1, 2): 'hello',\n",
    "    [100]: 11\n",
    "}\n",
    "\n",
    "print(dictionary)\n",
    "print(dictionary[[100]])"
   ]
  },
  {
   "cell_type": "code",
   "execution_count": 20,
   "metadata": {},
   "outputs": [
    {
     "ename": "KeyError",
     "evalue": "'age'",
     "output_type": "error",
     "traceback": [
      "\u001b[1;31m---------------------------------------------------------------------------\u001b[0m",
      "\u001b[1;31mKeyError\u001b[0m                                  Traceback (most recent call last)",
      "\u001b[1;32m<ipython-input-20-ee027450aeef>\u001b[0m in \u001b[0;36m<module>\u001b[1;34m\u001b[0m\n\u001b[0;32m      4\u001b[0m }\n\u001b[0;32m      5\u001b[0m \u001b[1;33m\u001b[0m\u001b[0m\n\u001b[1;32m----> 6\u001b[1;33m \u001b[0mprint\u001b[0m\u001b[1;33m(\u001b[0m\u001b[0muser\u001b[0m\u001b[1;33m[\u001b[0m\u001b[1;34m'age'\u001b[0m\u001b[1;33m]\u001b[0m\u001b[1;33m)\u001b[0m\u001b[1;33m\u001b[0m\u001b[1;33m\u001b[0m\u001b[0m\n\u001b[0m",
      "\u001b[1;31mKeyError\u001b[0m: 'age'"
     ]
    }
   ],
   "source": [
    "user = {\n",
    "    'basket': [1, 2, 3],\n",
    "    'greet': 'hello'\n",
    "}\n",
    "\n",
    "print(user['age'])"
   ]
  },
  {
   "cell_type": "code",
   "execution_count": 21,
   "metadata": {},
   "outputs": [
    {
     "name": "stdout",
     "output_type": "stream",
     "text": [
      "None\n"
     ]
    }
   ],
   "source": [
    "user = {\n",
    "    'basket': [1, 2, 3],\n",
    "    'greet': 'hello'\n",
    "}\n",
    "\n",
    "print(user.get('age'))"
   ]
  },
  {
   "cell_type": "code",
   "execution_count": 24,
   "metadata": {},
   "outputs": [
    {
     "name": "stdout",
     "output_type": "stream",
     "text": [
      "55\n",
      "{'basket': [1, 2, 3], 'greet': 'hello'}\n"
     ]
    }
   ],
   "source": [
    "user = {\n",
    "    'basket': [1, 2, 3],\n",
    "    'greet': 'hello'\n",
    "}\n",
    "\n",
    "print(user.get('age', 55))\n",
    "print(user)\n",
    "\n",
    "# get value of key 'age' from user dict.\n",
    "# if no 'age' key in user, return the default value of 55 instead of None.\n",
    "# 'age': 55 does not get added to the user dict."
   ]
  },
  {
   "cell_type": "code",
   "execution_count": 26,
   "metadata": {},
   "outputs": [
    {
     "name": "stdout",
     "output_type": "stream",
     "text": [
      "20\n"
     ]
    }
   ],
   "source": [
    "user = {\n",
    "    'basket': [1, 2, 3],\n",
    "    'greet': 'hello',\n",
    "    'age': 20\n",
    "}\n",
    "\n",
    "print(user.get('age', 55))\n",
    "\n",
    "# return 55 only if user does not have 'age' key.\n",
    "# if 'age' key exist in user dict return its value."
   ]
  },
  {
   "cell_type": "code",
   "execution_count": 31,
   "metadata": {},
   "outputs": [
    {
     "name": "stdout",
     "output_type": "stream",
     "text": [
      "{'name': 'John'}\n",
      "John\n"
     ]
    }
   ],
   "source": [
    "# another way to create a dictionary\n",
    "\n",
    "new_user = dict(name = 'John')\n",
    "print(new_user)\n",
    "print(new_user['name'])"
   ]
  },
  {
   "cell_type": "code",
   "execution_count": 32,
   "metadata": {},
   "outputs": [
    {
     "name": "stdout",
     "output_type": "stream",
     "text": [
      "True\n",
      "False\n"
     ]
    }
   ],
   "source": [
    "user = {\n",
    "    'basket': [1, 2, 3],\n",
    "    'greet': 'hello',\n",
    "    'age': 20\n",
    "}\n",
    "\n",
    "print('basket' in user)\n",
    "print('size' in user)"
   ]
  },
  {
   "cell_type": "code",
   "execution_count": 33,
   "metadata": {},
   "outputs": [
    {
     "name": "stdout",
     "output_type": "stream",
     "text": [
      "True\n",
      "False\n"
     ]
    }
   ],
   "source": [
    "user = {\n",
    "    'basket': [1, 2, 3],\n",
    "    'greet': 'hello',\n",
    "    'age': 20\n",
    "}\n",
    "\n",
    "print('basket' in user.keys())\n",
    "print('size' in user.keys())"
   ]
  },
  {
   "cell_type": "code",
   "execution_count": 34,
   "metadata": {},
   "outputs": [
    {
     "name": "stdout",
     "output_type": "stream",
     "text": [
      "True\n",
      "False\n"
     ]
    }
   ],
   "source": [
    "user = {\n",
    "    'basket': [1, 2, 3],\n",
    "    'greet': 'hello',\n",
    "    'age': 20\n",
    "}\n",
    "\n",
    "print('hello' in user.values())\n",
    "print(21 in user.values())"
   ]
  },
  {
   "cell_type": "code",
   "execution_count": 35,
   "metadata": {},
   "outputs": [
    {
     "name": "stdout",
     "output_type": "stream",
     "text": [
      "dict_keys(['basket', 'greet', 'age'])\n"
     ]
    }
   ],
   "source": [
    "print(user.keys())"
   ]
  },
  {
   "cell_type": "code",
   "execution_count": 38,
   "metadata": {},
   "outputs": [
    {
     "name": "stdout",
     "output_type": "stream",
     "text": [
      "<class 'dict_keys'>\n"
     ]
    }
   ],
   "source": [
    "print(type(user.keys()))"
   ]
  },
  {
   "cell_type": "code",
   "execution_count": 36,
   "metadata": {},
   "outputs": [
    {
     "name": "stdout",
     "output_type": "stream",
     "text": [
      "dict_values([[1, 2, 3], 'hello', 20])\n"
     ]
    }
   ],
   "source": [
    "print(user.values())"
   ]
  },
  {
   "cell_type": "code",
   "execution_count": 39,
   "metadata": {},
   "outputs": [
    {
     "name": "stdout",
     "output_type": "stream",
     "text": [
      "<class 'dict_values'>\n"
     ]
    }
   ],
   "source": [
    "print(type(user.values()))"
   ]
  },
  {
   "cell_type": "code",
   "execution_count": 37,
   "metadata": {},
   "outputs": [
    {
     "name": "stdout",
     "output_type": "stream",
     "text": [
      "dict_items([('basket', [1, 2, 3]), ('greet', 'hello'), ('age', 20)])\n"
     ]
    }
   ],
   "source": [
    "print(user.items())"
   ]
  },
  {
   "cell_type": "code",
   "execution_count": 40,
   "metadata": {},
   "outputs": [
    {
     "name": "stdout",
     "output_type": "stream",
     "text": [
      "<class 'dict_items'>\n"
     ]
    }
   ],
   "source": [
    "print(type(user.items()))"
   ]
  },
  {
   "cell_type": "code",
   "execution_count": 41,
   "metadata": {},
   "outputs": [
    {
     "name": "stdout",
     "output_type": "stream",
     "text": [
      "{}\n"
     ]
    }
   ],
   "source": [
    "user = {\n",
    "    'basket': [1, 2, 3],\n",
    "    'greet': 'hello',\n",
    "    'age': 20\n",
    "}\n",
    "\n",
    "user.clear()\n",
    "print(user)"
   ]
  },
  {
   "cell_type": "code",
   "execution_count": 42,
   "metadata": {},
   "outputs": [
    {
     "name": "stdout",
     "output_type": "stream",
     "text": [
      "{'basket': [1, 2, 3], 'greet': 'hello', 'age': 20}\n",
      "{'basket': [1, 2, 3], 'greet': 'hello', 'age': 20}\n"
     ]
    }
   ],
   "source": [
    "user = {\n",
    "    'basket': [1, 2, 3],\n",
    "    'greet': 'hello',\n",
    "    'age': 20\n",
    "}\n",
    "\n",
    "user2 = user.copy()\n",
    "print(user)\n",
    "print(user2)"
   ]
  },
  {
   "cell_type": "code",
   "execution_count": 43,
   "metadata": {},
   "outputs": [
    {
     "name": "stdout",
     "output_type": "stream",
     "text": [
      "{}\n",
      "{'basket': [1, 2, 3], 'greet': 'hello', 'age': 20}\n"
     ]
    }
   ],
   "source": [
    "user = {\n",
    "    'basket': [1, 2, 3],\n",
    "    'greet': 'hello',\n",
    "    'age': 20\n",
    "}\n",
    "\n",
    "user2 = user.copy()\n",
    "user.clear()\n",
    "\n",
    "print(user)\n",
    "print(user2)"
   ]
  },
  {
   "cell_type": "code",
   "execution_count": 46,
   "metadata": {},
   "outputs": [
    {
     "name": "stdout",
     "output_type": "stream",
     "text": [
      "20\n",
      "{'basket': [1, 2, 3], 'greet': 'hello'}\n"
     ]
    }
   ],
   "source": [
    "user = {\n",
    "    'basket': [1, 2, 3],\n",
    "    'greet': 'hello',\n",
    "    'age': 20\n",
    "}\n",
    "\n",
    "print(user.pop('age'))\n",
    "print(user)"
   ]
  },
  {
   "cell_type": "code",
   "execution_count": 49,
   "metadata": {},
   "outputs": [
    {
     "name": "stdout",
     "output_type": "stream",
     "text": [
      "('age', 20)\n",
      "{'basket': [1, 2, 3], 'greet': 'hello'}\n"
     ]
    }
   ],
   "source": [
    "user = {\n",
    "    'basket': [1, 2, 3],\n",
    "    'greet': 'hello',\n",
    "    'age': 20\n",
    "}\n",
    "\n",
    "print(user.popitem())\n",
    "print(user)\n",
    "\n",
    "# useful to destructively iterate over a loop"
   ]
  },
  {
   "cell_type": "code",
   "execution_count": 54,
   "metadata": {},
   "outputs": [
    {
     "name": "stdout",
     "output_type": "stream",
     "text": [
      "{'basket': [1, 2, 3], 'greet': 'hello', 'age': '30', 'size': 'large'}\n",
      "{'basket': [1, 2, 3], 'greet': 'hello', 'age': '30', 'size': 'x-large'}\n"
     ]
    }
   ],
   "source": [
    "user = {\n",
    "    'basket': [1, 2, 3],\n",
    "    'greet': 'hello',\n",
    "    'age': 20\n",
    "}\n",
    "\n",
    "user.update({\n",
    "    'age': '30',\n",
    "    'size': 'large'\n",
    "})\n",
    "print(user)\n",
    "\n",
    "user.update({'size': 'x-large'})\n",
    "print(user)"
   ]
  },
  {
   "cell_type": "code",
   "execution_count": 121,
   "metadata": {},
   "outputs": [],
   "source": [
    "# dictionary methods\n",
    "\n",
    "# get()\n",
    "# keys()\n",
    "# values()\n",
    "# items()\n",
    "# clear()\n",
    "# copy()\n",
    "# pop()\n",
    "# popitem()\n",
    "# update()\n",
    "# fromkeys()\n",
    "# setdefault()"
   ]
  },
  {
   "cell_type": "code",
   "execution_count": 191,
   "metadata": {},
   "outputs": [],
   "source": [
    "# 1. Create a user profile for your new game.\n",
    "# This user profile will be stored in a dictionary with keys:\n",
    "# 'age', 'username', 'weapons', 'is_active' and 'clan'.\n",
    "\n",
    "user = {\n",
    "    'age': 22,\n",
    "    'username': 'Shogun',\n",
    "    'weapons': ['Katana', 'Shrike'],\n",
    "    'is_active': True,\n",
    "    'clan': 'Japan'\n",
    "}"
   ]
  },
  {
   "cell_type": "code",
   "execution_count": 192,
   "metadata": {},
   "outputs": [
    {
     "name": "stdout",
     "output_type": "stream",
     "text": [
      "dict_keys(['age', 'username', 'weapons', 'is_active', 'clan'])\n"
     ]
    }
   ],
   "source": [
    "# 2. iterate and print all the keys in the above user.\n",
    "\n",
    "print(user.keys())"
   ]
  },
  {
   "cell_type": "code",
   "execution_count": 193,
   "metadata": {},
   "outputs": [
    {
     "name": "stdout",
     "output_type": "stream",
     "text": [
      "{'age': 22, 'username': 'Shogun', 'weapons': ['Katana', 'Shrike', 'shield'], 'is_active': True, 'clan': 'Japan'}\n"
     ]
    }
   ],
   "source": [
    "# 3. Add a new weapon to your user.\n",
    "\n",
    "user['weapons'].append('shield')\n",
    "print(user)"
   ]
  },
  {
   "cell_type": "code",
   "execution_count": 194,
   "metadata": {},
   "outputs": [
    {
     "name": "stdout",
     "output_type": "stream",
     "text": [
      "{'age': 22, 'username': 'Shogun', 'weapons': ['Katana', 'Shrike', 'shield'], 'is_active': True, 'clan': 'Japan', 'is_banned': False}\n"
     ]
    }
   ],
   "source": [
    "# 4. Add a new key to include 'is_banned'.\n",
    "# Set it to false.\n",
    "\n",
    "user.update({'is_banned': False})\n",
    "print(user)"
   ]
  },
  {
   "cell_type": "code",
   "execution_count": 195,
   "metadata": {},
   "outputs": [
    {
     "name": "stdout",
     "output_type": "stream",
     "text": [
      "{'age': 22, 'username': 'Shogun', 'weapons': ['Katana', 'Shrike', 'shield'], 'is_active': True, 'clan': 'Japan', 'is_banned': True}\n",
      "{'age': 22, 'username': 'Shogun', 'weapons': ['Katana', 'Shrike', 'shield'], 'is_active': True, 'clan': 'Japan', 'is_banned': False}\n",
      "{'age': 22, 'username': 'Shogun', 'weapons': ['Katana', 'Shrike', 'shield'], 'is_active': True, 'clan': 'Japan', 'is_banned': True}\n"
     ]
    }
   ],
   "source": [
    "# 5. Ban the user by setting the previous key to True.\n",
    "\n",
    "user['is_banned'] = True\n",
    "print(user)\n",
    "\n",
    "user.update({'is_banned': False})\n",
    "print(user)\n",
    "\n",
    "user.update({'is_banned': True})\n",
    "print(user)"
   ]
  },
  {
   "cell_type": "code",
   "execution_count": 196,
   "metadata": {},
   "outputs": [
    {
     "name": "stdout",
     "output_type": "stream",
     "text": [
      "{'age': 22, 'username': 'Shogun', 'weapons': ['Katana', 'Shrike', 'shield'], 'is_active': True, 'clan': 'Japan', 'is_banned': True}\n",
      "{'age': 100, 'username': 'Timo', 'weapons': ['Katana', 'Shrike', 'shield'], 'is_active': True, 'clan': 'Japan', 'is_banned': True}\n"
     ]
    }
   ],
   "source": [
    "# 6. create a new user2 my copying the previous user and update the age value and username value.\n",
    "\n",
    "user2 = user.copy()\n",
    "user2.update({'age': 100, 'username': 'Timo'})\n",
    "\n",
    "print(user)\n",
    "print(user2)"
   ]
  },
  {
   "cell_type": "code",
   "execution_count": null,
   "metadata": {},
   "outputs": [],
   "source": []
  }
 ],
 "metadata": {
  "kernelspec": {
   "display_name": "Python 3",
   "language": "python",
   "name": "python3"
  },
  "language_info": {
   "codemirror_mode": {
    "name": "ipython",
    "version": 3
   },
   "file_extension": ".py",
   "mimetype": "text/x-python",
   "name": "python",
   "nbconvert_exporter": "python",
   "pygments_lexer": "ipython3",
   "version": "3.7.1"
  }
 },
 "nbformat": 4,
 "nbformat_minor": 4
}
